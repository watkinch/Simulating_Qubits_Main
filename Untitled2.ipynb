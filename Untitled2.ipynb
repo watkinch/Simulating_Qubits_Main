{
 "cells": [
  {
   "cell_type": "code",
   "execution_count": 1,
   "id": "56bf669c",
   "metadata": {},
   "outputs": [],
   "source": [
    "import qiskit_metal as metal\n",
    "from qiskit_metal import designs, draw\n",
    "from qiskit_metal import MetalGUI, Dict, Headings\n",
    "import pyEPR as epr"
   ]
  },
  {
   "cell_type": "code",
   "execution_count": 2,
   "id": "27f6f723",
   "metadata": {},
   "outputs": [],
   "source": [
    "design = designs.DesignPlanar({}, True)\n",
    "design.chips.main.size['size_x'] = '2mm'\n",
    "design.chips.main.size['size_y'] = '2mm'\n",
    "\n",
    "gui = MetalGUI(design)"
   ]
  },
  {
   "cell_type": "code",
   "execution_count": 5,
   "id": "a1dfd7dc",
   "metadata": {},
   "outputs": [],
   "source": [
    "from qiskit_metal.qlibrary.qubits.transmon_pocket import TransmonPocket\n",
    "\n",
    "design.delete_all_components()\n",
    "\n",
    "q1 = TransmonPocket(design, 'Q1', options = dict(\n",
    "    pad_width = '425 um', \n",
    "    pocket_height = '650um',\n",
    "    connection_pads=dict(\n",
    "        readout = dict(loc_W=+1,loc_H=+1, pad_width='200um')\n",
    "    )))\n",
    "\n",
    "gui.rebuild()\n",
    "gui.autoscale()"
   ]
  },
  {
   "cell_type": "code",
   "execution_count": 6,
   "id": "e0ce729c",
   "metadata": {},
   "outputs": [],
   "source": [
    "from qiskit_metal.analyses.quantization import EPRanalysis"
   ]
  },
  {
   "cell_type": "code",
   "execution_count": 7,
   "id": "2e511df3",
   "metadata": {},
   "outputs": [],
   "source": [
    "eig_qb = EPRanalysis(design, \"hfss\")"
   ]
  },
  {
   "cell_type": "code",
   "execution_count": 8,
   "id": "b18fc49c",
   "metadata": {},
   "outputs": [
    {
     "name": "stderr",
     "output_type": "stream",
     "text": [
      "INFO 04:25PM [connect_project]: Connecting to Ansys Desktop API...\n"
     ]
    },
    {
     "ename": "AssertionError",
     "evalue": "ERROR! project_path is not a valid directory 😭.            Check the path, and especially \\ characters.",
     "output_type": "error",
     "traceback": [
      "\u001b[1;31m---------------------------------------------------------------------------\u001b[0m",
      "\u001b[1;31mAssertionError\u001b[0m                            Traceback (most recent call last)",
      "Cell \u001b[1;32mIn[8], line 1\u001b[0m\n\u001b[1;32m----> 1\u001b[0m pinfo \u001b[38;5;241m=\u001b[39m \u001b[43mepr\u001b[49m\u001b[38;5;241;43m.\u001b[39;49m\u001b[43mProjectInfo\u001b[49m\u001b[43m(\u001b[49m\u001b[43mproject_path\u001b[49m\u001b[43m \u001b[49m\u001b[38;5;241;43m=\u001b[39;49m\u001b[43m \u001b[49m\u001b[38;5;124;43mr\u001b[39;49m\u001b[38;5;124;43m'\u001b[39;49m\u001b[38;5;124;43mC:\u001b[39;49m\u001b[38;5;124;43m\\\u001b[39;49m\u001b[38;5;124;43msim_folder\u001b[39;49m\u001b[38;5;124;43m'\u001b[39;49m\u001b[43m,\u001b[49m\n\u001b[0;32m      2\u001b[0m \u001b[43m                        \u001b[49m\u001b[43mproject_name\u001b[49m\u001b[43m \u001b[49m\u001b[38;5;241;43m=\u001b[39;49m\u001b[43m \u001b[49m\u001b[38;5;124;43mr\u001b[39;49m\u001b[38;5;124;43m'\u001b[39;49m\u001b[38;5;124;43mcavity_with_two_qubits\u001b[39;49m\u001b[38;5;124;43m'\u001b[39;49m\u001b[43m,\u001b[49m\n\u001b[0;32m      3\u001b[0m \u001b[43m                        \u001b[49m\u001b[43mdesign_name\u001b[49m\u001b[43m  \u001b[49m\u001b[38;5;241;43m=\u001b[39;49m\u001b[43m \u001b[49m\u001b[38;5;124;43mr\u001b[39;49m\u001b[38;5;124;43m'\u001b[39;49m\u001b[38;5;124;43mAlice_Bob\u001b[39;49m\u001b[38;5;124;43m'\u001b[39;49m\u001b[43m)\u001b[49m\n",
      "File \u001b[1;32m~\\.conda\\envs\\Metal\\Lib\\site-packages\\pyEPR\\project_info.py:224\u001b[0m, in \u001b[0;36mProjectInfo.__init__\u001b[1;34m(self, project_path, project_name, design_name, setup_name, dielectrics_bulk, dielectric_surfaces, resistive_surfaces, seams, do_connect)\u001b[0m\n\u001b[0;32m    221\u001b[0m \u001b[38;5;28mself\u001b[39m\u001b[38;5;241m.\u001b[39msetup \u001b[38;5;241m=\u001b[39m \u001b[38;5;28;01mNone\u001b[39;00m\n\u001b[0;32m    223\u001b[0m \u001b[38;5;28;01mif\u001b[39;00m do_connect:\n\u001b[1;32m--> 224\u001b[0m     \u001b[38;5;28;43mself\u001b[39;49m\u001b[38;5;241;43m.\u001b[39;49m\u001b[43mconnect\u001b[49m\u001b[43m(\u001b[49m\u001b[43m)\u001b[49m\n\u001b[0;32m    225\u001b[0m     \u001b[38;5;28mself\u001b[39m\u001b[38;5;241m.\u001b[39mdissipative[\u001b[38;5;124m'\u001b[39m\u001b[38;5;124mpinfo\u001b[39m\u001b[38;5;124m'\u001b[39m] \u001b[38;5;241m=\u001b[39m \u001b[38;5;28mself\u001b[39m\n",
      "File \u001b[1;32m~\\.conda\\envs\\Metal\\Lib\\site-packages\\pyEPR\\project_info.py:360\u001b[0m, in \u001b[0;36mProjectInfo.connect\u001b[1;34m(self)\u001b[0m\n\u001b[0;32m    354\u001b[0m \u001b[38;5;28;01mdef\u001b[39;00m \u001b[38;5;21mconnect\u001b[39m(\u001b[38;5;28mself\u001b[39m):\n\u001b[0;32m    355\u001b[0m \u001b[38;5;250m    \u001b[39m\u001b[38;5;124;03m\"\"\"\u001b[39;00m\n\u001b[0;32m    356\u001b[0m \u001b[38;5;124;03m    Do establish connection to Ansys desktop.\u001b[39;00m\n\u001b[0;32m    357\u001b[0m \u001b[38;5;124;03m    Connects to project and then get design and setup\u001b[39;00m\n\u001b[0;32m    358\u001b[0m \u001b[38;5;124;03m    \"\"\"\u001b[39;00m\n\u001b[1;32m--> 360\u001b[0m     \u001b[38;5;28;43mself\u001b[39;49m\u001b[38;5;241;43m.\u001b[39;49m\u001b[43mconnect_project\u001b[49m\u001b[43m(\u001b[49m\u001b[43m)\u001b[49m\n\u001b[0;32m    361\u001b[0m     \u001b[38;5;28;01mif\u001b[39;00m \u001b[38;5;129;01mnot\u001b[39;00m \u001b[38;5;28mself\u001b[39m\u001b[38;5;241m.\u001b[39mproject:\n\u001b[0;32m    362\u001b[0m         logger\u001b[38;5;241m.\u001b[39minfo(\u001b[38;5;124m'\u001b[39m\u001b[38;5;130;01m\\t\u001b[39;00m\u001b[38;5;124mConnection to Ansys NOT established.  \u001b[39m\u001b[38;5;130;01m\\n\u001b[39;00m\u001b[38;5;124m'\u001b[39m)\n",
      "File \u001b[1;32m~\\.conda\\envs\\Metal\\Lib\\site-packages\\pyEPR\\project_info.py:254\u001b[0m, in \u001b[0;36mProjectInfo.connect_project\u001b[1;34m(self)\u001b[0m\n\u001b[0;32m    245\u001b[0m \u001b[38;5;250m\u001b[39m\u001b[38;5;124;03m\"\"\"Sets \u001b[39;00m\n\u001b[0;32m    246\u001b[0m \u001b[38;5;124;03mself.app\u001b[39;00m\n\u001b[0;32m    247\u001b[0m \u001b[38;5;124;03mself.desktop\u001b[39;00m\n\u001b[1;32m   (...)\u001b[0m\n\u001b[0;32m    250\u001b[0m \u001b[38;5;124;03mself.project_path \u001b[39;00m\n\u001b[0;32m    251\u001b[0m \u001b[38;5;124;03m\"\"\"\u001b[39;00m\n\u001b[0;32m    252\u001b[0m logger\u001b[38;5;241m.\u001b[39minfo(\u001b[38;5;124m'\u001b[39m\u001b[38;5;124mConnecting to Ansys Desktop API...\u001b[39m\u001b[38;5;124m'\u001b[39m)\n\u001b[1;32m--> 254\u001b[0m \u001b[38;5;28mself\u001b[39m\u001b[38;5;241m.\u001b[39mapp, \u001b[38;5;28mself\u001b[39m\u001b[38;5;241m.\u001b[39mdesktop, \u001b[38;5;28mself\u001b[39m\u001b[38;5;241m.\u001b[39mproject \u001b[38;5;241m=\u001b[39m \u001b[43mansys\u001b[49m\u001b[38;5;241;43m.\u001b[39;49m\u001b[43mload_ansys_project\u001b[49m\u001b[43m(\u001b[49m\n\u001b[0;32m    255\u001b[0m \u001b[43m    \u001b[49m\u001b[38;5;28;43mself\u001b[39;49m\u001b[38;5;241;43m.\u001b[39;49m\u001b[43mproject_name\u001b[49m\u001b[43m,\u001b[49m\u001b[43m \u001b[49m\u001b[38;5;28;43mself\u001b[39;49m\u001b[38;5;241;43m.\u001b[39;49m\u001b[43mproject_path\u001b[49m\u001b[43m)\u001b[49m\n\u001b[0;32m    257\u001b[0m \u001b[38;5;28;01mif\u001b[39;00m \u001b[38;5;28mself\u001b[39m\u001b[38;5;241m.\u001b[39mproject:\n\u001b[0;32m    258\u001b[0m     \u001b[38;5;66;03m# TODO: should be property?\u001b[39;00m\n\u001b[0;32m    259\u001b[0m     \u001b[38;5;28mself\u001b[39m\u001b[38;5;241m.\u001b[39mproject_name \u001b[38;5;241m=\u001b[39m \u001b[38;5;28mself\u001b[39m\u001b[38;5;241m.\u001b[39mproject\u001b[38;5;241m.\u001b[39mname\n",
      "File \u001b[1;32m~\\.conda\\envs\\Metal\\Lib\\site-packages\\pyEPR\\ansys.py:3223\u001b[0m, in \u001b[0;36mload_ansys_project\u001b[1;34m(proj_name, project_path, extension)\u001b[0m\n\u001b[0;32m   3220\u001b[0m project_path \u001b[38;5;241m=\u001b[39m Path(project_path)\n\u001b[0;32m   3222\u001b[0m \u001b[38;5;66;03m# Checks\u001b[39;00m\n\u001b[1;32m-> 3223\u001b[0m \u001b[38;5;28;01massert\u001b[39;00m project_path\u001b[38;5;241m.\u001b[39mis_dir(\n\u001b[0;32m   3224\u001b[0m ), \u001b[38;5;124m\"\u001b[39m\u001b[38;5;124mERROR! project_path is not a valid directory \u001b[39m\u001b[38;5;130;01m\\N{loudly crying face}\u001b[39;00m\u001b[38;5;124m.\u001b[39m\u001b[38;5;130;01m\\\u001b[39;00m\n\u001b[0;32m   3225\u001b[0m \u001b[38;5;124m    Check the path, and especially \u001b[39m\u001b[38;5;130;01m\\\\\u001b[39;00m\u001b[38;5;124m characters.\u001b[39m\u001b[38;5;124m\"\u001b[39m\n\u001b[0;32m   3227\u001b[0m project_path \u001b[38;5;241m/\u001b[39m\u001b[38;5;241m=\u001b[39m project_path \u001b[38;5;241m/\u001b[39m Path(proj_name \u001b[38;5;241m+\u001b[39m extension)\n\u001b[0;32m   3229\u001b[0m \u001b[38;5;28;01mif\u001b[39;00m (project_path)\u001b[38;5;241m.\u001b[39mis_file():\n",
      "\u001b[1;31mAssertionError\u001b[0m: ERROR! project_path is not a valid directory 😭.            Check the path, and especially \\ characters."
     ]
    }
   ],
   "source": [
    "pinfo = epr.ProjectInfo(project_path = r'C:\\sim_folder',\n",
    "                        project_name = r'cavity_with_two_qubits',\n",
    "                        design_name  = r'Alice_Bob')"
   ]
  },
  {
   "cell_type": "code",
   "execution_count": null,
   "id": "b1c7dcad",
   "metadata": {},
   "outputs": [],
   "source": []
  }
 ],
 "metadata": {
  "kernelspec": {
   "display_name": "Python 3 (ipykernel)",
   "language": "python",
   "name": "python3"
  },
  "language_info": {
   "codemirror_mode": {
    "name": "ipython",
    "version": 3
   },
   "file_extension": ".py",
   "mimetype": "text/x-python",
   "name": "python",
   "nbconvert_exporter": "python",
   "pygments_lexer": "ipython3",
   "version": "3.11.4"
  }
 },
 "nbformat": 4,
 "nbformat_minor": 5
}
