{
 "cells": [
  {
   "cell_type": "markdown",
   "id": "1b236e0a",
   "metadata": {},
   "source": [
    "# Sweeps - Impedance, scattering and admittance (Z S Y) matrices"
   ]
  },
  {
   "cell_type": "markdown",
   "id": "ced70c0a",
   "metadata": {},
   "source": [
    "### Prerequisite\n",
    "You need to have a working local installation of Ansys"
   ]
  },
  {
   "cell_type": "markdown",
   "id": "1b4c0b1a",
   "metadata": {},
   "source": [
    "## 1. Perform the necessary imports and create a QDesign in Metal first."
   ]
  },
  {
   "cell_type": "code",
   "execution_count": 1,
   "id": "ac34fec5",
   "metadata": {},
   "outputs": [],
   "source": [
    "%load_ext autoreload\n",
    "%autoreload 2"
   ]
  },
  {
   "cell_type": "code",
   "execution_count": 2,
   "id": "8a672f85",
   "metadata": {},
   "outputs": [],
   "source": [
    "import qiskit_metal as metal\n",
    "from qiskit_metal import designs, draw\n",
    "from qiskit_metal import MetalGUI, Dict, Headings\n",
    "import pyEPR as epr\n",
    "from qiskit_metal.analyses.simulation import ScatteringImpedanceSim"
   ]
  },
  {
   "cell_type": "markdown",
   "id": "5e7b9b1f",
   "metadata": {},
   "source": [
    "## Create the design in Metal\n",
    " Set up a design of a given dimension.  Create a design by specifying the chip size and open Metal GUI.  Dimensions will be respected in the design rendering.  Note the chip design is centered at origin (0,0)."
   ]
  },
  {
   "cell_type": "code",
   "execution_count": 3,
   "id": "645c9820",
   "metadata": {},
   "outputs": [],
   "source": [
    "design = designs.DesignPlanar({}, True)\n",
    "design.chips.main.size['size_x'] = '2mm'\n",
    "design.chips.main.size['size_y'] = '2mm'\n",
    "\n",
    "gui = MetalGUI(design)\n",
    "\n",
    "# Perform the necessary imports.\n",
    "from qiskit_metal.qlibrary.couplers.coupled_line_tee import CoupledLineTee\n",
    "from qiskit_metal.qlibrary.tlines.meandered import RouteMeander\n",
    "from qiskit_metal.qlibrary.qubits.transmon_pocket import TransmonPocket\n",
    "from qiskit_metal.qlibrary.tlines.straight_path import RouteStraight\n",
    "from qiskit_metal.qlibrary.terminations.open_to_ground import OpenToGround"
   ]
  },
  {
   "cell_type": "code",
   "execution_count": 4,
   "id": "f9558f23",
   "metadata": {},
   "outputs": [],
   "source": [
    "# To create plots after geting solution data.\n",
    "import matplotlib.pyplot as plt\n",
    "import numpy as np"
   ]
  },
  {
   "cell_type": "code",
   "execution_count": 5,
   "id": "d2387e31",
   "metadata": {},
   "outputs": [],
   "source": [
    "# Add 2 transmons to the design.\n",
    "options = dict(\n",
    "    # Some options we want to modify from the deafults\n",
    "    # (see below for defaults)\n",
    "    pad_width='425 um',\n",
    "    pocket_height='650um',\n",
    "    # Adding 4 connectors (see below for defaults)\n",
    "    connection_pads=dict(a=dict(loc_W=+1, loc_H=+1),\n",
    "                         b=dict(loc_W=-1, loc_H=+1, pad_height='30um'),\n",
    "                         c=dict(loc_W=+1, loc_H=-1, pad_width='200um'),\n",
    "                         d=dict(loc_W=-1, loc_H=-1, pad_height='50um')))\n",
    "\n",
    "## Create 2 transmons\n",
    "q1 = TransmonPocket(design,\n",
    "                    'Q1',\n",
    "                    options=dict(pos_x='+1.4mm',\n",
    "                                 pos_y='0mm',\n",
    "                                 orientation='90',\n",
    "                                 **options))\n",
    "q2 = TransmonPocket(design,\n",
    "                    'Q2',\n",
    "                    options=dict(pos_x='-0.6mm',\n",
    "                                 pos_y='0mm',\n",
    "                                 orientation='90',\n",
    "                                 **options))\n",
    "\n",
    "gui.rebuild()\n",
    "gui.autoscale()"
   ]
  },
  {
   "cell_type": "code",
   "execution_count": 6,
   "id": "6f4efad9",
   "metadata": {},
   "outputs": [],
   "source": [
    "# Add 2 hangers consisting of capacitively coupled transmission lines.\n",
    "TQ1 = CoupledLineTee(design,\n",
    "                     'TQ1',\n",
    "                     options=dict(pos_x='1mm',\n",
    "                                  pos_y='3mm',\n",
    "                                  coupling_length='500um',\n",
    "                                  coupling_space='1um'))\n",
    "TQ2 = CoupledLineTee(design,\n",
    "                     'TQ2',\n",
    "                     options=dict(pos_x='-1mm',\n",
    "                                  pos_y='3mm',\n",
    "                                  coupling_length='500um',\n",
    "                                  coupling_space='1um'))\n",
    "\n",
    "gui.rebuild()\n",
    "gui.autoscale()"
   ]
  },
  {
   "cell_type": "code",
   "execution_count": 7,
   "id": "9291dc36",
   "metadata": {},
   "outputs": [],
   "source": [
    "# Add 2 meandered CPWs connecting the transmons to the hangers.\n",
    "ops = dict(fillet='90um')\n",
    "design.overwrite_enabled = True\n",
    "\n",
    "options1 = Dict(total_length='8mm',\n",
    "                hfss_wire_bonds=True,\n",
    "                pin_inputs=Dict(start_pin=Dict(component='TQ1',\n",
    "                                               pin='second_end'),\n",
    "                                end_pin=Dict(component='Q1', pin='a')),\n",
    "                lead=Dict(start_straight='0.1mm'),\n",
    "                **ops)\n",
    "\n",
    "options2 = Dict(total_length='9mm',\n",
    "                hfss_wire_bonds=True,\n",
    "                pin_inputs=Dict(start_pin=Dict(component='TQ2',\n",
    "                                               pin='second_end'),\n",
    "                                end_pin=Dict(component='Q2', pin='a')),\n",
    "                lead=Dict(start_straight='0.1mm'),\n",
    "                **ops)\n",
    "\n",
    "meanderQ1 = RouteMeander(design, 'meanderQ1', options=options1)\n",
    "meanderQ2 = RouteMeander(design, 'meanderQ2', options=options2)\n",
    "\n",
    "gui.rebuild()\n",
    "gui.autoscale() "
   ]
  },
  {
   "cell_type": "code",
   "execution_count": 8,
   "id": "2ad7438f",
   "metadata": {},
   "outputs": [],
   "source": [
    "# Add 2 open to grounds at the ends of the horizontal CPW.\n",
    "otg1 = OpenToGround(design, 'otg1', options=dict(pos_x='3mm', pos_y='3mm'))\n",
    "otg2 = OpenToGround(design,\n",
    "                    'otg2',\n",
    "                    options=dict(pos_x='-3mm', pos_y='3mm', orientation='180'))\n",
    "\n",
    "gui.rebuild()\n",
    "gui.autoscale()\n",
    "\n",
    "# Add 3 straight CPWs that comprise the long horizontal CPW.\n",
    "\n",
    "ops_oR = Dict(hfss_wire_bonds=True,\n",
    "              pin_inputs=Dict(start_pin=Dict(component='TQ1', pin='prime_end'),\n",
    "                              end_pin=Dict(component='otg1', pin='open')))\n",
    "ops_mid = Dict(hfss_wire_bonds=True,\n",
    "               pin_inputs=Dict(start_pin=Dict(component='TQ1',\n",
    "                                              pin='prime_start'),\n",
    "                               end_pin=Dict(component='TQ2', pin='prime_end')))\n",
    "ops_oL = Dict(hfss_wire_bonds=True,\n",
    "              pin_inputs=Dict(start_pin=Dict(component='TQ2',\n",
    "                                             pin='prime_start'),\n",
    "                              end_pin=Dict(component='otg2', pin='open')))\n",
    "\n",
    "cpw_openRight = RouteStraight(design, 'cpw_openRight', options=ops_oR)\n",
    "cpw_middle = RouteStraight(design, 'cpw_middle', options=ops_mid)\n",
    "cpw_openLeft = RouteStraight(design, 'cpw_openLeft', options=ops_oL)\n",
    "\n",
    "gui.rebuild()\n",
    "gui.autoscale()"
   ]
  },
  {
   "cell_type": "code",
   "execution_count": 9,
   "id": "intended-celebration",
   "metadata": {
    "tags": [
     "nbsphinx-thumbnail"
    ]
   },
   "outputs": [
    {
     "data": {
      "image/png": "[encoded data removed]",
      "text/plain": [
       "<IPython.core.display.Image object>"
      ]
     },
     "metadata": {
      "image/png": {
       "width": 500
      }
     },
     "output_type": "display_data"
    }
   ],
   "source": [
    "gui.screenshot()"
   ]
  },
  {
   "cell_type": "markdown",
   "id": "4bfca232",
   "metadata": {},
   "source": [
    "## 2. Render the qubit from Metal into the HangingResonators design in Ansys. <br>ScatteringImpedanceSim will  open the simulation software. Then will connect, activate the design, add a setup.  \n",
    "\n",
    "Review and update the setup. For driven modal you will need to define not only the simulation convergence parameters, but also the frequency sweep.\n",
    "\n",
    "\n"
   ]
  },
  {
   "cell_type": "code",
   "execution_count": 10,
   "id": "3f302b13",
   "metadata": {},
   "outputs": [],
   "source": [
    "em1 = ScatteringImpedanceSim(design, \"hfss\")"
   ]
  },
  {
   "cell_type": "markdown",
   "id": "9f02f684-c628-4efb-a82e-129c1323d88e",
   "metadata": {},
   "source": [
    "Customizable parameters and default values for HFSS (driven  modal):\n",
    "\n",
    "    freq_ghz=5 (simulation frequency)\n",
    "    name=\"Setup\" (setup name)\n",
    "    max_delta_s=0.1 (absolute value of maximum difference in scattering parameter S)\n",
    "    max_passes=10 (maximum number of passes)\n",
    "    min_passes=1 (minimum number of passes)\n",
    "    min_converged=1 (minimum number of converged passes)\n",
    "    pct_refinement=30 (percent refinement)\n",
    "    basis_order=1 (basis order)\n",
    "    vars (global variables to set in the renderer)\n",
    "    sweep_setup (all the parameters of the sweep)\n",
    "    name=\"Sweep\" (name of sweep)\n",
    "    start_ghz=2.0 (starting frequency)\n",
    "    stop_ghz=8.0 (stopping frequency)\n",
    "    count=101 (total number of frequencies)\n",
    "    step_ghz=None (frequency step size)\n",
    "    type=\"Fast\" (type of sweep)\n",
    "    save_fields=False (whether or not to save fields)"
   ]
  },
  {
   "cell_type": "code",
   "execution_count": 11,
   "id": "834584b2",
   "metadata": {},
   "outputs": [
    {
     "data": {
      "text/plain": [
       "{'name': 'Setup',\n",
       " 'reuse_selected_design': True,\n",
       " 'reuse_setup': True,\n",
       " 'freq_ghz': 5,\n",
       " 'max_delta_s': 0.1,\n",
       " 'max_passes': 10,\n",
       " 'min_passes': 1,\n",
       " 'min_converged': 1,\n",
       " 'pct_refinement': 30,\n",
       " 'basis_order': 1,\n",
       " 'vars': {'Lj': '10 nH', 'Cj': '0 fF'},\n",
       " 'sweep_setup': {'name': 'Sweep',\n",
       "  'start_ghz': 2.0,\n",
       "  'stop_ghz': 8.0,\n",
       "  'count': 101,\n",
       "  'step_ghz': None,\n",
       "  'type': 'Fast',\n",
       "  'save_fields': False}}"
      ]
     },
     "execution_count": 11,
     "metadata": {},
     "output_type": "execute_result"
    }
   ],
   "source": [
    "# To view the values for defaults. \n",
    "em1.setup"
   ]
  },
  {
   "cell_type": "code",
   "execution_count": 12,
   "id": "de6fa174",
   "metadata": {},
   "outputs": [],
   "source": [
    "em1.setup.name = \"Sweep_DrivenModal_setup\"\n",
    "em1.setup.freq_ghz = 6.0\n",
    "em1.setup.max_delta_s = 0.05\n",
    "em1.setup.max_passes = 12\n",
    "em1.setup.min_passes = 2"
   ]
  },
  {
   "cell_type": "markdown",
   "id": "3d54a538",
   "metadata": {},
   "source": [
    "\n",
    "Add a frequency sweep to a driven modal setup.<br>\n",
    "From QHFSSRenderer.add_sweep doc_strings.  Please go to doc_strings to get the latest information.  \n",
    "\n",
    "Args:<br>\n",
    "    setup_name (str, optional): Name of driven modal simulation Sweep.\n",
    "                            Defaults to \"Setup\".<br>\n",
    "    start_ghz (float, optional): Starting frequency of sweep in GHz.\n",
    "                            Defaults to 2.0.<br>\n",
    "    stop_ghz (float, optional): Ending frequency of sweep in GHz.\n",
    "                            Defaults to 8.0.<br>\n",
    "    count (int, optional): Total number of frequencies.\n",
    "                            Defaults to 101.<br>\n",
    "    step_ghz (float, optional): Difference between adjacent\n",
    "                            frequencies. Defaults to None.<br>\n",
    "    name (str, optional): Name of sweep. Defaults to \"Sweep\".<br>\n",
    "    type (str, optional): Type of sweep. Defaults to \"Fast\".<br>\n",
    "    save_fields (bool, optional): Whether or not to save fields.\n",
    "                        Defaults to False.<br>\n",
    "                        \n",
    "                        \n",
    "From pyEPR.HfssSetup.insert_sweep(), please go to this method to get the latest documentation.   \n",
    "You should provide either step_ghz or count when inserting an HFSS driven model freq sweep. Do not provide both or neither!"
   ]
  },
  {
   "cell_type": "code",
   "execution_count": 13,
   "id": "9f5f6acd-4809-4455-b2cf-de0fb0c83059",
   "metadata": {},
   "outputs": [
    {
     "data": {
      "text/plain": [
       "{'name': 'Sweep',\n",
       " 'start_ghz': 2.0,\n",
       " 'stop_ghz': 8.0,\n",
       " 'count': 101,\n",
       " 'step_ghz': None,\n",
       " 'type': 'Fast',\n",
       " 'save_fields': False}"
      ]
     },
     "execution_count": 13,
     "metadata": {},
     "output_type": "execute_result"
    }
   ],
   "source": [
    "# To view the values for defaults. \n",
    "em1.setup.sweep_setup"
   ]
  },
  {
   "cell_type": "code",
   "execution_count": 14,
   "id": "9135df20",
   "metadata": {},
   "outputs": [
    {
     "data": {
      "text/plain": [
       "{'name': 'Sweep_DrivenModal_setup',\n",
       " 'reuse_selected_design': True,\n",
       " 'reuse_setup': True,\n",
       " 'freq_ghz': 6.0,\n",
       " 'max_delta_s': 0.05,\n",
       " 'max_passes': 12,\n",
       " 'min_passes': 2,\n",
       " 'min_converged': 1,\n",
       " 'pct_refinement': 30,\n",
       " 'basis_order': 1,\n",
       " 'vars': {'Lj': '10 nH', 'Cj': '0 fF'},\n",
       " 'sweep_setup': {'name': 'Sweep_options__dm_sweep',\n",
       "  'start_ghz': 4.0,\n",
       "  'stop_ghz': 9.0,\n",
       "  'count': 5001,\n",
       "  'step_ghz': None,\n",
       "  'type': 'Interpolating',\n",
       "  'save_fields': False}}"
      ]
     },
     "execution_count": 14,
     "metadata": {},
     "output_type": "execute_result"
    }
   ],
   "source": [
    "em1.setup.sweep_setup.name=\"Sweep_options__dm_sweep\"\n",
    "em1.setup.sweep_setup.start_ghz=4.0\n",
    "em1.setup.sweep_setup.stop_ghz=9.0\n",
    "em1.setup.sweep_setup.count=5001\n",
    "em1.setup.sweep_setup.type=\"Interpolating\"\n",
    "\n",
    "\n",
    "em1.setup"
   ]
  },
  {
   "cell_type": "code",
   "execution_count": 15,
   "id": "d00fa8c0",
   "metadata": {},
   "outputs": [],
   "source": [
    "# Set the buffer width at the edge of the design to be 0.5 mm \n",
    "# in both directions.\n",
    "em1.setup.renderer.options['x_buffer_width_mm'] = 0.5\n",
    "em1.setup.renderer.options['y_buffer_width_mm'] = 0.5"
   ]
  },
  {
   "cell_type": "code",
   "execution_count": 16,
   "id": "ce9dbaa5",
   "metadata": {},
   "outputs": [],
   "source": [
    "#     qcomp_name (str): A component that contains the option to be swept.\n",
    "#     option_name (str): The option within qcomp_name to sweep.\n",
    "#     option_sweep (list): Each entry in the list is a value for\n",
    "#                 option_name.\n",
    "#     qcomp_render (list): The component to render to simulation.\n",
    "#     open_terminations (list): Identify which kind of pins. Follow the\n",
    "#                 details from renderer QQ3DRenderer.render_design, or\n",
    "#                 QHFSSRenderer.render_design.\n",
    "#     port_list (list): List of tuples of jj's that shouldn't\n",
    "#                     be rendered.  Follow details from\n",
    "#                     renderer in QHFSSRenderer.render_design.\n",
    "#     jj_to_port (list): List of junctions (qcomp, qgeometry_name,\n",
    "#                         impedance, draw_ind) to render as lumped ports\n",
    "#                         or as lumped port in parallel with a sheet\n",
    "#                         inductance.    Follow details from renderer\n",
    "#                         in QHFSSRenderer.render_design.\n",
    "#     ignored_jjs (Union[list,None]): This is not used by all renderers,\n",
    "#                  just hfss.\n",
    "#     design_name(str): Name of design (workspace) to use in project.\n",
    "#     box_plus_buffer(bool): Render the entire chip or create a\n",
    "#                 box_plus_buffer around the components which are rendered.\n"
   ]
  },
  {
   "cell_type": "code",
   "execution_count": 17,
   "id": "80500d37",
   "metadata": {},
   "outputs": [],
   "source": [
    "\n",
    "design_name= \"Sweep_DrivenModal\"\n",
    "qcomp_render = [] # Means to render everything in qgeometry table.\n",
    "open_terminations = []\n",
    "\n",
    "# Here, pin cpw_openRight_end and cpw_openLeft_end are converted into lumped ports,\n",
    "#           each with an impedance of 50 Ohms. <br>\n",
    "port_list = [('cpw_openRight', 'end', 50),\n",
    "                      ('cpw_openLeft', 'end', 50)]\n",
    "jj_to_port = [('Q1', 'rect_jj', 50, False)]\n",
    "# Neither of the junctions in Q1 or Q2 are rendered.\n",
    "ignored_jjs = [('Q2', 'rect_jj')]\n",
    "box_plus_buffer = True"
   ]
  },
  {
   "cell_type": "code",
   "execution_count": 18,
   "id": "948aa9b4",
   "metadata": {
    "tags": []
   },
   "outputs": [
    {
     "name": "stderr",
     "output_type": "stream",
     "text": [
      "INFO 08:57AM [connect_project]: Connecting to Ansys Desktop API...\n",
      "INFO 08:57AM [load_ansys_project]: \tOpened Ansys App\n",
      "INFO 08:57AM [load_ansys_project]: \tOpened Ansys Desktop v2020.2.0\n",
      "INFO 08:57AM [load_ansys_project]: \tOpened Ansys Project\n",
      "\tFolder:    C:/Ansoft/\n",
      "\tProject:   Project24\n",
      "INFO 08:57AM [connect_design]: No active design found (or error getting active design).\n",
      "INFO 08:57AM [connect]: \t Connected to project \"Project24\". No design detected\n",
      "INFO 08:57AM [connect_design]: \tOpened active design\n",
      "\tDesign:    Sweep_DrivenModal_hfss [Solution type: DrivenModal]\n",
      "WARNING 08:57AM [connect_setup]: \tNo design setup detected.\n",
      "WARNING 08:57AM [connect_setup]: \tCreating drivenmodal default setup.\n",
      "INFO 08:57AM [get_setup]: \tOpened setup `Setup`  (<class 'pyEPR.ansys.HfssDMSetup'>)\n",
      "INFO 08:58AM [get_setup]: \tOpened setup `Sweep_DrivenModal_setup`  (<class 'pyEPR.ansys.HfssDMSetup'>)\n",
      "INFO 08:58AM [get_setup]: \tOpened setup `Sweep_DrivenModal_setup`  (<class 'pyEPR.ansys.HfssDMSetup'>)\n",
      "INFO 08:58AM [analyze]: Analyzing setup Sweep_DrivenModal_setup : Sweep_options__dm_sweep\n",
      "INFO 09:01AM [connect_design]: \tOpened active design\n",
      "\tDesign:    Sweep_DrivenModal_hfss [Solution type: DrivenModal]\n",
      "INFO 09:02AM [get_setup]: \tOpened setup `Sweep_DrivenModal_setup`  (<class 'pyEPR.ansys.HfssDMSetup'>)\n",
      "INFO 09:02AM [get_setup]: \tOpened setup `Sweep_DrivenModal_setup`  (<class 'pyEPR.ansys.HfssDMSetup'>)\n",
      "INFO 09:02AM [analyze]: Analyzing setup Sweep_DrivenModal_setup : Sweep_options__dm_sweep\n",
      "INFO 09:07AM [connect_design]: \tOpened active design\n",
      "\tDesign:    Sweep_DrivenModal_hfss [Solution type: DrivenModal]\n",
      "INFO 09:07AM [get_setup]: \tOpened setup `Sweep_DrivenModal_setup`  (<class 'pyEPR.ansys.HfssDMSetup'>)\n",
      "INFO 09:07AM [get_setup]: \tOpened setup `Sweep_DrivenModal_setup`  (<class 'pyEPR.ansys.HfssDMSetup'>)\n",
      "INFO 09:07AM [analyze]: Analyzing setup Sweep_DrivenModal_setup : Sweep_options__dm_sweep\n"
     ]
    }
   ],
   "source": [
    "#Note: The method will connect to  Ansys simulation, activate_drivenmodal_design(), add_drivenmodal_setup().\n",
    "\n",
    "all_sweeps, return_code = em1.run_sweep(meanderQ1.name,\n",
    "                                        'total_length', \n",
    "                                        ['9mm', '10mm', '11mm'],\n",
    "                                        qcomp_render,\n",
    "                                        open_terminations,\n",
    "                                        design_name=design_name,\n",
    "                                        port_list = port_list,\n",
    "                                        jj_to_port= jj_to_port,\n",
    "                                        ignored_jjs= ignored_jjs,\n",
    "                                        box_plus_buffer=box_plus_buffer\n",
    "                                       )"
   ]
  },
  {
   "cell_type": "markdown",
   "id": "61ee7c0b-c41c-4fde-951b-87bdac17200c",
   "metadata": {
    "tags": []
   },
   "source": [
    "#Note: Sweep again using the arguments from previous run.  \n",
    "```\n",
    "all_sweeps_6_7_8, return_code = em1.run_sweep(meanderQ1.name,\n",
    "                                        'total_length', \n",
    "                                        ['6.5mm', '7.5mm', '8.5mm']\n",
    "                                       )\n",
    "```"
   ]
  },
  {
   "cell_type": "code",
   "execution_count": 19,
   "id": "c564b8d1",
   "metadata": {},
   "outputs": [
    {
     "name": "stdout",
     "output_type": "stream",
     "text": [
      "dict_keys(['9mm', '10mm', '11mm'])\n"
     ]
    }
   ],
   "source": [
    "\n",
    "if return_code == 0:\n",
    "    # Each key corresponds to list passed to ['9mm', '8mm', '7mm']\n",
    "    print(all_sweeps.keys())\n",
    "    \n",
    "    # Each key corresponds to list passed to ['6mm', '5mm', '4mm']\n",
    "    # print(all_sweeps_6_7_8.keys())\n",
    "else:\n",
    "    print('Check warning messages to see why all_sweeps is non-zero.')\n"
   ]
  },
  {
   "cell_type": "code",
   "execution_count": 20,
   "id": "6a53f4b2",
   "metadata": {},
   "outputs": [
    {
     "data": {
      "text/plain": [
       "dict_keys(['option_name', 'variables'])"
      ]
     },
     "execution_count": 20,
     "metadata": {},
     "output_type": "execute_result"
    }
   ],
   "source": [
    "all_sweeps['9mm'].keys()"
   ]
  },
  {
   "cell_type": "code",
   "execution_count": 21,
   "id": "656a0690",
   "metadata": {},
   "outputs": [
    {
     "data": {
      "text/plain": [
       "{'sim_setup_name': 'Sweep_DrivenModal_setup',\n",
       " 'sweep_name': 'Sweep_options__dm_sweep'}"
      ]
     },
     "execution_count": 21,
     "metadata": {},
     "output_type": "execute_result"
    }
   ],
   "source": [
    "all_sweeps['9mm']['variables']"
   ]
  },
  {
   "cell_type": "code",
   "execution_count": 22,
   "id": "c5697567",
   "metadata": {},
   "outputs": [
    {
     "data": {
      "text/plain": [
       "'total_length'"
      ]
     },
     "execution_count": 22,
     "metadata": {},
     "output_type": "execute_result"
    }
   ],
   "source": [
    "all_sweeps['9mm']['option_name']\n"
   ]
  },
  {
   "cell_type": "code",
   "execution_count": 23,
   "id": "2a8eb01c",
   "metadata": {},
   "outputs": [
    {
     "name": "stdout",
     "output_type": "stream",
     "text": [
      "\n",
      "project_name = Project24\n",
      "design_name  = Sweep_DrivenModal_hfss\n",
      "setup_name   = Sweep_DrivenModal_setup\n",
      "\n"
     ]
    }
   ],
   "source": [
    "print(f\"\"\"\n",
    "project_name = {em1.renderer.pinfo.project_name}\n",
    "design_name  = {em1.renderer.pinfo.design_name}\n",
    "setup_name   = {em1.renderer.pinfo.setup_name}\n",
    "\"\"\")"
   ]
  },
  {
   "cell_type": "markdown",
   "id": "cd2002a4",
   "metadata": {},
   "source": [
    "Note: Results storage is currently being updated to be fully functional with the sweep functionality."
   ]
  },
  {
   "cell_type": "code",
   "execution_count": 24,
   "id": "1ec8f294",
   "metadata": {},
   "outputs": [
    {
     "data": {
      "text/plain": [
       "(                        Z11                   Z21\n",
       " 4.000  -0.000000-11.896548j   0.000000+44.291514j\n",
       " 4.001   0.000001-11.881640j   0.00000+044.287660j\n",
       " 4.002   0.000001-11.866735j   0.000000+44.283811j\n",
       " 4.003   0.000002-11.851833j   0.000000+44.279968j\n",
       " 4.004   0.000002-11.836933j   0.000000+44.276131j\n",
       " ...                     ...                   ...\n",
       " 8.996  0.000429+233.181228j  0.000398+237.847267j\n",
       " 8.997  0.000331+233.625173j  0.000307+238.283674j\n",
       " 8.998  0.000228+234.070780j  0.000211+238.721763j\n",
       " 8.999  0.000117+234.518060j  0.000109+239.161547j\n",
       " 9.000 -0.000000+234.967023j -0.000000+239.603035j\n",
       " \n",
       " [5001 rows x 2 columns],\n",
       " <Figure size 3000x1800 with 2 Axes>)"
      ]
     },
     "execution_count": 24,
     "metadata": {},
     "output_type": "execute_result"
    }
   ],
   "source": [
    "em1.get_impedance()                # default: ['Z11', 'Z21']"
   ]
  },
  {
   "cell_type": "code",
   "execution_count": 25,
   "id": "1e40ac2a",
   "metadata": {},
   "outputs": [
    {
     "data": {
      "text/plain": [
       "(                      Y11                 Y21\n",
       " 4.000  0.000000-0.006633j -0.000000-0.024359j\n",
       " 4.001  0.000000-0.006625j  0.000000-0.024357j\n",
       " 4.002  0.000000-0.006617j  0.000000-0.024355j\n",
       " 4.003  0.000000-0.006609j  0.000000-0.024352j\n",
       " 4.004  0.000000-0.006600j  0.000000-0.024350j\n",
       " ...                   ...                 ...\n",
       " 8.996 -0.000000+0.086442j  0.000000-0.088951j\n",
       " 8.997 -0.000000+0.086555j  0.000000-0.089060j\n",
       " 8.998 -0.000000+0.086669j  0.000000-0.089169j\n",
       " 8.999 -0.000000+0.086783j  0.000000-0.089279j\n",
       " 9.000  0.000000+0.086898j -0.000000-0.089390j\n",
       " \n",
       " [5001 rows x 2 columns],\n",
       " <Figure size 3000x1800 with 2 Axes>)"
      ]
     },
     "execution_count": 25,
     "metadata": {},
     "output_type": "execute_result"
    }
   ],
   "source": [
    "em1.get_admittance()              # default: ['Y11', 'Y21']"
   ]
  },
  {
   "cell_type": "code",
   "execution_count": 26,
   "id": "4640a8c7",
   "metadata": {},
   "outputs": [
    {
     "data": {
      "text/plain": [
       "(                      S11                 S21                 S31\n",
       " 4.000 -0.147086-0.038897j -0.264193+0.952394j  0.000055+0.000028j\n",
       " 4.001 -0.147108-0.038852j -0.263887+0.952478j  0.000055+0.000028j\n",
       " 4.002 -0.147130-0.038806j -0.263581+0.952561j  0.000055+0.000028j\n",
       " 4.003 -0.147152-0.038761j -0.263275+0.952644j  0.000055+0.000028j\n",
       " 4.004 -0.147174-0.038715j -0.262969+0.952727j  0.000055+0.000028j\n",
       " ...                   ...                 ...                 ...\n",
       " 8.996  0.005780-0.006204j  0.976020+0.217516j -0.000039+0.000050j\n",
       " 8.997  0.005783-0.006260j  0.976093+0.217185j -0.000039+0.000050j\n",
       " 8.998  0.005786-0.006317j  0.976166+0.216855j -0.000039+0.000050j\n",
       " 8.999  0.005790-0.006373j  0.976239+0.216524j -0.000039+0.000050j\n",
       " 9.000  0.005793-0.006430j  0.976312+0.216192j -0.000039+0.000050j\n",
       " \n",
       " [5001 rows x 3 columns],\n",
       " <Figure size 3000x1800 with 2 Axes>)"
      ]
     },
     "execution_count": 26,
     "metadata": {},
     "output_type": "execute_result"
    }
   ],
   "source": [
    "em1.get_scattering(['S11', 'S21', 'S31'])          ## default: ['S11', 'S21', 'S22']"
   ]
  },
  {
   "cell_type": "code",
   "execution_count": 27,
   "id": "33a0735c",
   "metadata": {},
   "outputs": [],
   "source": [
    "dataframe_scattering = em1.get_scattering(['S11', 'S21', 'S31'])\n",
    "df_s = dataframe_scattering[0]"
   ]
  },
  {
   "cell_type": "code",
   "execution_count": 28,
   "id": "929bb804",
   "metadata": {},
   "outputs": [
    {
     "data": {
      "text/plain": [
       "4.000    0.000055+0.000028j\n",
       "4.001    0.000055+0.000028j\n",
       "4.002    0.000055+0.000028j\n",
       "4.003    0.000055+0.000028j\n",
       "4.004    0.000055+0.000028j\n",
       "                ...        \n",
       "8.996   -0.000039+0.000050j\n",
       "8.997   -0.000039+0.000050j\n",
       "8.998   -0.000039+0.000050j\n",
       "8.999   -0.000039+0.000050j\n",
       "9.000   -0.000039+0.000050j\n",
       "Name: S31, Length: 5001, dtype: complex128"
      ]
     },
     "execution_count": 28,
     "metadata": {},
     "output_type": "execute_result"
    }
   ],
   "source": [
    "s11 = df_s['S11']\n",
    "s11\n",
    "\n",
    "s21 = df_s['S21']\n",
    "s21\n",
    "\n",
    "s31 = df_s['S31']\n",
    "s31"
   ]
  },
  {
   "cell_type": "code",
   "execution_count": 29,
   "id": "fe5079dd",
   "metadata": {},
   "outputs": [
    {
     "data": {
      "text/html": [
       "<div>\n",
       "<style scoped>\n",
       "    .dataframe tbody tr th:only-of-type {\n",
       "        vertical-align: middle;\n",
       "    }\n",
       "\n",
       "    .dataframe tbody tr th {\n",
       "        vertical-align: top;\n",
       "    }\n",
       "\n",
       "    .dataframe thead th {\n",
       "        text-align: right;\n",
       "    }\n",
       "</style>\n",
       "<table border=\"1\" class=\"dataframe\">\n",
       "  <thead>\n",
       "    <tr style=\"text-align: right;\">\n",
       "      <th></th>\n",
       "      <th>S11</th>\n",
       "      <th>S21</th>\n",
       "      <th>S31</th>\n",
       "      <th>20_log_of_mag_S11</th>\n",
       "      <th>20_log_of_mag_S21</th>\n",
       "      <th>20_log_of_mag_S31</th>\n",
       "    </tr>\n",
       "  </thead>\n",
       "  <tbody>\n",
       "    <tr>\n",
       "      <th>4.000</th>\n",
       "      <td>-0.147086-0.038897j</td>\n",
       "      <td>-0.264193+0.952394j</td>\n",
       "      <td>0.000055+0.000028j</td>\n",
       "      <td>-16.355031</td>\n",
       "      <td>-0.101708</td>\n",
       "      <td>-84.181500</td>\n",
       "    </tr>\n",
       "    <tr>\n",
       "      <th>4.001</th>\n",
       "      <td>-0.147108-0.038852j</td>\n",
       "      <td>-0.263887+0.952478j</td>\n",
       "      <td>0.000055+0.000028j</td>\n",
       "      <td>-16.354476</td>\n",
       "      <td>-0.101722</td>\n",
       "      <td>-84.199503</td>\n",
       "    </tr>\n",
       "    <tr>\n",
       "      <th>4.002</th>\n",
       "      <td>-0.147130-0.038806j</td>\n",
       "      <td>-0.263581+0.952561j</td>\n",
       "      <td>0.000055+0.000028j</td>\n",
       "      <td>-16.353923</td>\n",
       "      <td>-0.101735</td>\n",
       "      <td>-84.217446</td>\n",
       "    </tr>\n",
       "    <tr>\n",
       "      <th>4.003</th>\n",
       "      <td>-0.147152-0.038761j</td>\n",
       "      <td>-0.263275+0.952644j</td>\n",
       "      <td>0.000055+0.000028j</td>\n",
       "      <td>-16.353370</td>\n",
       "      <td>-0.101748</td>\n",
       "      <td>-84.235327</td>\n",
       "    </tr>\n",
       "    <tr>\n",
       "      <th>4.004</th>\n",
       "      <td>-0.147174-0.038715j</td>\n",
       "      <td>-0.262969+0.952727j</td>\n",
       "      <td>0.000055+0.000028j</td>\n",
       "      <td>-16.352819</td>\n",
       "      <td>-0.101761</td>\n",
       "      <td>-84.253149</td>\n",
       "    </tr>\n",
       "    <tr>\n",
       "      <th>...</th>\n",
       "      <td>...</td>\n",
       "      <td>...</td>\n",
       "      <td>...</td>\n",
       "      <td>...</td>\n",
       "      <td>...</td>\n",
       "      <td>...</td>\n",
       "    </tr>\n",
       "    <tr>\n",
       "      <th>8.996</th>\n",
       "      <td>0.005780-0.006204j</td>\n",
       "      <td>0.976020+0.217516j</td>\n",
       "      <td>-0.000039+0.000050j</td>\n",
       "      <td>-41.433315</td>\n",
       "      <td>-0.000314</td>\n",
       "      <td>-83.990805</td>\n",
       "    </tr>\n",
       "    <tr>\n",
       "      <th>8.997</th>\n",
       "      <td>0.005783-0.006260j</td>\n",
       "      <td>0.976093+0.217185j</td>\n",
       "      <td>-0.000039+0.000050j</td>\n",
       "      <td>-41.388457</td>\n",
       "      <td>-0.000317</td>\n",
       "      <td>-83.990549</td>\n",
       "    </tr>\n",
       "    <tr>\n",
       "      <th>8.998</th>\n",
       "      <td>0.005786-0.006317j</td>\n",
       "      <td>0.976166+0.216855j</td>\n",
       "      <td>-0.000039+0.000050j</td>\n",
       "      <td>-41.343861</td>\n",
       "      <td>-0.000319</td>\n",
       "      <td>-83.990273</td>\n",
       "    </tr>\n",
       "    <tr>\n",
       "      <th>8.999</th>\n",
       "      <td>0.005790-0.006373j</td>\n",
       "      <td>0.976239+0.216524j</td>\n",
       "      <td>-0.000039+0.000050j</td>\n",
       "      <td>-41.299529</td>\n",
       "      <td>-0.000322</td>\n",
       "      <td>-83.989977</td>\n",
       "    </tr>\n",
       "    <tr>\n",
       "      <th>9.000</th>\n",
       "      <td>0.005793-0.006430j</td>\n",
       "      <td>0.976312+0.216192j</td>\n",
       "      <td>-0.000039+0.000050j</td>\n",
       "      <td>-41.255465</td>\n",
       "      <td>-0.000325</td>\n",
       "      <td>-83.989660</td>\n",
       "    </tr>\n",
       "  </tbody>\n",
       "</table>\n",
       "<p>5001 rows × 6 columns</p>\n",
       "</div>"
      ],
      "text/plain": [
       "                      S11                 S21                 S31  \\\n",
       "4.000 -0.147086-0.038897j -0.264193+0.952394j  0.000055+0.000028j   \n",
       "4.001 -0.147108-0.038852j -0.263887+0.952478j  0.000055+0.000028j   \n",
       "4.002 -0.147130-0.038806j -0.263581+0.952561j  0.000055+0.000028j   \n",
       "4.003 -0.147152-0.038761j -0.263275+0.952644j  0.000055+0.000028j   \n",
       "4.004 -0.147174-0.038715j -0.262969+0.952727j  0.000055+0.000028j   \n",
       "...                   ...                 ...                 ...   \n",
       "8.996  0.005780-0.006204j  0.976020+0.217516j -0.000039+0.000050j   \n",
       "8.997  0.005783-0.006260j  0.976093+0.217185j -0.000039+0.000050j   \n",
       "8.998  0.005786-0.006317j  0.976166+0.216855j -0.000039+0.000050j   \n",
       "8.999  0.005790-0.006373j  0.976239+0.216524j -0.000039+0.000050j   \n",
       "9.000  0.005793-0.006430j  0.976312+0.216192j -0.000039+0.000050j   \n",
       "\n",
       "       20_log_of_mag_S11  20_log_of_mag_S21  20_log_of_mag_S31  \n",
       "4.000         -16.355031          -0.101708         -84.181500  \n",
       "4.001         -16.354476          -0.101722         -84.199503  \n",
       "4.002         -16.353923          -0.101735         -84.217446  \n",
       "4.003         -16.353370          -0.101748         -84.235327  \n",
       "4.004         -16.352819          -0.101761         -84.253149  \n",
       "...                  ...                ...                ...  \n",
       "8.996         -41.433315          -0.000314         -83.990805  \n",
       "8.997         -41.388457          -0.000317         -83.990549  \n",
       "8.998         -41.343861          -0.000319         -83.990273  \n",
       "8.999         -41.299529          -0.000322         -83.989977  \n",
       "9.000         -41.255465          -0.000325         -83.989660  \n",
       "\n",
       "[5001 rows x 6 columns]"
      ]
     },
     "execution_count": 29,
     "metadata": {},
     "output_type": "execute_result"
    }
   ],
   "source": [
    "dataframe_scattering[0]['20_log_of_mag_S11']= 20 * np.log10(np.absolute(s11))\n",
    "dataframe_scattering[0]['20_log_of_mag_S21']= 20 * np.log10(np.absolute(s21))\n",
    "dataframe_scattering[0]['20_log_of_mag_S31']= 20 * np.log10(np.absolute(s31))\n",
    "dataframe_scattering[0]"
   ]
  },
  {
   "cell_type": "code",
   "execution_count": 30,
   "id": "9e405022",
   "metadata": {},
   "outputs": [],
   "source": [
    "# Reference to current axis. \n",
    "magnitude = plt.figure('Magnitude S11, S21, and S31')\n",
    "plt.clf()\n",
    "axis = plt.gca() # Get current axis.\n",
    "dataframe_scattering[0].plot(kind = 'line', y='20_log_of_mag_S11', color = 'green', ax = axis)\n",
    "dataframe_scattering[0].plot(kind = 'line', y='20_log_of_mag_S21', color = 'blue', ax = axis)\n",
    "dataframe_scattering[0].plot(kind = 'line', y='20_log_of_mag_S31', color = 'red', ax = axis)\n",
    "plt.title(f'S-Parameter Magnitude')\n",
    "plt.xlabel(f'frequency [GHZ]')\n",
    "plt.ylabel(f'|S11|,|S21|,|S31| [dB]')\n",
    "magnitude.show()"
   ]
  },
  {
   "cell_type": "code",
   "execution_count": 31,
   "id": "dfd0b543",
   "metadata": {},
   "outputs": [
    {
     "data": {
      "text/html": [
       "<div>\n",
       "<style scoped>\n",
       "    .dataframe tbody tr th:only-of-type {\n",
       "        vertical-align: middle;\n",
       "    }\n",
       "\n",
       "    .dataframe tbody tr th {\n",
       "        vertical-align: top;\n",
       "    }\n",
       "\n",
       "    .dataframe thead th {\n",
       "        text-align: right;\n",
       "    }\n",
       "</style>\n",
       "<table border=\"1\" class=\"dataframe\">\n",
       "  <thead>\n",
       "    <tr style=\"text-align: right;\">\n",
       "      <th></th>\n",
       "      <th>S11</th>\n",
       "      <th>S21</th>\n",
       "      <th>S31</th>\n",
       "      <th>20_log_of_mag_S11</th>\n",
       "      <th>20_log_of_mag_S21</th>\n",
       "      <th>20_log_of_mag_S31</th>\n",
       "      <th>degrees_S11</th>\n",
       "      <th>degrees_S21</th>\n",
       "      <th>degrees_S31</th>\n",
       "    </tr>\n",
       "  </thead>\n",
       "  <tbody>\n",
       "    <tr>\n",
       "      <th>4.000</th>\n",
       "      <td>-0.147086-0.038897j</td>\n",
       "      <td>-0.264193+0.952394j</td>\n",
       "      <td>0.000055+0.000028j</td>\n",
       "      <td>-16.355031</td>\n",
       "      <td>-0.101708</td>\n",
       "      <td>-84.181500</td>\n",
       "      <td>-165.187158</td>\n",
       "      <td>105.503950</td>\n",
       "      <td>27.027756</td>\n",
       "    </tr>\n",
       "    <tr>\n",
       "      <th>4.001</th>\n",
       "      <td>-0.147108-0.038852j</td>\n",
       "      <td>-0.263887+0.952478j</td>\n",
       "      <td>0.000055+0.000028j</td>\n",
       "      <td>-16.354476</td>\n",
       "      <td>-0.101722</td>\n",
       "      <td>-84.199503</td>\n",
       "      <td>-165.205819</td>\n",
       "      <td>105.485570</td>\n",
       "      <td>27.012771</td>\n",
       "    </tr>\n",
       "    <tr>\n",
       "      <th>4.002</th>\n",
       "      <td>-0.147130-0.038806j</td>\n",
       "      <td>-0.263581+0.952561j</td>\n",
       "      <td>0.000055+0.000028j</td>\n",
       "      <td>-16.353923</td>\n",
       "      <td>-0.101735</td>\n",
       "      <td>-84.217446</td>\n",
       "      <td>-165.224480</td>\n",
       "      <td>105.467191</td>\n",
       "      <td>26.997785</td>\n",
       "    </tr>\n",
       "    <tr>\n",
       "      <th>4.003</th>\n",
       "      <td>-0.147152-0.038761j</td>\n",
       "      <td>-0.263275+0.952644j</td>\n",
       "      <td>0.000055+0.000028j</td>\n",
       "      <td>-16.353370</td>\n",
       "      <td>-0.101748</td>\n",
       "      <td>-84.235327</td>\n",
       "      <td>-165.243140</td>\n",
       "      <td>105.448812</td>\n",
       "      <td>26.982800</td>\n",
       "    </tr>\n",
       "    <tr>\n",
       "      <th>4.004</th>\n",
       "      <td>-0.147174-0.038715j</td>\n",
       "      <td>-0.262969+0.952727j</td>\n",
       "      <td>0.000055+0.000028j</td>\n",
       "      <td>-16.352819</td>\n",
       "      <td>-0.101761</td>\n",
       "      <td>-84.253149</td>\n",
       "      <td>-165.261801</td>\n",
       "      <td>105.430433</td>\n",
       "      <td>26.967815</td>\n",
       "    </tr>\n",
       "    <tr>\n",
       "      <th>...</th>\n",
       "      <td>...</td>\n",
       "      <td>...</td>\n",
       "      <td>...</td>\n",
       "      <td>...</td>\n",
       "      <td>...</td>\n",
       "      <td>...</td>\n",
       "      <td>...</td>\n",
       "      <td>...</td>\n",
       "      <td>...</td>\n",
       "    </tr>\n",
       "    <tr>\n",
       "      <th>8.996</th>\n",
       "      <td>0.005780-0.006204j</td>\n",
       "      <td>0.976020+0.217516j</td>\n",
       "      <td>-0.000039+0.000050j</td>\n",
       "      <td>-41.433315</td>\n",
       "      <td>-0.000314</td>\n",
       "      <td>-83.990805</td>\n",
       "      <td>-47.027252</td>\n",
       "      <td>12.563626</td>\n",
       "      <td>128.377355</td>\n",
       "    </tr>\n",
       "    <tr>\n",
       "      <th>8.997</th>\n",
       "      <td>0.005783-0.006260j</td>\n",
       "      <td>0.976093+0.217185j</td>\n",
       "      <td>-0.000039+0.000050j</td>\n",
       "      <td>-41.388457</td>\n",
       "      <td>-0.000317</td>\n",
       "      <td>-83.990549</td>\n",
       "      <td>-47.269117</td>\n",
       "      <td>12.544227</td>\n",
       "      <td>128.350189</td>\n",
       "    </tr>\n",
       "    <tr>\n",
       "      <th>8.998</th>\n",
       "      <td>0.005786-0.006317j</td>\n",
       "      <td>0.976166+0.216855j</td>\n",
       "      <td>-0.000039+0.000050j</td>\n",
       "      <td>-41.343861</td>\n",
       "      <td>-0.000319</td>\n",
       "      <td>-83.990273</td>\n",
       "      <td>-47.509012</td>\n",
       "      <td>12.524818</td>\n",
       "      <td>128.322852</td>\n",
       "    </tr>\n",
       "    <tr>\n",
       "      <th>8.999</th>\n",
       "      <td>0.005790-0.006373j</td>\n",
       "      <td>0.976239+0.216524j</td>\n",
       "      <td>-0.000039+0.000050j</td>\n",
       "      <td>-41.299529</td>\n",
       "      <td>-0.000322</td>\n",
       "      <td>-83.989977</td>\n",
       "      <td>-47.746983</td>\n",
       "      <td>12.505400</td>\n",
       "      <td>128.295342</td>\n",
       "    </tr>\n",
       "    <tr>\n",
       "      <th>9.000</th>\n",
       "      <td>0.005793-0.006430j</td>\n",
       "      <td>0.976312+0.216192j</td>\n",
       "      <td>-0.000039+0.000050j</td>\n",
       "      <td>-41.255465</td>\n",
       "      <td>-0.000325</td>\n",
       "      <td>-83.989660</td>\n",
       "      <td>-47.983072</td>\n",
       "      <td>12.485973</td>\n",
       "      <td>128.267657</td>\n",
       "    </tr>\n",
       "  </tbody>\n",
       "</table>\n",
       "<p>5001 rows × 9 columns</p>\n",
       "</div>"
      ],
      "text/plain": [
       "                      S11                 S21                 S31  \\\n",
       "4.000 -0.147086-0.038897j -0.264193+0.952394j  0.000055+0.000028j   \n",
       "4.001 -0.147108-0.038852j -0.263887+0.952478j  0.000055+0.000028j   \n",
       "4.002 -0.147130-0.038806j -0.263581+0.952561j  0.000055+0.000028j   \n",
       "4.003 -0.147152-0.038761j -0.263275+0.952644j  0.000055+0.000028j   \n",
       "4.004 -0.147174-0.038715j -0.262969+0.952727j  0.000055+0.000028j   \n",
       "...                   ...                 ...                 ...   \n",
       "8.996  0.005780-0.006204j  0.976020+0.217516j -0.000039+0.000050j   \n",
       "8.997  0.005783-0.006260j  0.976093+0.217185j -0.000039+0.000050j   \n",
       "8.998  0.005786-0.006317j  0.976166+0.216855j -0.000039+0.000050j   \n",
       "8.999  0.005790-0.006373j  0.976239+0.216524j -0.000039+0.000050j   \n",
       "9.000  0.005793-0.006430j  0.976312+0.216192j -0.000039+0.000050j   \n",
       "\n",
       "       20_log_of_mag_S11  20_log_of_mag_S21  20_log_of_mag_S31  degrees_S11  \\\n",
       "4.000         -16.355031          -0.101708         -84.181500  -165.187158   \n",
       "4.001         -16.354476          -0.101722         -84.199503  -165.205819   \n",
       "4.002         -16.353923          -0.101735         -84.217446  -165.224480   \n",
       "4.003         -16.353370          -0.101748         -84.235327  -165.243140   \n",
       "4.004         -16.352819          -0.101761         -84.253149  -165.261801   \n",
       "...                  ...                ...                ...          ...   \n",
       "8.996         -41.433315          -0.000314         -83.990805   -47.027252   \n",
       "8.997         -41.388457          -0.000317         -83.990549   -47.269117   \n",
       "8.998         -41.343861          -0.000319         -83.990273   -47.509012   \n",
       "8.999         -41.299529          -0.000322         -83.989977   -47.746983   \n",
       "9.000         -41.255465          -0.000325         -83.989660   -47.983072   \n",
       "\n",
       "       degrees_S21  degrees_S31  \n",
       "4.000   105.503950    27.027756  \n",
       "4.001   105.485570    27.012771  \n",
       "4.002   105.467191    26.997785  \n",
       "4.003   105.448812    26.982800  \n",
       "4.004   105.430433    26.967815  \n",
       "...            ...          ...  \n",
       "8.996    12.563626   128.377355  \n",
       "8.997    12.544227   128.350189  \n",
       "8.998    12.524818   128.322852  \n",
       "8.999    12.505400   128.295342  \n",
       "9.000    12.485973   128.267657  \n",
       "\n",
       "[5001 rows x 9 columns]"
      ]
     },
     "execution_count": 31,
     "metadata": {},
     "output_type": "execute_result"
    }
   ],
   "source": [
    "# Data is shown as degrees.  \n",
    "# However, if you want radians, change value of deg to false, deg=False.\n",
    "dataframe_scattering[0]['degrees_S11'] = np.angle(s11, deg=True)\n",
    "dataframe_scattering[0]['degrees_S21'] = np.angle(s21, deg=True)\n",
    "dataframe_scattering[0]['degrees_S31'] = np.angle(s31, deg=True)\n",
    "dataframe_scattering[0]"
   ]
  },
  {
   "cell_type": "code",
   "execution_count": 32,
   "id": "f8fc9895",
   "metadata": {},
   "outputs": [],
   "source": [
    "# Reference to current axis. \n",
    "phase = plt.figure('Phase of S11 and S21')\n",
    "plt.clf()\n",
    "axis = plt.gca() # Get current axis.\n",
    "dataframe_scattering[0].plot(kind = 'line', y='degrees_S11', color = 'green', ax = axis)\n",
    "dataframe_scattering[0].plot(kind = 'line', y='degrees_S21', color = 'blue', ax = axis)\n",
    "dataframe_scattering[0].plot(kind = 'line', y='degrees_S31', color = 'red', ax = axis)\n",
    "plt.title(f'S-Parameter Phase')\n",
    "plt.xlabel(f'frequency [GHZ]')\n",
    "plt.ylabel(f'<S11, <S21, <S31 [degrees]')\n",
    "phase.show()"
   ]
  },
  {
   "cell_type": "code",
   "execution_count": 33,
   "id": "7646293c",
   "metadata": {
    "tags": []
   },
   "outputs": [],
   "source": [
    "em1.close()"
   ]
  },
  {
   "cell_type": "code",
   "execution_count": 34,
   "id": "33de9236",
   "metadata": {},
   "outputs": [],
   "source": [
    "# Uncomment next line if you would like to close the gui\n",
    "# gui.main_window.close()"
   ]
  }
 ],
 "metadata": {
  "celltoolbar": "Tags",
  "kernelspec": {
   "display_name": "Python 3",
   "language": "python",
   "name": "python3"
  },
  "language_info": {
   "codemirror_mode": {
    "name": "ipython",
    "version": 3
   },
   "file_extension": ".py",
   "mimetype": "text/x-python",
   "name": "python",
   "nbconvert_exporter": "python",
   "pygments_lexer": "ipython3",
   "version": "3.7.8"
  }
 },
 "nbformat": 4,
 "nbformat_minor": 5
}
