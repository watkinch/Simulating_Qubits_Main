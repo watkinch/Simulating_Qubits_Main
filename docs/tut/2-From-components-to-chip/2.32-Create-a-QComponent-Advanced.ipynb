{
 "cells": [
  {
   "cell_type": "markdown",
   "metadata": {},
   "source": [
    "# Create a QComponent - Advanced"
   ]
  },
  {
   "cell_type": "code",
   "execution_count": 1,
   "metadata": {},
   "outputs": [],
   "source": [
    "from qiskit_metal import draw, Dict\n",
    "from qiskit_metal.toolbox_metal import math_and_overrides\n",
    "from qiskit_metal.qlibrary.core import QComponent\n",
    "import qiskit_metal as metal"
   ]
  },
  {
   "cell_type": "code",
   "execution_count": 2,
   "metadata": {},
   "outputs": [],
   "source": [
    "design = metal.designs.DesignPlanar()"
   ]
  },
  {
   "cell_type": "markdown",
   "metadata": {},
   "source": [
    "## Qubits and Junctions\n",
    "\n",
    "The vast majority of junction management is actually under the QRenderers. The only information that a component designer needs to provide, is a linestring and width which indicates the location and orientation of a given junction. We can see this from a couple extracted lines of code from `TransmonPocket`\n",
    "\n",
    "`...`\n",
    "\n",
    "`rect_jj = draw.LineString([(0, -pad_gap / 2), (0, +pad_gap / 2)])`\n",
    "\n",
    "`...`\n",
    "\n",
    "`self.add_qgeometry('junction', dict(rect_jj=rect_jj), width=p.inductor_width)`\n",
    "\n",
    "\n",
    "In this case, the linestring is drawn between the two charge islands of the `TransmonPocket`. Much more of the junctions options are from renderer options added when the QRenderers are initiated. These are covered more in the renderer tutorials and sessions.\n",
    "\n",
    "It should be noted, currently multiple junctions in a component will receive the same renderer options. This is fine if, say, making a symmetric SQUID, though if trying to have asymmetry, (or, say fluxonium), a manner to handled multiple junction renderer options in a component is required."
   ]
  },
  {
   "cell_type": "code",
   "execution_count": 3,
   "metadata": {},
   "outputs": [],
   "source": [
    "from qiskit_metal.qlibrary.qubits.transmon_pocket import TransmonPocket\n",
    "?TransmonPocket"
   ]
  },
  {
   "cell_type": "markdown",
   "metadata": {},
   "source": [
    "## Exteriors, Interiors, and MultiPolygons\n",
    "\n",
    "As was shown in 3.1, there is a great amount of flexibility already present in Metal for what a component can be, though as it is still in development, there are some limitations with respect to if renderers can accurately render a given shape, say, a multi-faceted polygon where some facets are composed of splines. What capabilities are currently missing and would be beneficial to be added are all part of the development process.\n",
    "\n",
    "Currently, a poly can be generated with interior cut outs, such as the smiley face previously,"
   ]
  },
  {
   "cell_type": "code",
   "execution_count": 4,
   "metadata": {},
   "outputs": [
    {
     "data": {
      "image/svg+xml": [
       "<svg xmlns=\"http://www.w3.org/2000/svg\" xmlns:xlink=\"http://www.w3.org/1999/xlink\" width=\"100.0\" height=\"100.0\" viewBox=\"-1.08 -1.08 2.16 2.16\" preserveAspectRatio=\"xMinYMin meet\"><g transform=\"matrix(1,0,0,-1,0,0.0)\"><path fill-rule=\"evenodd\" fill=\"#66cc99\" stroke=\"#555555\" stroke-width=\"0.0432\" opacity=\"0.6\" d=\"M 1.0,0.0 L 0.9951847266721969,-0.0980171403295605 L 0.9807852804032305,-0.19509032201612808 L 0.9569403357322089,-0.2902846772544621 L 0.923879532511287,-0.3826834323650894 L 0.8819212643483553,-0.4713967368259972 L 0.8314696123025456,-0.5555702330196017 L 0.7730104533627374,-0.6343932841636449 L 0.7071067811865481,-0.7071067811865469 L 0.6343932841636462,-0.7730104533627363 L 0.5555702330196031,-0.8314696123025447 L 0.4713967368259986,-0.8819212643483545 L 0.38268343236509084,-0.9238795325112863 L 0.2902846772544636,-0.9569403357322085 L 0.19509032201612964,-0.9807852804032302 L 0.09801714032956209,-0.9951847266721967 L 1.6155445744325867e-15,-1.0 L -0.09801714032955888,-0.995184726672197 L -0.19509032201612647,-0.9807852804032308 L -0.2902846772544605,-0.9569403357322095 L -0.38268343236508784,-0.9238795325112875 L -0.4713967368259957,-0.881921264348356 L -0.5555702330196005,-0.8314696123025463 L -0.6343932841636439,-0.7730104533627382 L -0.7071067811865462,-0.7071067811865489 L -0.7730104533627359,-0.6343932841636468 L -0.8314696123025443,-0.5555702330196036 L -0.8819212643483543,-0.47139673682599903 L -0.9238795325112862,-0.3826834323650911 L -0.9569403357322085,-0.29028467725446366 L -0.9807852804032302,-0.19509032201612947 L -0.9951847266721968,-0.09801714032956171 L -1.0,-1.0106430996148606e-15 L -0.9951847266721969,0.0980171403295597 L -0.9807852804032307,0.1950903220161275 L -0.956940335732209,0.2902846772544617 L -0.923879532511287,0.3826834323650892 L -0.8819212643483553,0.47139673682599725 L -0.8314696123025455,0.555570233019602 L -0.7730104533627371,0.6343932841636453 L -0.7071067811865477,0.7071067811865475 L -0.6343932841636459,0.7730104533627367 L -0.555570233019603,0.8314696123025448 L -0.4713967368259987,0.8819212643483545 L -0.38268343236509117,0.9238795325112862 L -0.2902846772544641,0.9569403357322084 L -0.1950903220161304,0.98078528040323 L -0.0980171403295631,0.9951847266721966 L -2.848232278972479e-15,1.0 L 0.09801714032955743,0.9951847266721972 L 0.1950903220161248,0.9807852804032311 L 0.29028467725445867,0.9569403357322099 L 0.3826834323650859,0.9238795325112884 L 0.47139673682599365,0.8819212643483572 L 0.5555702330195982,0.8314696123025479 L 0.6343932841636415,0.7730104533627402 L 0.7071067811865436,0.7071067811865515 L 0.7730104533627332,0.63439328416365 L 0.8314696123025418,0.5555702330196074 L 0.8819212643483519,0.4713967368260034 L 0.9238795325112841,0.38268343236509617 L 0.9569403357322067,0.29028467725446927 L 0.980785280403229,0.1950903220161357 L 0.9951847266721962,0.09801714032956847 L 1.0,8.238535137130597e-15 L 1.0,0.0 z M 0.7413029668566793,-0.3 L -0.7413029668566793,-0.3 L -0.739103626009029,-0.3061467458920729 L -0.7055370114786834,-0.37711738946079926 L -0.6651756898420356,-0.4444561864156829 L -0.6184083626901887,-0.5075146273309175 L -0.565685424949237,-0.5656854249492391 L -0.5075146273309151,-0.6184083626901906 L -0.4444561864156804,-0.6651756898420371 L -0.3771173894607966,-0.7055370114786849 L -0.3061467458920703,-0.73910362600903 L -0.23222774180356842,-0.7655522685857676 L -0.1560722576129012,-0.7846282243225846 L -0.07841371226364711,-0.7961477813377577 L 1.2924356595460695e-15,-0.8 L 0.07841371226364968,-0.7961477813377574 L 0.15607225761290372,-0.7846282243225842 L 0.2322277418035709,-0.7655522685857669 L 0.3061467458920727,-0.7391036260090291 L 0.37711738946079887,-0.7055370114786836 L 0.44445618641568246,-0.6651756898420358 L 0.5075146273309169,-0.6184083626901891 L 0.5656854249492386,-0.5656854249492376 L 0.61840836269019,-0.507514627330916 L 0.6651756898420365,-0.4444561864156814 L 0.7055370114786843,-0.37711738946079776 L 0.7391036260090296,-0.3061467458920715 L 0.7413029668566793,-0.3 z M 0.6000000000000001,0.4 L 0.6000000000000001,0.4000000000000017 L 0.5990369453344393,0.4196034280659137 L 0.5961570560806458,0.43901806440322716 L 0.5913880671464413,0.4580569354508939 L 0.5847759065022569,0.4765366864730193 L 0.5763842528696704,0.49427934736520074 L 0.5662939224605084,0.5111140466039215 L 0.5546020906725466,0.52687865683273 L 0.5414213562373087,0.5414213562373104 L 0.5268786568327284,0.5546020906725481 L 0.5111140466039197,0.5662939224605096 L 0.49427934736519874,0.5763842528696714 L 0.4765366864730172,0.5847759065022577 L 0.45805693545089177,0.591388067146442 L 0.439018064403225,0.5961570560806463 L 0.4196034280659115,0.5990369453344395 L 0.39999999999999947,0.6000000000000001 L 0.3803965719340874,0.5990369453344393 L 0.36098193559677394,0.5961570560806461 L 0.34194306454910717,0.5913880671464418 L 0.32346331352698177,0.5847759065022573 L 0.3057206526348003,0.576384252869671 L 0.2888859533960794,0.566293922460509 L 0.2731213431672708,0.5546020906725474 L 0.25857864376269046,0.5414213562373096 L 0.2453979093274526,0.526878656832729 L 0.2337060775394909,0.5111140466039205 L 0.22361574713032895,0.49427934736519946 L 0.21522409349774263,0.4765366864730179 L 0.2086119328535582,0.4580569354508924 L 0.20384294391935387,0.43901806440322555 L 0.20096305466556064,0.41960342806591194 L 0.2,0.3999999999999998 L 0.20096305466556064,0.38039657193408766 L 0.20384294391935398,0.3609819355967741 L 0.2086119328535583,0.3419430645491073 L 0.21522409349774277,0.32346331352698177 L 0.22361574713032917,0.3057206526348002 L 0.23370607753949113,0.2888859533960793 L 0.24539790932745284,0.27312134316727066 L 0.2585786437626908,0.25857864376269024 L 0.2731213431672712,0.24539790932745237 L 0.2888859533960799,0.23370607753949074 L 0.30572065263480086,0.2236157471303288 L 0.32346331352698243,0.21522409349774252 L 0.34194306454910794,0.2086119328535581 L 0.3609819355967747,0.20384294391935387 L 0.38039657193408827,0.2009630546655606 L 0.40000000000000036,0.2 L 0.41960342806591244,0.20096305466556066 L 0.43901806440322594,0.20384294391935398 L 0.45805693545089277,0.2086119328535583 L 0.47653668647301817,0.21522409349774274 L 0.49427934736519974,0.2236157471303291 L 0.5111140466039207,0.23370607753949107 L 0.5268786568327293,0.24539790932745276 L 0.5414213562373097,0.25857864376269063 L 0.5546020906725475,0.273121343167271 L 0.5662939224605091,0.2888859533960797 L 0.5763842528696711,0.3057206526348006 L 0.5847759065022574,0.32346331352698215 L 0.5913880671464418,0.3419430645491076 L 0.5961570560806462,0.3609819355967744 L 0.5990369453344394,0.38039657193408793 L 0.6000000000000001,0.4 z M -0.2,0.4 L -0.2,0.4000000000000017 L -0.20096305466556078,0.4196034280659137 L -0.2038429439193542,0.43901806440322716 L -0.20861193285355867,0.4580569354508939 L -0.21522409349774319,0.4765366864730193 L -0.2236157471303296,0.49427934736520074 L -0.23370607753949166,0.5111140466039215 L -0.24539790932745337,0.52687865683273 L -0.2585786437626913,0.5414213562373104 L -0.2731213431672717,0.5546020906725481 L -0.28888595339608036,0.5662939224605096 L -0.3057206526348013,0.5763842528696714 L -0.3234633135269828,0.5847759065022577 L -0.3419430645491083,0.591388067146442 L -0.36098193559677505,0.5961570560806463 L -0.38039657193408855,0.5990369453344395 L -0.4000000000000006,0.6000000000000001 L -0.41960342806591266,0.5990369453344393 L -0.4390180644032261,0.5961570560806461 L -0.4580569354508929,0.5913880671464418 L -0.4765366864730183,0.5847759065022573 L -0.49427934736519974,0.576384252869671 L -0.5111140466039206,0.566293922460509 L -0.5268786568327293,0.5546020906725474 L -0.5414213562373096,0.5414213562373096 L -0.5546020906725475,0.526878656832729 L -0.5662939224605091,0.5111140466039205 L -0.5763842528696711,0.49427934736519946 L -0.5847759065022574,0.4765366864730179 L -0.5913880671464419,0.4580569354508924 L -0.5961570560806462,0.43901806440322555 L -0.5990369453344394,0.41960342806591194 L -0.6000000000000001,0.3999999999999998 L -0.5990369453344394,0.38039657193408766 L -0.5961570560806461,0.3609819355967741 L -0.5913880671464418,0.3419430645491073 L -0.5847759065022573,0.32346331352698177 L -0.5763842528696709,0.3057206526348002 L -0.5662939224605089,0.2888859533960793 L -0.5546020906725472,0.27312134316727066 L -0.5414213562373092,0.25857864376269024 L -0.5268786568327288,0.24539790932745237 L -0.5111140466039201,0.23370607753949074 L -0.4942793473651992,0.2236157471303288 L -0.4765366864730176,0.21522409349774252 L -0.4580569354508921,0.2086119328535581 L -0.4390180644032253,0.20384294391935387 L -0.4196034280659118,0.2009630546655606 L -0.3999999999999997,0.2 L -0.3803965719340876,0.20096305466556066 L -0.3609819355967741,0.20384294391935398 L -0.3419430645491073,0.2086119328535583 L -0.3234633135269819,0.21522409349774274 L -0.3057206526348003,0.2236157471303291 L -0.2888859533960794,0.23370607753949107 L -0.27312134316727077,0.24539790932745276 L -0.25857864376269035,0.25857864376269063 L -0.24539790932745253,0.273121343167271 L -0.2337060775394909,0.2888859533960797 L -0.22361574713032895,0.3057206526348006 L -0.21522409349774263,0.32346331352698215 L -0.20861193285355822,0.3419430645491076 L -0.2038429439193539,0.3609819355967744 L -0.20096305466556064,0.38039657193408793 L -0.2,0.4 z\" /></g></svg>"
      ],
      "text/plain": [
       "<shapely.geometry.polygon.Polygon at 0x1632ba9c2c8>"
      ]
     },
     "execution_count": 4,
     "metadata": {},
     "output_type": "execute_result"
    }
   ],
   "source": [
    "face = draw.shapely.geometry.Point(0, 0).buffer(1)\n",
    "eye = draw.shapely.geometry.Point(0, 0).buffer(0.2)\n",
    "eye_l = draw.translate(eye, -0.4, 0.4)\n",
    "eye_r = draw.translate(eye, 0.4, 0.4)\n",
    "\n",
    "smile = draw.shapely.geometry.Point(0, 0).buffer(0.8)\n",
    "cut_sq = draw.shapely.geometry.box(-1, -0.3, 1, 1)\n",
    "smile = draw.subtract(smile, cut_sq)\n",
    "face = draw.subtract(face, smile)\n",
    "face = draw.subtract(face, eye_r)\n",
    "face = draw.subtract(face, eye_l)\n",
    "face"
   ]
  },
  {
   "cell_type": "markdown",
   "metadata": {},
   "source": [
    "This differs from qgeometries which have `subtract=True`, as that specifically sets that geometry to be \"etched\" from the ground plane. The polygon face is composed of an exterior;"
   ]
  },
  {
   "cell_type": "code",
   "execution_count": 5,
   "metadata": {},
   "outputs": [
    {
     "data": {
      "image/svg+xml": [
       "<svg xmlns=\"http://www.w3.org/2000/svg\" xmlns:xlink=\"http://www.w3.org/1999/xlink\" width=\"100.0\" height=\"100.0\" viewBox=\"-1.08 -1.08 2.16 2.16\" preserveAspectRatio=\"xMinYMin meet\"><g transform=\"matrix(1,0,0,-1,0,0.0)\"><polyline fill=\"none\" stroke=\"#66cc99\" stroke-width=\"0.0432\" points=\"1.0,0.0 0.9951847266721969,-0.0980171403295605 0.9807852804032305,-0.19509032201612808 0.9569403357322089,-0.2902846772544621 0.923879532511287,-0.3826834323650894 0.8819212643483553,-0.4713967368259972 0.8314696123025456,-0.5555702330196017 0.7730104533627374,-0.6343932841636449 0.7071067811865481,-0.7071067811865469 0.6343932841636462,-0.7730104533627363 0.5555702330196031,-0.8314696123025447 0.4713967368259986,-0.8819212643483545 0.38268343236509084,-0.9238795325112863 0.2902846772544636,-0.9569403357322085 0.19509032201612964,-0.9807852804032302 0.09801714032956209,-0.9951847266721967 1.6155445744325867e-15,-1.0 -0.09801714032955888,-0.995184726672197 -0.19509032201612647,-0.9807852804032308 -0.2902846772544605,-0.9569403357322095 -0.38268343236508784,-0.9238795325112875 -0.4713967368259957,-0.881921264348356 -0.5555702330196005,-0.8314696123025463 -0.6343932841636439,-0.7730104533627382 -0.7071067811865462,-0.7071067811865489 -0.7730104533627359,-0.6343932841636468 -0.8314696123025443,-0.5555702330196036 -0.8819212643483543,-0.47139673682599903 -0.9238795325112862,-0.3826834323650911 -0.9569403357322085,-0.29028467725446366 -0.9807852804032302,-0.19509032201612947 -0.9951847266721968,-0.09801714032956171 -1.0,-1.0106430996148606e-15 -0.9951847266721969,0.0980171403295597 -0.9807852804032307,0.1950903220161275 -0.956940335732209,0.2902846772544617 -0.923879532511287,0.3826834323650892 -0.8819212643483553,0.47139673682599725 -0.8314696123025455,0.555570233019602 -0.7730104533627371,0.6343932841636453 -0.7071067811865477,0.7071067811865475 -0.6343932841636459,0.7730104533627367 -0.555570233019603,0.8314696123025448 -0.4713967368259987,0.8819212643483545 -0.38268343236509117,0.9238795325112862 -0.2902846772544641,0.9569403357322084 -0.1950903220161304,0.98078528040323 -0.0980171403295631,0.9951847266721966 -2.848232278972479e-15,1.0 0.09801714032955743,0.9951847266721972 0.1950903220161248,0.9807852804032311 0.29028467725445867,0.9569403357322099 0.3826834323650859,0.9238795325112884 0.47139673682599365,0.8819212643483572 0.5555702330195982,0.8314696123025479 0.6343932841636415,0.7730104533627402 0.7071067811865436,0.7071067811865515 0.7730104533627332,0.63439328416365 0.8314696123025418,0.5555702330196074 0.8819212643483519,0.4713967368260034 0.9238795325112841,0.38268343236509617 0.9569403357322067,0.29028467725446927 0.980785280403229,0.1950903220161357 0.9951847266721962,0.09801714032956847 1.0,8.238535137130597e-15 1.0,0.0\" opacity=\"0.8\" /></g></svg>"
      ],
      "text/plain": [
       "<shapely.geometry.polygon.LinearRing at 0x1632bad6f48>"
      ]
     },
     "execution_count": 5,
     "metadata": {},
     "output_type": "execute_result"
    }
   ],
   "source": [
    "face.exterior"
   ]
  },
  {
   "cell_type": "markdown",
   "metadata": {},
   "source": [
    "and interiors, such as;"
   ]
  },
  {
   "cell_type": "code",
   "execution_count": 6,
   "metadata": {},
   "outputs": [
    {
     "data": {
      "image/svg+xml": [
       "<svg xmlns=\"http://www.w3.org/2000/svg\" xmlns:xlink=\"http://www.w3.org/1999/xlink\" width=\"100.0\" height=\"100.0\" viewBox=\"-0.8006072042052136 -0.8593042373485343 1.6012144084104272 0.6186084746970687\" preserveAspectRatio=\"xMinYMin meet\"><g transform=\"matrix(1,0,0,-1,0,-1.1)\"><polyline fill=\"none\" stroke=\"#66cc99\" stroke-width=\"0.03202428816820854\" points=\"0.7413029668566793,-0.3 -0.7413029668566793,-0.3 -0.739103626009029,-0.3061467458920729 -0.7055370114786834,-0.37711738946079926 -0.6651756898420356,-0.4444561864156829 -0.6184083626901887,-0.5075146273309175 -0.565685424949237,-0.5656854249492391 -0.5075146273309151,-0.6184083626901906 -0.4444561864156804,-0.6651756898420371 -0.3771173894607966,-0.7055370114786849 -0.3061467458920703,-0.73910362600903 -0.23222774180356842,-0.7655522685857676 -0.1560722576129012,-0.7846282243225846 -0.07841371226364711,-0.7961477813377577 1.2924356595460695e-15,-0.8 0.07841371226364968,-0.7961477813377574 0.15607225761290372,-0.7846282243225842 0.2322277418035709,-0.7655522685857669 0.3061467458920727,-0.7391036260090291 0.37711738946079887,-0.7055370114786836 0.44445618641568246,-0.6651756898420358 0.5075146273309169,-0.6184083626901891 0.5656854249492386,-0.5656854249492376 0.61840836269019,-0.507514627330916 0.6651756898420365,-0.4444561864156814 0.7055370114786843,-0.37711738946079776 0.7391036260090296,-0.3061467458920715 0.7413029668566793,-0.3\" opacity=\"0.8\" /></g></svg>"
      ],
      "text/plain": [
       "<shapely.geometry.polygon.LinearRing at 0x1632bad4d48>"
      ]
     },
     "execution_count": 6,
     "metadata": {},
     "output_type": "execute_result"
    }
   ],
   "source": [
    "face.interiors[0]"
   ]
  },
  {
   "cell_type": "markdown",
   "metadata": {},
   "source": [
    "A renderer must recognize the difference between these shapes, as the current QRenderers do. This allows for the component designer to generate complex shapes, without having to worry about how to add the qgeometries in any particular manner. This is also true with MultiPolygons."
   ]
  },
  {
   "cell_type": "code",
   "execution_count": 7,
   "metadata": {},
   "outputs": [
    {
     "data": {
      "image/svg+xml": [
       "<svg xmlns=\"http://www.w3.org/2000/svg\" xmlns:xlink=\"http://www.w3.org/1999/xlink\" width=\"100.0\" height=\"100.0\" viewBox=\"-5.4 -5.4 10.8 10.8\" preserveAspectRatio=\"xMinYMin meet\"><g transform=\"matrix(1,0,0,-1,0,0.0)\"><g><path fill-rule=\"evenodd\" fill=\"#66cc99\" stroke=\"#555555\" stroke-width=\"0.21600000000000003\" opacity=\"0.6\" d=\"M 5.0,-0.5 L 5.0,-5.0 L -5.0,-5.0 L -5.0,-0.5 L 5.0,-0.5 z\" /><path fill-rule=\"evenodd\" fill=\"#66cc99\" stroke=\"#555555\" stroke-width=\"0.21600000000000003\" opacity=\"0.6\" d=\"M -5.0,0.5 L -5.0,5.0 L 5.0,5.0 L 5.0,0.5 L -5.0,0.5 z\" /></g></g></svg>"
      ],
      "text/plain": [
       "<shapely.geometry.multipolygon.MultiPolygon at 0x1632b4ca688>"
      ]
     },
     "execution_count": 7,
     "metadata": {},
     "output_type": "execute_result"
    }
   ],
   "source": [
    "big_square = draw.rectangle(10,10,0,0)\n",
    "cut_rectangle = draw.rectangle(12,1,0,0)\n",
    "multi_poly = draw.subtract(big_square, cut_rectangle)\n",
    "multi_poly"
   ]
  },
  {
   "cell_type": "code",
   "execution_count": 8,
   "metadata": {},
   "outputs": [
    {
     "data": {
      "text/plain": [
       "shapely.geometry.multipolygon.MultiPolygon"
      ]
     },
     "execution_count": 8,
     "metadata": {},
     "output_type": "execute_result"
    }
   ],
   "source": [
    "type(multi_poly)"
   ]
  },
  {
   "cell_type": "markdown",
   "metadata": {},
   "source": [
    "The MultiPolygon can still just be passed to add_qgeometry as one would with a regular polygon. It is broken up behind the scenes so two separate rectangles (with the appropriate coordinates) are added to the poly qgeometry table. This is handled by the add_qgeometry method of QGeometryTables."
   ]
  },
  {
   "cell_type": "code",
   "execution_count": 9,
   "metadata": {},
   "outputs": [],
   "source": [
    "?metal.qgeometries.QGeometryTables.add_qgeometry"
   ]
  },
  {
   "cell_type": "markdown",
   "metadata": {},
   "source": [
    "This method also handles rounding of coordinates to try and avoid any numerical errors. It is called by `metal.qlibrary.core.QComponent.add_qgeometry` and should not be called directly."
   ]
  },
  {
   "cell_type": "markdown",
   "metadata": {},
   "source": [
    "## QComponent Inheritance\n",
    "\n",
    "As is the case with python classes, one can extend a given component by creating a qcomponent which inherits said class, making it a parent/child relationship. While python does support multiple inheritances, Metal may run into some bugs, so it is best to keep inheritances as single paths of heritage.\n",
    "\n",
    "A good example is `TransmonPocketCL`, which adds a \"charge line\" the a \"standard\" `TransmonPocket`. As can be seen in the below code, none of the charge islands or other connection pads are present, but will still be generated via the `super().make()` line in the `make()` method."
   ]
  },
  {
   "cell_type": "code",
   "execution_count": 10,
   "metadata": {},
   "outputs": [],
   "source": [
    "import numpy as np\n",
    "from qiskit_metal import draw, Dict\n",
    "from qiskit_metal.qlibrary.qubits.transmon_pocket import TransmonPocket\n",
    "\n",
    "\n",
    "class TransmonPocketCL(TransmonPocket):  # pylint: disable=invalid-name\n",
    "    \"\"\"\n",
    "    The base `TransmonPocketCL` class\n",
    "\n",
    "    Inherits `TransmonPocket` class\n",
    "\n",
    "    Description:\n",
    "        Create a standard pocket transmon qubit for a ground plane,\n",
    "        with two pads connected by a junction (see drawing below).\n",
    "\n",
    "        Connector lines can be added using the `connection_pads`\n",
    "        dictionary. Each connector line has a name and a list of default\n",
    "        properties.\n",
    "\n",
    "        This is a child of TransmonPocket, see TransmonPocket for the variables and\n",
    "        description of that class.\n",
    "\n",
    "    ::\n",
    "\n",
    "        _________________\n",
    "        |               |\n",
    "        |_______________|       ^\n",
    "        ________x________       |  N\n",
    "        |               |       |\n",
    "        |_______________|\n",
    "\n",
    "\n",
    "    .. image::\n",
    "        Component_Qubit_Transmon_Pocket_CL.png\n",
    "\n",
    "\n",
    "    Charge Line:\n",
    "        * make_CL (bool): If a chargeline should be included.\n",
    "        * cl_gap (string): The cpw dielectric gap of the charge line.\n",
    "        * cl_width (string): The cpw width of the charge line.\n",
    "        * cl_length (string):  The length of the charge line 'arm' coupling the the qubit pocket.\n",
    "          Measured from the base of the 90 degree bend.\n",
    "        * cl_ground_gap (string):  How much ground is present between the charge line and the\n",
    "          qubit pocket.\n",
    "        * cl_pocket_edge (string): What side of the pocket the charge line is.\n",
    "          -180 to +180 from the 'west edge', will round to the nearest 90.\n",
    "        * cl_off_center (string):  Distance from the center axis the qubit pocket is referenced to\n",
    "    \"\"\"\n",
    "    component_metadata = Dict(short_name='Q', _qgeometry_table_poly='True')\n",
    "    \"\"\"Component metadata\"\"\"\n",
    "\n",
    "    default_options = Dict(\n",
    "        make_CL=True,\n",
    "        cl_gap='6um',  # the cpw dielectric gap of the charge line\n",
    "        cl_width='10um',  # the cpw trace width of the charge line\n",
    "        # the length of the charge line 'arm' coupling the the qubit pocket.\n",
    "        cl_length='20um',\n",
    "        # Measured from the base of the 90 degree bend\n",
    "        cl_ground_gap=\n",
    "        '6um',  # how much ground between the charge line and the qubit pocket\n",
    "        # -180 to +180 from the 'left edge', will round to the nearest 90.\n",
    "        cl_pocket_edge='0',\n",
    "        cl_off_center=\n",
    "        '100um',  # distance from the center axis the qubit pocket is built on\n",
    "    )\n",
    "    \"\"\"Default drawing options\"\"\"\n",
    "\n",
    "    def make(self):\n",
    "        \"\"\"Define the way the options are turned into QGeometry.\"\"\"\n",
    "        super().make()\n",
    "\n",
    "        if self.options.make_CL == True:\n",
    "            self.make_charge_line()\n",
    "\n",
    "\n",
    "#####################################################################\n",
    "\n",
    "    def make_charge_line(self):\n",
    "        \"\"\"Creates the charge line if the user has charge line option to TRUE\n",
    "        \"\"\"\n",
    "\n",
    "        # Grab option values\n",
    "        name = 'Charge_Line'\n",
    "\n",
    "        p = self.p\n",
    "\n",
    "        cl_arm = draw.box(0, 0, -p.cl_width, p.cl_length)\n",
    "        cl_cpw = draw.box(0, 0, -8 * p.cl_width, p.cl_width)\n",
    "        cl_metal = draw.unary_union([cl_arm, cl_cpw])\n",
    "\n",
    "        cl_etcher = draw.buffer(cl_metal, p.cl_gap)\n",
    "\n",
    "        port_line = draw.LineString([(-8 * p.cl_width, 0),\n",
    "                                     (-8 * p.cl_width, p.cl_width)])\n",
    "\n",
    "        polys = [cl_metal, cl_etcher, port_line]\n",
    "\n",
    "        # Move the charge line to the side user requested\n",
    "        cl_rotate = 0\n",
    "        if (abs(p.cl_pocket_edge) > 135) or (abs(p.cl_pocket_edge) < 45):\n",
    "            polys = draw.translate(\n",
    "                polys, -(p.pocket_width / 2 + p.cl_ground_gap + p.cl_gap),\n",
    "                -(p.pad_gap + p.pad_height) / 2)\n",
    "            if (abs(p.cl_pocket_edge) > 135):\n",
    "                p.cl_rotate = 180\n",
    "        else:\n",
    "            polys = draw.translate(\n",
    "                polys, -(p.pocket_height / 2 + p.cl_groundGap + p.cl_gap),\n",
    "                -(p.pad_width) / 2)\n",
    "            cl_rotate = 90\n",
    "            if (p.cl_pocket_edge < 0):\n",
    "                cl_rotate = -90\n",
    "\n",
    "        # Rotate it to the pockets orientation\n",
    "        polys = draw.rotate(polys, p.orientation + cl_rotate, origin=(0, 0))\n",
    "\n",
    "        # Move to the final position\n",
    "        polys = draw.translate(polys, p.pos_x, p.pos_y)\n",
    "\n",
    "        [cl_metal, cl_etcher, port_line] = polys\n",
    "\n",
    "        # Generating pins\n",
    "        points = list(draw.shapely.geometry.shape(port_line).coords)\n",
    "        self.add_pin(name, points, p.cl_width)  # TODO: chip\n",
    "\n",
    "        # Adding to element table\n",
    "        self.add_qgeometry('poly', dict(cl_metal=cl_metal))\n",
    "        self.add_qgeometry('poly', dict(cl_etcher=cl_etcher), subtract=True)"
   ]
  },
  {
   "cell_type": "markdown",
   "metadata": {},
   "source": [
    "We can see this is the case by generating a TransmonPocketCL in the GUI."
   ]
  },
  {
   "cell_type": "code",
   "execution_count": 11,
   "metadata": {},
   "outputs": [],
   "source": [
    "gui = metal.MetalGUI(design)"
   ]
  },
  {
   "cell_type": "code",
   "execution_count": 12,
   "metadata": {
    "tags": [
     "nbsphinx-thumbnail"
    ]
   },
   "outputs": [
    {
     "data": {
      "image/png": "[encoded data removed]",
      "text/plain": [
       "<IPython.core.display.Image object>"
      ]
     },
     "metadata": {
      "image/png": {
       "width": 500
      }
     },
     "output_type": "display_data"
    }
   ],
   "source": [
    "my_transmon_cl = TransmonPocketCL(design,'my_transmon_cl',options=dict(connection_pads=dict(a=dict(),b=dict(loc_W=-1))))\n",
    "gui.rebuild()\n",
    "gui.autoscale()\n",
    "gui.screenshot()"
   ]
  },
  {
   "cell_type": "code",
   "execution_count": 13,
   "metadata": {},
   "outputs": [
    {
     "data": {
      "text/plain": [
       "{'pos_x': '0um',\n",
       " 'pos_y': '0um',\n",
       " 'connection_pads': {'a': {'pad_gap': '15um',\n",
       "   'pad_width': '125um',\n",
       "   'pad_height': '30um',\n",
       "   'pad_cpw_shift': '5um',\n",
       "   'pad_cpw_extent': '25um',\n",
       "   'cpw_width': 'cpw_width',\n",
       "   'cpw_gap': 'cpw_gap',\n",
       "   'cpw_extend': '100um',\n",
       "   'pocket_extent': '5um',\n",
       "   'pocket_rise': '65um',\n",
       "   'loc_W': '+1',\n",
       "   'loc_H': '+1'},\n",
       "  'b': {'pad_gap': '15um',\n",
       "   'pad_width': '125um',\n",
       "   'pad_height': '30um',\n",
       "   'pad_cpw_shift': '5um',\n",
       "   'pad_cpw_extent': '25um',\n",
       "   'cpw_width': 'cpw_width',\n",
       "   'cpw_gap': 'cpw_gap',\n",
       "   'cpw_extend': '100um',\n",
       "   'pocket_extent': '5um',\n",
       "   'pocket_rise': '65um',\n",
       "   'loc_W': -1,\n",
       "   'loc_H': '+1'}},\n",
       " 'chip': 'main',\n",
       " 'pad_gap': '30um',\n",
       " 'inductor_width': '20um',\n",
       " 'pad_width': '455um',\n",
       " 'pad_height': '90um',\n",
       " 'pocket_width': '650um',\n",
       " 'pocket_height': '650um',\n",
       " 'orientation': '0',\n",
       " 'make_CL': True,\n",
       " 'cl_gap': '6um',\n",
       " 'cl_width': '10um',\n",
       " 'cl_length': '20um',\n",
       " 'cl_ground_gap': '6um',\n",
       " 'cl_pocket_edge': '0',\n",
       " 'cl_off_center': '100um',\n",
       " 'hfss_wire_bonds': False,\n",
       " 'q3d_wire_bonds': False,\n",
       " 'hfss_inductance': '10nH',\n",
       " 'hfss_capacitance': 0,\n",
       " 'hfss_resistance': 0,\n",
       " 'hfss_mesh_kw_jj': 7e-06,\n",
       " 'q3d_inductance': '10nH',\n",
       " 'q3d_capacitance': 0,\n",
       " 'q3d_resistance': 0,\n",
       " 'q3d_mesh_kw_jj': 7e-06,\n",
       " 'gds_cell_name': 'my_other_junction'}"
      ]
     },
     "execution_count": 13,
     "metadata": {},
     "output_type": "execute_result"
    }
   ],
   "source": [
    "my_transmon_cl.options"
   ]
  },
  {
   "cell_type": "markdown",
   "metadata": {},
   "source": [
    "We can see that `my_transmon_cl` inherited the appropriate options from `TransmonPocket`, and even got the junction renderer options since its parent class does declare `_qgeometry_table_junction='True'`"
   ]
  },
  {
   "cell_type": "code",
   "execution_count": 14,
   "metadata": {},
   "outputs": [
    {
     "data": {
      "text/plain": [
       "True"
      ]
     },
     "execution_count": 14,
     "metadata": {},
     "output_type": "execute_result"
    }
   ],
   "source": [
    "gui.main_window.close()"
   ]
  }
 ],
 "metadata": {
  "celltoolbar": "Tags",
  "kernelspec": {
   "display_name": "Python 3",
   "language": "python",
   "name": "python3"
  },
  "language_info": {
   "codemirror_mode": {
    "name": "ipython",
    "version": 3
   },
   "file_extension": ".py",
   "mimetype": "text/x-python",
   "name": "python",
   "nbconvert_exporter": "python",
   "pygments_lexer": "ipython3",
   "version": "3.7.8"
  }
 },
 "nbformat": 4,
 "nbformat_minor": 4
}
