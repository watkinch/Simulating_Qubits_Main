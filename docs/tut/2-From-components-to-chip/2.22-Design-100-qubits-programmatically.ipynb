{
 "cells": [
  {
   "cell_type": "markdown",
   "metadata": {},
   "source": [
    "# Design 100 qubits programmatically"
   ]
  },
  {
   "cell_type": "markdown",
   "metadata": {},
   "source": [
    "#### Prerequisite\n",
    "A working local installation of Ansys"
   ]
  },
  {
   "cell_type": "markdown",
   "metadata": {},
   "source": [
    "## N_x by N_y grid of qubits"
   ]
  },
  {
   "cell_type": "markdown",
   "metadata": {},
   "source": [
    "A simple example of generating a large grid of qubits.\n",
    "\n",
    "Using TransmonPocket and RouteMeander, we can generate a large, varied grid array of qubits. This is not a practical design given the lack of readouts or control lines to the qubits, just an example for how to make a design algorithmically."
   ]
  },
  {
   "cell_type": "code",
   "execution_count": 1,
   "metadata": {},
   "outputs": [],
   "source": [
    "%load_ext autoreload\n",
    "%autoreload 2"
   ]
  },
  {
   "cell_type": "code",
   "execution_count": 2,
   "metadata": {},
   "outputs": [],
   "source": [
    "import qiskit_metal as metal\n",
    "from qiskit_metal import designs, MetalGUI\n",
    "from qiskit_metal import Dict, Headings"
   ]
  },
  {
   "cell_type": "code",
   "execution_count": 3,
   "metadata": {},
   "outputs": [],
   "source": [
    "design = designs.DesignPlanar()\n",
    "gui = MetalGUI(design)"
   ]
  },
  {
   "cell_type": "code",
   "execution_count": 4,
   "metadata": {},
   "outputs": [],
   "source": [
    "from qiskit_metal.qlibrary.qubits.transmon_pocket import TransmonPocket\n",
    "from qiskit_metal.qlibrary.tlines.meandered import RouteMeander"
   ]
  },
  {
   "cell_type": "code",
   "execution_count": 5,
   "metadata": {},
   "outputs": [],
   "source": [
    "design.overwrite_enabled = True"
   ]
  },
  {
   "cell_type": "markdown",
   "metadata": {},
   "source": [
    "## Design"
   ]
  },
  {
   "cell_type": "markdown",
   "metadata": {},
   "source": [
    "We can vary how big we want the grid to be by changing N_x/N_y (number of qubits along the x/y axis).\n",
    "Be careful as very large arrays can take a fair bit of time to generate. We modify the chip size so it contains all of the qubits."
   ]
  },
  {
   "cell_type": "code",
   "execution_count": 6,
   "metadata": {},
   "outputs": [],
   "source": [
    "N_x =4\n",
    "N_y =3"
   ]
  },
  {
   "cell_type": "code",
   "execution_count": 7,
   "metadata": {},
   "outputs": [],
   "source": [
    "design.chips.main.size.size_x = str((N_x+1) * 3)+'mm'\n",
    "design.chips.main.size.size_y = str((N_y+1) * 3)+'mm'\n",
    "\n",
    "design.chips.main.size.center_x = str((N_x-1) * 1.5)+'mm'\n",
    "design.chips.main.size.center_y = str((N_y-0.5) * 1.5)+'mm'"
   ]
  },
  {
   "cell_type": "markdown",
   "metadata": {},
   "source": [
    "First we generate the qubits. We use some simple math to generate the offset pattern in order to make the bus resonators easier to connect."
   ]
  },
  {
   "cell_type": "code",
   "execution_count": 8,
   "metadata": {},
   "outputs": [],
   "source": [
    "#Loop to generate and draw the qubits\n",
    "for x in range(N_x):\n",
    "    for y in range(N_y):\n",
    "        options = dict(pos_x= str(x*3000)+'um', pos_y = str(y*3000 + (x%2)*1500)+'um', orientation = \"-90\",\n",
    "                      connection_pads = dict(\n",
    "                            B0 = dict(loc_W=-1, loc_H=-1, pad_width='75um'),\n",
    "                            B1  = dict(loc_W=-1, loc_H=+1, pad_width='120um'),\n",
    "                            B2  = dict(loc_W=+1, loc_H=-1, pad_width='120um'),\n",
    "                            B3 = dict(loc_w = +1, loc_H = +1, pad_width='90um')))\n",
    "\n",
    "        \n",
    "        obj=TransmonPocket(design,'Q_'+str(x)+'_'+str(y),options)\n",
    "        \n",
    "        \n",
    "gui.rebuild()\n",
    "gui.autoscale()"
   ]
  },
  {
   "cell_type": "markdown",
   "metadata": {},
   "source": [
    "Next, we generate the route meanders. As we used consistent naming schemes for the qubits and pins, we can loop through them with out issue.\n",
    "We also have the length vary based on which qubit is being connected, such that no qubit should be connected to two resonators of the same frequency."
   ]
  },
  {
   "cell_type": "code",
   "execution_count": 9,
   "metadata": {},
   "outputs": [],
   "source": [
    "for x in range(N_x):\n",
    "    for y in range(N_y):\n",
    "        #\"upward\" connection, avoids drawing connectors for 'top' row. Changes connector length by +/-50um to avoid frequency collisions\n",
    "        if y<(N_y-1):\n",
    "            connectorAD = RouteMeander(design,'CU_'+str(x)+'_'+str(y),options = dict(total_length = str(7+(y%2)*0.5)+'mm',\n",
    "                                                                                    fillet = \"99um\",lead=dict(\n",
    "                                                                                    start_straight='0.5mm',\n",
    "                                                                                    end_straight='0.25mm'),\n",
    "                                                                                    meander = dict(asymmetry='-700um'),\n",
    "                                                                                    pin_inputs = dict(\n",
    "                                                                                        start_pin=dict(\n",
    "                                                                                            component ='Q_'+str(x)+'_'+str(y),\n",
    "                                                                                            pin = 'B0'), \n",
    "                                                                                        end_pin=dict(\n",
    "                                                                                            component='Q_'+str(x)+'_'+str(y+1),\n",
    "                                                                                            pin='B3'))))\n",
    "            \n",
    "        #\"sideways\" connection, avoids drawing for far right col, and for top qubit in odd col. Changes connector length by +/- 25um \n",
    "        #to avoid frequency collisions\n",
    "        if x<(N_x-1) and (not(x%2 and y==(N_y-1))):\n",
    "            connectorBC = RouteMeander(design,'CS_'+str(x)+'_'+str(y),options= dict(total_length = str(6+(y%2)*0.5)+'mm',\n",
    "                                                                                    fillet = \"99um\",lead=Dict(\n",
    "                                                                                        start_straight='0.3mm',\n",
    "                                                                                        end_straight='0.25mm'),\n",
    "                                                                                    meander = Dict(asymmetry='-200um'),\n",
    "                                                                                    pin_inputs = Dict(\n",
    "                                                                                        start_pin=Dict(\n",
    "                                                                                            component ='Q_'+str(x)+'_'+str(y),\n",
    "                                                                                            pin = 'B1'), \n",
    "                                                                                        end_pin=Dict(\n",
    "                                                                                            component='Q_'+str(x+1)+'_'+str(y+(x%2)),\n",
    "                                                                                             pin='B2'))))\n",
    "            \n",
    "\n",
    "gui.rebuild()\n",
    "gui.autoscale()"
   ]
  },
  {
   "cell_type": "code",
   "execution_count": 10,
   "metadata": {
    "tags": [
     "nbsphinx-thumbnail"
    ]
   },
   "outputs": [
    {
     "data": {
      "image/png": "[encoded data removed]",
      "text/plain": [
       "<IPython.core.display.Image object>"
      ]
     },
     "metadata": {
      "image/png": {
       "width": 500
      }
     },
     "output_type": "display_data"
    }
   ],
   "source": [
    "gui.screenshot()"
   ]
  },
  {
   "cell_type": "markdown",
   "metadata": {},
   "source": [
    "## Analysis"
   ]
  },
  {
   "cell_type": "markdown",
   "metadata": {},
   "source": [
    "We can quickly check if we have designed the qubits well with an LOM analysis. \n",
    "First we select the design that we want to analyse and the tool to use for any simulation."
   ]
  },
  {
   "cell_type": "code",
   "execution_count": 11,
   "metadata": {},
   "outputs": [],
   "source": [
    "from qiskit_metal.analyses.quantization import LOManalysis\n",
    "c1 = LOManalysis(design, \"q3d\")"
   ]
  },
  {
   "cell_type": "markdown",
   "metadata": {},
   "source": [
    "You can review and update the Analysis default setup following the examples in the next two cells."
   ]
  },
  {
   "cell_type": "code",
   "execution_count": 12,
   "metadata": {},
   "outputs": [
    {
     "data": {
      "text/plain": [
       "{'name': 'Setup',\n",
       " 'reuse_selected_design': True,\n",
       " 'reuse_setup': True,\n",
       " 'freq_ghz': 5.0,\n",
       " 'save_fields': False,\n",
       " 'enabled': True,\n",
       " 'max_passes': 15,\n",
       " 'min_passes': 2,\n",
       " 'min_converged_passes': 2,\n",
       " 'percent_error': 0.5,\n",
       " 'percent_refinement': 30,\n",
       " 'auto_increase_solution_order': True,\n",
       " 'solution_order': 'High',\n",
       " 'solver_type': 'Iterative'}"
      ]
     },
     "execution_count": 12,
     "metadata": {},
     "output_type": "execute_result"
    }
   ],
   "source": [
    "c1.sim.setup"
   ]
  },
  {
   "cell_type": "markdown",
   "metadata": {},
   "source": [
    "Let's change the name of the setup and increase the maximum number of passes."
   ]
  },
  {
   "cell_type": "code",
   "execution_count": 13,
   "metadata": {},
   "outputs": [
    {
     "data": {
      "text/plain": [
       "{'name': 'LOM',\n",
       " 'reuse_selected_design': True,\n",
       " 'reuse_setup': True,\n",
       " 'freq_ghz': 5.0,\n",
       " 'save_fields': False,\n",
       " 'enabled': True,\n",
       " 'max_passes': 14,\n",
       " 'min_passes': 2,\n",
       " 'min_converged_passes': 2,\n",
       " 'percent_error': 0.5,\n",
       " 'percent_refinement': 30,\n",
       " 'auto_increase_solution_order': True,\n",
       " 'solution_order': 'High',\n",
       " 'solver_type': 'Iterative'}"
      ]
     },
     "execution_count": 13,
     "metadata": {},
     "output_type": "execute_result"
    }
   ],
   "source": [
    "c1.sim.setup.name = 'LOM'\n",
    "c1.sim.setup.max_passes = 14\n",
    "\n",
    "#To change multiple settings use the following method:\n",
    "#c1.sim.setup_update(name = 'LOM', max_passes = 14)\n",
    "\n",
    "c1.sim.setup\n"
   ]
  },
  {
   "cell_type": "markdown",
   "metadata": {},
   "source": [
    "For our analysis we will pick the first qubit, Q_0_0, making sure to apply open terminations to the connection pads. The default bounding box is sufficient for a simple analysis. By passing the parameter `components` to the `sim.run()` method, the design is rendered automatically. Not passing it skips the rendering and tries to run the analysis on the latest design. If a design is not found, the full metal design is rendered."
   ]
  },
  {
   "cell_type": "code",
   "execution_count": 14,
   "metadata": {},
   "outputs": [
    {
     "name": "stderr",
     "output_type": "stream",
     "text": [
      "INFO 09:14PM [connect_project]: Connecting to Ansys Desktop API...\n",
      "INFO 09:14PM [load_ansys_project]: \tOpened Ansys App\n",
      "INFO 09:14PM [load_ansys_project]: \tOpened Ansys Desktop v2020.2.0\n",
      "INFO 09:14PM [load_ansys_project]: \tOpened Ansys Project\n",
      "\tFolder:    C:/Users/LocalAdmin/Documents/Ansoft/\n",
      "\tProject:   Project3\n",
      "INFO 09:14PM [connect_design]: No active design found (or error getting active design).\n",
      "INFO 09:14PM [connect]: \t Connected to project \"Project3\". No design detected\n",
      "INFO 09:14PM [connect_design]: \tOpened active design\n",
      "\tDesign:    Design_q3d [Solution type: Q3D]\n",
      "WARNING 09:14PM [connect_setup]: \tNo design setup detected.\n",
      "WARNING 09:14PM [connect_setup]: \tCreating Q3D default setup.\n",
      "INFO 09:14PM [get_setup]: \tOpened setup `Setup`  (<class 'pyEPR.ansys.AnsysQ3DSetup'>)\n",
      "INFO 09:14PM [get_setup]: \tOpened setup `LOM`  (<class 'pyEPR.ansys.AnsysQ3DSetup'>)\n",
      "INFO 09:14PM [analyze]: Analyzing setup LOM\n",
      "INFO 09:15PM [get_matrix]: Exporting matrix data to (C:\\Users\\LOCALA~1\\AppData\\Local\\Temp\\tmp_hlqtijq.txt, C, , LOM:LastAdaptive, \"Original\", \"ohm\", \"nH\", \"fF\", \"mSie\", 5000000000, Maxwell, 1, False\n",
      "INFO 09:15PM [get_matrix]: Exporting matrix data to (C:\\Users\\LOCALA~1\\AppData\\Local\\Temp\\tmpm6o1w2x7.txt, C, , LOM:AdaptivePass, \"Original\", \"ohm\", \"nH\", \"fF\", \"mSie\", 5000000000, Maxwell, 1, False\n",
      "INFO 09:15PM [get_matrix]: Exporting matrix data to (C:\\Users\\LOCALA~1\\AppData\\Local\\Temp\\tmp8li0tjtq.txt, C, , LOM:AdaptivePass, \"Original\", \"ohm\", \"nH\", \"fF\", \"mSie\", 5000000000, Maxwell, 2, False\n",
      "INFO 09:15PM [get_matrix]: Exporting matrix data to (C:\\Users\\LOCALA~1\\AppData\\Local\\Temp\\tmpupxqipgp.txt, C, , LOM:AdaptivePass, \"Original\", \"ohm\", \"nH\", \"fF\", \"mSie\", 5000000000, Maxwell, 3, False\n",
      "INFO 09:15PM [get_matrix]: Exporting matrix data to (C:\\Users\\LOCALA~1\\AppData\\Local\\Temp\\tmpkjbblmmc.txt, C, , LOM:AdaptivePass, \"Original\", \"ohm\", \"nH\", \"fF\", \"mSie\", 5000000000, Maxwell, 4, False\n",
      "INFO 09:15PM [get_matrix]: Exporting matrix data to (C:\\Users\\LOCALA~1\\AppData\\Local\\Temp\\tmp239ustm9.txt, C, , LOM:AdaptivePass, \"Original\", \"ohm\", \"nH\", \"fF\", \"mSie\", 5000000000, Maxwell, 5, False\n",
      "INFO 09:15PM [get_matrix]: Exporting matrix data to (C:\\Users\\LOCALA~1\\AppData\\Local\\Temp\\tmp77k7odfy.txt, C, , LOM:AdaptivePass, \"Original\", \"ohm\", \"nH\", \"fF\", \"mSie\", 5000000000, Maxwell, 6, False\n",
      "INFO 09:15PM [get_matrix]: Exporting matrix data to (C:\\Users\\LOCALA~1\\AppData\\Local\\Temp\\tmpbga72yox.txt, C, , LOM:AdaptivePass, \"Original\", \"ohm\", \"nH\", \"fF\", \"mSie\", 5000000000, Maxwell, 7, False\n",
      "INFO 09:15PM [get_matrix]: Exporting matrix data to (C:\\Users\\LOCALA~1\\AppData\\Local\\Temp\\tmppkxuaoh7.txt, C, , LOM:AdaptivePass, \"Original\", \"ohm\", \"nH\", \"fF\", \"mSie\", 5000000000, Maxwell, 8, False\n",
      "INFO 09:15PM [get_matrix]: Exporting matrix data to (C:\\Users\\LOCALA~1\\AppData\\Local\\Temp\\tmpan3h64py.txt, C, , LOM:AdaptivePass, \"Original\", \"ohm\", \"nH\", \"fF\", \"mSie\", 5000000000, Maxwell, 9, False\n",
      "INFO 09:15PM [get_matrix]: Exporting matrix data to (C:\\Users\\LOCALA~1\\AppData\\Local\\Temp\\tmperxra0to.txt, C, , LOM:AdaptivePass, \"Original\", \"ohm\", \"nH\", \"fF\", \"mSie\", 5000000000, Maxwell, 10, False\n"
     ]
    }
   ],
   "source": [
    "c1.sim.run(components=['Q_0_0'], open_terminations=[('Q_0_0', 'B0'), ('Q_0_0', 'B1'), ('Q_0_0', 'B2'), ('Q_0_0', 'B3')])"
   ]
  },
  {
   "cell_type": "markdown",
   "metadata": {},
   "source": [
    "We then use the results of that simulation to complete a LOM analysis. The input values should be modified based on the simulation passes and the set frequencies of the resonators."
   ]
  },
  {
   "cell_type": "code",
   "execution_count": 15,
   "metadata": {},
   "outputs": [
    {
     "name": "stdout",
     "output_type": "stream",
     "text": [
      "[4, 5] [6 0 1 2]\n",
      "Predicted Values\n",
      "\n",
      "Transmon Properties\n",
      "f_Q 4.738954 [GHz]\n",
      "EC 233.980931 [MHz]\n",
      "EJ 13.273404 [GHz]\n",
      "alpha -265.921577 [MHz]\n",
      "dispersion 2.961037 [KHz]\n",
      "Lq 12.305036 [nH]\n",
      "Cq 82.785499 [fF]\n",
      "T1 38.984271 [us]\n",
      "\n",
      "**Coupling Properties**\n",
      "\n",
      "tCqbus1 -14.941228 [fF]\n",
      "gbus1_in_MHz -171.865495 [MHz]\n",
      "χ_bus1 -4.093768 [MHz]\n",
      "1/T1bus1 3932.655118 [Hz]\n",
      "T1bus1 40.470099 [us]\n",
      "\n",
      "tCqbus2 1.214466 [fF]\n",
      "gbus2_in_MHz 12.829544 [MHz]\n",
      "χ_bus2 -0.046240 [MHz]\n",
      "1/T1bus2 4.837406 [Hz]\n",
      "T1bus2 32900.886145 [us]\n",
      "\n",
      "tCqbus3 7.440809 [fF]\n",
      "gbus3_in_MHz 81.008269 [MHz]\n",
      "χ_bus3 -1.413122 [MHz]\n",
      "1/T1bus3 143.085528 [Hz]\n",
      "T1bus3 1112.306360 [us]\n",
      "\n",
      "tCqbus4 -0.961558 [fF]\n",
      "gbus4_in_MHz -10.815462 [MHz]\n",
      "χ_bus4 -0.019950 [MHz]\n",
      "1/T1bus4 1.964458 [Hz]\n",
      "T1bus4 81017.238470 [us]\n",
      "Bus-Bus Couplings\n",
      "gbus1_2 30.753259 [MHz]\n",
      "gbus1_3 54.127186 [MHz]\n",
      "gbus1_4 37.699733 [MHz]\n",
      "gbus2_3 13.610983 [MHz]\n",
      "gbus2_4 18.527072 [MHz]\n",
      "gbus3_4 16.145313 [MHz]\n"
     ]
    },
    {
     "data": {
      "text/html": [
       "<div>\n",
       "<style scoped>\n",
       "    .dataframe tbody tr th:only-of-type {\n",
       "        vertical-align: middle;\n",
       "    }\n",
       "\n",
       "    .dataframe tbody tr th {\n",
       "        vertical-align: top;\n",
       "    }\n",
       "\n",
       "    .dataframe thead th {\n",
       "        text-align: right;\n",
       "    }\n",
       "</style>\n",
       "<table border=\"1\" class=\"dataframe\">\n",
       "  <thead>\n",
       "    <tr style=\"text-align: right;\">\n",
       "      <th></th>\n",
       "      <th>fQ</th>\n",
       "      <th>EC</th>\n",
       "      <th>EJ</th>\n",
       "      <th>alpha</th>\n",
       "      <th>dispersion</th>\n",
       "      <th>gbus</th>\n",
       "      <th>chi_in_MHz</th>\n",
       "      <th>χr MHz</th>\n",
       "      <th>gr MHz</th>\n",
       "    </tr>\n",
       "  </thead>\n",
       "  <tbody>\n",
       "    <tr>\n",
       "      <th>1</th>\n",
       "      <td>5.044089</td>\n",
       "      <td>267.10336</td>\n",
       "      <td>13.273404</td>\n",
       "      <td>-306.945764</td>\n",
       "      <td>11.079517</td>\n",
       "      <td>[-161.15808571895315, 9.870283884905112, 71.93...</td>\n",
       "      <td>[-5.621652036035947, -0.05004703405751782, -1....</td>\n",
       "      <td>5.621652</td>\n",
       "      <td>161.158086</td>\n",
       "    </tr>\n",
       "    <tr>\n",
       "      <th>2</th>\n",
       "      <td>4.95129</td>\n",
       "      <td>256.767469</td>\n",
       "      <td>13.273404</td>\n",
       "      <td>-294.059523</td>\n",
       "      <td>7.54795</td>\n",
       "      <td>[-146.4624487976284, 6.691015658791751, 73.940...</td>\n",
       "      <td>[-4.035714553638353, -0.01892349474338407, -1....</td>\n",
       "      <td>4.035715</td>\n",
       "      <td>146.462449</td>\n",
       "    </tr>\n",
       "    <tr>\n",
       "      <th>3</th>\n",
       "      <td>4.872128</td>\n",
       "      <td>248.132548</td>\n",
       "      <td>13.273404</td>\n",
       "      <td>-283.352888</td>\n",
       "      <td>5.376871</td>\n",
       "      <td>[-155.3563666804045, 10.251305545805131, 74.91...</td>\n",
       "      <td>[-4.042454405786888, -0.037933542547650835, -1...</td>\n",
       "      <td>4.042454</td>\n",
       "      <td>155.356367</td>\n",
       "    </tr>\n",
       "    <tr>\n",
       "      <th>4</th>\n",
       "      <td>4.846487</td>\n",
       "      <td>245.371362</td>\n",
       "      <td>13.273404</td>\n",
       "      <td>-279.940522</td>\n",
       "      <td>4.805843</td>\n",
       "      <td>[-160.4881170954147, 9.098286776764787, 76.290...</td>\n",
       "      <td>[-4.157072524571879, -0.02843345284637578, -1....</td>\n",
       "      <td>4.157073</td>\n",
       "      <td>160.488117</td>\n",
       "    </tr>\n",
       "    <tr>\n",
       "      <th>5</th>\n",
       "      <td>4.804421</td>\n",
       "      <td>240.879201</td>\n",
       "      <td>13.273404</td>\n",
       "      <td>-274.400635</td>\n",
       "      <td>3.986857</td>\n",
       "      <td>[-163.84899918863601, 10.723100629455065, 77.9...</td>\n",
       "      <td>[-4.080058098970338, -0.03646057667869494, -1....</td>\n",
       "      <td>4.080058</td>\n",
       "      <td>163.848999</td>\n",
       "    </tr>\n",
       "    <tr>\n",
       "      <th>6</th>\n",
       "      <td>4.782051</td>\n",
       "      <td>238.509452</td>\n",
       "      <td>13.273404</td>\n",
       "      <td>-271.484001</td>\n",
       "      <td>3.604898</td>\n",
       "      <td>[-166.45252998445875, 11.937440533798032, 78.9...</td>\n",
       "      <td>[-4.079413824028787, -0.04333548934732217, -1....</td>\n",
       "      <td>4.079414</td>\n",
       "      <td>166.452530</td>\n",
       "    </tr>\n",
       "    <tr>\n",
       "      <th>7</th>\n",
       "      <td>4.762294</td>\n",
       "      <td>236.427395</td>\n",
       "      <td>13.273404</td>\n",
       "      <td>-268.92477</td>\n",
       "      <td>3.295459</td>\n",
       "      <td>[-168.75220986791896, 12.216219488988354, 79.9...</td>\n",
       "      <td>[-4.0778710744752615, -0.04375451018537349, -1...</td>\n",
       "      <td>4.077871</td>\n",
       "      <td>168.752210</td>\n",
       "    </tr>\n",
       "    <tr>\n",
       "      <th>8</th>\n",
       "      <td>4.749929</td>\n",
       "      <td>235.129578</td>\n",
       "      <td>13.273404</td>\n",
       "      <td>-267.331082</td>\n",
       "      <td>3.114259</td>\n",
       "      <td>[-170.2243348027099, 12.30778022628425, 80.502...</td>\n",
       "      <td>[-4.078025496422903, -0.043416356394959575, -1...</td>\n",
       "      <td>4.078025</td>\n",
       "      <td>170.224335</td>\n",
       "    </tr>\n",
       "    <tr>\n",
       "      <th>9</th>\n",
       "      <td>4.738954</td>\n",
       "      <td>233.980931</td>\n",
       "      <td>13.273404</td>\n",
       "      <td>-265.921577</td>\n",
       "      <td>2.961037</td>\n",
       "      <td>[-171.86549487771424, 12.829544193035785, 81.0...</td>\n",
       "      <td>[-4.093768494072426, -0.04623997642648877, -1....</td>\n",
       "      <td>4.093768</td>\n",
       "      <td>171.865495</td>\n",
       "    </tr>\n",
       "  </tbody>\n",
       "</table>\n",
       "</div>"
      ],
      "text/plain": [
       "         fQ          EC         EJ       alpha dispersion  \\\n",
       "1  5.044089   267.10336  13.273404 -306.945764  11.079517   \n",
       "2   4.95129  256.767469  13.273404 -294.059523    7.54795   \n",
       "3  4.872128  248.132548  13.273404 -283.352888   5.376871   \n",
       "4  4.846487  245.371362  13.273404 -279.940522   4.805843   \n",
       "5  4.804421  240.879201  13.273404 -274.400635   3.986857   \n",
       "6  4.782051  238.509452  13.273404 -271.484001   3.604898   \n",
       "7  4.762294  236.427395  13.273404  -268.92477   3.295459   \n",
       "8  4.749929  235.129578  13.273404 -267.331082   3.114259   \n",
       "9  4.738954  233.980931  13.273404 -265.921577   2.961037   \n",
       "\n",
       "                                                gbus  \\\n",
       "1  [-161.15808571895315, 9.870283884905112, 71.93...   \n",
       "2  [-146.4624487976284, 6.691015658791751, 73.940...   \n",
       "3  [-155.3563666804045, 10.251305545805131, 74.91...   \n",
       "4  [-160.4881170954147, 9.098286776764787, 76.290...   \n",
       "5  [-163.84899918863601, 10.723100629455065, 77.9...   \n",
       "6  [-166.45252998445875, 11.937440533798032, 78.9...   \n",
       "7  [-168.75220986791896, 12.216219488988354, 79.9...   \n",
       "8  [-170.2243348027099, 12.30778022628425, 80.502...   \n",
       "9  [-171.86549487771424, 12.829544193035785, 81.0...   \n",
       "\n",
       "                                          chi_in_MHz    χr MHz      gr MHz  \n",
       "1  [-5.621652036035947, -0.05004703405751782, -1....  5.621652  161.158086  \n",
       "2  [-4.035714553638353, -0.01892349474338407, -1....  4.035715  146.462449  \n",
       "3  [-4.042454405786888, -0.037933542547650835, -1...  4.042454  155.356367  \n",
       "4  [-4.157072524571879, -0.02843345284637578, -1....  4.157073  160.488117  \n",
       "5  [-4.080058098970338, -0.03646057667869494, -1....  4.080058  163.848999  \n",
       "6  [-4.079413824028787, -0.04333548934732217, -1....  4.079414  166.452530  \n",
       "7  [-4.0778710744752615, -0.04375451018537349, -1...  4.077871  168.752210  \n",
       "8  [-4.078025496422903, -0.043416356394959575, -1...  4.078025  170.224335  \n",
       "9  [-4.093768494072426, -0.04623997642648877, -1....  4.093768  171.865495  "
      ]
     },
     "execution_count": 15,
     "metadata": {},
     "output_type": "execute_result"
    }
   ],
   "source": [
    "c1.setup.junctions = Dict({'Lj': 12.31, 'Cj': 2})\n",
    "c1.setup.freq_readout = 6.6\n",
    "c1.setup.freq_bus = [6.0, 6.2,6.4]\n",
    "\n",
    "c1.run_lom()"
   ]
  },
  {
   "cell_type": "markdown",
   "metadata": {},
   "source": [
    "Once you are done with your analysis, please close it with `close()`. This will free up resources currently occupied by qiskit-metal to communiate with the tool."
   ]
  },
  {
   "cell_type": "code",
   "execution_count": 16,
   "metadata": {},
   "outputs": [],
   "source": [
    "c1.sim.close()"
   ]
  },
  {
   "cell_type": "markdown",
   "metadata": {},
   "source": [
    "## GDS Render"
   ]
  },
  {
   "cell_type": "code",
   "execution_count": 17,
   "metadata": {},
   "outputs": [],
   "source": [
    "chip_gds = design.renderers.gds"
   ]
  },
  {
   "cell_type": "code",
   "execution_count": 18,
   "metadata": {},
   "outputs": [],
   "source": [
    "chip_gds.options['no_cheese']['buffer'] = '50um'\n",
    "chip_gds.options['path_filename'] = '../../resources/Fake_Junctions.GDS'"
   ]
  },
  {
   "cell_type": "code",
   "execution_count": 19,
   "metadata": {},
   "outputs": [
    {
     "data": {
      "text/plain": [
       "1"
      ]
     },
     "execution_count": 19,
     "metadata": {},
     "output_type": "execute_result"
    }
   ],
   "source": [
    "chip_gds.export_to_gds(\"NxN_Chip.gds\")"
   ]
  },
  {
   "cell_type": "markdown",
   "metadata": {},
   "source": [
    "We can close the GUI now that we have finished the design."
   ]
  },
  {
   "cell_type": "code",
   "execution_count": 20,
   "metadata": {},
   "outputs": [
    {
     "data": {
      "text/plain": [
       "True"
      ]
     },
     "execution_count": 20,
     "metadata": {},
     "output_type": "execute_result"
    }
   ],
   "source": [
    "gui.main_window.close()"
   ]
  }
 ],
 "metadata": {
  "celltoolbar": "Tags",
  "kernelspec": {
   "display_name": "Python 3 (ipykernel)",
   "language": "python",
   "name": "python3"
  },
  "language_info": {
   "codemirror_mode": {
    "name": "ipython",
    "version": 3
   },
   "file_extension": ".py",
   "mimetype": "text/x-python",
   "name": "python",
   "nbconvert_exporter": "python",
   "pygments_lexer": "ipython3",
   "version": "3.9.7"
  }
 },
 "nbformat": 4,
 "nbformat_minor": 4
}
