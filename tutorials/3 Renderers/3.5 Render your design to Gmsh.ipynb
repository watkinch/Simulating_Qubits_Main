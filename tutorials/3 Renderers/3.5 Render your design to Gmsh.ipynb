{
 "cells": [
  {
   "cell_type": "markdown",
   "id": "e6fb3f52-c8e0-42e8-bc5f-bbc1b7edc443",
   "metadata": {},
   "source": [
    "# Render your design to Gmsh\n",
    "This notebook demonstrates the new open-source rendering capabilities of Qiskit Metal using Gmsh for generating meshes for the design of interest. The tutorial has the following steps:\n",
    "\n",
    "## Contents\n",
    "\n",
    "### 1. Creating a Transmon coupled to a resonator in Qiskit Metal\n",
    "\n",
    "### 2. Rendering your design using `QGmshRenderer`\n",
    "- Rendering the wireframe of whole design\n",
    "- Rendering the components selectively\n",
    "- Defining open and short pins\n",
    "- Skipping junctions\n",
    "\n",
    "### 3. Meshing your design using `QGmshRenderer`\n",
    "- Applying a basic mesh to your design\n",
    "- Customizing the mesh using initial mesh size parameters\n",
    "- Using the ***Intelli-mesh*** feature\n",
    "- **Advanced:** defining your own custom meshing function\n",
    "\n",
    "### 4. Exporting your mesh to a file\n",
    "- Use `QGmshRenderer` to export the generated mesh to a file"
   ]
  },
  {
   "cell_type": "markdown",
   "id": "53155980-d117-4a08-a59c-052eb4b389aa",
   "metadata": {},
   "source": [
    "# Some necessary imports"
   ]
  },
  {
   "cell_type": "code",
   "execution_count": 14,
   "id": "127ebb29-7a7b-43ba-a342-c8ccb44a26b8",
   "metadata": {},
   "outputs": [
    {
     "name": "stdout",
     "output_type": "stream",
     "text": [
      "The autoreload extension is already loaded. To reload it, use:\n",
      "  %reload_ext autoreload\n"
     ]
    }
   ],
   "source": [
    "%load_ext autoreload\n",
    "%autoreload 2\n",
    "\n",
    "from qiskit_metal import MetalGUI, designs\n",
    "from qiskit_metal.qlibrary.qubits.transmon_pocket import TransmonPocket\n",
    "from qiskit_metal.qlibrary.tlines.meandered import RouteMeander\n",
    "from qiskit_metal.qlibrary.terminations.open_to_ground import OpenToGround"
   ]
  },
  {
   "cell_type": "code",
   "execution_count": 15,
   "id": "2e9f81bb-dcbc-461d-ad04-7095069152a6",
   "metadata": {},
   "outputs": [
    {
     "data": {
      "text/html": [
       "\n",
       "    <h1 style=\"\n",
       "        background: #12c2e9;  /* fallback for old browsers */\n",
       "        background: -webkit-linear-gradient(to right, #d4418e 0%, #0652c5 74%);  /* Chrome 10-25, Safari 5.1-6 */\n",
       "        background: linear-gradient(315deg, #d4418e 0%, #0652c5 74%); /* W3C, IE 10+/ Edge, Firefox 16+, Chrome 26+, Opera 12+, Safari 7+ */\n",
       "        margin-top: 50px;\n",
       "        border-style: outset;\n",
       "        padding-top:100px;\n",
       "        padding-bottom:50px;\n",
       "        padding-left:25px;\n",
       "        color: white;\n",
       "    \"> 1. Creating a Transmon coupled to a resonator in Qiskit Metal <h1>\n",
       "        "
      ],
      "text/plain": [
       "<IPython.core.display.HTML object>"
      ]
     },
     "metadata": {},
     "output_type": "display_data"
    }
   ],
   "source": [
    "%metal_heading 1. Creating a Transmon coupled to a resonator in Qiskit Metal"
   ]
  },
  {
   "cell_type": "code",
   "execution_count": 16,
   "id": "4c5b108d-0ffb-4ea6-a807-63b74cd7649f",
   "metadata": {},
   "outputs": [],
   "source": [
    "design = designs.MultiPlanar({}, overwrite_enabled=True)\n",
    "gui = MetalGUI(design)"
   ]
  },
  {
   "cell_type": "code",
   "execution_count": 17,
   "id": "abecc70e-54f1-43ab-a6f9-2abdadce6f40",
   "metadata": {},
   "outputs": [],
   "source": [
    "design.delete_all_components()\n",
    "\n",
    "# Making the qubit\n",
    "q_opts = dict(\n",
    "    pos_x = \"2mm\",\n",
    "    pos_y = \"2mm\",\n",
    "    connection_pads = dict(\n",
    "        readout = dict()\n",
    "    ),\n",
    "    chip=\"main\",\n",
    "    layer=1\n",
    ")\n",
    "\n",
    "q1 = TransmonPocket(design, \"Q1\", options=q_opts)\n",
    "\n",
    "# Making the open to ground\n",
    "otg_opts = dict(\n",
    "    pos_x = \"4mm\",\n",
    "    pos_y = \"2mm\",\n",
    "    chip=\"main\",\n",
    "    layer=1\n",
    ")\n",
    "\n",
    "otg1 = OpenToGround(design, \"otg1\", options=otg_opts)\n",
    "\n",
    "# Making the meandered resonator\n",
    "meander_opts1 = dict(\n",
    "    pin_inputs = dict(\n",
    "        start_pin = dict(component = \"Q1\", pin = \"readout\"),\n",
    "        end_pin = dict(component = \"otg1\", pin = \"open\")\n",
    "    ),\n",
    "    lead = dict(\n",
    "        start_straight = \"100um\"\n",
    "    ),\n",
    "    fillet = \"99.99um\",\n",
    "    asymmetry = \"100um\",\n",
    "    chip=\"main\",\n",
    "    layer=1\n",
    ")\n",
    "\n",
    "mtl1 = RouteMeander(design, \"mtl1\", options=meander_opts1)\n",
    "\n",
    "gui.rebuild()\n",
    "gui.autoscale()"
   ]
  },
  {
   "cell_type": "code",
   "execution_count": 18,
   "id": "4d4718a3-8e27-401b-a4eb-736669c27ecb",
   "metadata": {},
   "outputs": [
    {
     "data": {
      "text/html": [
       "\n",
       "    <h1 style=\"\n",
       "        background: #12c2e9;  /* fallback for old browsers */\n",
       "        background: -webkit-linear-gradient(to right, #d4418e 0%, #0652c5 74%);  /* Chrome 10-25, Safari 5.1-6 */\n",
       "        background: linear-gradient(315deg, #d4418e 0%, #0652c5 74%); /* W3C, IE 10+/ Edge, Firefox 16+, Chrome 26+, Opera 12+, Safari 7+ */\n",
       "        margin-top: 50px;\n",
       "        border-style: outset;\n",
       "        padding-top:100px;\n",
       "        padding-bottom:50px;\n",
       "        padding-left:25px;\n",
       "        color: white;\n",
       "    \"> 2. Rendering your design using `QGmshRenderer` <h1>\n",
       "        "
      ],
      "text/plain": [
       "<IPython.core.display.HTML object>"
      ]
     },
     "metadata": {},
     "output_type": "display_data"
    },
    {
     "name": "stderr",
     "output_type": "stream",
     "text": [
      "05:47PM 06s CRITICAL [_qt_message_handler]: line: 0, func: None(), file: None  WARNING: Could not create pixmap from c:\\users\f",
      "hris\\qiskit-metal\\qiskit_metal\\_gui\\styles\\metal_dark\\rc\\transparent.png\n",
      "\n",
      "05:47PM 06s CRITICAL [_qt_message_handler]: line: 0, func: None(), file: None  WARNING: Could not create pixmap from c:\\users\f",
      "hris\\qiskit-metal\\qiskit_metal\\_gui\\styles\\metal_dark\\rc\\transparent.png\n",
      "\n"
     ]
    }
   ],
   "source": [
    "%metal_heading 2. Rendering your design using `QGmshRenderer`"
   ]
  },
  {
   "cell_type": "code",
   "execution_count": 21,
   "id": "702ff24d-8576-40bc-82df-229ec72978fc",
   "metadata": {},
   "outputs": [],
   "source": [
    "from qiskit_metal.renderers.renderer_gmsh.gmsh_renderer import QGmshRenderer\n",
    "\n",
    "# Instantiate QGmshRenderer\n",
    "gmsh_renderer = QGmshRenderer(design)"
   ]
  },
  {
   "cell_type": "markdown",
   "id": "4539b491-f6d1-40f0-b40a-aa1c849f0481",
   "metadata": {},
   "source": [
    "### Rendering the wireframe of whole design"
   ]
  },
  {
   "cell_type": "code",
   "execution_count": 23,
   "id": "95ca15b0-40d0-495e-b818-9037b3240682",
   "metadata": {
    "scrolled": true,
    "tags": []
   },
   "outputs": [],
   "source": [
    "# Render the design in Gmsh (wireframe only)\n",
    "gmsh_renderer.render_design(mesh_geoms=False)\n",
    "\n",
    "# Launch Gmsh GUI to verify\n",
    "gmsh_renderer.launch_gui()"
   ]
  },
  {
   "cell_type": "markdown",
   "id": "420ed79d-dc17-424e-ada7-ba3d5ecfa213",
   "metadata": {
    "tags": []
   },
   "source": [
    "### Rendering the components selectively"
   ]
  },
  {
   "cell_type": "code",
   "execution_count": 24,
   "id": "bb8823cc-4bf0-4fc6-aeb6-8f8d866d093e",
   "metadata": {
    "scrolled": true,
    "tags": []
   },
   "outputs": [],
   "source": [
    "# Rendering the 'Q1' component\n",
    "gmsh_renderer.render_design(selection=['Q1'], mesh_geoms=False)\n",
    "gmsh_renderer.launch_gui()"
   ]
  },
  {
   "cell_type": "code",
   "execution_count": null,
   "id": "a300f0b6-5325-4cc9-b750-44615405cd72",
   "metadata": {
    "scrolled": true,
    "tags": []
   },
   "outputs": [],
   "source": [
    "# Rendering the 'mtl1' component\n",
    "gmsh_renderer.render_design(selection=['mtl1'], mesh_geoms=False)\n",
    "gmsh_renderer.launch_gui()"
   ]
  },
  {
   "cell_type": "markdown",
   "id": "e7028eb9-1186-45a9-a2f9-dea212cd8318",
   "metadata": {
    "tags": []
   },
   "source": [
    "### Defining `open_pins`"
   ]
  },
  {
   "cell_type": "code",
   "execution_count": null,
   "id": "ed4015ca-7fec-472b-bce6-10bde01f839b",
   "metadata": {
    "scrolled": true,
    "tags": []
   },
   "outputs": [],
   "source": [
    "# Rendering the 'Q1' component with open_pins\n",
    "gmsh_renderer.render_design(selection=['Q1'],\n",
    "                            open_pins=[('Q1', 'readout')],\n",
    "                            mesh_geoms=False)\n",
    "gmsh_renderer.launch_gui()"
   ]
  },
  {
   "cell_type": "markdown",
   "id": "64d9100c-2443-4eeb-a01c-3fbb75e41263",
   "metadata": {
    "tags": []
   },
   "source": [
    "### Skipping the junction"
   ]
  },
  {
   "cell_type": "code",
   "execution_count": null,
   "id": "6d12ae2e-9d4f-4d32-a1d0-61b6e0be026b",
   "metadata": {
    "scrolled": true,
    "tags": []
   },
   "outputs": [],
   "source": [
    "# Rendering the 'Q1' component without the junction\n",
    "gmsh_renderer.render_design(selection=['Q1'], mesh_geoms=False, skip_junctions=True)\n",
    "gmsh_renderer.launch_gui()"
   ]
  },
  {
   "cell_type": "code",
   "execution_count": null,
   "id": "7dc678c3-6ce2-44fe-91d6-2c0dd7c8e52d",
   "metadata": {
    "scrolled": true,
    "tags": []
   },
   "outputs": [],
   "source": [
    "%metal_heading 3. Meshing your design using `QGmshRenderer`"
   ]
  },
  {
   "cell_type": "markdown",
   "id": "a8e5da2e-3a4e-40b6-b939-f14b770e9aaa",
   "metadata": {
    "tags": []
   },
   "source": [
    "### Applying a basic mesh to your design\n",
    "Run the code below, then in the Gmsh app window do the following to see the mesh on the chip\n",
    "1. In the menu bar on top, go to `Tools > Visibility`\n",
    "1. In the visbility settings window, click on the drop-down and select `Physical Groups`\n",
    "1. Press Ctrl-key (or Command-key on MacOS) and select everything except the ones having `vacuum_box...` in their name.\n",
    "1. Click on Apply, and close the visibility settings window.\n",
    "1. In the main Gmsh window, right click and go to `Mesh Visibility`, and select the option `2D element faces`\n",
    "1. This will make your chip's mesh visible."
   ]
  },
  {
   "cell_type": "code",
   "execution_count": null,
   "id": "17eaae66-ffce-4b64-9e91-365a556e0f3b",
   "metadata": {
    "scrolled": true,
    "tags": []
   },
   "outputs": [],
   "source": [
    "# meshing the whole design\n",
    "gmsh_renderer.render_design(mesh_geoms=False)\n",
    "gmsh_renderer.add_mesh(intelli_mesh=False)\n",
    "gmsh_renderer.launch_gui()"
   ]
  },
  {
   "cell_type": "markdown",
   "id": "d936d226-fafa-4656-beb7-960ab0398743",
   "metadata": {
    "tags": []
   },
   "source": [
    "### Customizing the mesh using initial mesh size parameters\n",
    "As we can observe in the output from previous cell, the mehs nodes are very big and for small components like the junction or the CPW structures, it might not be a good approximation by having such big mesh elements. One way to make a finer mesh is to set the initial mesh size constraints like shown below:"
   ]
  },
  {
   "cell_type": "code",
   "execution_count": null,
   "id": "bd3dd266-8030-4f38-857e-9df8abaacd95",
   "metadata": {
    "scrolled": true,
    "tags": []
   },
   "outputs": [],
   "source": [
    "# Setting initial mesh size constraints (might take a while to run!!)\n",
    "# DISCLAIMER: this might also crash if your system has less than 8GB of memory\n",
    "gmsh_renderer.options.mesh.max_size = \"20um\"\n",
    "gmsh_renderer.options.mesh.min_size = \"5um\"\n",
    "gmsh_renderer.render_design(mesh_geoms=False)\n",
    "gmsh_renderer.add_mesh(intelli_mesh=False)\n",
    "gmsh_renderer.launch_gui()"
   ]
  },
  {
   "cell_type": "markdown",
   "id": "d03d3782-1e31-4413-9d59-0c80100a7f8e",
   "metadata": {
    "tags": []
   },
   "source": [
    "### Using the Intelli-mesh feature\n",
    "As we observe from the previous cell, just setting the intial mesh size constraints to a small value is very computationally intensive and requires a lot of memory. Hence, in a practical scenario we try to increase the mesh density in the regions which are of critical importance and decrease the mesh density where it does not matter much.\n",
    "\n",
    "In `QGmshRenderer`, we have a semi-automatic way of meshing the design taking the assumption that the electric and magnetic fields would always be concentrated at the edges of metals and at the metal-dielectric interfaces. This whole thing is wrapped up neatly in a feature that we call **Intelli-mesh**!"
   ]
  },
  {
   "cell_type": "code",
   "execution_count": null,
   "id": "35034ef1-8243-4e9e-a110-d628fe0c404a",
   "metadata": {
    "scrolled": true,
    "tags": []
   },
   "outputs": [],
   "source": [
    "# Intelli-mesh is ON by default and will work\n",
    "# automatically when calling the render_design() method\n",
    "gmsh_renderer.options.mesh.max_size = \"70um\"\n",
    "gmsh_renderer.options.mesh.min_size = \"5um\"\n",
    "gmsh_renderer.render_design()\n",
    "gmsh_renderer.launch_gui()"
   ]
  },
  {
   "cell_type": "markdown",
   "id": "e8405d79-d875-43fa-b081-54d03c289a99",
   "metadata": {
    "tags": []
   },
   "source": [
    "### **Advanced:** defining your own custom meshing function\n",
    "This is only for advanced users who are aware of how Gmsh works and how to specify the mesh size fields for Gmsh."
   ]
  },
  {
   "cell_type": "code",
   "execution_count": null,
   "id": "273e57ce-6cbc-4672-bdf7-61d726d6c40a",
   "metadata": {
    "tags": []
   },
   "outputs": [],
   "source": [
    "# Define a function to specify custom mesh density field across your design\n",
    "def my_custom_meshing_function():\n",
    "    \n",
    "    # Selectively increase mesh density for the following QGeometries\n",
    "    q1_top_pad = gmsh_renderer.polys_dict[1][\"Q1_pad_top\"][0]\n",
    "    q1_readout_wire = gmsh_renderer.paths_dict[1][\"Q1_readout_wire\"][0]\n",
    "    \n",
    "    # Extract surfaces from Gmsh volume tags\n",
    "    volumes_list = [q1_top_pad, q1_readout_wire]\n",
    "    surfaces = []\n",
    "    for vol in volumes_list:\n",
    "        surfaces += [tag for tag in gmsh_renderer.modeler.occ.getSurfaceLoops(vol)[1][0]]\n",
    "    \n",
    "    # Extract min and max mehs size constraints from the renderer\n",
    "    min_size = gmsh_renderer.parse_units_gmsh(gmsh_renderer.options.mesh.min_size)\n",
    "    max_size = gmsh_renderer.parse_units_gmsh(gmsh_renderer.options.mesh.max_size)\n",
    "    \n",
    "    # Define Gmsh fields\n",
    "    # Field: Distance\n",
    "    df = gmsh_renderer.modeler.mesh.field.add(\"Distance\")\n",
    "    gmsh_renderer.modeler.mesh.field.setNumbers(df, \"SurfacesList\", surfaces)\n",
    "    gmsh_renderer.modeler.mesh.field.setNumber(df, \"NumPointsPerCurve\", 100)\n",
    "    \n",
    "    # Field: Threshold\n",
    "    tf = gmsh_renderer.modeler.mesh.field.add(\"Threshold\")\n",
    "    gmsh_renderer.modeler.mesh.field.setNumber(tf, \"DistMin\", 0.01)\n",
    "    gmsh_renderer.modeler.mesh.field.setNumber(tf, \"DistMax\", 0.07)\n",
    "    gmsh_renderer.modeler.mesh.field.setNumber(tf, \"Sigmoid\", 1)\n",
    "    gmsh_renderer.modeler.mesh.field.setNumber(tf, \"InField\", df)\n",
    "    gmsh_renderer.modeler.mesh.field.setNumber(tf, \"SizeMin\", min_size)\n",
    "    gmsh_renderer.modeler.mesh.field.setNumber(tf, \"SizeMax\", max_size)\n",
    "    \n",
    "    # Set as background mesh to generate the mesh\n",
    "    gmsh_renderer.modeler.mesh.field.setAsBackgroundMesh(tf)"
   ]
  },
  {
   "cell_type": "code",
   "execution_count": null,
   "id": "c91fc158-f042-47a5-a7ac-25ca8f2972dd",
   "metadata": {
    "scrolled": true,
    "tags": []
   },
   "outputs": [],
   "source": [
    "# define initial mesh sizes\n",
    "gmsh_renderer.options.mesh.max_size = \"70um\"\n",
    "gmsh_renderer.options.mesh.min_size = \"5um\"\n",
    "\n",
    "# render design wireframe\n",
    "gmsh_renderer.render_design(selection=['Q1'], mesh_geoms=False)\n",
    "\n",
    "# Pass your custom mehsing function to add_mesh()\n",
    "gmsh_renderer.add_mesh(intelli_mesh=True, custom_mesh_fn=my_custom_meshing_function)\n",
    "gmsh_renderer.launch_gui()"
   ]
  },
  {
   "cell_type": "code",
   "execution_count": null,
   "id": "0335d32d-e247-40a5-a568-81ef9cd2ba9a",
   "metadata": {
    "scrolled": true,
    "tags": []
   },
   "outputs": [],
   "source": [
    "%metal_heading 4. Exporting your mesh to a file"
   ]
  },
  {
   "cell_type": "markdown",
   "id": "e46ea159-6748-45c3-95e3-675ece0954bb",
   "metadata": {
    "tags": []
   },
   "source": [
    "### Use `QGmshRenderer` to export the generated mesh to a file"
   ]
  },
  {
   "cell_type": "code",
   "execution_count": null,
   "id": "f4def05c-c6b8-4db4-b50e-c8c8efbc19a8",
   "metadata": {
    "scrolled": true,
    "tags": []
   },
   "outputs": [],
   "source": [
    "# Export the mesh to a file\n",
    "gmsh_renderer.export_mesh(\"test.msh\")"
   ]
  },
  {
   "cell_type": "code",
   "execution_count": null,
   "id": "c472a7ff-9a2d-4be2-be6a-fad61e94548c",
   "metadata": {
    "scrolled": true,
    "tags": []
   },
   "outputs": [],
   "source": [
    "# Close and destroy the renderer object\n",
    "gmsh_renderer.close()"
   ]
  },
  {
   "cell_type": "code",
   "execution_count": null,
   "id": "91eb8678-5dc8-478b-b20f-40b9dc35f559",
   "metadata": {},
   "outputs": [],
   "source": [
    "gui.main_window.close()"
   ]
  }
 ],
 "metadata": {
  "kernelspec": {
   "display_name": "Python 3 (ipykernel)",
   "language": "python",
   "name": "python3"
  },
  "language_info": {
   "codemirror_mode": {
    "name": "ipython",
    "version": 3
   },
   "file_extension": ".py",
   "mimetype": "text/x-python",
   "name": "python",
   "nbconvert_exporter": "python",
   "pygments_lexer": "ipython3",
   "version": "3.11.4"
  }
 },
 "nbformat": 4,
 "nbformat_minor": 5
}
