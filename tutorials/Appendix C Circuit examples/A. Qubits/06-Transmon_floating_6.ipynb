{
 "cells": [
  {
   "cell_type": "markdown",
   "metadata": {},
   "source": [
    "# Single Transmon - Floating with 6 connection pads \n",
    "\n",
    "We'll be creating a 2D design and adding a single transmon qcomponent with 6 connection pads.\n",
    "\n",
    " Create a standard pocket transmon qubit with 6 connection pads for a ground plane,\n",
    "        with two pads connected by a junction."
   ]
  },
  {
   "cell_type": "code",
   "execution_count": null,
   "metadata": {},
   "outputs": [],
   "source": [
    "# So, let us dive right in. For convenience, let's begin by enabling\n",
    "# automatic reloading of modules when they change.\n",
    "%load_ext autoreload\n",
    "%autoreload 2"
   ]
  },
  {
   "cell_type": "code",
   "execution_count": null,
   "metadata": {},
   "outputs": [],
   "source": [
    "import qiskit_metal as metal\n",
    "from qiskit_metal import designs, draw\n",
    "from qiskit_metal import MetalGUI, Dict, open_docs"
   ]
  },
  {
   "cell_type": "code",
   "execution_count": null,
   "metadata": {},
   "outputs": [],
   "source": [
    "# Each time you create a new quantum circuit design, \n",
    "# you start by instantiating a QDesign class. \n",
    "\n",
    "# The design class `DesignPlanar` is best for 2D circuit designs.\n",
    "\n",
    "design = designs.DesignPlanar()"
   ]
  },
  {
   "cell_type": "code",
   "execution_count": null,
   "metadata": {},
   "outputs": [],
   "source": [
    "#Launch Qiskit Metal GUI to interactively view, edit, and simulate QDesign: Metal GUI\n",
    "gui = MetalGUI(design)"
   ]
  },
  {
   "cell_type": "code",
   "execution_count": null,
   "metadata": {},
   "outputs": [],
   "source": [
    "# To force overwrite a QComponent with an existing name.  \n",
    "# This is useful when re-running cells in a notebook. \n",
    "design.overwrite_enabled = True"
   ]
  },
  {
   "cell_type": "markdown",
   "metadata": {},
   "source": [
    "### A transmon qubit with 6 connection pads\n",
    "You can create a ready-made transmon qubit with 6 connection pads from the QComponent Library, `qiskit_metal.qlibrary.qubits`. \n",
    "`transmon_pocket_6.py` is the file containing our qubit so `transmon_pocket_6` is the module we import. \n",
    "The `TransmonPocket6` class is our transmon qubit. Like all quantum components, `TransmonPocket6` inherits from `QComponent`. \n",
    "\n",
    " Connector lines can be added using the `connection_pads` dictionary. \n",
    " Each connector pad has a name and a list of default properties."
   ]
  },
  {
   "cell_type": "code",
   "execution_count": null,
   "metadata": {},
   "outputs": [],
   "source": [
    "from qiskit_metal.qlibrary.qubits.transmon_pocket_6 import TransmonPocket6\n",
    "\n",
    "# Be aware of the default_options that can be overridden by user.\n",
    "TransmonPocket6.get_template_options(design)"
   ]
  },
  {
   "cell_type": "code",
   "execution_count": null,
   "metadata": {},
   "outputs": [],
   "source": [
    "transmon_options = dict(\n",
    "    pos_x = '1mm',\n",
    "    pos_y = '2mm',\n",
    "    orientation = '90',\n",
    "    \n",
    "    connection_pads=dict(\n",
    "        a = dict(loc_W=+1, loc_H=-1, pad_width='70um', cpw_extend = '50um'), \n",
    "        b = dict(loc_W=-1, loc_H=-1, pad_width='125um', cpw_extend = '50um', pad_height='60um'),\n",
    "        c = dict(loc_W=+1, loc_H=+1, pad_width='110um', cpw_extend = '50um')\n",
    "    ),\n",
    "    \n",
    "    gds_cell_name='FakeJunction_01',\n",
    ")\n",
    "\n",
    "# Create a new Transmon Pocket object with name 'Q1' \n",
    "q1 = TransmonPocket6(design, 'Q1', options=transmon_options)\n",
    "\n",
    "gui.rebuild()  # rebuild the design and plot \n",
    "gui.autoscale() # resize GUI to see QComponent \n",
    "gui.zoom_on_components(['Q1']) #Can also gui.zoom_on_components([q1.name]) \n"
   ]
  },
  {
   "cell_type": "markdown",
   "metadata": {},
   "source": [
    "Let's see what the Q1 object looks like"
   ]
  },
  {
   "cell_type": "code",
   "execution_count": null,
   "metadata": {},
   "outputs": [],
   "source": [
    "q1 #print Q1 information"
   ]
  },
  {
   "cell_type": "markdown",
   "metadata": {},
   "source": [
    "Save screenshot as a .png formatted file."
   ]
  },
  {
   "cell_type": "code",
   "execution_count": null,
   "metadata": {
    "scrolled": true
   },
   "outputs": [],
   "source": [
    "gui.screenshot()"
   ]
  },
  {
   "cell_type": "code",
   "execution_count": null,
   "metadata": {
    "tags": [
     "nbsphinx-thumbnail"
    ]
   },
   "outputs": [],
   "source": [
    "# Screenshot the canvas only as a .png formatted file.\n",
    "gui.figure.savefig('shot.png')\n",
    "\n",
    "from IPython.display import Image, display\n",
    "_disp_ops = dict(width=500)\n",
    "display(Image('shot.png', **_disp_ops))\n"
   ]
  },
  {
   "cell_type": "markdown",
   "metadata": {},
   "source": [
    "## Closing the Qiskit Metal GUI"
   ]
  },
  {
   "cell_type": "code",
   "execution_count": null,
   "metadata": {},
   "outputs": [],
   "source": [
    "gui.main_window.close()"
   ]
  },
  {
   "cell_type": "code",
   "execution_count": null,
   "metadata": {},
   "outputs": [],
   "source": []
  }
 ],
 "metadata": {
  "celltoolbar": "Tags",
  "kernelspec": {
   "display_name": "Python 3",
   "language": "python",
   "name": "python3"
  },
  "language_info": {
   "codemirror_mode": {
    "name": "ipython",
    "version": 3
   },
   "file_extension": ".py",
   "mimetype": "text/x-python",
   "name": "python",
   "nbconvert_exporter": "python",
   "pygments_lexer": "ipython3",
   "version": "3.7.8"
  }
 },
 "nbformat": 4,
 "nbformat_minor": 4
}
