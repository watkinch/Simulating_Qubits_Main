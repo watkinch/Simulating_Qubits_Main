{
 "cells": [
  {
   "cell_type": "markdown",
   "id": "af4d0d2a",
   "metadata": {},
   "source": [
    "# Full Chip Designs of iSWAP Gates "
   ]
  },
  {
   "cell_type": "markdown",
   "id": "3650bd31",
   "metadata": {},
   "source": [
    "In this demo notebook, we'll go through the physical designs of three examples of iSWAP gates based on published reports in the literature. Full physical design includes the two (or more) qubits making up the iSWAP gate as well as all CPW resonators, terminations and couplers. \n",
    "\n",
    "The three specific designs that we'll go through can be found here:\n",
    "1. Phys. Rev. Appl. 10, 034050 (2018) - iSWAP gate based on one fixed-frequency qubit and one qubit with a flux-tunable frequency.  \n",
    "2. Phys. Rev. Research 2, 033447 (2020) - iSWAP gate based on two fixed-frequency qubits and a tunable coupler\n",
    "3. Phys. Rev. X 11, 021058 (2021) - iSWAP gate based on two fixed-frequency X-mon qubits and an interdigitated tunable coupler. \n",
    "\n"
   ]
  },
  {
   "cell_type": "code",
   "execution_count": null,
   "id": "7ad15f59",
   "metadata": {},
   "outputs": [],
   "source": [
    "import qiskit_metal as metal\n",
    "from qiskit_metal import designs, draw\n",
    "from qiskit_metal import MetalGUI, Dict, open_docs\n",
    "import warnings\n",
    "warnings.filterwarnings('ignore')"
   ]
  },
  {
   "cell_type": "markdown",
   "id": "7340380f",
   "metadata": {},
   "source": [
    "### Example #1: One fixed-frequency qubit and one flux-tunable qubit "
   ]
  },
  {
   "cell_type": "markdown",
   "id": "8895b1b2",
   "metadata": {},
   "source": [
    "For this iSWAP gate design, we'll need to import the concentric qubits used in the design as well as unique lumped resonators, straight transmission lines and launch pads:"
   ]
  },
  {
   "cell_type": "code",
   "execution_count": null,
   "id": "bf1237bf",
   "metadata": {},
   "outputs": [],
   "source": [
    "from qiskit_metal.qlibrary.qubits.transmon_concentric_type_2 import TransmonConcentricType2\n",
    "from qiskit_metal.qlibrary.resonator.resonator_lumped import ResonatorLumped\n",
    "from qiskit_metal.qlibrary.tlines.straight_path import RouteStraight\n",
    "from qiskit_metal.qlibrary.terminations.launchpad_wb import LaunchpadWirebond\n",
    "from qiskit_metal.qlibrary.terminations.launchpad_wb_coupled import LaunchpadWirebondCoupled"
   ]
  },
  {
   "cell_type": "code",
   "execution_count": null,
   "id": "abd3ccb3",
   "metadata": {},
   "outputs": [],
   "source": [
    "design = designs.DesignPlanar()\n",
    "gui = MetalGUI(design)"
   ]
  },
  {
   "cell_type": "markdown",
   "id": "f370f0cc",
   "metadata": {},
   "source": [
    "Let's first instantiate the six custom components; the two qubits, two launch pads and two lumped resonators: "
   ]
  },
  {
   "cell_type": "code",
   "execution_count": null,
   "id": "461856ec",
   "metadata": {},
   "outputs": [],
   "source": [
    "design.overwrite_enabled = True\n",
    "q1 = TransmonConcentricType2(design, 'qubit1', options=dict(pos_x='0.0mm',orientation='-45'))\n",
    "q2 = TransmonConcentricType2(design, 'qubit2', options=dict(pos_y='10.0mm',orientation='135'))\n",
    "res1 = ResonatorLumped(design, 'resonator1', options=dict(pos_x='10.0mm', pos_y='10.0mm',orientation='-45'))\n",
    "res2 = ResonatorLumped(design, 'resonator2', options=dict(pos_x='-10.0mm', pos_y='0.0mm',orientation='45'))\n",
    "\n",
    "pad1 = LaunchpadWirebond(design, 'P1_C', options = dict(pos_x='0mm', pos_y='-5mm', orientation='90',\n",
    "                                                        pad_width='0.5mm', pad_height='1mm', lead_length='0um'))\n",
    "\n",
    "pad2 = LaunchpadWirebond(design, 'P2_C', options = dict(pos_x='-13mm', pos_y='-5mm', orientation='90',\n",
    "                                                        pad_width='0.5mm', pad_height='1mm', lead_length='0um'))\n",
    "\n",
    "pad3 = LaunchpadWirebond(design, 'P3_C', options = dict(pos_x='15mm', pos_y='7mm', orientation='180',\n",
    "                                                        pad_width='0.5mm', pad_height='1mm', lead_length='0um'))\n",
    "gui.rebuild()\n",
    "gui.autoscale()"
   ]
  },
  {
   "cell_type": "markdown",
   "id": "3ac91079",
   "metadata": {},
   "source": [
    "Now let's connect everything with CPWs:"
   ]
  },
  {
   "cell_type": "code",
   "execution_count": null,
   "id": "609ab4ec",
   "metadata": {},
   "outputs": [],
   "source": [
    "design.variables['cpw_width'] = '0.1mm'\n",
    "\n",
    "# Connect the two qubits\n",
    "route1 = RouteStraight(design, 'route1', \n",
    "                       options=Dict(pin_inputs=Dict(start_pin=Dict(component='qubit1',pin='pin2'),\n",
    "                                end_pin=Dict(component='qubit2',pin='pin2')),\n",
    "                                       lead=Dict(start_straight='0.0mm',end_straight='0.0mm')))\n",
    "\n",
    "# Connect top qubit to lumped resonator\n",
    "route2 = RouteStraight(design, 'route2', \n",
    "                       options=Dict(pin_inputs=Dict(start_pin=Dict(component='resonator1',pin='pin_sw'),\n",
    "                                end_pin=Dict(component='qubit2',pin='pin3')),\n",
    "                                       lead=Dict(start_straight='0.0mm',end_straight='0.0mm')))\n",
    "\n",
    "# Connect bottom qubit to lumped resonator\n",
    "route3 = RouteStraight(design, 'route3', \n",
    "                       options=Dict(pin_inputs=Dict(start_pin=Dict(component='resonator2',pin='pin_se'),\n",
    "                                end_pin=Dict(component='qubit1',pin='pin3')),\n",
    "                                       lead=Dict(start_straight='0.0mm',end_straight='0.0mm')))\n",
    "\n",
    "# Connect top lumped resonator to launch pad\n",
    "route4 = RouteStraight(design, 'route4', \n",
    "                       options=Dict(pin_inputs=Dict(start_pin=Dict(component='resonator1',pin='pin_east'),\n",
    "                                end_pin=Dict(component='P3_C',pin='tie')),\n",
    "                                       lead=Dict(start_straight='1mm',end_straight='0.0mm')))\n",
    "\n",
    "# Connect bottom lumped resonator to launch pad\n",
    "route5 = RouteStraight(design, 'route5', \n",
    "                       options=Dict(pin_inputs=Dict(start_pin=Dict(component='resonator2',pin='pin_west'),\n",
    "                                end_pin=Dict(component='P2_C',pin='tie')),\n",
    "                                       lead=Dict(start_straight='1mm',end_straight='0.0mm')))\n",
    "\n",
    "from qiskit_metal.qlibrary.terminations.open_to_ground import OpenToGround\n",
    "otg11 = OpenToGround(design, 'open1i', options=dict(pos_x='0mm',  pos_y='-2.5mm', orientation='90'))\n",
    "\n",
    "# Connect bottom qubit to launch pad\n",
    "route5 = RouteStraight(design, 'route6', \n",
    "                       options=Dict(pin_inputs=Dict(start_pin=Dict(component='open1i',pin='open'),\n",
    "                                end_pin=Dict(component='P1_C',pin='tie')),\n",
    "                                       lead=Dict(start_straight='0mm',end_straight='0.0mm')))\n",
    "\n",
    "\n",
    "gui.rebuild()\n",
    "gui.autoscale()"
   ]
  },
  {
   "cell_type": "markdown",
   "id": "0b128620",
   "metadata": {},
   "source": [
    "And we're done! Here's a look at the final full chip design:"
   ]
  },
  {
   "cell_type": "code",
   "execution_count": null,
   "id": "012446b0",
   "metadata": {},
   "outputs": [],
   "source": [
    "gui.screenshot()"
   ]
  },
  {
   "cell_type": "markdown",
   "id": "75a854e6",
   "metadata": {},
   "source": [
    "### Example #2: Two fixed-frequencies transmon qubits and flux-tunable coupler "
   ]
  },
  {
   "cell_type": "markdown",
   "id": "4c4aa2de",
   "metadata": {},
   "source": [
    "First let's delete the existing objects from the previous design: "
   ]
  },
  {
   "cell_type": "code",
   "execution_count": null,
   "id": "4be658ba",
   "metadata": {},
   "outputs": [],
   "source": [
    "design.delete_all_components()\n",
    "gui.rebuild()\n",
    "gui.autoscale()"
   ]
  },
  {
   "cell_type": "markdown",
   "id": "a7c70de2",
   "metadata": {},
   "source": [
    "Now let's instantiate the six components used in this design: two transmon pocket qubits, a flux tunable qubit and three launch pads:"
   ]
  },
  {
   "cell_type": "code",
   "execution_count": null,
   "id": "d0f6aee1",
   "metadata": {},
   "outputs": [],
   "source": [
    "from qiskit_metal.qlibrary.qubits.transmon_pocket_6 import TransmonPocket6\n",
    "from qiskit_metal.qlibrary.couplers.tunable_coupler_02 import TunableCoupler02\n",
    "from qiskit_metal.qlibrary.tlines.straight_path import RouteStraight\n",
    "from qiskit_metal.qlibrary.tlines.meandered import RouteMeander\n",
    "from qiskit_metal.qlibrary.terminations.launchpad_wb import LaunchpadWirebond"
   ]
  },
  {
   "cell_type": "code",
   "execution_count": null,
   "id": "b58fdb60",
   "metadata": {},
   "outputs": [],
   "source": [
    "Q1 = TransmonPocket6(design,'Q1', options = dict(\n",
    "        pos_x='-4mm', \n",
    "        pos_y='0.0mm',\n",
    "        orientation='90',\n",
    "        pad_width='1mm',\n",
    "        pad_height='0.4mm',\n",
    "        pocket_width='1.5mm',\n",
    "        pocket_height='1.2mm',\n",
    "        pad_gap='0.05mm',\n",
    "        connection_pads = dict(\n",
    "            bus_03 = dict(loc_W=0, loc_H=-1, pad_width = '100um', pad_gap = '50um'),\n",
    "            readout = dict(loc_W=0, loc_H=1, pad_width = '100um', pad_gap = '50um'))))\n",
    "\n",
    "Q2 = TransmonPocket6(design,'Q2', options = dict(\n",
    "        pos_x='4mm', \n",
    "        pos_y='0.0mm',\n",
    "        orientation='90',\n",
    "        pad_width='1mm',\n",
    "        pad_height='0.4mm',\n",
    "        pocket_width='1.5mm',\n",
    "        pocket_height='1.2mm',\n",
    "        pad_gap='0.05mm',\n",
    "        connection_pads = dict(\n",
    "            bus_03 = dict(loc_W=0, loc_H=-1, pad_width = '100um', pad_gap = '50um'),\n",
    "            readout = dict(loc_W=0, loc_H=1, pad_width = '100um', pad_gap = '50um'))))\n",
    "\n",
    "\n",
    "TC = TunableCoupler02(design, 'TC')\n",
    "\n",
    "pad1 = LaunchpadWirebond(design, 'P1_C', options = dict(pos_x='-7mm', pos_y='0.5mm', orientation='90',\n",
    "                                                        pad_width='0.5mm', pad_height='1mm', lead_length='0um'))\n",
    "\n",
    "pad2 = LaunchpadWirebond(design, 'P2_C', options = dict(pos_x='7mm', pos_y='0.5mm', orientation='90',\n",
    "                                                        pad_width='0.5mm', pad_height='1mm', lead_length='0um'))\n",
    "\n",
    "pad3 = LaunchpadWirebond(design, 'P3_C', options = dict(pos_x='3mm', pos_y='3mm', orientation='-180',\n",
    "                                                        pad_width='0.5mm', pad_height='1mm', lead_length='0um'))\n",
    "gui.rebuild()\n",
    "gui.autoscale()"
   ]
  },
  {
   "cell_type": "markdown",
   "id": "b5757644",
   "metadata": {},
   "source": [
    "Now we can connect all of the components with CPWs:"
   ]
  },
  {
   "cell_type": "code",
   "execution_count": null,
   "id": "7beb7e90",
   "metadata": {},
   "outputs": [],
   "source": [
    "design.variables['cpw_width'] = '0.01mm'\n",
    "\n",
    "# Connect the two qubits\n",
    "route1 = RouteStraight(design, 'route1', \n",
    "                       options=Dict(pin_inputs=Dict(start_pin=Dict(component='Q1',pin='bus_03'),\n",
    "                                end_pin=Dict(component='TC',pin='pin2')),\n",
    "                                       lead=Dict(start_straight='0.0mm',end_straight='0.0mm')))\n",
    "\n",
    "route2 = RouteStraight(design, 'route2', \n",
    "                       options=Dict(pin_inputs=Dict(start_pin=Dict(component='Q2',pin='readout'),\n",
    "                                end_pin=Dict(component='TC',pin='pin1')),\n",
    "                                       lead=Dict(start_straight='0.0mm',end_straight='0.0mm')))\n",
    "\n",
    "route3 = RouteStraight(design, 'route3', \n",
    "                       options=Dict(pin_inputs=Dict(start_pin=Dict(component='P3_C',pin='tie'),\n",
    "                                end_pin=Dict(component='TC',pin='fbl')),\n",
    "                                       lead=Dict(start_straight='3.4mm',end_straight='0.0mm'),\n",
    "                                   fillet='90um'))\n",
    "\n",
    "route4 = RouteMeander(design, 'route4', \n",
    "                       options=Dict(pin_inputs=Dict(start_pin=Dict(component='Q1',pin='readout'),\n",
    "                                end_pin=Dict(component='P1_C',pin='tie')),\n",
    "                                       lead=Dict(start_straight='0mm',end_straight='0.5mm'), \n",
    "                                   meander=Dict(asymmetry='0mm'),\n",
    "                                   total_length='10mm',\n",
    "                                   fillet='90um'))\n",
    "\n",
    "route5 = RouteMeander(design, 'route5', \n",
    "                       options=Dict(pin_inputs=Dict(start_pin=Dict(component='Q2',pin='bus_03'),\n",
    "                                end_pin=Dict(component='P2_C',pin='tie')),\n",
    "                                       lead=Dict(start_straight='0mm',end_straight='0.5mm'), \n",
    "                                   meander=Dict(asymmetry='0mm'),\n",
    "                                   total_length='10mm',\n",
    "                                   fillet='90um'))\n",
    "\n",
    "gui.rebuild()\n",
    "gui.autoscale()"
   ]
  },
  {
   "cell_type": "markdown",
   "id": "4cc2b64f",
   "metadata": {},
   "source": [
    "Here's a look at the final, complete design:"
   ]
  },
  {
   "cell_type": "code",
   "execution_count": null,
   "id": "b017396e",
   "metadata": {},
   "outputs": [],
   "source": [
    "gui.screenshot()"
   ]
  },
  {
   "cell_type": "markdown",
   "id": "0dd3c804",
   "metadata": {},
   "source": [
    "The above design closely matches the chip design depicted in Fig. 1 of Phys. Rev. Research 2, 033447 (2020). "
   ]
  },
  {
   "cell_type": "markdown",
   "id": "017a63ec",
   "metadata": {},
   "source": [
    "### Example #3: Two Fixed-Frequency Xmon Qubits with a Tunable Coupler "
   ]
  },
  {
   "cell_type": "markdown",
   "id": "36c8aaf6",
   "metadata": {},
   "source": [
    "This third example is similar to the preceeding 3-qubit design but uses Xmon qubits (instead of transmon pocket qubits) and in interdigitated capacitive coupler. We will again start by deleting the previous design. "
   ]
  },
  {
   "cell_type": "code",
   "execution_count": null,
   "id": "0ea8ec1c",
   "metadata": {},
   "outputs": [],
   "source": [
    "design.delete_all_components()\n",
    "gui.rebuild()\n",
    "gui.autoscale()"
   ]
  },
  {
   "cell_type": "code",
   "execution_count": null,
   "id": "6a037406",
   "metadata": {},
   "outputs": [],
   "source": [
    "from qiskit_metal.qlibrary.couplers.tunable_coupler_01 import TunableCoupler01\n",
    "from qiskit_metal.qlibrary.qubits.transmon_cross_fl import TransmonCrossFL\n",
    "from qiskit_metal.qlibrary.terminations.launchpad_wb import LaunchpadWirebond"
   ]
  },
  {
   "cell_type": "code",
   "execution_count": null,
   "id": "8835859c",
   "metadata": {},
   "outputs": [],
   "source": [
    "design.overwrite_enabled = True\n",
    "design.chips.main"
   ]
  },
  {
   "cell_type": "markdown",
   "id": "76802cdf",
   "metadata": {},
   "source": [
    "We will first place the two X-mon qubits with the flux-tunable coupler located between them:"
   ]
  },
  {
   "cell_type": "code",
   "execution_count": null,
   "id": "8ac2b9ec",
   "metadata": {},
   "outputs": [],
   "source": [
    "xmon_options1 = dict(\n",
    "    connection_pads=dict(\n",
    "        #a = dict( connector_location = '0', connector_type = '0'), \n",
    "        b = dict(connector_location = '90', connector_type = '1'),\n",
    "        c = dict(connector_location = '180', connector_type = '0'),\n",
    "    ),\n",
    "    pos_x='0.3mm',\n",
    ")\n",
    "\n",
    "xmon_options2 = dict(\n",
    "    connection_pads=dict(\n",
    "        #a = dict( connector_location = '0', connector_type = '0'), \n",
    "        b = dict(connector_location = '90', connector_type = '1'),\n",
    "        c = dict(connector_location = '180', connector_type = '0'),\n",
    "    ),\n",
    "    pos_x='-0.3mm',\n",
    "    orientation='180',\n",
    ")\n",
    "\n",
    "# Create a new Transmon Cross object with name 'Q1' \n",
    "q1 = TransmonCrossFL(design, 'Q1', options=xmon_options1)\n",
    "q2 = TransmonCrossFL(design, 'Q2', options=xmon_options2)\n",
    "\n",
    "TC = TunableCoupler01(design, \"TC\", options = dict(pos_y='0.15mm', a_height='100um'))\n",
    "\n",
    "gui.rebuild()\n",
    "gui.autoscale()"
   ]
  },
  {
   "cell_type": "markdown",
   "id": "3df6df33",
   "metadata": {},
   "source": [
    "Next, we will place the launch pads:"
   ]
  },
  {
   "cell_type": "code",
   "execution_count": null,
   "id": "e9509472",
   "metadata": {},
   "outputs": [],
   "source": [
    "T_west = LaunchpadWirebond(design, 'T_west', options=dict(\n",
    "    pos_x='-1.5mm',\n",
    "    pos_y='0.0mm',\n",
    "))\n",
    "\n",
    "T_east = LaunchpadWirebond(design, 'T_east', options=dict(\n",
    "    pos_x='1.5mm',\n",
    "    pos_y='0.0mm',\n",
    "    orientation='180',\n",
    "))\n",
    "\n",
    "T_NE = LaunchpadWirebond(design, 'T_NE', options=dict(\n",
    "    pos_x='0.5mm',\n",
    "    pos_y='1mm',\n",
    "    orientation='-90',\n",
    "))\n",
    "\n",
    "T_NW = LaunchpadWirebond(design, 'T_NW', options=dict(\n",
    "    pos_x='-0.5mm',\n",
    "    pos_y='1mm',\n",
    "    orientation='-90',\n",
    "))\n",
    "\n",
    "T_SW = LaunchpadWirebond(design, 'T_SW', options=dict(\n",
    "    pos_x='-0.5mm',\n",
    "    pos_y='-1mm',\n",
    "    orientation='90',\n",
    "))\n",
    "\n",
    "T_SE = LaunchpadWirebond(design, 'T_SE', options=dict(\n",
    "    pos_x='0.5mm',\n",
    "    pos_y='-1mm',\n",
    "    orientation='90',\n",
    "))\n",
    "\n",
    "gui.rebuild()\n",
    "gui.autoscale()"
   ]
  },
  {
   "cell_type": "markdown",
   "id": "1519e946",
   "metadata": {},
   "source": [
    "Next we'll import the relevant routing modules:"
   ]
  },
  {
   "cell_type": "code",
   "execution_count": null,
   "id": "8a63c40d",
   "metadata": {},
   "outputs": [],
   "source": [
    "from qiskit_metal.qlibrary.tlines.meandered import RouteMeander\n",
    "from qiskit_metal.qlibrary.tlines.anchored_path import RouteAnchors\n",
    "from qiskit_metal.qlibrary.tlines.pathfinder import RoutePathfinder\n",
    "from qiskit_metal.qlibrary.tlines.straight_path import RouteStraight\n",
    "from qiskit_metal.qlibrary.tlines.framed_path import RouteFramed\n",
    "from qiskit_metal.qlibrary.tlines.mixed_path import RouteMixed"
   ]
  },
  {
   "cell_type": "markdown",
   "id": "4779a0eb",
   "metadata": {},
   "source": [
    "We'll create the straight routing segments first, which connect the top/bottom launch pads with the qubits and coupler:"
   ]
  },
  {
   "cell_type": "code",
   "execution_count": null,
   "id": "40bd24be",
   "metadata": {},
   "outputs": [],
   "source": [
    "route1 = RouteStraight(design, 'cpw_1', \n",
    "                       options=Dict(pin_inputs=Dict(start_pin=Dict(component='Q1',pin='flux_line'),\n",
    "                                end_pin=Dict(component='T_SE',pin='tie')),\n",
    "                                       lead=Dict(start_straight='0.25mm',end_straight='0.25mm')))\n",
    "\n",
    "route2 = RouteStraight(design, 'cpw_2', \n",
    "                       options=Dict(pin_inputs=Dict(start_pin=Dict(component='Q2',pin='b'),\n",
    "                                end_pin=Dict(component='T_SW',pin='tie')),\n",
    "                                       lead=Dict(start_straight='0.25mm',end_straight='0.25mm')))\n",
    "\n",
    "route3 = RouteStraight(design, 'cpw_3', \n",
    "                       options=Dict(pin_inputs=Dict(start_pin=Dict(component='Q1',pin='b'),\n",
    "                                end_pin=Dict(component='T_NE',pin='tie')),\n",
    "                                       lead=Dict(start_straight='0.25mm',end_straight='0.25mm')))\n",
    "\n",
    "route4 = RouteStraight(design, 'cpw_4', \n",
    "                       options=Dict(pin_inputs=Dict(start_pin=Dict(component='TC',pin='Flux'),\n",
    "                                end_pin=Dict(component='T_NW',pin='tie')),\n",
    "                                       lead=Dict(start_straight='0.25mm',end_straight='0.25mm')))\n",
    "\n",
    "gui.rebuild()\n",
    "gui.autoscale()"
   ]
  },
  {
   "cell_type": "markdown",
   "id": "4f8ba5ef",
   "metadata": {},
   "source": [
    "Next we'll create the east-west transmission line connecting the east/west launch pads:"
   ]
  },
  {
   "cell_type": "code",
   "execution_count": null,
   "id": "485e1ad4",
   "metadata": {},
   "outputs": [],
   "source": [
    "from collections import OrderedDict\n",
    "jogs = OrderedDict()\n",
    "jogs[0] = [\"R\", '0.5mm']\n",
    "jogs[1] = [45, '0.5mm']\n",
    "jogs[2] = [45, '1.75mm']\n",
    "jogs[3] = [45, '0.5mm']\n",
    "jogs[4] = [45, '0.5mm']\n",
    "jogs[5] = [\"R\", '0.5mm']\n",
    "\n",
    "options = Dict(\n",
    "    total_length= '4.75mm',\n",
    "    pin_inputs=Dict(\n",
    "        start_pin=Dict(\n",
    "            component= 'T_east',\n",
    "            pin= 'tie'),\n",
    "        end_pin=Dict(\n",
    "            component= 'T_west',\n",
    "            pin= 'tie')),\n",
    "    lead=Dict(\n",
    "        start_straight='0.25mm',\n",
    "        end_straight='0.1mm',\n",
    "        start_jogged_extension=jogs),\n",
    "        #start_jogged_extension=jogs,\n",
    "        #end_jogged_extension=jogs),\n",
    "    meander=Dict(\n",
    "       asymmetry='0.0mm')\n",
    ")\n",
    "\n",
    "\n",
    "cpw5 = RouteMeander(design,'tline', options=options)\n",
    "#cpw5 = RouteStraight(design,options=options)\n",
    "gui.rebuild()\n",
    "gui.autoscale()"
   ]
  },
  {
   "cell_type": "markdown",
   "id": "bf600b14",
   "metadata": {},
   "source": [
    "Some of the CPWs are capacitively coupled to the main transmission line, so we will create several open-to-grounds at the appropriate locations for our CPWs to terminate:"
   ]
  },
  {
   "cell_type": "code",
   "execution_count": null,
   "id": "b6f4662c",
   "metadata": {},
   "outputs": [],
   "source": [
    "from qiskit_metal.qlibrary.terminations.open_to_ground import OpenToGround\n",
    "otg1 = OpenToGround(design, 'open1', options=dict(pos_x='0.25mm',  pos_y='0.8mm', orientation='0'))\n",
    "otg2 = OpenToGround(design, 'open2', options=dict(pos_x='1.1mm',  pos_y='0.0mm', orientation='-90'))\n",
    "otg3 = OpenToGround(design, 'open3', options=dict(pos_x='-1.1mm',  pos_y='0.0mm', orientation='90'))\n",
    "gui.rebuild()\n",
    "gui.autoscale()"
   ]
  },
  {
   "cell_type": "markdown",
   "id": "d6d0c000",
   "metadata": {},
   "source": [
    "Now we can route the meandering CPWs to create the capacitive coupling between the qubits/coupler and the main transmission line:"
   ]
  },
  {
   "cell_type": "code",
   "execution_count": null,
   "id": "d76c12ab",
   "metadata": {},
   "outputs": [],
   "source": [
    "options2 = Dict(\n",
    "    fillet='40um',\n",
    "    total_length= '1.5mm',\n",
    "    pin_inputs=Dict(\n",
    "        start_pin=Dict(\n",
    "            component= 'TC',\n",
    "            pin= 'Control'),\n",
    "        end_pin=Dict(\n",
    "            component= 'open1',\n",
    "            pin= 'open')),\n",
    "    lead=Dict(\n",
    "        start_straight='0.1mm',\n",
    "        end_straight='0.1mm'),\n",
    "    meander=Dict(\n",
    "        spacing='90um',\n",
    "        asymmetry='0mm')\n",
    ")\n",
    "\n",
    "coupler_middle = RouteMeander(design,'coupler_mid', options=options2)\n",
    "\n",
    "options_right = Dict(\n",
    "    fillet='40um',\n",
    "    total_length= '2mm',\n",
    "    pin_inputs=Dict(\n",
    "        start_pin=Dict(\n",
    "            component= 'Q1',\n",
    "            pin= 'c'),\n",
    "        end_pin=Dict(\n",
    "            component= 'open2',\n",
    "            pin= 'open')),\n",
    "    lead=Dict(\n",
    "        start_straight='0.1mm',\n",
    "        end_straight='0.1mm'),\n",
    "    meander=Dict(\n",
    "        spacing='90um',\n",
    "        asymmetry='0mm')\n",
    ")\n",
    "\n",
    "coupler_right = RouteMeander(design,'coupler_right', options=options_right)\n",
    "\n",
    "options_left = Dict(\n",
    "    fillet='40um',\n",
    "    total_length= '2mm',\n",
    "    pin_inputs=Dict(\n",
    "        start_pin=Dict(\n",
    "            component= 'Q2',\n",
    "            pin= 'c'),\n",
    "        end_pin=Dict(\n",
    "            component= 'open3',\n",
    "            pin= 'open')),\n",
    "    lead=Dict(\n",
    "        start_straight='0.1mm',\n",
    "        end_straight='0.1mm'),\n",
    "    meander=Dict(\n",
    "        spacing='90um',\n",
    "        asymmetry='0mm')\n",
    ")\n",
    "\n",
    "coupler_left = RouteMeander(design,'coupler_left', options=options_left)\n",
    "\n",
    "gui.rebuild()\n",
    "gui.autoscale()"
   ]
  },
  {
   "cell_type": "markdown",
   "id": "2f88b332",
   "metadata": {},
   "source": [
    "Now the full chip design is complete. Here is a screenshot of the final design:"
   ]
  },
  {
   "cell_type": "code",
   "execution_count": null,
   "id": "df887a2f",
   "metadata": {},
   "outputs": [],
   "source": [
    "gui.screenshot()"
   ]
  },
  {
   "cell_type": "markdown",
   "id": "3b8920c5",
   "metadata": {},
   "source": [
    "The above design looks very similar to the chip shown in Fig. 1 of Phys. Rev. X 11, 021058 (2021.)"
   ]
  }
 ],
 "metadata": {
  "kernelspec": {
   "display_name": "metal_qamp_v2",
   "language": "python",
   "name": "metal_qamp_v2"
  },
  "language_info": {
   "codemirror_mode": {
    "name": "ipython",
    "version": 3
   },
   "file_extension": ".py",
   "mimetype": "text/x-python",
   "name": "python",
   "nbconvert_exporter": "python",
   "pygments_lexer": "ipython3",
   "version": "3.10.5"
  }
 },
 "nbformat": 4,
 "nbformat_minor": 5
}
