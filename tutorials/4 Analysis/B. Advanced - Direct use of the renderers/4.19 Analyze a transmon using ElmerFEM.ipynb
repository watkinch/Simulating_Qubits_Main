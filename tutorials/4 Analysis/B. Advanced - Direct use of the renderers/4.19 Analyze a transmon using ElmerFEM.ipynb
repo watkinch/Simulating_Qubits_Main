{
 "cells": [
  {
   "cell_type": "markdown",
   "id": "075bd937-5d0c-4e29-8351-faa413a5f7d1",
   "metadata": {},
   "source": [
    "# Analyse a Transmon Qubit using ElmerFEM\n",
    "This notebook demonstrates the new open-source rendering and simulation capabilities of Qiskit Metal using `Gmsh` and `ElmerFEM` for tuning the performance parameters of a transmon qubit. instructions to download and install this branch of Qiskit Metal with Gmsh and ElmerFEM, can he found [here](https://github.com/Qiskit/qiskit-metal/blob/elmer_renderer/tutorials/4%20Analysis/B.%20Advanced%20-%20Direct%20use%20of%20the%20renderers/Gmsh-Elmer-install-instructions.md) The tutorial has the following steps:\n",
    "\n",
    "## Contents\n",
    "### 1. Creating a Transmon Qubit in Qiskit Metal\n",
    "### 2. Rendering and meshing your design in the `QGmshRenderer`\n",
    "- Rendering the design wireframe\n",
    "- Applying a basic mesh\n",
    "- Customizing the mesh\n",
    "    - Setting initial mesh size parameters\n",
    "    - Using the Intelli-mesh feature in `QGmshRenderer`\n",
    "- Saving your mesh to a file\n",
    "\n",
    "### 3. Rendering your design in `QElmerRenderer` (uses `QGmshRenderer`)\n",
    "- Render design and generate mesh\n",
    "- Export the mesh\n",
    "- Run the capacitance simulation\n",
    "    - Add solution setup\n",
    "    - Run the solver\n",
    "    - Export capacitance matrix\n",
    "\n",
    "### 4. Perform LOM 2.0 Analysis\n",
    "- Import the capacitance matrix\n",
    "- Define cells and subsystems\n",
    "- Define the composite system\n",
    "- Compute the results:\n",
    "    - Qubit Frequency ($f_Q$)\n",
    "    - Anharmonicity ($\\alpha$)\n",
    "    - Readout $\\chi$\n",
    "    - Coupling $g$"
   ]
  },
  {
   "cell_type": "markdown",
   "id": "be3cbb43-2c24-4139-b690-1d56047a03c5",
   "metadata": {},
   "source": [
    "# Necessary Imports"
   ]
  },
  {
   "cell_type": "code",
   "execution_count": 3,
   "id": "28f8c32e-5341-49d6-b63f-0e16419b162c",
   "metadata": {},
   "outputs": [
    {
     "name": "stdout",
     "output_type": "stream",
     "text": [
      "The autoreload extension is already loaded. To reload it, use:\n",
      "  %reload_ext autoreload\n"
     ]
    }
   ],
   "source": [
    "%load_ext autoreload\n",
    "%autoreload 2\n",
    "\n",
    "# Import basic things of Qiskit Metal\n",
    "from qiskit_metal import MetalGUI, designs\n",
    "from qiskit_metal.qlibrary.qubits.transmon_pocket_6 import TransmonPocket6\n",
    "\n",
    "# Import the Gmsh renderer\n",
    "from qiskit_metal.renderers.renderer_gmsh.gmsh_renderer import QGmshRenderer\n",
    "\n",
    "# Import the Elmer renderer\n",
    "from qiskit_metal.renderers.renderer_elmer.elmer_renderer import QElmerRenderer\n",
    "from qiskit_metal.renderers.renderer_elmer.elmer_renderer import load_capacitance_matrix_from_file"
   ]
  },
  {
   "cell_type": "code",
   "execution_count": 4,
   "id": "a76242c0-3b42-4157-bbcb-a99b3c47937a",
   "metadata": {},
   "outputs": [
    {
     "data": {
      "text/html": [
       "\n",
       "    <h1 style=\"\n",
       "        background: #12c2e9;  /* fallback for old browsers */\n",
       "        background: -webkit-linear-gradient(to right, #d4418e 0%, #0652c5 74%);  /* Chrome 10-25, Safari 5.1-6 */\n",
       "        background: linear-gradient(315deg, #d4418e 0%, #0652c5 74%); /* W3C, IE 10+/ Edge, Firefox 16+, Chrome 26+, Opera 12+, Safari 7+ */\n",
       "        margin-top: 50px;\n",
       "        border-style: outset;\n",
       "        padding-top:100px;\n",
       "        padding-bottom:50px;\n",
       "        padding-left:25px;\n",
       "        color: white;\n",
       "    \"> 1. Create a Transmon Qubit in Qiskit Metal <h1>\n",
       "        "
      ],
      "text/plain": [
       "<IPython.core.display.HTML object>"
      ]
     },
     "metadata": {},
     "output_type": "display_data"
    }
   ],
   "source": [
    "%metal_heading 1. Create a Transmon Qubit in Qiskit Metal"
   ]
  },
  {
   "cell_type": "code",
   "execution_count": 5,
   "id": "31a7b793-64a5-44c6-9176-718f9b7c1c66",
   "metadata": {},
   "outputs": [],
   "source": [
    "# Instantiate a design object\n",
    "design = designs.MultiPlanar({}, True)\n",
    "\n",
    "# Invoke the Qiskit Metal GUI\n",
    "gui = MetalGUI(design)"
   ]
  },
  {
   "cell_type": "code",
   "execution_count": 6,
   "id": "6fe517d6-d32f-417c-a8fa-33061c2e54c6",
   "metadata": {},
   "outputs": [],
   "source": [
    "# Define a dictionary for connection pad options for the transmon\n",
    "conn_pads = dict(\n",
    "    connection_pads = dict(\n",
    "        readout = dict(loc_W=0, loc_H=-1),\n",
    "        coupler1 = dict(loc_W=-1, loc_H=1),\n",
    "        coupler2 = dict(loc_W=1, loc_H=1)\n",
    "    )\n",
    ")\n",
    "\n",
    "# Create a TransmonPocket6 object\n",
    "q1 = TransmonPocket6(design, \"Q1\", options=dict(**conn_pads))\n",
    "\n",
    "# Rebuild and autoscale the GUI\n",
    "gui.rebuild()\n",
    "gui.autoscale()"
   ]
  },
  {
   "cell_type": "code",
   "execution_count": 7,
   "id": "d97e061c-fbcc-4419-a30c-8854b8c63444",
   "metadata": {},
   "outputs": [
    {
     "data": {
      "text/html": [
       "\n",
       "    <h1 style=\"\n",
       "        background: #12c2e9;  /* fallback for old browsers */\n",
       "        background: -webkit-linear-gradient(to right, #d4418e 0%, #0652c5 74%);  /* Chrome 10-25, Safari 5.1-6 */\n",
       "        background: linear-gradient(315deg, #d4418e 0%, #0652c5 74%); /* W3C, IE 10+/ Edge, Firefox 16+, Chrome 26+, Opera 12+, Safari 7+ */\n",
       "        margin-top: 50px;\n",
       "        border-style: outset;\n",
       "        padding-top:100px;\n",
       "        padding-bottom:50px;\n",
       "        padding-left:25px;\n",
       "        color: white;\n",
       "    \"> 2. Rendering and meshing your design in the `QGmshRenderer` <h1>\n",
       "        "
      ],
      "text/plain": [
       "<IPython.core.display.HTML object>"
      ]
     },
     "metadata": {},
     "output_type": "display_data"
    }
   ],
   "source": [
    "%metal_heading 2. Rendering and meshing your design in the `QGmshRenderer`"
   ]
  },
  {
   "cell_type": "markdown",
   "id": "2f118489-71a8-494f-8c1b-b6cc837382c3",
   "metadata": {},
   "source": [
    "## Rendering the design wireframe"
   ]
  },
  {
   "cell_type": "code",
   "execution_count": 8,
   "id": "713202e1-dedc-469d-8dc3-9fe99496e42e",
   "metadata": {},
   "outputs": [],
   "source": [
    "# Instantiate the Gmsh renderer\n",
    "gmsh_renderer = QGmshRenderer(design)\n",
    "\n",
    "# Render the design\n",
    "# Tip: `mesh_geoms = False` will not mesh the design,\n",
    "# but only draw the wire-frame of the geomtries\n",
    "gmsh_renderer.render_design(open_pins=[(\"Q1\", \"coupler1\"), (\"Q1\", \"coupler2\"), (\"Q1\", \"readout\")],\n",
    "                            mesh_geoms=False)"
   ]
  },
  {
   "cell_type": "code",
   "execution_count": 9,
   "id": "eef5a352-24f3-4257-968f-be197eeba30d",
   "metadata": {},
   "outputs": [],
   "source": [
    "# Launch Gmsh GUI to see the rendererd design\n",
    "gmsh_renderer.launch_gui()"
   ]
  },
  {
   "cell_type": "markdown",
   "id": "cea57dd6-816f-4649-a77c-e9b774dcc153",
   "metadata": {
    "tags": []
   },
   "source": [
    "## Applying a basic mesh"
   ]
  },
  {
   "cell_type": "code",
   "execution_count": 10,
   "id": "545d393c-8d57-4914-9dbc-92e8a0f32b0e",
   "metadata": {
    "scrolled": true,
    "tags": []
   },
   "outputs": [],
   "source": [
    "# Add a basic mesh to the design and luanch the GUI to view\n",
    "gmsh_renderer.add_mesh(dim=3, intelli_mesh=False)\n",
    "gmsh_renderer.launch_gui()"
   ]
  },
  {
   "cell_type": "markdown",
   "id": "6347235c-d319-4c61-a981-7e4005b25d15",
   "metadata": {
    "tags": []
   },
   "source": [
    "## Customizing the mesh\n",
    "### Setting initial mesh size parameters"
   ]
  },
  {
   "cell_type": "code",
   "execution_count": 11,
   "id": "b851f19f-e8d0-479e-b0ae-056fa8a47e9f",
   "metadata": {
    "scrolled": true,
    "tags": []
   },
   "outputs": [],
   "source": [
    "# Update the mesh options\n",
    "gmsh_renderer.options.mesh.min_size = '5um'\n",
    "gmsh_renderer.options.mesh.max_size = '20um'\n",
    "\n",
    "# Render the design\n",
    "gmsh_renderer.render_design(open_pins=[(\"Q1\", \"coupler1\"), (\"Q1\", \"coupler2\"), (\"Q1\", \"readout\")],\n",
    "                            mesh_geoms=False)\n",
    "\n",
    "# Mesh the design (without intelli-mesh)\n",
    "gmsh_renderer.add_mesh(intelli_mesh=False)\n",
    "gmsh_renderer.launch_gui()"
   ]
  },
  {
   "cell_type": "markdown",
   "id": "44bc0221-43d2-4551-b69d-4ab4f3f5b416",
   "metadata": {
    "tags": []
   },
   "source": [
    "### Using the Intelli-mesh feature in QGmshRenderer"
   ]
  },
  {
   "cell_type": "code",
   "execution_count": 19,
   "id": "4b02fbf9-2717-45b8-9293-3bd1121862f9",
   "metadata": {
    "scrolled": true,
    "tags": []
   },
   "outputs": [],
   "source": [
    "# Update the mesh options\n",
    "gmsh_renderer.options.mesh.min_size = '5um'\n",
    "gmsh_renderer.options.mesh.max_size = '50um'\n",
    "\n",
    "# Render and mesh the design (with intelli-mesh)\n",
    "gmsh_renderer.render_design(open_pins=[(\"Q1\", \"coupler1\"), (\"Q1\", \"coupler2\"), (\"Q1\", \"readout\")],\n",
    "                            mesh_geoms=True)\n",
    "gmsh_renderer.launch_gui()"
   ]
  },
  {
   "cell_type": "markdown",
   "id": "f441adcc-510f-4c8a-8516-1caf7dcb9166",
   "metadata": {},
   "source": [
    "## Saving your mesh to a file"
   ]
  },
  {
   "cell_type": "code",
   "execution_count": 12,
   "id": "af6556de-1546-47b5-8f26-9227af19ff86",
   "metadata": {},
   "outputs": [],
   "source": [
    "# Export the Gmsh generated mesh to a file\n",
    "gmsh_renderer.export_mesh(\"test.msh\")"
   ]
  },
  {
   "cell_type": "code",
   "execution_count": 13,
   "id": "3672846f-b035-4eab-80a9-3c199eb4fd7c",
   "metadata": {},
   "outputs": [
    {
     "data": {
      "text/plain": [
       "True"
      ]
     },
     "execution_count": 13,
     "metadata": {},
     "output_type": "execute_result"
    }
   ],
   "source": [
    "# Close the Gmsh renderer\n",
    "gmsh_renderer.close()"
   ]
  },
  {
   "cell_type": "code",
   "execution_count": 14,
   "id": "88883f88-342e-449c-a1ce-c253a28c0145",
   "metadata": {},
   "outputs": [
    {
     "data": {
      "text/html": [
       "\n",
       "    <h1 style=\"\n",
       "        background: #12c2e9;  /* fallback for old browsers */\n",
       "        background: -webkit-linear-gradient(to right, #d4418e 0%, #0652c5 74%);  /* Chrome 10-25, Safari 5.1-6 */\n",
       "        background: linear-gradient(315deg, #d4418e 0%, #0652c5 74%); /* W3C, IE 10+/ Edge, Firefox 16+, Chrome 26+, Opera 12+, Safari 7+ */\n",
       "        margin-top: 50px;\n",
       "        border-style: outset;\n",
       "        padding-top:100px;\n",
       "        padding-bottom:50px;\n",
       "        padding-left:25px;\n",
       "        color: white;\n",
       "    \"> 3. Rendering your design in `QElmerRenderer` (uses `QGmshRenderer`) <h1>\n",
       "        "
      ],
      "text/plain": [
       "<IPython.core.display.HTML object>"
      ]
     },
     "metadata": {},
     "output_type": "display_data"
    }
   ],
   "source": [
    "%metal_heading 3. Rendering your design in `QElmerRenderer` (uses `QGmshRenderer`)"
   ]
  },
  {
   "cell_type": "code",
   "execution_count": 15,
   "id": "8c2f7a6a-f6ed-4892-96c3-a62f866ef37c",
   "metadata": {},
   "outputs": [],
   "source": [
    "# Instantiate the Elmer renderer\n",
    "elmer_renderer = QElmerRenderer(design)\n",
    "\n",
    "# Elmer renderer uses the Gmsh renderer to\n",
    "# generate a mesh for the design\n",
    "# Set initial parameters for meshing in Gmsh (IMPORTANT step!!)\n",
    "elmer_renderer.gmsh.options.mesh.min_size = \"5um\"\n",
    "elmer_renderer.gmsh.options.mesh.max_size = \"50um\""
   ]
  },
  {
   "cell_type": "code",
   "execution_count": 16,
   "id": "e7c297c2-be7e-495b-b98a-4062cab91be0",
   "metadata": {
    "scrolled": true,
    "tags": []
   },
   "outputs": [],
   "source": [
    "# Render the design\n",
    "elmer_renderer.render_design(open_pins=[(\"Q1\", \"coupler1\"), (\"Q1\", \"coupler2\"), (\"Q1\", \"readout\")],\n",
    "                             skip_junctions=True)"
   ]
  },
  {
   "cell_type": "code",
   "execution_count": 17,
   "id": "43145408-a90f-4e75-921d-ca8eafd5ea7e",
   "metadata": {},
   "outputs": [
    {
     "name": "stderr",
     "output_type": "stream",
     "text": [
      "07:06PM 54s CRITICAL [_qt_message_handler]: line: 0, func: None(), file: None  WARNING: Could not create pixmap from c:\\users\f",
      "hris\\qiskit-metal\\qiskit_metal\\_gui\\styles\\metal_dark\\rc\\transparent.png\n",
      "\n",
      "07:06PM 54s CRITICAL [_qt_message_handler]: line: 0, func: None(), file: None  WARNING: Could not create pixmap from c:\\users\f",
      "hris\\qiskit-metal\\qiskit_metal\\_gui\\styles\\metal_dark\\rc\\transparent.png\n",
      "\n"
     ]
    }
   ],
   "source": [
    "# View the generated mesh\n",
    "elmer_renderer.launch_gmsh_gui()"
   ]
  },
  {
   "cell_type": "code",
   "execution_count": 18,
   "id": "ab7e7c7a-9207-4943-bf0f-1d183a8d007c",
   "metadata": {},
   "outputs": [],
   "source": [
    "# Export the generated mesh\n",
    "elmer_renderer.export_mesh()"
   ]
  },
  {
   "cell_type": "code",
   "execution_count": 19,
   "id": "5cc8b22f-f281-45c3-a53a-f2a7c9a29fed",
   "metadata": {},
   "outputs": [],
   "source": [
    "# Add a solution setup to solve for the capacitance matrix\n",
    "elmer_renderer.add_solution_setup('capacitance')"
   ]
  },
  {
   "cell_type": "code",
   "execution_count": 20,
   "id": "020dc57e-d668-4d7b-b8fc-62fcceb6468d",
   "metadata": {},
   "outputs": [
    {
     "name": "stderr",
     "output_type": "stream",
     "text": [
      "07:07PM 08s INFO [run]: Running ElmerGrid on input mesh from Gmsh...\n",
      "07:07PM 09s INFO [run]: Running ElmerSolver for solver type: 'capacitance'\n"
     ]
    }
   ],
   "source": [
    "# Run the simulation in ElmerFEM\n",
    "elmer_renderer.run('capacitance')"
   ]
  },
  {
   "cell_type": "code",
   "execution_count": 21,
   "id": "b250b918-1cd7-429d-b015-92b114bf2594",
   "metadata": {},
   "outputs": [
    {
     "data": {
      "text/html": [
       "<div>\n",
       "<style scoped>\n",
       "    .dataframe tbody tr th:only-of-type {\n",
       "        vertical-align: middle;\n",
       "    }\n",
       "\n",
       "    .dataframe tbody tr th {\n",
       "        vertical-align: top;\n",
       "    }\n",
       "\n",
       "    .dataframe thead th {\n",
       "        text-align: right;\n",
       "    }\n",
       "</style>\n",
       "<table border=\"1\" class=\"dataframe\">\n",
       "  <thead>\n",
       "    <tr style=\"text-align: right;\">\n",
       "      <th></th>\n",
       "      <th>Q1_readout_connector_pad</th>\n",
       "      <th>Q1_coupler1_connector_pad</th>\n",
       "      <th>Q1_coupler2_connector_pad</th>\n",
       "      <th>Q1_pad_top</th>\n",
       "      <th>Q1_pad_bot</th>\n",
       "      <th>ground_plane</th>\n",
       "    </tr>\n",
       "  </thead>\n",
       "  <tbody>\n",
       "    <tr>\n",
       "      <th>Q1_readout_connector_pad</th>\n",
       "      <td>66.152393</td>\n",
       "      <td>-0.217088</td>\n",
       "      <td>-0.216448</td>\n",
       "      <td>-1.816632</td>\n",
       "      <td>-18.579164</td>\n",
       "      <td>-45.323061</td>\n",
       "    </tr>\n",
       "    <tr>\n",
       "      <th>Q1_coupler1_connector_pad</th>\n",
       "      <td>-0.217088</td>\n",
       "      <td>61.577912</td>\n",
       "      <td>-0.299855</td>\n",
       "      <td>-16.289710</td>\n",
       "      <td>-1.645005</td>\n",
       "      <td>-43.126254</td>\n",
       "    </tr>\n",
       "    <tr>\n",
       "      <th>Q1_coupler2_connector_pad</th>\n",
       "      <td>-0.216448</td>\n",
       "      <td>-0.299855</td>\n",
       "      <td>61.738637</td>\n",
       "      <td>-16.257792</td>\n",
       "      <td>-1.648347</td>\n",
       "      <td>-43.316194</td>\n",
       "    </tr>\n",
       "    <tr>\n",
       "      <th>Q1_pad_top</th>\n",
       "      <td>-1.816632</td>\n",
       "      <td>-16.289710</td>\n",
       "      <td>-16.257792</td>\n",
       "      <td>110.876880</td>\n",
       "      <td>-37.279421</td>\n",
       "      <td>-39.233324</td>\n",
       "    </tr>\n",
       "    <tr>\n",
       "      <th>Q1_pad_bot</th>\n",
       "      <td>-18.579164</td>\n",
       "      <td>-1.645005</td>\n",
       "      <td>-1.648347</td>\n",
       "      <td>-37.279421</td>\n",
       "      <td>104.174776</td>\n",
       "      <td>-45.022840</td>\n",
       "    </tr>\n",
       "    <tr>\n",
       "      <th>ground_plane</th>\n",
       "      <td>-45.323061</td>\n",
       "      <td>-43.126254</td>\n",
       "      <td>-43.316194</td>\n",
       "      <td>-39.233324</td>\n",
       "      <td>-45.022840</td>\n",
       "      <td>300.000000</td>\n",
       "    </tr>\n",
       "  </tbody>\n",
       "</table>\n",
       "</div>"
      ],
      "text/plain": [
       "                           Q1_readout_connector_pad  \\\n",
       "Q1_readout_connector_pad                  66.152393   \n",
       "Q1_coupler1_connector_pad                 -0.217088   \n",
       "Q1_coupler2_connector_pad                 -0.216448   \n",
       "Q1_pad_top                                -1.816632   \n",
       "Q1_pad_bot                               -18.579164   \n",
       "ground_plane                             -45.323061   \n",
       "\n",
       "                           Q1_coupler1_connector_pad  \\\n",
       "Q1_readout_connector_pad                   -0.217088   \n",
       "Q1_coupler1_connector_pad                  61.577912   \n",
       "Q1_coupler2_connector_pad                  -0.299855   \n",
       "Q1_pad_top                                -16.289710   \n",
       "Q1_pad_bot                                 -1.645005   \n",
       "ground_plane                              -43.126254   \n",
       "\n",
       "                           Q1_coupler2_connector_pad  Q1_pad_top  Q1_pad_bot  \\\n",
       "Q1_readout_connector_pad                   -0.216448   -1.816632  -18.579164   \n",
       "Q1_coupler1_connector_pad                  -0.299855  -16.289710   -1.645005   \n",
       "Q1_coupler2_connector_pad                  61.738637  -16.257792   -1.648347   \n",
       "Q1_pad_top                                -16.257792  110.876880  -37.279421   \n",
       "Q1_pad_bot                                 -1.648347  -37.279421  104.174776   \n",
       "ground_plane                              -43.316194  -39.233324  -45.022840   \n",
       "\n",
       "                           ground_plane  \n",
       "Q1_readout_connector_pad     -45.323061  \n",
       "Q1_coupler1_connector_pad    -43.126254  \n",
       "Q1_coupler2_connector_pad    -43.316194  \n",
       "Q1_pad_top                   -39.233324  \n",
       "Q1_pad_bot                   -45.022840  \n",
       "ground_plane                 300.000000  "
      ]
     },
     "execution_count": 21,
     "metadata": {},
     "output_type": "execute_result"
    }
   ],
   "source": [
    "# Display the capacitnce matrix obtained after the simulation\n",
    "elmer_renderer.capacitance_matrix"
   ]
  },
  {
   "cell_type": "code",
   "execution_count": 22,
   "id": "07625769-38c4-4be7-9c64-9e4e7b993506",
   "metadata": {},
   "outputs": [
    {
     "name": "stderr",
     "output_type": "stream",
     "text": [
      "07:08PM 28s INFO [model]: Added new model 'post_processing' and set as current.\n",
      "07:09PM 35s CRITICAL [_qt_message_handler]: line: 0, func: None(), file: None  WARNING: Could not create pixmap from c:\\users\f",
      "hris\\qiskit-metal\\qiskit_metal\\_gui\\styles\\metal_dark\\rc\\transparent.png\n",
      "\n",
      "07:09PM 35s CRITICAL [_qt_message_handler]: line: 0, func: None(), file: None  WARNING: Could not create pixmap from c:\\users\f",
      "hris\\qiskit-metal\\qiskit_metal\\_gui\\styles\\metal_dark\\rc\\transparent.png\n",
      "\n"
     ]
    }
   ],
   "source": [
    "# Run this, and in the Gmsh window,\n",
    "# Right click on an empty area, click on \"Toggle mesh visibility\"\n",
    "# Next, go to: Tools -> Visibility, select \"Physical groups\" in drop down menu\n",
    "# Select \"Volume 2\", click on apply\n",
    "# On the left pane, click on \"Post-processing\", and select the views that you want to observe\n",
    "elmer_renderer.display_post_processing_data()"
   ]
  },
  {
   "cell_type": "code",
   "execution_count": 23,
   "id": "ca5cf807-4323-48d8-b6cd-f5e38f3b24d3",
   "metadata": {},
   "outputs": [],
   "source": [
    "# Export the capacitance matrix\n",
    "elmer_renderer.save_capacitance_matrix(\"cap_matrix.txt\")\n",
    "\n",
    "# Close the elmer renderer\n",
    "elmer_renderer.close()"
   ]
  },
  {
   "cell_type": "code",
   "execution_count": 24,
   "id": "b20674ae-918f-4aa7-b4f7-1a337ae714a5",
   "metadata": {},
   "outputs": [
    {
     "data": {
      "text/html": [
       "\n",
       "    <h1 style=\"\n",
       "        background: #12c2e9;  /* fallback for old browsers */\n",
       "        background: -webkit-linear-gradient(to right, #d4418e 0%, #0652c5 74%);  /* Chrome 10-25, Safari 5.1-6 */\n",
       "        background: linear-gradient(315deg, #d4418e 0%, #0652c5 74%); /* W3C, IE 10+/ Edge, Firefox 16+, Chrome 26+, Opera 12+, Safari 7+ */\n",
       "        margin-top: 50px;\n",
       "        border-style: outset;\n",
       "        padding-top:100px;\n",
       "        padding-bottom:50px;\n",
       "        padding-left:25px;\n",
       "        color: white;\n",
       "    \"> 4. Perform LOM 2.0 Analysis <h1>\n",
       "        "
      ],
      "text/plain": [
       "<IPython.core.display.HTML object>"
      ]
     },
     "metadata": {},
     "output_type": "display_data"
    }
   ],
   "source": [
    "%metal_heading 4. Perform LOM 2.0 Analysis"
   ]
  },
  {
   "cell_type": "code",
   "execution_count": 25,
   "id": "603f8d95-ac34-40e0-9574-53d0f6cde2b8",
   "metadata": {},
   "outputs": [
    {
     "name": "stderr",
     "output_type": "stream",
     "text": [
      "07:09PM 50s INFO [__init__]: TransmonBuilder with system_type TRANSMON registered to QuantumSystemRegistry\n",
      "07:09PM 50s INFO [__init__]: FluxoniumBuilder with system_type FLUXONIUM registered to QuantumSystemRegistry\n",
      "07:09PM 50s INFO [__init__]: TLResonatorBuilder with system_type TL_RESONATOR registered to QuantumSystemRegistry\n",
      "07:09PM 50s INFO [__init__]: LumpedResonatorBuilder with system_type LUMPED_RESONATOR registered to QuantumSystemRegistry\n"
     ]
    }
   ],
   "source": [
    "# Import necessary things for LOM 2.0 Analysis\n",
    "import numpy as np\n",
    "from qiskit_metal.analyses.quantization.lom_core_analysis import CompositeSystem, Cell, Subsystem \n",
    "from scipy.constants import speed_of_light as c_light\n",
    "import matplotlib.pyplot as plt\n",
    "%matplotlib inline"
   ]
  },
  {
   "cell_type": "code",
   "execution_count": 26,
   "id": "cf3df357-f1fe-4bd0-9510-02fd7e2a55bf",
   "metadata": {},
   "outputs": [],
   "source": [
    "# Load the saved capacitance matrix\n",
    "cap_matrix = load_capacitance_matrix_from_file(\"cap_matrix.txt\")"
   ]
  },
  {
   "cell_type": "code",
   "execution_count": 27,
   "id": "9705e531-ef68-4b6b-bbc6-6a8b69ba0a12",
   "metadata": {},
   "outputs": [],
   "source": [
    "# Define cells\n",
    "opt1 = dict(\n",
    "    node_rename = {'Q1_coupler1_connector_pad': 'coupler1', 'Q1_coupler2_connector_pad': 'coupler2', 'Q1_readout_connector_pad': 'readout'}, \n",
    "    cap_mat = cap_matrix,\n",
    "    ind_dict = {('Q1_pad_top', 'Q1_pad_bot'): 12},  # junction inductance in nH\n",
    "    jj_dict = {('Q1_pad_top', 'Q1_pad_bot'): 'j1'},\n",
    "    cj_dict = {('Q1_pad_top', 'Q1_pad_bot'): 2}, # junction capacitance in fF\n",
    ")\n",
    "cell_1 = Cell(opt1)"
   ]
  },
  {
   "cell_type": "code",
   "execution_count": 28,
   "id": "d5c8c296-13f9-4ec9-8daf-96f2f882b923",
   "metadata": {},
   "outputs": [],
   "source": [
    "# Define subsystems\n",
    "# subsystem 1: Transmon\n",
    "transmon = Subsystem(name='transmon1_sys', sys_type='TRANSMON', nodes=['j1'])\n",
    "\n",
    "# subsystem 2: Coupler 1\n",
    "q_opts = dict(\n",
    "    f_res = 7.4, # resonator dressed frequency in GHz\n",
    "    Z0 = 50, # characteristic impedance in Ohm\n",
    "    vp = 0.404314 * c_light # phase velocity \n",
    ")\n",
    "coup1 = Subsystem(name='coup1_sys', sys_type='TL_RESONATOR', nodes=['coupler1'], q_opts=q_opts)\n",
    "\n",
    "# subsystem 3: Coupler 2\n",
    "q_opts = dict(\n",
    "    f_res = 7.2, # resonator dressed frequency in GHz\n",
    "    Z0 = 50, # characteristic impedance in Ohm\n",
    "    vp = 0.404314 * c_light # phase velocity \n",
    ")\n",
    "coup2 = Subsystem(name='coup2_sys', sys_type='TL_RESONATOR', nodes=['coupler2'], q_opts=q_opts)\n",
    "\n",
    "# subsystem 4: Readout\n",
    "q_opts = dict(\n",
    "    f_res = 7, # resonator dressed frequency in GHz\n",
    "    Z0 = 50, # characteristic impedance in Ohm\n",
    "    vp = 0.404314 * c_light # phase velocity \n",
    ")\n",
    "readout = Subsystem(name='readout_sys', sys_type='TL_RESONATOR', nodes=['readout'], q_opts=q_opts)"
   ]
  },
  {
   "cell_type": "code",
   "execution_count": 29,
   "id": "4f44c894-aa2b-4632-b513-da391f101b93",
   "metadata": {},
   "outputs": [],
   "source": [
    "# Define the composite system\n",
    "composite_sys = CompositeSystem(\n",
    "    subsystems=[transmon, coup1, coup2, readout], \n",
    "    cells=[cell_1], \n",
    "    grd_node='ground_plane',\n",
    "    nodes_force_keep=['coupler1', 'coupler2', 'readout']\n",
    ")"
   ]
  },
  {
   "cell_type": "code",
   "execution_count": 30,
   "id": "86f39d01-c88f-4300-987f-0384703daf61",
   "metadata": {},
   "outputs": [
    {
     "name": "stdout",
     "output_type": "stream",
     "text": [
      "node_jj_basis:\n",
      "-------------\n",
      "\n",
      "['j1', 'Q1_pad_bot', 'coupler1', 'coupler2', 'readout']\n",
      "\n",
      "nodes_keep:\n",
      "-------------\n",
      "\n",
      "['j1', 'coupler1', 'coupler2', 'readout']\n",
      "\n",
      "\n",
      "L_inv_k (reduced inverse inductance matrix):\n",
      "-------------\n",
      "\n",
      "                j1  coupler1  coupler2  readout\n",
      "j1        0.083333       0.0       0.0      0.0\n",
      "coupler1  0.000000       0.0       0.0      0.0\n",
      "coupler2  0.000000       0.0       0.0      0.0\n",
      "readout   0.000000       0.0       0.0      0.0\n",
      "\n",
      "C_k (reduced capacitance matrix):\n",
      "-------------\n",
      "\n",
      "                 j1   coupler1   coupler2    readout\n",
      "j1        74.322695  -6.894572  -6.877623   8.867749\n",
      "coupler1  -6.894572  59.288442  -2.585677  -2.820728\n",
      "coupler2  -6.877623  -2.585677  59.456458  -2.815940\n",
      "readout    8.867749  -2.820728  -2.815940  63.191469\n",
      "\n",
      "\n"
     ]
    }
   ],
   "source": [
    "# Get the circuit graph object\n",
    "cg = composite_sys.circuitGraph()\n",
    "print(cg)"
   ]
  },
  {
   "cell_type": "code",
   "execution_count": 31,
   "id": "19fee4da-5659-4b3b-ad29-182565ee8933",
   "metadata": {},
   "outputs": [
    {
     "name": "stderr",
     "output_type": "stream",
     "text": [
      "WARNING:py.warnings:RuntimeWarning: divide by zero encountered in scalar divide\n",
      " c:\\users\\chris\\qiskit-metal\\qiskit_metal\\analyses\\quantization\\lom_core_analysis.py: 170\n",
      "WARNING:py.warnings:RuntimeWarning: divide by zero encountered in scalar divide\n",
      " c:\\users\\chris\\qiskit-metal\\qiskit_metal\\analyses\\quantization\\lom_core_analysis.py: 170\n",
      "WARNING:py.warnings:RuntimeWarning: divide by zero encountered in scalar divide\n",
      " c:\\users\\chris\\qiskit-metal\\qiskit_metal\\analyses\\quantization\\lom_core_analysis.py: 170\n"
     ]
    },
    {
     "name": "stdout",
     "output_type": "stream",
     "text": [
      "HilbertSpace:  subsystems\n",
      "-------------------------\n",
      "\n",
      "Transmon------------| [Transmon_1]\n",
      "                    | EJ: 13621.792733898432\n",
      "                    | EC: 270.57949289578147\n",
      "                    | ng: 0.001\n",
      "                    | ncut: 22\n",
      "                    | truncated_dim: 10\n",
      "                    |\n",
      "                    | dim: 45\n",
      "\n",
      "\n",
      "Oscillator----------| [Oscillator_1]\n",
      "                    | E_osc: 7400.0\n",
      "                    | l_osc: None\n",
      "                    | truncated_dim: 3\n",
      "                    |\n",
      "                    | dim: 3\n",
      "\n",
      "\n",
      "Oscillator----------| [Oscillator_2]\n",
      "                    | E_osc: 7200.0\n",
      "                    | l_osc: None\n",
      "                    | truncated_dim: 3\n",
      "                    |\n",
      "                    | dim: 3\n",
      "\n",
      "\n",
      "Oscillator----------| [Oscillator_3]\n",
      "                    | E_osc: 7000\n",
      "                    | l_osc: None\n",
      "                    | truncated_dim: 3\n",
      "                    |\n",
      "                    | dim: 3\n",
      "\n",
      "\n"
     ]
    }
   ],
   "source": [
    "# Create a hilbert space with the composite system\n",
    "hilbertspace = composite_sys.create_hilbertspace()\n",
    "print(hilbertspace)"
   ]
  },
  {
   "cell_type": "code",
   "execution_count": 32,
   "id": "c18d596f-1778-4bf1-852c-6a3c7c8dc927",
   "metadata": {},
   "outputs": [
    {
     "name": "stderr",
     "output_type": "stream",
     "text": [
      "WARNING:py.warnings:RuntimeWarning: divide by zero encountered in scalar divide\n",
      " c:\\users\\chris\\qiskit-metal\\qiskit_metal\\analyses\\quantization\\lom_core_analysis.py: 170\n",
      "WARNING:py.warnings:RuntimeWarning: divide by zero encountered in scalar divide\n",
      " c:\\users\\chris\\qiskit-metal\\qiskit_metal\\analyses\\quantization\\lom_core_analysis.py: 170\n",
      "WARNING:py.warnings:RuntimeWarning: divide by zero encountered in scalar divide\n",
      " c:\\users\\chris\\qiskit-metal\\qiskit_metal\\analyses\\quantization\\lom_core_analysis.py: 170\n"
     ]
    },
    {
     "data": {
      "text/latex": [
       "Quantum object: dims = [[10, 3, 3, 3], [10, 3, 3, 3]], shape = (270, 270), type = oper, isherm = True $ \\\\ \\left(\\begin{matrix}-1.098\\times10^{+04} & 0.097j & 0.0 & -0.083j & -10.414 & \\cdots & 0.0 & 0.0 & 0.0 & 0.0 & 0.0\\\\-0.097j & -3.976\\times10^{+03} & 0.138j & 10.414 & -0.083j & \\cdots & 0.0 & 0.0 & 0.0 & 0.0 & 0.0\\\\0.0 & -0.138j & 3.024\\times10^{+03} & 0.0 & 14.728 & \\cdots & 0.0 & 0.0 & 0.0 & 0.0 & 0.0\\\\0.083j & 10.414 & 0.0 & -3.776\\times10^{+03} & 0.097j & \\cdots & 0.0 & 0.0 & 0.0 & 0.0 & 0.0\\\\-10.414 & 0.083j & 14.728 & -0.097j & 3.224\\times10^{+03} & \\cdots & 0.0 & 0.0 & 0.0 & 0.0 & 0.0\\\\\\vdots & \\vdots & \\vdots & \\vdots & \\vdots & \\ddots & \\vdots & \\vdots & \\vdots & \\vdots & \\vdots\\\\0.0 & 0.0 & 0.0 & 0.0 & 0.0 & \\cdots & 5.693\\times10^{+04} & 662.726j & 14.728 & -567.252j & -20.829\\\\0.0 & 0.0 & 0.0 & 0.0 & 0.0 & \\cdots & -662.726j & 6.393\\times10^{+04} & 0.0 & 20.829 & -567.252j\\\\0.0 & 0.0 & 0.0 & 0.0 & 0.0 & \\cdots & 14.728 & 0.0 & 5.713\\times10^{+04} & 468.618j & 0.0\\\\0.0 & 0.0 & 0.0 & 0.0 & 0.0 & \\cdots & 567.252j & 20.829 & -468.618j & 6.413\\times10^{+04} & 662.726j\\\\0.0 & 0.0 & 0.0 & 0.0 & 0.0 & \\cdots & -20.829 & 567.252j & 0.0 & -662.726j & 7.113\\times10^{+04}\\\\\\end{matrix}\\right)$"
      ],
      "text/plain": [
       "Quantum object: dims = [[10, 3, 3, 3], [10, 3, 3, 3]], shape = (270, 270), type = oper, isherm = True\n",
       "Qobj data =\n",
       "[[-10976.2043239 +0.00000000e+00j      0.        +9.72863864e-02j\n",
       "       0.        +0.00000000e+00j ...      0.        +0.00000000e+00j\n",
       "       0.        +0.00000000e+00j      0.        +0.00000000e+00j]\n",
       " [     0.        -9.72863864e-02j  -3976.2043239 +0.00000000e+00j\n",
       "       0.        +1.37583727e-01j ...      0.        +0.00000000e+00j\n",
       "       0.        +0.00000000e+00j      0.        +0.00000000e+00j]\n",
       " [     0.        +0.00000000e+00j      0.        -1.37583727e-01j\n",
       "    3023.7956761 +0.00000000e+00j ...      0.        +0.00000000e+00j\n",
       "       0.        +0.00000000e+00j      0.        +0.00000000e+00j]\n",
       " ...\n",
       " [     0.        +0.00000000e+00j      0.        +0.00000000e+00j\n",
       "       0.        +0.00000000e+00j ...  57133.21414948+0.00000000e+00j\n",
       "       0.        +4.68617745e+02j      0.        +0.00000000e+00j]\n",
       " [     0.        +0.00000000e+00j      0.        +0.00000000e+00j\n",
       "       0.        +0.00000000e+00j ...      0.        -4.68617745e+02j\n",
       "   64133.21414948+0.00000000e+00j      0.        +6.62725571e+02j]\n",
       " [     0.        +0.00000000e+00j      0.        +0.00000000e+00j\n",
       "       0.        +0.00000000e+00j ...      0.        +0.00000000e+00j\n",
       "       0.        -6.62725571e+02j  71133.21414948+0.00000000e+00j]]"
      ]
     },
     "execution_count": 32,
     "metadata": {},
     "output_type": "execute_result"
    }
   ],
   "source": [
    "# Add interaction between the subsystems\n",
    "hilbertspace = composite_sys.add_interaction()\n",
    "\n",
    "# Get the total hamiltonian of the composite system\n",
    "hilbertspace.hamiltonian()"
   ]
  },
  {
   "cell_type": "code",
   "execution_count": 33,
   "id": "b4c2cdfb-6ede-46eb-bbaf-c19f75b9a5d5",
   "metadata": {},
   "outputs": [
    {
     "name": "stdout",
     "output_type": "stream",
     "text": [
      "\n",
      "system frequencies in GHz:\n",
      "--------------------------\n",
      "{'transmon1_sys': 5.127861910526924, 'coup1_sys': 7.405303226589361, 'coup2_sys': 7.20137784091077, 'readout_sys': 7.004846291822175}\n",
      "\n",
      "Chi matrices in MHz\n",
      "--------------------------\n",
      "               transmon1_sys  coup1_sys  coup2_sys  readout_sys\n",
      "transmon1_sys    -305.406742  -1.451566  -1.020813    -2.451348\n",
      "coup1_sys          -1.451566   2.111085   0.082769    -0.004390\n",
      "coup2_sys          -1.020813   0.082769   2.027919     0.003114\n",
      "readout_sys        -2.451348  -0.004390   0.003114     2.810141\n"
     ]
    }
   ],
   "source": [
    "# Get the reults from the hamiltonian\n",
    "# Qubit frequency\n",
    "# Chi matrix (having anharmonicity and readout chi values)\n",
    "hamiltonian_results = composite_sys.hamiltonian_results(hilbertspace, evals_count=30)"
   ]
  },
  {
   "cell_type": "code",
   "execution_count": 34,
   "id": "8c01e33b-c8fa-464a-bd02-fa8e87f48b5a",
   "metadata": {},
   "outputs": [
    {
     "name": "stdout",
     "output_type": "stream",
     "text": [
      "Transmon frequency     : 5.127861910526924 GHz\n",
      "Transmon Anharmonicity : -305.40674235535334 MHz\n",
      "Readou chi             : -2.451347652295226 MHz\n"
     ]
    }
   ],
   "source": [
    "chi_df = hamiltonian_results['chi_in_MHz'].to_dataframe()\n",
    "print(\"Transmon frequency     :\", hamiltonian_results['fQ_in_Ghz']['transmon1_sys'], \"GHz\")\n",
    "print(\"Transmon Anharmonicity :\", chi_df['transmon1_sys']['transmon1_sys'], \"MHz\")\n",
    "print(\"Readou chi             :\", chi_df['readout_sys']['transmon1_sys'], \"MHz\")"
   ]
  },
  {
   "cell_type": "code",
   "execution_count": 35,
   "id": "afdfe557-8d48-4a18-85bf-923aa2b63c07",
   "metadata": {},
   "outputs": [
    {
     "data": {
      "text/html": [
       "<div>\n",
       "<style scoped>\n",
       "    .dataframe tbody tr th:only-of-type {\n",
       "        vertical-align: middle;\n",
       "    }\n",
       "\n",
       "    .dataframe tbody tr th {\n",
       "        vertical-align: top;\n",
       "    }\n",
       "\n",
       "    .dataframe thead th {\n",
       "        text-align: right;\n",
       "    }\n",
       "</style>\n",
       "<table border=\"1\" class=\"dataframe\">\n",
       "  <thead>\n",
       "    <tr style=\"text-align: right;\">\n",
       "      <th></th>\n",
       "      <th>j1</th>\n",
       "      <th>coupler1</th>\n",
       "      <th>coupler2</th>\n",
       "      <th>readout</th>\n",
       "    </tr>\n",
       "  </thead>\n",
       "  <tbody>\n",
       "    <tr>\n",
       "      <th>j1</th>\n",
       "      <td>0.000000</td>\n",
       "      <td>85.727494</td>\n",
       "      <td>83.271172</td>\n",
       "      <td>-97.286513</td>\n",
       "    </tr>\n",
       "    <tr>\n",
       "      <th>coupler1</th>\n",
       "      <td>85.727494</td>\n",
       "      <td>0.000000</td>\n",
       "      <td>17.162605</td>\n",
       "      <td>10.710770</td>\n",
       "    </tr>\n",
       "    <tr>\n",
       "      <th>coupler2</th>\n",
       "      <td>83.271172</td>\n",
       "      <td>17.162605</td>\n",
       "      <td>0.000000</td>\n",
       "      <td>10.414323</td>\n",
       "    </tr>\n",
       "    <tr>\n",
       "      <th>readout</th>\n",
       "      <td>-97.286513</td>\n",
       "      <td>10.710770</td>\n",
       "      <td>10.414323</td>\n",
       "      <td>0.000000</td>\n",
       "    </tr>\n",
       "  </tbody>\n",
       "</table>\n",
       "</div>"
      ],
      "text/plain": [
       "                 j1   coupler1   coupler2    readout\n",
       "j1         0.000000  85.727494  83.271172 -97.286513\n",
       "coupler1  85.727494   0.000000  17.162605  10.710770\n",
       "coupler2  83.271172  17.162605   0.000000  10.414323\n",
       "readout  -97.286513  10.710770  10.414323   0.000000"
      ]
     },
     "execution_count": 35,
     "metadata": {},
     "output_type": "execute_result"
    }
   ],
   "source": [
    "# Get the coupling 'g' values between qubit and resonators\n",
    "composite_sys.compute_gs().to_dataframe()"
   ]
  },
  {
   "cell_type": "code",
   "execution_count": 36,
   "id": "963212c4-b31f-48c0-ac56-0058e477b9e0",
   "metadata": {},
   "outputs": [
    {
     "data": {
      "text/plain": [
       "defaultdict(dict,\n",
       "            {'j1': {'EJ': 13621.792733898432,\n",
       "              'EC': 270.57949289578147,\n",
       "              'Q_zpf': 3.204353268e-19,\n",
       "              'default_charge_op': Operator(op=array([[-22,   0,   0, ...,   0,   0,   0],\n",
       "                     [  0, -21,   0, ...,   0,   0,   0],\n",
       "                     [  0,   0, -20, ...,   0,   0,   0],\n",
       "                     ...,\n",
       "                     [  0,   0,   0, ...,  20,   0,   0],\n",
       "                     [  0,   0,   0, ...,   0,  21,   0],\n",
       "                     [  0,   0,   0, ...,   0,   0,  22]]), add_hc=False)}})"
      ]
     },
     "execution_count": 36,
     "metadata": {},
     "output_type": "execute_result"
    }
   ],
   "source": [
    "# Hamiltonian parameters for the transmon\n",
    "transmon.h_params"
   ]
  },
  {
   "cell_type": "code",
   "execution_count": 37,
   "id": "44627014-50d7-4f5c-b873-c7c438d6c6da",
   "metadata": {},
   "outputs": [
    {
     "data": {
      "text/plain": [
       "True"
      ]
     },
     "execution_count": 37,
     "metadata": {},
     "output_type": "execute_result"
    }
   ],
   "source": [
    "# Close the Qiskit Metal GUI\n",
    "gui.main_window.close()"
   ]
  },
  {
   "cell_type": "code",
   "execution_count": null,
   "id": "9c3428fa-7009-451d-9032-a54ecf888791",
   "metadata": {},
   "outputs": [],
   "source": []
  }
 ],
 "metadata": {
  "kernelspec": {
   "display_name": "Python 3 (ipykernel)",
   "language": "python",
   "name": "python3"
  },
  "language_info": {
   "codemirror_mode": {
    "name": "ipython",
    "version": 3
   },
   "file_extension": ".py",
   "mimetype": "text/x-python",
   "name": "python",
   "nbconvert_exporter": "python",
   "pygments_lexer": "ipython3",
   "version": "3.11.4"
  }
 },
 "nbformat": 4,
 "nbformat_minor": 5
}
