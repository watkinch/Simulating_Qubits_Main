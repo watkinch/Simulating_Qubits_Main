{
 "cells": [
  {
   "cell_type": "markdown",
   "id": "02533116-7df1-4fda-9018-92b3a311a3aa",
   "metadata": {
    "tags": []
   },
   "source": [
    "# Use Multiplanr design, for Ansys Q3D simulation using pyaedt renderer to get the capacitance matrixes. \n",
    "\n",
    "**DISCLAIMER:** For now, this might only work with the full version (paid) of Ansys and not the student version. This issue is fixable and requires more testing. Please run the notebook and test it out on student license, if you're interested to make a contribution!"
   ]
  },
  {
   "cell_type": "code",
   "execution_count": 2,
   "id": "859dc50e-c7b4-437f-8786-2e1d2ac2a82e",
   "metadata": {
    "tags": []
   },
   "outputs": [
    {
     "name": "stdout",
     "output_type": "stream",
     "text": [
      "The autoreload extension is already loaded. To reload it, use:\n",
      "  %reload_ext autoreload\n"
     ]
    }
   ],
   "source": [
    "%load_ext autoreload\n",
    "%autoreload 2"
   ]
  },
  {
   "cell_type": "markdown",
   "id": "e202ac3f-bfb9-416b-bccd-1564f11618f5",
   "metadata": {
    "tags": []
   },
   "source": [
    "## Use LayerStack file to identify z-coordinate for layers; also denote the material and fill information.¶\n",
    "## The file format is a csv file."
   ]
  },
  {
   "cell_type": "code",
   "execution_count": 3,
   "id": "17764492-4f02-453a-a8f0-38d26cfb241d",
   "metadata": {},
   "outputs": [],
   "source": [
    "import sys"
   ]
  },
  {
   "cell_type": "code",
   "execution_count": 4,
   "id": "4556b9a4-4431-4c31-b02f-24247c89a41f",
   "metadata": {},
   "outputs": [],
   "source": [
    "from qiskit_metal.renderers.renderer_ansys_pyaedt.pyaedt_base import QPyaedt\n",
    "from qiskit_metal.designs.design_multiplanar import MultiPlanar\n",
    "from qiskit_metal.renderers.renderer_ansys_pyaedt.q3d_renderer_aedt import QQ3DPyaedt\n",
    "from qiskit_metal.renderers.renderer_ansys_pyaedt.hfss_renderer_drivenmodal_aedt import QHFSSDrivenmodalPyaedt\n",
    "from qiskit_metal.renderers.renderer_ansys_pyaedt.hfss_renderer_eigenmode_aedt import QHFSSEigenmodePyaedt\n",
    "\n",
    "import numpy as np\n",
    "import qiskit_metal as metal\n",
    "from qiskit_metal import designs, draw\n",
    "from qiskit_metal import MetalGUI, Dict, open_docs"
   ]
  },
  {
   "cell_type": "markdown",
   "id": "98703b6d-638a-4fcd-92ed-443a5169ac46",
   "metadata": {},
   "source": [
    "## Use LayerStack file to identify z-coordinate for layers; also denote the material and fill information.\n",
    "### The file format is a csv file."
   ]
  },
  {
   "cell_type": "code",
   "execution_count": 5,
   "id": "87b9784b-f9d9-412c-8894-5a26ff6aef4f",
   "metadata": {
    "tags": []
   },
   "outputs": [],
   "source": [
    "# User needs to update next line to their own installation.\n",
    "ls_file_path =  r\"..\\..\\..\\resources\\layer_stack_data_example_1.csv\"\n",
    "\n",
    "multiplanar_design = MultiPlanar(metadata={},\n",
    "                                 overwrite_enabled=True,\n",
    "                                 layer_stack_filename=ls_file_path)"
   ]
  },
  {
   "cell_type": "markdown",
   "id": "282a5872-956d-4e98-92f8-ba3a5493451d",
   "metadata": {},
   "source": [
    "## Multi-Planar design has default of chip named main.  If there is more than one, add information to multiplanar design."
   ]
  },
  {
   "cell_type": "code",
   "execution_count": 6,
   "id": "e4985b4d-3b23-4bda-91ae-25876fd689a0",
   "metadata": {},
   "outputs": [],
   "source": [
    "multiplanar_design._chips['qubit_chip'] = Dict()\n",
    "multiplanar_design._chips.qubit_chip.size = Dict(\n",
    "    center_x='0.0mm',\n",
    "    center_y='0.0mm',\n",
    "    size_x='4mm',\n",
    "    size_y='7mm',\n",
    ")\n",
    "\n",
    "\n",
    "# Over-ride the default values size for chip=='main'.\n",
    "multiplanar_design.chips.main.size['size_x'] = '2mm'\n",
    "multiplanar_design.chips.main.size['size_y'] = '2mm'"
   ]
  },
  {
   "cell_type": "code",
   "execution_count": 7,
   "id": "aee98fa4-5791-426a-8098-eca96de2ca1e",
   "metadata": {},
   "outputs": [
    {
     "data": {
      "text/plain": [
       "{'main': {'size': {'center_x': '0.0mm',\n",
       "   'center_y': '0.0mm',\n",
       "   'size_x': '2mm',\n",
       "   'size_y': '2mm'}},\n",
       " 'qubit_chip': {'size': {'center_x': '0.0mm',\n",
       "   'center_y': '0.0mm',\n",
       "   'size_x': '4mm',\n",
       "   'size_y': '7mm'}}}"
      ]
     },
     "execution_count": 7,
     "metadata": {},
     "output_type": "execute_result"
    }
   ],
   "source": [
    "multiplanar_design.chips"
   ]
  },
  {
   "cell_type": "code",
   "execution_count": 8,
   "id": "3faa626f-3df7-4452-9ada-77264cd87305",
   "metadata": {},
   "outputs": [],
   "source": [
    "#Remember, the layers may not always be unique, since there can be multiple datatypes.\n",
    "ls_unique = multiplanar_design.ls.is_layer_data_unique()"
   ]
  },
  {
   "cell_type": "markdown",
   "id": "03443c7c-eeb1-42aa-8bd3-5eaa52dbfb1e",
   "metadata": {},
   "source": [
    "## Start the Qiskit Metal GUI by using multi-planar design."
   ]
  },
  {
   "cell_type": "code",
   "execution_count": 9,
   "id": "b30d9881-6ae2-4153-ac22-38845e3b0ffd",
   "metadata": {},
   "outputs": [],
   "source": [
    "\"\"\"\n",
    "Note: If you get an error to install a font, then in your terminal command line, install qdarkstyle:\n",
    "pip install qdarkstyle\n",
    "\n",
    "\n",
    "Then re-run this cell.\n",
    "\"\"\"\n",
    "\n",
    "\n",
    "gui = MetalGUI(multiplanar_design)"
   ]
  },
  {
   "cell_type": "markdown",
   "id": "fde66a1a-8c3d-4bc2-aaa6-fda162f3c44c",
   "metadata": {
    "tags": []
   },
   "source": [
    "## Add all components to design.  \n",
    "\n",
    "### Note the layer number and chip names are used when adding components to design. "
   ]
  },
  {
   "cell_type": "code",
   "execution_count": 10,
   "id": "1cb28265-f90a-4785-9ac8-e6cbef7df99e",
   "metadata": {
    "tags": []
   },
   "outputs": [],
   "source": [
    "from qiskit_metal.qlibrary.qubits.transmon_pocket import TransmonPocket\n",
    "from qiskit_metal.qlibrary.terminations.open_to_ground import OpenToGround\n",
    "from qiskit_metal.qlibrary.tlines.meandered import RouteMeander\n",
    "from qiskit_metal.qlibrary.tlines.mixed_path import RouteMixed\n",
    "from qiskit_metal.qlibrary.qubits.transmon_concentric import TransmonConcentric\n",
    "\n",
    "# As precaution, remove any components already previously to design.\n",
    "multiplanar_design.delete_all_components()\n",
    "\n",
    "\n",
    "qubit_cpw_otg_layer = 2\n",
    "qubit_chip_name = 'qubit_chip'\n",
    "\n",
    "\n",
    "q1 = TransmonPocket(\n",
    "    multiplanar_design,\n",
    "    'Q1',\n",
    "    options=dict(\n",
    "        pad_width='425 um',\n",
    "        pocket_height='650um',\n",
    "        layer=qubit_cpw_otg_layer,\n",
    "        chip=qubit_chip_name,\n",
    "        #orientation='44',\n",
    "        orientation='0',\n",
    "        connection_pads=dict(\n",
    "            readout=dict(loc_W=+1, loc_H=+1, pad_width='200um'))))\n",
    "\n",
    "otg = OpenToGround(multiplanar_design,\n",
    "                   'open_to_ground',\n",
    "                   options=dict(pos_x='1.75mm',\n",
    "                                pos_y='0um',\n",
    "                                orientation='0',\n",
    "                                layer=qubit_cpw_otg_layer,\n",
    "                                chip=qubit_chip_name))\n",
    "\n",
    "route_meaander = RouteMeander(\n",
    "    multiplanar_design, 'readout',\n",
    "    Dict(\n",
    "        layer=qubit_cpw_otg_layer,\n",
    "        chip=qubit_chip_name,\n",
    "        total_length='3 mm',\n",
    "        hfss_wire_bonds=True,\n",
    "        fillet='90 um',\n",
    "        lead=dict(start_straight='100um'),\n",
    "        pin_inputs=Dict(start_pin=Dict(component='Q1', pin='readout'),\n",
    "                        end_pin=Dict(component='open_to_ground', pin='open')),\n",
    "    ))\n",
    "\n",
    "##############################################################################\n",
    "optionsQ = dict(\n",
    "    pad_width='425 um',\n",
    "    pocket_height='650um',\n",
    "    layer=qubit_cpw_otg_layer,\n",
    "    chip=qubit_chip_name,\n",
    "    orientation='-44',\n",
    "    #orientation='0',\n",
    "    connection_pads=dict(  # Qbits defined to have 4 pins\n",
    "        a=dict(loc_W=+1, loc_H=+1),\n",
    "        b=dict(loc_W=-1, loc_H=+1, pad_height='30um'),\n",
    "        c=dict(loc_W=+1, loc_H=-1, pad_width='200um'),\n",
    "        d=dict(loc_W=-1, loc_H=-1, pad_height='50um')))\n",
    "\n",
    "q2 = TransmonPocket(multiplanar_design,\n",
    "                    'Q2',\n",
    "                    options=dict(pos_x='-1.5mm', pos_y='+0.0mm', **optionsQ))\n",
    "\n",
    "##############################################################################\n",
    "concentric_options = dict(\n",
    "    #chip='main',\n",
    "    pos_x='400um',\n",
    "    pos_y='900um',\n",
    "    #layer='1',  # default is 1, this is just for example. This component does NOT have option for layer.\n",
    "    pocket_w='1500um',  # transmon pocket width\n",
    "    pocket_h='900um',  # transmon pocket height\n",
    ")\n",
    "\n",
    "# Create a new Concentric Transmon object with name 'Q1'\n",
    "qc1 = TransmonConcentric(multiplanar_design,\n",
    "                         'cc_qubit',\n",
    "                         options=concentric_options)\n",
    "\n",
    "\n",
    "gui.rebuild()\n",
    "gui.autoscale()"
   ]
  },
  {
   "cell_type": "markdown",
   "id": "7c11b9c3-030d-432e-9b93-59096dcd7420",
   "metadata": {},
   "source": [
    "# Start the Q3D renderer for Ansys by passing arguments to QQ3DPyaedt.\n",
    "## The default will use default names for Ansys ProjectName and Ansys DesignName."
   ]
  },
  {
   "cell_type": "code",
   "execution_count": 11,
   "id": "401c0b56-5a54-4ea9-873b-854ef9be26cd",
   "metadata": {
    "tags": []
   },
   "outputs": [],
   "source": [
    "multi_q3d = QQ3DPyaedt(multiplanar_design)\n",
    "\n",
    "# Example of passing names for project and design.\n",
    "#multi_q3d_1 = QQ3DPyaedt(multiplanar_design, \"q3d_project_1\", \"q3d_design_1\")"
   ]
  },
  {
   "cell_type": "code",
   "execution_count": 12,
   "id": "c0898fc3-639b-496e-a60d-feeb2c5ae954",
   "metadata": {},
   "outputs": [
    {
     "data": {
      "text/plain": [
       "{'name': 'QQ3DPyaedt_setup',\n",
       " 'AdaptiveFreq': '5.0',\n",
       " 'SaveFields': 'False',\n",
       " 'Enabled': 'True',\n",
       " 'MaxPass': '15',\n",
       " 'MinPass': '2',\n",
       " 'MinConvPass': '2',\n",
       " 'PerError': '0.5',\n",
       " 'PerRefine': '30',\n",
       " 'AutoIncreaseSolutionOrder': 'True',\n",
       " 'SolutionOrder': 'High',\n",
       " 'Solver_Type': 'Iterative'}"
      ]
     },
     "execution_count": 12,
     "metadata": {},
     "output_type": "execute_result"
    }
   ],
   "source": [
    "\"\"\"Create a solution setup in Ansys Q3D. If user does not provide\n",
    "        arguments, they will be obtained from QQ3DPyaedt.default_setup dict.\n",
    "\n",
    "Args:\n",
    "    name (str, optional): Name of solution setup. Defaults to None.\n",
    "    AdaptiveFreq (float, optional): Adaptive frequency in GHz. Defaults to None.\n",
    "    SaveFields (bool, optional): Whether or not to save fields. Defaults to None.\n",
    "    Enabled (bool, optional): Whether or not setup is enabled. Defaults to None.\n",
    "    MaxPass (int, optional): Maximum number of passes. Defaults to None.\n",
    "    MinPass (int, optional): Minimum number of passes. Defaults to None.\n",
    "    MinConvPass (int, optional): Minimum number of converged passes. Defaults to None.\n",
    "    PerError (float, optional): Error tolerance as a percentage. Defaults to None.\n",
    "    PerRefine (int, optional): Refinement as a percentage. Defaults to None.\n",
    "    AutoIncreaseSolutionOrder (bool, optional): Whether or not to increase solution order automatically. Defaults to None.\n",
    "    SolutionOrder (str, optional): Solution order. Defaults to None.\n",
    "    Solver_Type (str, optional): Solver type. Defaults to None.\n",
    "\"\"\"\n",
    "\n",
    "QQ3DPyaedt.default_setup"
   ]
  },
  {
   "cell_type": "code",
   "execution_count": 13,
   "id": "3e51ce91-008d-47a3-8f7e-4f6dd4947d01",
   "metadata": {},
   "outputs": [
    {
     "name": "stdout",
     "output_type": "stream",
     "text": [
      "pyaedt INFO: using existing logger.\n"
     ]
    },
    {
     "name": "stderr",
     "output_type": "stream",
     "text": [
      "INFO:Global:using existing logger.\n"
     ]
    },
    {
     "name": "stdout",
     "output_type": "stream",
     "text": [
      "pyaedt INFO: AEDT installation Path C:\\Program Files\\AnsysEM\\Ansys Student\\v222\\Win64\n"
     ]
    },
    {
     "name": "stderr",
     "output_type": "stream",
     "text": [
      "INFO:Global:AEDT installation Path C:\\Program Files\\AnsysEM\\Ansys Student\\v222\\Win64\n"
     ]
    },
    {
     "name": "stdout",
     "output_type": "stream",
     "text": [
      "pyaedt INFO: Launching AEDT with the gRPC plugin.\n"
     ]
    },
    {
     "name": "stderr",
     "output_type": "stream",
     "text": [
      "INFO:Global:Launching AEDT with the gRPC plugin.\n"
     ]
    },
    {
     "name": "stdout",
     "output_type": "stream",
     "text": [
      "pyaedt INFO: New AEDT session is starting on gRPC port 51313\n"
     ]
    },
    {
     "name": "stderr",
     "output_type": "stream",
     "text": [
      "INFO:Global:New AEDT session is starting on gRPC port 51313\n"
     ]
    },
    {
     "name": "stdout",
     "output_type": "stream",
     "text": [
      "pyaedt INFO: Ansoft.ElectronicsDesktop.2022.2SV  version started with process ID 11176.\n"
     ]
    },
    {
     "name": "stderr",
     "output_type": "stream",
     "text": [
      "INFO:Global:Ansoft.ElectronicsDesktop.2022.2SV  version started with process ID 11176.\n"
     ]
    },
    {
     "name": "stdout",
     "output_type": "stream",
     "text": [
      "pyaedt INFO: pyaedt v0.6.46\n"
     ]
    },
    {
     "name": "stderr",
     "output_type": "stream",
     "text": [
      "INFO:Global:pyaedt v0.6.46\n"
     ]
    },
    {
     "name": "stdout",
     "output_type": "stream",
     "text": [
      "pyaedt INFO: Python version 3.11.4 | packaged by conda-forge | (main, Jun 10 2023, 17:59:51) [MSC v.1935 64 bit (AMD64)]\n"
     ]
    },
    {
     "name": "stderr",
     "output_type": "stream",
     "text": [
      "INFO:Global:Python version 3.11.4 | packaged by conda-forge | (main, Jun 10 2023, 17:59:51) [MSC v.1935 64 bit (AMD64)]\n"
     ]
    },
    {
     "name": "stdout",
     "output_type": "stream",
     "text": [
      "pyaedt INFO: Project QQ3DPyaedt_project has been created.\n"
     ]
    },
    {
     "name": "stderr",
     "output_type": "stream",
     "text": [
      "INFO:Global:Project QQ3DPyaedt_project has been created.\n"
     ]
    },
    {
     "name": "stdout",
     "output_type": "stream",
     "text": [
      "pyaedt INFO: Added design 'QQ3DPyaedt_design' of type Q3D Extractor.\n"
     ]
    },
    {
     "name": "stderr",
     "output_type": "stream",
     "text": [
      "INFO:Global:Added design 'QQ3DPyaedt_design' of type Q3D Extractor.\n"
     ]
    },
    {
     "name": "stdout",
     "output_type": "stream",
     "text": [
      "pyaedt INFO: Aedt Objects initialized\n"
     ]
    },
    {
     "name": "stderr",
     "output_type": "stream",
     "text": [
      "INFO:Global:Aedt Objects initialized\n"
     ]
    },
    {
     "name": "stdout",
     "output_type": "stream",
     "text": [
      "pyaedt INFO: Variable Manager initialized\n"
     ]
    },
    {
     "name": "stderr",
     "output_type": "stream",
     "text": [
      "INFO:Global:Variable Manager initialized\n"
     ]
    },
    {
     "name": "stdout",
     "output_type": "stream",
     "text": [
      "pyaedt INFO: Design Loaded\n"
     ]
    },
    {
     "name": "stderr",
     "output_type": "stream",
     "text": [
      "INFO:Global:Design Loaded\n"
     ]
    },
    {
     "name": "stdout",
     "output_type": "stream",
     "text": [
      "pyaedt INFO: Successfully loaded project materials !\n"
     ]
    },
    {
     "name": "stderr",
     "output_type": "stream",
     "text": [
      "INFO:Global:Successfully loaded project materials !\n"
     ]
    },
    {
     "name": "stdout",
     "output_type": "stream",
     "text": [
      "pyaedt INFO: Materials Loaded\n"
     ]
    },
    {
     "name": "stderr",
     "output_type": "stream",
     "text": [
      "INFO:Global:Materials Loaded\n"
     ]
    },
    {
     "name": "stdout",
     "output_type": "stream",
     "text": [
      "pyaedt INFO: aedt file load time 0.0373842716217041\n"
     ]
    },
    {
     "name": "stderr",
     "output_type": "stream",
     "text": [
      "INFO:Global:aedt file load time 0.0373842716217041\n"
     ]
    },
    {
     "name": "stdout",
     "output_type": "stream",
     "text": [
      "pyaedt INFO: Project QQ3DPyaedt_project set to active.\n"
     ]
    },
    {
     "name": "stderr",
     "output_type": "stream",
     "text": [
      "INFO:Global:Project QQ3DPyaedt_project set to active.\n"
     ]
    },
    {
     "name": "stdout",
     "output_type": "stream",
     "text": [
      "pyaedt INFO: Aedt Objects initialized\n"
     ]
    },
    {
     "name": "stderr",
     "output_type": "stream",
     "text": [
      "INFO:Global:Aedt Objects initialized\n"
     ]
    },
    {
     "name": "stdout",
     "output_type": "stream",
     "text": [
      "pyaedt INFO: Variable Manager initialized\n"
     ]
    },
    {
     "name": "stderr",
     "output_type": "stream",
     "text": [
      "INFO:Global:Variable Manager initialized\n"
     ]
    },
    {
     "name": "stdout",
     "output_type": "stream",
     "text": [
      "pyaedt INFO: Design Loaded\n"
     ]
    },
    {
     "name": "stderr",
     "output_type": "stream",
     "text": [
      "INFO:Global:Design Loaded\n"
     ]
    },
    {
     "name": "stdout",
     "output_type": "stream",
     "text": [
      "pyaedt INFO: Successfully loaded project materials !\n"
     ]
    },
    {
     "name": "stderr",
     "output_type": "stream",
     "text": [
      "INFO:Global:Successfully loaded project materials !\n"
     ]
    },
    {
     "name": "stdout",
     "output_type": "stream",
     "text": [
      "pyaedt INFO: Materials Loaded\n"
     ]
    },
    {
     "name": "stderr",
     "output_type": "stream",
     "text": [
      "INFO:Global:Materials Loaded\n"
     ]
    },
    {
     "name": "stdout",
     "output_type": "stream",
     "text": [
      "pyaedt INFO: Project QQ3DPyaedt_project set to active.\n"
     ]
    },
    {
     "name": "stderr",
     "output_type": "stream",
     "text": [
      "INFO:Global:Project QQ3DPyaedt_project set to active.\n"
     ]
    },
    {
     "name": "stdout",
     "output_type": "stream",
     "text": [
      "pyaedt INFO: Aedt Objects initialized\n"
     ]
    },
    {
     "name": "stderr",
     "output_type": "stream",
     "text": [
      "INFO:Global:Aedt Objects initialized\n"
     ]
    },
    {
     "name": "stdout",
     "output_type": "stream",
     "text": [
      "pyaedt INFO: Variable Manager initialized\n"
     ]
    },
    {
     "name": "stderr",
     "output_type": "stream",
     "text": [
      "INFO:Global:Variable Manager initialized\n"
     ]
    },
    {
     "name": "stdout",
     "output_type": "stream",
     "text": [
      "pyaedt INFO: Design Loaded\n"
     ]
    },
    {
     "name": "stderr",
     "output_type": "stream",
     "text": [
      "INFO:Global:Design Loaded\n"
     ]
    },
    {
     "name": "stdout",
     "output_type": "stream",
     "text": [
      "pyaedt INFO: Successfully loaded project materials !\n"
     ]
    },
    {
     "name": "stderr",
     "output_type": "stream",
     "text": [
      "INFO:Global:Successfully loaded project materials !\n"
     ]
    },
    {
     "name": "stdout",
     "output_type": "stream",
     "text": [
      "pyaedt INFO: Materials Loaded\n"
     ]
    },
    {
     "name": "stderr",
     "output_type": "stream",
     "text": [
      "INFO:Global:Materials Loaded\n"
     ]
    }
   ],
   "source": [
    "# Use all default values.\n",
    "multi_q3d.add_q3d_setup() \n",
    "\n",
    "# Reduce MaxPass when running notebook as an example.\n",
    "multi_q3d.add_q3d_setup(name='fun_test', MaxPass=3)  "
   ]
  },
  {
   "cell_type": "markdown",
   "id": "938c363f-98c3-4c02-98fe-1d2f017d4b30",
   "metadata": {},
   "source": [
    "# Render the multi-planar design using the similar convention as planar-design to identify ports. "
   ]
  },
  {
   "cell_type": "code",
   "execution_count": 14,
   "id": "5558b1a3-be2a-41bc-9c91-aa44b7130851",
   "metadata": {},
   "outputs": [
    {
     "name": "stdout",
     "output_type": "stream",
     "text": [
      "pyaedt INFO: Project QQ3DPyaedt_project set to active.\n"
     ]
    },
    {
     "name": "stderr",
     "output_type": "stream",
     "text": [
      "INFO:Global:Project QQ3DPyaedt_project set to active.\n"
     ]
    },
    {
     "name": "stdout",
     "output_type": "stream",
     "text": [
      "pyaedt INFO: Aedt Objects initialized\n"
     ]
    },
    {
     "name": "stderr",
     "output_type": "stream",
     "text": [
      "INFO:Global:Aedt Objects initialized\n"
     ]
    },
    {
     "name": "stdout",
     "output_type": "stream",
     "text": [
      "pyaedt INFO: Variable Manager initialized\n"
     ]
    },
    {
     "name": "stderr",
     "output_type": "stream",
     "text": [
      "INFO:Global:Variable Manager initialized\n"
     ]
    },
    {
     "name": "stdout",
     "output_type": "stream",
     "text": [
      "pyaedt INFO: Design Loaded\n"
     ]
    },
    {
     "name": "stderr",
     "output_type": "stream",
     "text": [
      "INFO:Global:Design Loaded\n"
     ]
    },
    {
     "name": "stdout",
     "output_type": "stream",
     "text": [
      "pyaedt INFO: Successfully loaded project materials !\n"
     ]
    },
    {
     "name": "stderr",
     "output_type": "stream",
     "text": [
      "INFO:Global:Successfully loaded project materials !\n"
     ]
    },
    {
     "name": "stdout",
     "output_type": "stream",
     "text": [
      "pyaedt INFO: Materials Loaded\n"
     ]
    },
    {
     "name": "stderr",
     "output_type": "stream",
     "text": [
      "INFO:Global:Materials Loaded\n"
     ]
    },
    {
     "name": "stdout",
     "output_type": "stream",
     "text": [
      "pyaedt INFO: Project QQ3DPyaedt_project set to active.\n"
     ]
    },
    {
     "name": "stderr",
     "output_type": "stream",
     "text": [
      "INFO:Global:Project QQ3DPyaedt_project set to active.\n"
     ]
    },
    {
     "name": "stdout",
     "output_type": "stream",
     "text": [
      "pyaedt INFO: Aedt Objects initialized\n"
     ]
    },
    {
     "name": "stderr",
     "output_type": "stream",
     "text": [
      "INFO:Global:Aedt Objects initialized\n"
     ]
    },
    {
     "name": "stdout",
     "output_type": "stream",
     "text": [
      "pyaedt INFO: Variable Manager initialized\n"
     ]
    },
    {
     "name": "stderr",
     "output_type": "stream",
     "text": [
      "INFO:Global:Variable Manager initialized\n"
     ]
    },
    {
     "name": "stdout",
     "output_type": "stream",
     "text": [
      "pyaedt INFO: Design Loaded\n"
     ]
    },
    {
     "name": "stderr",
     "output_type": "stream",
     "text": [
      "INFO:Global:Design Loaded\n"
     ]
    },
    {
     "name": "stdout",
     "output_type": "stream",
     "text": [
      "pyaedt INFO: Successfully loaded project materials !\n"
     ]
    },
    {
     "name": "stderr",
     "output_type": "stream",
     "text": [
      "INFO:Global:Successfully loaded project materials !\n"
     ]
    },
    {
     "name": "stdout",
     "output_type": "stream",
     "text": [
      "pyaedt INFO: Materials Loaded\n"
     ]
    },
    {
     "name": "stderr",
     "output_type": "stream",
     "text": [
      "INFO:Global:Materials Loaded\n"
     ]
    },
    {
     "name": "stdout",
     "output_type": "stream",
     "text": [
      "pyaedt WARNING: No objects to delete\n"
     ]
    },
    {
     "name": "stderr",
     "output_type": "stream",
     "text": [
      "WARNING:Global:No objects to delete\n"
     ]
    },
    {
     "name": "stdout",
     "output_type": "stream",
     "text": [
      "pyaedt INFO: Project QQ3DPyaedt_project set to active.\n"
     ]
    },
    {
     "name": "stderr",
     "output_type": "stream",
     "text": [
      "INFO:Global:Project QQ3DPyaedt_project set to active.\n"
     ]
    },
    {
     "name": "stdout",
     "output_type": "stream",
     "text": [
      "pyaedt INFO: Aedt Objects initialized\n"
     ]
    },
    {
     "name": "stderr",
     "output_type": "stream",
     "text": [
      "INFO:Global:Aedt Objects initialized\n"
     ]
    },
    {
     "name": "stdout",
     "output_type": "stream",
     "text": [
      "pyaedt INFO: Variable Manager initialized\n"
     ]
    },
    {
     "name": "stderr",
     "output_type": "stream",
     "text": [
      "INFO:Global:Variable Manager initialized\n"
     ]
    },
    {
     "name": "stdout",
     "output_type": "stream",
     "text": [
      "pyaedt INFO: Design Loaded\n"
     ]
    },
    {
     "name": "stderr",
     "output_type": "stream",
     "text": [
      "INFO:Global:Design Loaded\n"
     ]
    },
    {
     "name": "stdout",
     "output_type": "stream",
     "text": [
      "pyaedt INFO: Successfully loaded project materials !\n"
     ]
    },
    {
     "name": "stderr",
     "output_type": "stream",
     "text": [
      "INFO:Global:Successfully loaded project materials !\n"
     ]
    },
    {
     "name": "stdout",
     "output_type": "stream",
     "text": [
      "pyaedt INFO: Materials Loaded\n"
     ]
    },
    {
     "name": "stderr",
     "output_type": "stream",
     "text": [
      "INFO:Global:Materials Loaded\n"
     ]
    }
   ],
   "source": [
    "multi_q3d.render_design(selection=['Q1'],\n",
    "                        box_plus_buffer=True,\n",
    "                        open_pins=[('Q1', 'readout')])\n",
    "\n",
    "\n",
    "############# Below are samples of different rendering arguments.\n",
    "\n",
    "#multi_q3d.render_design(selection=['Q1', 'Q2', 'cc_qubit'],\n",
    "#                        box_plus_buffer=True,\n",
    "#                        open_pins=[('Q1', 'readout'), ('Q2', 'a'), ('Q2', 'b'),\n",
    "#                        ('Q2', 'd')])\n",
    "\n",
    "\n",
    "#multi_q3d.render_design(selection=['mult_planar_readout'])\n",
    "\n",
    "#multi_q3d.render_design(selection=['readout'])\n",
    "\n",
    "#multi_q3d.render_design(selection=[], box_plus_buffer=False)\n",
    "\n",
    "#multi_q3d.render_design(selection=['Q1', 'readout'], box_plus_buffer=True)\n",
    "\n",
    "#multi_q3d.render_design(selection=[], box_plus_buffer=False)"
   ]
  },
  {
   "cell_type": "markdown",
   "id": "7a256cef-d4b2-4469-8477-9291a5ec89a1",
   "metadata": {},
   "source": [
    "## Select the name to analyze.  Presently, we have two to choose from.  The default=='QQ3DPyaedt_setup' and 'fun_test'."
   ]
  },
  {
   "cell_type": "code",
   "execution_count": 15,
   "id": "69004c7c-801c-4dff-a9a5-634d053c7f1c",
   "metadata": {},
   "outputs": [
    {
     "name": "stdout",
     "output_type": "stream",
     "text": [
      "pyaedt INFO: Project QQ3DPyaedt_project set to active.\n"
     ]
    },
    {
     "name": "stderr",
     "output_type": "stream",
     "text": [
      "INFO:Global:Project QQ3DPyaedt_project set to active.\n"
     ]
    },
    {
     "name": "stdout",
     "output_type": "stream",
     "text": [
      "pyaedt INFO: Aedt Objects initialized\n"
     ]
    },
    {
     "name": "stderr",
     "output_type": "stream",
     "text": [
      "INFO:Global:Aedt Objects initialized\n"
     ]
    },
    {
     "name": "stdout",
     "output_type": "stream",
     "text": [
      "pyaedt INFO: Variable Manager initialized\n"
     ]
    },
    {
     "name": "stderr",
     "output_type": "stream",
     "text": [
      "INFO:Global:Variable Manager initialized\n"
     ]
    },
    {
     "name": "stdout",
     "output_type": "stream",
     "text": [
      "pyaedt INFO: Design Loaded\n"
     ]
    },
    {
     "name": "stderr",
     "output_type": "stream",
     "text": [
      "INFO:Global:Design Loaded\n"
     ]
    },
    {
     "name": "stdout",
     "output_type": "stream",
     "text": [
      "pyaedt INFO: Successfully loaded project materials !\n"
     ]
    },
    {
     "name": "stderr",
     "output_type": "stream",
     "text": [
      "INFO:Global:Successfully loaded project materials !\n"
     ]
    },
    {
     "name": "stdout",
     "output_type": "stream",
     "text": [
      "pyaedt INFO: Materials Loaded\n"
     ]
    },
    {
     "name": "stderr",
     "output_type": "stream",
     "text": [
      "INFO:Global:Materials Loaded\n"
     ]
    },
    {
     "name": "stdout",
     "output_type": "stream",
     "text": [
      "pyaedt INFO: 5 Nets have been identified: layer_1_datatype_0_plane, layer_2_datatype_0_plane, readout_connector_pad_Q1, pad_top_Q1, pad_bot_Q1\n"
     ]
    },
    {
     "name": "stderr",
     "output_type": "stream",
     "text": [
      "INFO:Global:5 Nets have been identified: layer_1_datatype_0_plane, layer_2_datatype_0_plane, readout_connector_pad_Q1, pad_top_Q1, pad_bot_Q1\n"
     ]
    },
    {
     "name": "stdout",
     "output_type": "stream",
     "text": [
      "pyaedt INFO: Solving design setup fun_test\n"
     ]
    },
    {
     "name": "stderr",
     "output_type": "stream",
     "text": [
      "INFO:Global:Solving design setup fun_test\n"
     ]
    },
    {
     "name": "stdout",
     "output_type": "stream",
     "text": [
      "pyaedt INFO: Design setup fun_test solved correctly in 0.0h 0.0m 9.0s\n"
     ]
    },
    {
     "name": "stderr",
     "output_type": "stream",
     "text": [
      "INFO:Global:Design setup fun_test solved correctly in 0.0h 0.0m 9.0s\n"
     ]
    }
   ],
   "source": [
    "multi_q3d.analyze_setup('fun_test')"
   ]
  },
  {
   "cell_type": "markdown",
   "id": "9756795c-81a6-4bf7-a25f-7b698cc8c1dd",
   "metadata": {},
   "source": [
    "## Get the result of analyze_setup.\n",
    "### You can get the capacitance matrix in pandas dataframes format, for the AdaptiveFreq in GHz which was 5.0 in our example."
   ]
  },
  {
   "cell_type": "code",
   "execution_count": 16,
   "id": "b7d0186d-8ea5-4ebc-9085-8e80e0b19802",
   "metadata": {},
   "outputs": [
    {
     "name": "stdout",
     "output_type": "stream",
     "text": [
      "pyaedt INFO: Solution Data Correctly Loaded.\n"
     ]
    },
    {
     "name": "stderr",
     "output_type": "stream",
     "text": [
      "INFO:Global:Solution Data Correctly Loaded.\n"
     ]
    }
   ],
   "source": [
    "cap_data = multi_q3d.get_capacitance_all_passes('fun_test')"
   ]
  },
  {
   "cell_type": "code",
   "execution_count": 17,
   "id": "2c604f1c-4b5a-43c4-84a6-50a6cdae6937",
   "metadata": {},
   "outputs": [
    {
     "data": {
      "text/plain": [
       "[5.0,\n",
       "                          layer_1_datatype_0_plane layer_2_datatype_0_plane  \\\n",
       " layer_1_datatype_0_plane                 0.234752                 0.170731   \n",
       " layer_2_datatype_0_plane                 0.170731                 0.329638   \n",
       " pad_bot_Q1                               0.021963                  0.02771   \n",
       " pad_top_Q1                               0.021657                 0.026484   \n",
       " readout_connector_pad_Q1                 0.002911                 0.031008   \n",
       " \n",
       "                          pad_bot_Q1 pad_top_Q1 readout_connector_pad_Q1  \n",
       " layer_1_datatype_0_plane   0.021963   0.021657                 0.002911  \n",
       " layer_2_datatype_0_plane    0.02771   0.026484                 0.031008  \n",
       " pad_bot_Q1                 0.077165   0.025903                 0.001589  \n",
       " pad_top_Q1                 0.025903   0.088799                 0.014755  \n",
       " readout_connector_pad_Q1   0.001589   0.014755                 0.058203  ,\n",
       "                          layer_1_datatype_0_plane layer_2_datatype_0_plane  \\\n",
       " layer_1_datatype_0_plane                 0.244783                 0.188514   \n",
       " layer_2_datatype_0_plane                 0.188514                  0.33466   \n",
       " pad_bot_Q1                               0.016333                 0.028331   \n",
       " pad_top_Q1                               0.014276                 0.025276   \n",
       " readout_connector_pad_Q1                 0.002106                 0.033945   \n",
       " \n",
       "                          pad_bot_Q1 pad_top_Q1 readout_connector_pad_Q1  \n",
       " layer_1_datatype_0_plane   0.016333   0.014276                 0.002106  \n",
       " layer_2_datatype_0_plane   0.028331   0.025276                 0.033945  \n",
       " pad_bot_Q1                  0.07317   0.026615                 0.001891  \n",
       " pad_top_Q1                 0.026615   0.083429                 0.017263  \n",
       " readout_connector_pad_Q1   0.001891   0.017263                 0.062585  ,\n",
       "                          layer_1_datatype_0_plane layer_2_datatype_0_plane  \\\n",
       " layer_1_datatype_0_plane                  0.30142                   0.2461   \n",
       " layer_2_datatype_0_plane                   0.2461                 0.358678   \n",
       " pad_bot_Q1                               0.011354                 0.034068   \n",
       " pad_top_Q1                               0.010767                 0.029999   \n",
       " readout_connector_pad_Q1                 0.004714                 0.036993   \n",
       " \n",
       "                          pad_bot_Q1 pad_top_Q1 readout_connector_pad_Q1  \n",
       " layer_1_datatype_0_plane   0.011354   0.010767                 0.004714  \n",
       " layer_2_datatype_0_plane   0.034068   0.029999                 0.036993  \n",
       " pad_bot_Q1                 0.075927   0.026413                 0.001947  \n",
       " pad_top_Q1                 0.026413   0.087053                 0.018457  \n",
       " readout_connector_pad_Q1   0.001947   0.018457                 0.065863  ]"
      ]
     },
     "execution_count": 17,
     "metadata": {},
     "output_type": "execute_result"
    }
   ],
   "source": [
    "# For Freq==5.0\n",
    "all_cap_data = cap_data[5.0]\n",
    "all_cap_data"
   ]
  },
  {
   "cell_type": "code",
   "execution_count": 18,
   "id": "85c8f5ce-0e62-49ed-8b56-fc605e555cd2",
   "metadata": {},
   "outputs": [
    {
     "data": {
      "text/html": [
       "<div>\n",
       "<style scoped>\n",
       "    .dataframe tbody tr th:only-of-type {\n",
       "        vertical-align: middle;\n",
       "    }\n",
       "\n",
       "    .dataframe tbody tr th {\n",
       "        vertical-align: top;\n",
       "    }\n",
       "\n",
       "    .dataframe thead th {\n",
       "        text-align: right;\n",
       "    }\n",
       "</style>\n",
       "<table border=\"1\" class=\"dataframe\">\n",
       "  <thead>\n",
       "    <tr style=\"text-align: right;\">\n",
       "      <th></th>\n",
       "      <th>layer_1_datatype_0_plane</th>\n",
       "      <th>layer_2_datatype_0_plane</th>\n",
       "      <th>pad_bot_Q1</th>\n",
       "      <th>pad_top_Q1</th>\n",
       "      <th>readout_connector_pad_Q1</th>\n",
       "    </tr>\n",
       "  </thead>\n",
       "  <tbody>\n",
       "    <tr>\n",
       "      <th>layer_1_datatype_0_plane</th>\n",
       "      <td>0.234752</td>\n",
       "      <td>0.170731</td>\n",
       "      <td>0.021963</td>\n",
       "      <td>0.021657</td>\n",
       "      <td>0.002911</td>\n",
       "    </tr>\n",
       "    <tr>\n",
       "      <th>layer_2_datatype_0_plane</th>\n",
       "      <td>0.170731</td>\n",
       "      <td>0.329638</td>\n",
       "      <td>0.02771</td>\n",
       "      <td>0.026484</td>\n",
       "      <td>0.031008</td>\n",
       "    </tr>\n",
       "    <tr>\n",
       "      <th>pad_bot_Q1</th>\n",
       "      <td>0.021963</td>\n",
       "      <td>0.02771</td>\n",
       "      <td>0.077165</td>\n",
       "      <td>0.025903</td>\n",
       "      <td>0.001589</td>\n",
       "    </tr>\n",
       "    <tr>\n",
       "      <th>pad_top_Q1</th>\n",
       "      <td>0.021657</td>\n",
       "      <td>0.026484</td>\n",
       "      <td>0.025903</td>\n",
       "      <td>0.088799</td>\n",
       "      <td>0.014755</td>\n",
       "    </tr>\n",
       "    <tr>\n",
       "      <th>readout_connector_pad_Q1</th>\n",
       "      <td>0.002911</td>\n",
       "      <td>0.031008</td>\n",
       "      <td>0.001589</td>\n",
       "      <td>0.014755</td>\n",
       "      <td>0.058203</td>\n",
       "    </tr>\n",
       "  </tbody>\n",
       "</table>\n",
       "</div>"
      ],
      "text/plain": [
       "                         layer_1_datatype_0_plane layer_2_datatype_0_plane  \\\n",
       "layer_1_datatype_0_plane                 0.234752                 0.170731   \n",
       "layer_2_datatype_0_plane                 0.170731                 0.329638   \n",
       "pad_bot_Q1                               0.021963                  0.02771   \n",
       "pad_top_Q1                               0.021657                 0.026484   \n",
       "readout_connector_pad_Q1                 0.002911                 0.031008   \n",
       "\n",
       "                         pad_bot_Q1 pad_top_Q1 readout_connector_pad_Q1  \n",
       "layer_1_datatype_0_plane   0.021963   0.021657                 0.002911  \n",
       "layer_2_datatype_0_plane    0.02771   0.026484                 0.031008  \n",
       "pad_bot_Q1                 0.077165   0.025903                 0.001589  \n",
       "pad_top_Q1                 0.025903   0.088799                 0.014755  \n",
       "readout_connector_pad_Q1   0.001589   0.014755                 0.058203  "
      ]
     },
     "execution_count": 18,
     "metadata": {},
     "output_type": "execute_result"
    }
   ],
   "source": [
    "# For 1st pass\n",
    "pass_1 = cap_data[5.0][1]\n",
    "pass_1"
   ]
  },
  {
   "cell_type": "code",
   "execution_count": 19,
   "id": "2369b99b-26c9-4c84-aa42-c0409499fd34",
   "metadata": {},
   "outputs": [
    {
     "data": {
      "text/html": [
       "<div>\n",
       "<style scoped>\n",
       "    .dataframe tbody tr th:only-of-type {\n",
       "        vertical-align: middle;\n",
       "    }\n",
       "\n",
       "    .dataframe tbody tr th {\n",
       "        vertical-align: top;\n",
       "    }\n",
       "\n",
       "    .dataframe thead th {\n",
       "        text-align: right;\n",
       "    }\n",
       "</style>\n",
       "<table border=\"1\" class=\"dataframe\">\n",
       "  <thead>\n",
       "    <tr style=\"text-align: right;\">\n",
       "      <th></th>\n",
       "      <th>layer_1_datatype_0_plane</th>\n",
       "      <th>layer_2_datatype_0_plane</th>\n",
       "      <th>pad_bot_Q1</th>\n",
       "      <th>pad_top_Q1</th>\n",
       "      <th>readout_connector_pad_Q1</th>\n",
       "    </tr>\n",
       "  </thead>\n",
       "  <tbody>\n",
       "    <tr>\n",
       "      <th>layer_1_datatype_0_plane</th>\n",
       "      <td>0.244783</td>\n",
       "      <td>0.188514</td>\n",
       "      <td>0.016333</td>\n",
       "      <td>0.014276</td>\n",
       "      <td>0.002106</td>\n",
       "    </tr>\n",
       "    <tr>\n",
       "      <th>layer_2_datatype_0_plane</th>\n",
       "      <td>0.188514</td>\n",
       "      <td>0.33466</td>\n",
       "      <td>0.028331</td>\n",
       "      <td>0.025276</td>\n",
       "      <td>0.033945</td>\n",
       "    </tr>\n",
       "    <tr>\n",
       "      <th>pad_bot_Q1</th>\n",
       "      <td>0.016333</td>\n",
       "      <td>0.028331</td>\n",
       "      <td>0.07317</td>\n",
       "      <td>0.026615</td>\n",
       "      <td>0.001891</td>\n",
       "    </tr>\n",
       "    <tr>\n",
       "      <th>pad_top_Q1</th>\n",
       "      <td>0.014276</td>\n",
       "      <td>0.025276</td>\n",
       "      <td>0.026615</td>\n",
       "      <td>0.083429</td>\n",
       "      <td>0.017263</td>\n",
       "    </tr>\n",
       "    <tr>\n",
       "      <th>readout_connector_pad_Q1</th>\n",
       "      <td>0.002106</td>\n",
       "      <td>0.033945</td>\n",
       "      <td>0.001891</td>\n",
       "      <td>0.017263</td>\n",
       "      <td>0.062585</td>\n",
       "    </tr>\n",
       "  </tbody>\n",
       "</table>\n",
       "</div>"
      ],
      "text/plain": [
       "                         layer_1_datatype_0_plane layer_2_datatype_0_plane  \\\n",
       "layer_1_datatype_0_plane                 0.244783                 0.188514   \n",
       "layer_2_datatype_0_plane                 0.188514                  0.33466   \n",
       "pad_bot_Q1                               0.016333                 0.028331   \n",
       "pad_top_Q1                               0.014276                 0.025276   \n",
       "readout_connector_pad_Q1                 0.002106                 0.033945   \n",
       "\n",
       "                         pad_bot_Q1 pad_top_Q1 readout_connector_pad_Q1  \n",
       "layer_1_datatype_0_plane   0.016333   0.014276                 0.002106  \n",
       "layer_2_datatype_0_plane   0.028331   0.025276                 0.033945  \n",
       "pad_bot_Q1                  0.07317   0.026615                 0.001891  \n",
       "pad_top_Q1                 0.026615   0.083429                 0.017263  \n",
       "readout_connector_pad_Q1   0.001891   0.017263                 0.062585  "
      ]
     },
     "execution_count": 19,
     "metadata": {},
     "output_type": "execute_result"
    }
   ],
   "source": [
    "# For 2nd pass\n",
    "pass_2 = cap_data[5.0][2]\n",
    "pass_2"
   ]
  },
  {
   "cell_type": "code",
   "execution_count": 20,
   "id": "4d7203e5-2d45-4d64-b365-111434fc97c7",
   "metadata": {},
   "outputs": [
    {
     "data": {
      "text/html": [
       "<div>\n",
       "<style scoped>\n",
       "    .dataframe tbody tr th:only-of-type {\n",
       "        vertical-align: middle;\n",
       "    }\n",
       "\n",
       "    .dataframe tbody tr th {\n",
       "        vertical-align: top;\n",
       "    }\n",
       "\n",
       "    .dataframe thead th {\n",
       "        text-align: right;\n",
       "    }\n",
       "</style>\n",
       "<table border=\"1\" class=\"dataframe\">\n",
       "  <thead>\n",
       "    <tr style=\"text-align: right;\">\n",
       "      <th></th>\n",
       "      <th>layer_1_datatype_0_plane</th>\n",
       "      <th>layer_2_datatype_0_plane</th>\n",
       "      <th>pad_bot_Q1</th>\n",
       "      <th>pad_top_Q1</th>\n",
       "      <th>readout_connector_pad_Q1</th>\n",
       "    </tr>\n",
       "  </thead>\n",
       "  <tbody>\n",
       "    <tr>\n",
       "      <th>layer_1_datatype_0_plane</th>\n",
       "      <td>0.30142</td>\n",
       "      <td>0.2461</td>\n",
       "      <td>0.011354</td>\n",
       "      <td>0.010767</td>\n",
       "      <td>0.004714</td>\n",
       "    </tr>\n",
       "    <tr>\n",
       "      <th>layer_2_datatype_0_plane</th>\n",
       "      <td>0.2461</td>\n",
       "      <td>0.358678</td>\n",
       "      <td>0.034068</td>\n",
       "      <td>0.029999</td>\n",
       "      <td>0.036993</td>\n",
       "    </tr>\n",
       "    <tr>\n",
       "      <th>pad_bot_Q1</th>\n",
       "      <td>0.011354</td>\n",
       "      <td>0.034068</td>\n",
       "      <td>0.075927</td>\n",
       "      <td>0.026413</td>\n",
       "      <td>0.001947</td>\n",
       "    </tr>\n",
       "    <tr>\n",
       "      <th>pad_top_Q1</th>\n",
       "      <td>0.010767</td>\n",
       "      <td>0.029999</td>\n",
       "      <td>0.026413</td>\n",
       "      <td>0.087053</td>\n",
       "      <td>0.018457</td>\n",
       "    </tr>\n",
       "    <tr>\n",
       "      <th>readout_connector_pad_Q1</th>\n",
       "      <td>0.004714</td>\n",
       "      <td>0.036993</td>\n",
       "      <td>0.001947</td>\n",
       "      <td>0.018457</td>\n",
       "      <td>0.065863</td>\n",
       "    </tr>\n",
       "  </tbody>\n",
       "</table>\n",
       "</div>"
      ],
      "text/plain": [
       "                         layer_1_datatype_0_plane layer_2_datatype_0_plane  \\\n",
       "layer_1_datatype_0_plane                  0.30142                   0.2461   \n",
       "layer_2_datatype_0_plane                   0.2461                 0.358678   \n",
       "pad_bot_Q1                               0.011354                 0.034068   \n",
       "pad_top_Q1                               0.010767                 0.029999   \n",
       "readout_connector_pad_Q1                 0.004714                 0.036993   \n",
       "\n",
       "                         pad_bot_Q1 pad_top_Q1 readout_connector_pad_Q1  \n",
       "layer_1_datatype_0_plane   0.011354   0.010767                 0.004714  \n",
       "layer_2_datatype_0_plane   0.034068   0.029999                 0.036993  \n",
       "pad_bot_Q1                 0.075927   0.026413                 0.001947  \n",
       "pad_top_Q1                 0.026413   0.087053                 0.018457  \n",
       "readout_connector_pad_Q1   0.001947   0.018457                 0.065863  "
      ]
     },
     "execution_count": 20,
     "metadata": {},
     "output_type": "execute_result"
    }
   ],
   "source": [
    "# For 3rd pass\n",
    "pass_3 = cap_data[5.0][3]\n",
    "pass_3"
   ]
  },
  {
   "cell_type": "code",
   "execution_count": null,
   "id": "0b40dcec-d9e6-4041-b72a-91ae5443e94a",
   "metadata": {},
   "outputs": [],
   "source": [
    "# 4th pass does not exist, since we limited passes to three passes.\n",
    "#pass_4 = cap_data[5.0][4]\n",
    "#pass_4"
   ]
  },
  {
   "cell_type": "code",
   "execution_count": null,
   "id": "2516e435-75ee-4e6e-8406-d5708748dba7",
   "metadata": {},
   "outputs": [],
   "source": [
    "# Will disconnect Metal from Ansys, and leave Ansys open.\n",
    "#multi_q3d.close()\n",
    "\n",
    "# # If the python script closes, the OS will most likely close Ansys.\n",
    "\n",
    "# Will close Ansys.\n",
    "#multi_q3d.force_exit_ansys()"
   ]
  },
  {
   "cell_type": "code",
   "execution_count": null,
   "id": "eb017edd-d3bf-411f-8463-607197938b4c",
   "metadata": {},
   "outputs": [],
   "source": []
  },
  {
   "cell_type": "code",
   "execution_count": null,
   "id": "cefca919-1195-461c-81e5-4450c8496f67",
   "metadata": {},
   "outputs": [],
   "source": []
  },
  {
   "cell_type": "code",
   "execution_count": null,
   "id": "7e5a3cc4-98c9-4c65-af0d-7f6e16446a74",
   "metadata": {},
   "outputs": [],
   "source": []
  },
  {
   "cell_type": "code",
   "execution_count": null,
   "id": "4480008f-064f-4e1e-ac06-a043918f8bbb",
   "metadata": {},
   "outputs": [],
   "source": []
  },
  {
   "cell_type": "code",
   "execution_count": null,
   "id": "d0804b12-9e94-4a52-9979-83cd62e5b855",
   "metadata": {},
   "outputs": [],
   "source": []
  }
 ],
 "metadata": {
  "kernelspec": {
   "display_name": "Python 3 (ipykernel)",
   "language": "python",
   "name": "python3"
  },
  "language_info": {
   "codemirror_mode": {
    "name": "ipython",
    "version": 3
   },
   "file_extension": ".py",
   "mimetype": "text/x-python",
   "name": "python",
   "nbconvert_exporter": "python",
   "pygments_lexer": "ipython3",
   "version": "3.11.4"
  }
 },
 "nbformat": 4,
 "nbformat_minor": 5
}
