{
 "cells": [
  {
   "cell_type": "markdown",
   "id": "35d27b44",
   "metadata": {},
   "source": [
    "# S21 simulation and fitting of a resonator\n",
    "\n",
    "Authors: Samarth Hawaldar, Arvind Mamgain\n",
    "\n",
    "Adapted from tutorial 4.16\n"
   ]
  },
  {
   "cell_type": "markdown",
   "id": "abc2b76d",
   "metadata": {},
   "source": []
  },
  {
   "cell_type": "code",
   "execution_count": 1,
   "id": "0b0da17a",
   "metadata": {},
   "outputs": [],
   "source": [
    "# Import useful packages\n",
    "import qiskit_metal as metal\n",
    "from qiskit_metal import designs, draw\n",
    "from qiskit_metal import MetalGUI, Dict, open_docs\n",
    "from qiskit_metal.toolbox_metal import math_and_overrides\n",
    "from qiskit_metal.qlibrary.core import QComponent\n",
    "from collections import OrderedDict\n",
    "\n",
    "# To create plots after geting solution data.\n",
    "import matplotlib.pyplot as plt\n",
    "import numpy as np\n",
    "\n",
    "# Packages for the simple design\n",
    "from qiskit_metal.qlibrary.tlines.meandered import RouteMeander\n",
    "from qiskit_metal.qlibrary.tlines.pathfinder import RoutePathfinder\n",
    "from qiskit_metal.qlibrary.terminations.launchpad_wb_driven import LaunchpadWirebondDriven\n",
    "from qiskit_metal.qlibrary.terminations.open_to_ground import OpenToGround\n",
    "from qiskit_metal.qlibrary.terminations.short_to_ground import ShortToGround\n",
    "from qiskit_metal.qlibrary.couplers.coupled_line_tee import CoupledLineTee\n",
    "# Analysis\n",
    "# from qiskit_metal.renderers.renderer_gds.gds_renderer import QGDSRenderer\n",
    "# from qiskit_metal.analyses.quantization import EPRanalysis\n",
    "from qiskit_metal.analyses.quantization import EPRanalysis\n",
    "from qiskit_metal.analyses.simulation import ScatteringImpedanceSim\n",
    "from qiskit_metal.analyses.sweep_and_optimize.sweeping import Sweeping\n",
    "import pyEPR as epr"
   ]
  },
  {
   "cell_type": "code",
   "execution_count": 2,
   "id": "660b1194",
   "metadata": {},
   "outputs": [],
   "source": [
    "import numpy as np"
   ]
  },
  {
   "cell_type": "markdown",
   "id": "c6e244f8",
   "metadata": {},
   "source": [
    "# Set up the design"
   ]
  },
  {
   "cell_type": "code",
   "execution_count": 3,
   "id": "3983eac9",
   "metadata": {},
   "outputs": [],
   "source": [
    "# Set up chip dimensions \n",
    "design = designs.DesignPlanar()\n",
    "design._chips['main']['size']['size_x'] = '9mm'\n",
    "design._chips['main']['size']['size_y'] = '9mm'\n",
    "design._chips['main']['size']['size_z'] = '-280um'\n",
    "# Resonator and feedline gap width (W) and center conductor width (S) from reference 2\n",
    "design.variables['cpw_width'] = '10 um' #S from reference 2\n",
    "design.variables['cpw_gap'] = '6 um' #W from reference 2\n",
    "\n",
    "\n",
    "design.overwrite_enabled = True\n",
    "\n",
    "hfss = design.renderers.hfss\n",
    "\n",
    "# Open GUI\n",
    "gui = MetalGUI(design)"
   ]
  },
  {
   "cell_type": "code",
   "execution_count": 4,
   "id": "cc2c100f",
   "metadata": {},
   "outputs": [],
   "source": [
    "# Define for renderer\n",
    "eig_qres = EPRanalysis(design, \"hfss\")\n",
    "#hfss = design.renderers.hfss\n",
    "hfss = eig_qres.sim.renderer\n",
    "q3d = design.renderers.q3d"
   ]
  },
  {
   "cell_type": "markdown",
   "id": "055c0bef",
   "metadata": {},
   "source": [
    "# Define the geometry\n",
    "\n",
    "Here we will have a single feedline couple to a single CPW resonator.\n",
    "\n",
    "The lauchpad should be included in the driven model simulations.\n",
    "\n",
    "For that reason, we use the LaunchpadWirebondDriven component which has an extra pin for input/output"
   ]
  },
  {
   "cell_type": "code",
   "execution_count": 5,
   "id": "ef570ed8",
   "metadata": {},
   "outputs": [],
   "source": [
    "###################\n",
    "# Single feedline #\n",
    "###################\n",
    "\n",
    "# Driven Lauchpad 1\n",
    "x = '-0.5mm'\n",
    "y = '2.0mm'\n",
    "launch_options = dict(chip='main', pos_x=x, pos_y=y, orientation='360', lead_length='30um')\n",
    "LP1 = LaunchpadWirebondDriven(design, 'LP1', options = launch_options)\n",
    "\n",
    "# Driven Launchpad 2\n",
    "x = '0.5mm'\n",
    "y = '2.0mm'\n",
    "launch_options = dict(chip='main', pos_x=x, pos_y=y, orientation='180', lead_length='30um')\n",
    "LP2 = LaunchpadWirebondDriven(design, 'LP2', options = launch_options)\n",
    "\n",
    "# coupling resonator to feedline \n",
    "q_read = CoupledLineTee(design,'Q_Read_T', options=dict(pos_x = '0.0mm', pos_y = '2mm', \n",
    "                                                        orientation = '0',\n",
    "                                                        coupling_space = '6um',                                                         \n",
    "                                                        coupling_length = '300um',\n",
    "                                                        open_termination = False))\n",
    "\n",
    "\n",
    "gui.rebuild()\n"
   ]
  },
  {
   "cell_type": "code",
   "execution_count": 6,
   "id": "239f2d12",
   "metadata": {},
   "outputs": [],
   "source": [
    "\n",
    "# Using path finder to connect the two launchpads\n",
    "TL_LP1_T = RoutePathfinder(design, 'TL_LP1_T', options = dict(chip='main', trace_width ='10um',\n",
    "        trace_gap ='6um',\n",
    "                                            fillet='99um',\n",
    "                                                                  \n",
    "        hfss_wire_bonds = True,\n",
    "                                            lead=dict(end_straight='0.1mm'),\n",
    "                                            pin_inputs=Dict(\n",
    "                                                start_pin=Dict(\n",
    "                                                    component='LP1',\n",
    "                                                    pin='tie'),\n",
    "                                                end_pin=Dict(\n",
    "                                                    component='Q_Read_T',\n",
    "                                                    pin='prime_start')\n",
    "                                            )))\n",
    "\n",
    "TL_T_LP2 = RoutePathfinder(design, 'TL_T_LP2', options = dict(chip='main', trace_width ='10um',\n",
    "        trace_gap ='6um',\n",
    "                                            fillet='99um',\n",
    "                                                                  \n",
    "        hfss_wire_bonds = True,\n",
    "                                            lead=dict(end_straight='0.1mm'),\n",
    "                                            pin_inputs=Dict(\n",
    "                                                start_pin=Dict(\n",
    "                                                    component='Q_Read_T',\n",
    "                                                    pin='prime_end'),\n",
    "                                                end_pin=Dict(\n",
    "                                                    component='LP2',\n",
    "                                                    pin='tie')\n",
    "                                            )))\n",
    "# # Rebuild the GUI"
   ]
  },
  {
   "cell_type": "code",
   "execution_count": 7,
   "id": "92b1570a",
   "metadata": {},
   "outputs": [],
   "source": [
    "######################\n",
    "# lambda/4 resonator #\n",
    "######################\n",
    "\n",
    "# First we define the two end-points\n",
    "otg = OpenToGround(design, 'otg', options=dict(chip='main', pos_x='0.0mm',  pos_y='0.8mm', orientation='-90'))\n",
    "\n",
    "# Use RouteMeander to fix the total length of the resonator\n",
    "rt_meander = RouteMeander(design, 'meander',  Dict(\n",
    "        trace_width ='10um',\n",
    "        trace_gap ='6um',\n",
    "        total_length='3.7mm',\n",
    "        hfss_wire_bonds = True,\n",
    "        fillet='99 um',\n",
    "        lead = dict(start_straight='250um'),\n",
    "        pin_inputs=Dict(\n",
    "            start_pin=Dict(component='otg', pin='open'),\n",
    "            end_pin=Dict(component='Q_Read_T', pin='second_end')), ))\n",
    "\n",
    "# rebuild the GUI\n",
    "gui.rebuild()"
   ]
  },
  {
   "cell_type": "code",
   "execution_count": 8,
   "id": "9956dd38",
   "metadata": {},
   "outputs": [
    {
     "data": {
      "image/png": "[encoded data removed]",
      "text/plain": [
       "<IPython.core.display.Image object>"
      ]
     },
     "metadata": {
      "image/png": {
       "width": 500
      }
     },
     "output_type": "display_data"
    }
   ],
   "source": [
    "gui.autoscale()\n",
    "gui.screenshot()"
   ]
  },
  {
   "cell_type": "markdown",
   "id": "8bd2910a",
   "metadata": {},
   "source": [
    "# Scattering Analysis"
   ]
  },
  {
   "cell_type": "code",
   "execution_count": 27,
   "id": "be209d2e",
   "metadata": {},
   "outputs": [],
   "source": [
    "from qiskit_metal.analyses.simulation import ScatteringImpedanceSim\n",
    "em1 = ScatteringImpedanceSim(design, \"hfss\")"
   ]
  },
  {
   "cell_type": "code",
   "execution_count": 28,
   "id": "504994dd",
   "metadata": {},
   "outputs": [],
   "source": [
    "design_name= \"Sweep_DrivenModal\"\n",
    "qcomp_render = [] # Means to render everything in qgeometry table.\n",
    "open_terminations = []\n",
    "\n",
    "# Here, pin LP1_in and LP2_in are converted into lumped ports,\n",
    "#           each with an impedance of 50 Ohms. <br>\n",
    "port_list = [('LP1', 'in', 50),\n",
    "             ('LP2', 'in', 50)]\n",
    "box_plus_buffer = True"
   ]
  },
  {
   "cell_type": "code",
   "execution_count": 47,
   "id": "ea1ccb5e",
   "metadata": {},
   "outputs": [
    {
     "data": {
      "text/plain": [
       "{'name': 'Sweep_DrivenModal_setup',\n",
       " 'reuse_selected_design': True,\n",
       " 'reuse_setup': True,\n",
       " 'freq_ghz': 6.0,\n",
       " 'max_delta_s': 0.005,\n",
       " 'max_passes': 18,\n",
       " 'min_passes': 2,\n",
       " 'min_converged': 1,\n",
       " 'pct_refinement': 30,\n",
       " 'basis_order': -1,\n",
       " 'vars': {'Lj': '10 nH', 'Cj': '0 fF'},\n",
       " 'sweep_setup': {'name': 'Sweep',\n",
       "  'start_ghz': 4.0,\n",
       "  'stop_ghz': 8.0,\n",
       "  'count': 10001,\n",
       "  'step_ghz': None,\n",
       "  'type': 'Fast',\n",
       "  'save_fields': False}}"
      ]
     },
     "execution_count": 47,
     "metadata": {},
     "output_type": "execute_result"
    }
   ],
   "source": [
    "em1.setup.name = \"Sweep_DrivenModal_setup\"\n",
    "em1.setup.freq_ghz = 6.0 # Try to keep this at the center of the swept frequency range for 'fast' sweeps and at the largest frequency for interpolating sweep for the best results\n",
    "em1.setup.max_delta_s = 0.005 # This is necessary to get good results if interpolating sweep is not working for you\n",
    "em1.setup.max_passes = 18\n",
    "em1.setup.min_passes = 2\n",
    "em1.setup.basis_order = -1 # Mixed order\n",
    "em1.setup"
   ]
  },
  {
   "cell_type": "code",
   "execution_count": 30,
   "id": "be7762a9",
   "metadata": {},
   "outputs": [
    {
     "name": "stderr",
     "output_type": "stream",
     "text": [
      "INFO 10:38AM [connect_project]: Connecting to Ansys Desktop API...\n",
      "INFO 10:38AM [load_ansys_project]: \tOpened Ansys App\n",
      "INFO 10:38AM [load_ansys_project]: \tOpened Ansys Desktop v2021.1.0\n",
      "INFO 10:38AM [load_ansys_project]: \tOpened Ansys Project\n",
      "\tFolder:    C:/Users/QTLAB/Kunal/OneDrive - Indian Institute of Science/Documents/Ansoft/Directory/\n",
      "\tProject:   Project7\n",
      "INFO 10:38AM [connect_design]: \tOpened active design\n",
      "\tDesign:    Design_hfss [Solution type: DrivenModal]\n",
      "INFO 10:38AM [get_setup]: \tOpened setup `Setup`  (<class 'pyEPR.ansys.HfssDMSetup'>)\n",
      "INFO 10:38AM [connect]: \tConnected to project \"Project7\" and design \"Design_hfss\" 😀 \n",
      "\n"
     ]
    },
    {
     "data": {
      "text/plain": [
       "True"
      ]
     },
     "execution_count": 30,
     "metadata": {},
     "output_type": "execute_result"
    }
   ],
   "source": [
    "# we use HFSS as rendere\n",
    "hfss = em1.renderer\n",
    "hfss.start()"
   ]
  },
  {
   "cell_type": "code",
   "execution_count": 31,
   "id": "5c8fc60c",
   "metadata": {},
   "outputs": [],
   "source": [
    "# set buffer\n",
    "hfss.options['x_buffer_width_mm'] = 0.1\n",
    "hfss.options['y_buffer_width_mm'] = 0.1"
   ]
  },
  {
   "cell_type": "code",
   "execution_count": 32,
   "id": "522ca07a",
   "metadata": {},
   "outputs": [],
   "source": [
    "# clean the design if needed\n",
    "hfss.clean_active_design()"
   ]
  },
  {
   "cell_type": "code",
   "execution_count": 42,
   "id": "d685f9fc",
   "metadata": {},
   "outputs": [
    {
     "name": "stderr",
     "output_type": "stream",
     "text": [
      "INFO 10:42AM [connect_design]: \tOpened active design\n",
      "\tDesign:    Design_hfss [Solution type: DrivenModal]\n"
     ]
    },
    {
     "data": {
      "text/plain": [
       "'Design_hfss'"
      ]
     },
     "execution_count": 42,
     "metadata": {},
     "output_type": "execute_result"
    }
   ],
   "source": [
    "# render the design\n",
    "em1._render(selection=[],\n",
    "                    solution_type='drivenmodal',\n",
    "                    vars_to_initialize=em1.setup.vars, \n",
    "                    open_pins=open_terminations, \n",
    "                    port_list=port_list, \n",
    "                    box_plus_buffer = box_plus_buffer)"
   ]
  },
  {
   "cell_type": "code",
   "execution_count": 48,
   "id": "8a316652",
   "metadata": {},
   "outputs": [],
   "source": [
    "#for accurate simulations, make sure the mesh is fine enough for the meander\n",
    "hfss.modeler.mesh_length(\n",
    "                'cpw_mesh',\n",
    "                ['trace_meander'],\n",
    "                MaxLength='0.05mm')"
   ]
  },
  {
   "cell_type": "markdown",
   "id": "9ad348ed",
   "metadata": {},
   "source": [
    "# Broad sweet to find the resonance"
   ]
  },
  {
   "cell_type": "code",
   "execution_count": 49,
   "id": "e65e1ab2",
   "metadata": {},
   "outputs": [
    {
     "name": "stderr",
     "output_type": "stream",
     "text": [
      "INFO 10:45AM [get_setup]: \tOpened setup `Sweep_DrivenModal_setup`  (<class 'pyEPR.ansys.HfssDMSetup'>)\n",
      "INFO 10:45AM [get_setup]: \tOpened setup `Sweep_DrivenModal_setup`  (<class 'pyEPR.ansys.HfssDMSetup'>)\n",
      "INFO 10:45AM [analyze]: Analyzing setup Sweep_DrivenModal_setup : Sweep\n"
     ]
    }
   ],
   "source": [
    "em1.setup.sweep_setup.start_ghz = 4.0\n",
    "em1.setup.sweep_setup.stop_ghz = 8.0\n",
    "em1.setup.sweep_setup.count = 10001\n",
    "em1.setup.sweep_setup.type = \"Fast\"\n",
    "em1._analyze() # This is necessary to keep the changes made to max_delta_s and min_passes"
   ]
  },
  {
   "cell_type": "code",
   "execution_count": 50,
   "id": "522904f7",
   "metadata": {},
   "outputs": [
    {
     "data": {
      "text/plain": [
       "(                       S11                 S21\n",
       " 4.0000 -0.000222-0.000797j -0.944088+0.329694j\n",
       " 4.0004 -0.000223-0.000797j -0.944077+0.329725j\n",
       " 4.0008 -0.000223-0.000797j -0.944065+0.329757j\n",
       " 4.0012 -0.000223-0.000797j -0.944054+0.329789j\n",
       " 4.0016 -0.000223-0.000798j -0.944043+0.329821j\n",
       " ...                    ...                 ...\n",
       " 7.9984 -0.002487-0.003344j -0.782896+0.622139j\n",
       " 7.9988 -0.002487-0.003345j -0.782875+0.622166j\n",
       " 7.9992 -0.002488-0.003345j -0.782854+0.622192j\n",
       " 7.9996 -0.002488-0.003345j -0.782833+0.622218j\n",
       " 8.0000 -0.002488-0.003345j -0.782812+0.622245j\n",
       " \n",
       " [10001 rows x 2 columns],\n",
       " <Figure size 1000x600 with 2 Axes>)"
      ]
     },
     "execution_count": 50,
     "metadata": {},
     "output_type": "execute_result"
    }
   ],
   "source": [
    "hfss.plot_params(['S21'])\n",
    "# make sure that you can see a dip in S21. If not, change the frequency sweep region or decrease the MaxLength of the mesh and retry.\n",
    "# Or you can even try an interpolating sweep"
   ]
  },
  {
   "cell_type": "code",
   "execution_count": 51,
   "id": "cf3f744d",
   "metadata": {},
   "outputs": [
    {
     "name": "stderr",
     "output_type": "stream",
     "text": [
      "WARNING:py.warnings:C:\\ProgramData\\Anaconda3\\envs\\samarth-dev\\lib\\site-packages\\pyEPR\\ansys.py:1222: FutureWarning: In a future version of pandas all arguments of DataFrame.drop except for the argument 'labels' will be keyword-only\n",
      "  df = pd.read_csv(io.StringIO(text2[3].strip()),\n",
      "\n"
     ]
    },
    {
     "data": {
      "text/plain": [
       "(             Solved Elements  Max Mag. Delta S\n",
       " Pass Number                                   \n",
       " 1                       9546               NaN\n",
       " 2                      12416          0.534770\n",
       " 3                      14280          0.231140\n",
       " 4                      18110          0.122500\n",
       " 5                      22027          0.047919\n",
       " 6                      27371          0.022561\n",
       " 7                      35530          0.014636\n",
       " 8                      46150          0.008065\n",
       " 9                      59906          0.005799\n",
       " 10                     77821          0.005072\n",
       " 11                    101114          0.003759,\n",
       " None,\n",
       " \"DesignVariation : Cj='0fF' Lj='10nH'\\nSetup : Sweep_DrivenModal_setup\\n\\n==================\\nNumber of Passes\\nCompleted : 11\\nMaximum   : 18\\nMinimum   : 2\\n==================\\nCriterion : Max Mag. Delta S\\nTarget    : 0.005\\nCurrent   : 0.0037588\\nTarget Consecutive Passes  : 1\\nCurrent Consecutive Passes : 1\\nConverged : Yes\\n==================\\nPass Number|Solved Elements|Max Mag. Delta S|\\n          1|           9546|             N/A|\\n          2|          12416|         0.53477|\\n          3|          14280|         0.23114|\\n          4|          18110|          0.1225|\\n          5|          22027|        0.047919|\\n          6|          27371|        0.022561|\\n          7|          35530|        0.014636|\\n          8|          46150|       0.0080655|\\n          9|          59906|       0.0057991|\\n         10|          77821|       0.0050716|\\n         11|         101114|       0.0037588|\\n\\n\")"
      ]
     },
     "execution_count": 51,
     "metadata": {},
     "output_type": "execute_result"
    }
   ],
   "source": [
    "hfss.get_convergences() # Make sure that it converges"
   ]
  },
  {
   "cell_type": "markdown",
   "id": "4617eadf",
   "metadata": {},
   "source": []
  },
  {
   "cell_type": "code",
   "execution_count": 52,
   "id": "c1f26b38",
   "metadata": {},
   "outputs": [],
   "source": [
    "# extract the S21 parameters\n",
    "freqs, Pcurves, Pparams = hfss.get_params(['S21'])\n",
    "# find argmin \n",
    "f_res = freqs[np.argmin(np.abs(Pparams.S21.values))]\n",
    "f_res # If the dip at f_res is not deep enough to be the minimum in the plot, try to eyeball its location and set it here. A better way would be to use scipy's find_peaks functionality"
   ]
  },
  {
   "cell_type": "markdown",
   "id": "43df3d00",
   "metadata": {},
   "source": [
    "# Narrow sweep around the resonance found above"
   ]
  },
  {
   "cell_type": "code",
   "execution_count": 55,
   "id": "7e645a46",
   "metadata": {},
   "outputs": [
    {
     "name": "stderr",
     "output_type": "stream",
     "text": [
      "INFO 10:48AM [get_setup]: \tOpened setup `Sweep_DrivenModal_setup`  (<class 'pyEPR.ansys.HfssDMSetup'>)\n",
      "INFO 10:48AM [get_setup]: \tOpened setup `Sweep_DrivenModal_setup`  (<class 'pyEPR.ansys.HfssDMSetup'>)\n",
      "INFO 10:48AM [analyze]: Analyzing setup Sweep_DrivenModal_setup : Sweep\n"
     ]
    }
   ],
   "source": [
    "em1.setup.sweep_setup.start_ghz = np.round(f_res/1e9,5)-0.05\n",
    "em1.setup.sweep_setup.stop_ghz = np.round(f_res/1e9,5)+0.05\n",
    "em1._analyze()"
   ]
  },
  {
   "cell_type": "code",
   "execution_count": 58,
   "id": "f06626b4",
   "metadata": {},
   "outputs": [
    {
     "data": {
      "text/plain": [
       "(                        S21\n",
       " 6.37160 -0.856579+0.515993j\n",
       " 6.37161 -0.856578+0.515995j\n",
       " 6.37162 -0.856577+0.515997j\n",
       " 6.37163 -0.856576+0.515999j\n",
       " 6.37164 -0.856574+0.516001j\n",
       " ...                     ...\n",
       " 6.47156 -0.859590+0.510894j\n",
       " 6.47157 -0.859589+0.510896j\n",
       " 6.47158 -0.859588+0.510898j\n",
       " 6.47159 -0.859587+0.510900j\n",
       " 6.47160 -0.859586+0.510902j\n",
       " \n",
       " [10001 rows x 1 columns],\n",
       " <Figure size 1000x600 with 2 Axes>)"
      ]
     },
     "execution_count": 58,
     "metadata": {},
     "output_type": "execute_result"
    }
   ],
   "source": [
    "hfss.plot_params(['S21'])"
   ]
  },
  {
   "cell_type": "code",
   "execution_count": 59,
   "id": "743b8dcf",
   "metadata": {},
   "outputs": [],
   "source": [
    "freqs, Pcurves, Pparams = hfss.get_params(['S21'])"
   ]
  },
  {
   "cell_type": "code",
   "execution_count": 62,
   "id": "1c71579a",
   "metadata": {},
   "outputs": [
    {
     "data": {
      "text/plain": [
       "6421660000.0"
      ]
     },
     "execution_count": 62,
     "metadata": {},
     "output_type": "execute_result"
    }
   ],
   "source": [
    "# find argmin\n",
    "f_res = freqs[np.argmin(np.abs(Pparams.S21.values))]\n",
    "f_res"
   ]
  },
  {
   "cell_type": "markdown",
   "id": "43df3d00",
   "metadata": {},
   "source": [
    "# Very-Narrow sweep around the resonance found above"
   ]
  },
  {
   "cell_type": "code",
   "execution_count": 64,
   "id": "7e645a46",
   "metadata": {},
   "outputs": [
    {
     "name": "stderr",
     "output_type": "stream",
     "text": [
      "INFO 10:51AM [get_setup]: \tOpened setup `Sweep_DrivenModal_setup`  (<class 'pyEPR.ansys.HfssDMSetup'>)\n",
      "INFO 10:51AM [get_setup]: \tOpened setup `Sweep_DrivenModal_setup`  (<class 'pyEPR.ansys.HfssDMSetup'>)\n",
      "INFO 10:51AM [analyze]: Analyzing setup Sweep_DrivenModal_setup : Sweep\n"
     ]
    }
   ],
   "source": [
    "em1.setup.sweep_setup.start_ghz = np.round(f_res/1e9,5)-0.005\n",
    "em1.setup.sweep_setup.stop_ghz = np.round(f_res/1e9,5)+0.005\n",
    "em1._analyze()"
   ]
  },
  {
   "cell_type": "code",
   "execution_count": 65,
   "id": "f06626b4",
   "metadata": {},
   "outputs": [
    {
     "data": {
      "text/plain": [
       "(                         S21\n",
       " 6.416660 -0.817559+0.571696j\n",
       " 6.416661 -0.817550+0.571707j\n",
       " 6.416662 -0.817541+0.571718j\n",
       " 6.416663 -0.817532+0.571729j\n",
       " 6.416664 -0.817523+0.571740j\n",
       " ...                      ...\n",
       " 6.426656 -0.889979+0.449985j\n",
       " 6.426657 -0.889973+0.449998j\n",
       " 6.426658 -0.889968+0.450011j\n",
       " 6.426659 -0.889962+0.450025j\n",
       " 6.426660 -0.889957+0.450038j\n",
       " \n",
       " [10001 rows x 1 columns],\n",
       " <Figure size 1000x600 with 2 Axes>)"
      ]
     },
     "execution_count": 65,
     "metadata": {},
     "output_type": "execute_result"
    }
   ],
   "source": [
    "hfss.plot_params(['S21'])"
   ]
  },
  {
   "cell_type": "code",
   "execution_count": 66,
   "id": "743b8dcf",
   "metadata": {},
   "outputs": [],
   "source": [
    "freqs, Pcurves, Pparams = hfss.get_params(['S21'])"
   ]
  },
  {
   "cell_type": "code",
   "execution_count": 67,
   "id": "279fc0bd",
   "metadata": {},
   "outputs": [
    {
     "data": {
      "text/plain": [
       "({'amplitude_complex': (-0.8175586777425192+0.5716957692308889j),\n",
       "  'Qr': 9781.637982450446,\n",
       "  'Qc': 9803.308924811008,\n",
       "  'fr': 6421661392.182717,\n",
       "  'phi0': 0.0023751896111647887,\n",
       "  'delay': -2.2608224767586054e-09},\n",
       " [<Figure size 1280x960 with 3 Axes>,\n",
       "  array([<AxesSubplot:xlabel='Freq (Hz)', ylabel='|S21|'>,\n",
       "         <AxesSubplot:xlabel='Freq (Hz)', ylabel='arg(S21)'>,\n",
       "         <AxesSubplot:xlabel='Re(S21)', ylabel='Im(S21)'>], dtype=object)])"
      ]
     },
     "execution_count": 67,
     "metadata": {},
     "output_type": "execute_result"
    }
   ],
   "source": [
    "from qiskit_metal.analyses.em.transmission_fitting import fit_transmission"
   ]
  },
  {
   "cell_type": "code",
   "execution_count": null,
   "id": "d491d5e9",
   "metadata": {},
   "outputs": [],
   "source": [
    "fit_transmission(freqs,Pparams.S21.values) # This fits the transmission, plots the fit over the raw data, and returns only the parameters best fit parameters and plots"
   ]
  },
  {
   "cell_type": "code",
   "execution_count": null,
   "id": "df655bf8",
   "metadata": {},
   "outputs": [],
   "source": [
    "# This fits the transmission, but does not generate the plot. Also, returns the fit parameters as a vector and the associated covariance matrix\n",
    "fit_dict, _, fit_vec, fit_cov = fit_transmission(freqs,Pparams.S21.values, full_output=True, plot=False)\n",
    "\n",
    "# To obtain the standard deviations from the covariance matrix, use the below\n",
    "np.sqrt(np.diag(fit_cov))"
   ]
  },
  {
   "cell_type": "markdown",
   "id": "c72f2f6d",
   "metadata": {},
   "source": [
    "# Close connections"
   ]
  },
  {
   "cell_type": "code",
   "execution_count": 37,
   "id": "8ef1b7bb",
   "metadata": {},
   "outputs": [],
   "source": [
    "#from qiskit_metal import q13"
   ]
  },
  {
   "cell_type": "code",
   "execution_count": 68,
   "id": "80694931",
   "metadata": {},
   "outputs": [
    {
     "name": "stdout",
     "output_type": "stream",
     "text": [
      "Warning! 3 COM references still alive\n",
      "Ansys will likely refuse to shut down\n"
     ]
    }
   ],
   "source": [
    "em1.close()"
   ]
  },
  {
   "cell_type": "code",
   "execution_count": 69,
   "id": "13927800",
   "metadata": {},
   "outputs": [
    {
     "name": "stdout",
     "output_type": "stream",
     "text": [
      "Warning! 3 COM references still alive\n",
      "Ansys will likely refuse to shut down\n"
     ]
    }
   ],
   "source": [
    "hfss.disconnect_ansys()"
   ]
  },
  {
   "cell_type": "code",
   "execution_count": 40,
   "id": "dc2621b9",
   "metadata": {},
   "outputs": [],
   "source": [
    "#gui.main_window.close()"
   ]
  }
 ],
 "metadata": {
  "interpreter": {
   "hash": "02a7f130499a2b83a6c839d5429524d9237546653577440f6602b9b30b8b4215"
  },
  "kernelspec": {
   "display_name": "Python [conda env:metal]",
   "language": "python",
   "name": "python3"
  },
  "language_info": {
   "codemirror_mode": {
    "name": "ipython",
    "version": 3
   },
   "file_extension": ".py",
   "mimetype": "text/x-python",
   "name": "python",
   "nbconvert_exporter": "python",
   "pygments_lexer": "ipython3",
   "version": "3.9.7"
  },
  "latex_envs": {
   "LaTeX_envs_menu_present": true,
   "autoclose": false,
   "autocomplete": true,
   "bibliofile": "biblio.bib",
   "cite_by": "apalike",
   "current_citInitial": 1,
   "eqLabelWithNumbers": true,
   "eqNumInitial": 1,
   "hotkeys": {
    "equation": "Ctrl-E",
    "itemize": "Ctrl-I"
   },
   "labels_anchors": false,
   "latex_user_defs": false,
   "report_style_numbering": false,
   "user_envs_cfg": false
  },
  "toc": {
   "base_numbering": 1,
   "nav_menu": {},
   "number_sections": true,
   "sideBar": true,
   "skip_h1_title": false,
   "title_cell": "Table of Contents",
   "title_sidebar": "Contents",
   "toc_cell": false,
   "toc_position": {},
   "toc_section_display": true,
   "toc_window_display": false
  }
 },
 "nbformat": 4,
 "nbformat_minor": 5
}
