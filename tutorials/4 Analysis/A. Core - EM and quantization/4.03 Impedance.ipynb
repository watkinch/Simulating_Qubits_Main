{
 "cells": [
  {
   "cell_type": "markdown",
   "id": "48941c99",
   "metadata": {},
   "source": [
    "# Impedance, admittance and scattering analysis\n",
    "### Prerequisite\n",
    "You need to have a working local installation of Ansys."
   ]
  },
  {
   "cell_type": "code",
   "execution_count": 2,
   "id": "31117997",
   "metadata": {},
   "outputs": [],
   "source": [
    "%load_ext autoreload\n",
    "%autoreload 2\n",
    "\n",
    "import qiskit_metal as metal\n",
    "from qiskit_metal import designs, draw\n",
    "from qiskit_metal import MetalGUI, Dict, Headings\n",
    "import pyEPR as epr\n",
    "from qiskit_metal.renderers.renderer_ansys_pyaedt.pyaedt_base import QPyaedt\n",
    "from qiskit_metal.designs.design_multiplanar import MultiPlanar\n",
    "from qiskit_metal.renderers.renderer_ansys_pyaedt.q3d_renderer_aedt import QQ3DPyaedt\n",
    "from qiskit_metal.renderers.renderer_ansys_pyaedt.hfss_renderer_drivenmodal_aedt import QHFSSDrivenmodalPyaedt\n",
    "from qiskit_metal.renderers.renderer_ansys_pyaedt.hfss_renderer_eigenmode_aedt import QHFSSEigenmodePyaedt"
   ]
  },
  {
   "cell_type": "markdown",
   "id": "3a730d65",
   "metadata": {},
   "source": [
    "## 1. Create the design in Metal\n",
    "Set up a design of a given dimension. Dimensions will be respected in the design rendering. <br>\n",
    "Note that the design will be centered in the origin, will thus equally extend in all quadrants."
   ]
  },
  {
   "cell_type": "code",
   "execution_count": 3,
   "id": "f655f8a0",
   "metadata": {},
   "outputs": [],
   "source": [
    "design = designs.DesignPlanar({}, True)\n",
    "design.chips.main.size['size_x'] = '2mm'\n",
    "design.chips.main.size['size_y'] = '2mm'\n",
    "\n",
    "gui = MetalGUI(design)"
   ]
  },
  {
   "cell_type": "markdown",
   "id": "014f9883",
   "metadata": {},
   "source": [
    "Create a single transmon with one readout resonator. It will show in the center of the previously defined chip."
   ]
  },
  {
   "cell_type": "code",
   "execution_count": 4,
   "id": "9c374a1f",
   "metadata": {},
   "outputs": [],
   "source": [
    "from qiskit_metal.qlibrary.qubits.transmon_pocket import TransmonPocket\n",
    "\n",
    "design.delete_all_components()\n",
    "\n",
    "q1 = TransmonPocket(design, 'Q1', options =  dict(\n",
    "    pad_width = '425 um', \n",
    "    pocket_height = '650um',\n",
    "    connection_pads=dict(\n",
    "        readout = dict(loc_W=+1,loc_H=+1, pad_width='200um')\n",
    "    )))\n",
    "\n",
    "gui.rebuild()\n",
    "gui.autoscale()"
   ]
  },
  {
   "cell_type": "markdown",
   "id": "55bddc4c",
   "metadata": {},
   "source": [
    "## 2. Eigenmode and Impedance analysis using the analysis package - most users\n",
    "\n",
    "#### Setup\n",
    "\n",
    "Select the analysis you intend to run from the `qiskit_metal.analyses` collection.<br>\n",
    "Select the design to analyze and the tool to use for any external simulation."
   ]
  },
  {
   "cell_type": "code",
   "execution_count": 5,
   "id": "c4d426de",
   "metadata": {},
   "outputs": [],
   "source": [
    "from qiskit_metal.analyses.simulation import ScatteringImpedanceSim\n",
    "em1 = QHFSSDrivenmodalPyaedt(design, 'hfss_dm_project_1',\n",
    "                                 'hfss_dm_design_1')"
   ]
  },
  {
   "cell_type": "markdown",
   "id": "9e7e1a14",
   "metadata": {},
   "source": [
    "Review and update the setup. For driven modal you will need to define not only the simulation convergence parameters, but also the frequency sweep.\n",
    "\n",
    "Customizable parameters and default values:\n",
    "* freq_ghz=5 (simulation frequency)\n",
    "* name=\"Setup\" (setup name)\n",
    "* max_delta_s=0.1 (absolute value of maximum difference in scattering parameter S)\n",
    "* max_passes=10 (maximum number of passes)\n",
    "* min_passes=1 (minimum number of passes)\n",
    "* min_converged=1 (minimum number of converged passes)\n",
    "* pct_refinement=30 (percent refinement)\n",
    "* basis_order=1 (basis order)\n",
    "* vars (global variables to set in the renderer)\n",
    "* sweep_setup (all the parameters of the sweep)\n",
    " * name=\"Sweep\" (name of sweep)\n",
    " * start_ghz=2.0 (starting frequency)\n",
    " * stop_ghz=8.0 (stopping frequency)\n",
    " * count=101 (total number of frequencies)\n",
    " * step_ghz=None (frequency step size)\n",
    " * type=\"Fast\" (type of sweep)\n",
    " * save_fields=False (whether or not to save fields)\n",
    " \n",
    "The following two cells will give you an example on how to update the setup."
   ]
  },
  {
   "cell_type": "code",
   "execution_count": 8,
   "id": "cc2495f3",
   "metadata": {},
   "outputs": [
    {
     "data": {
      "text/plain": [
       "{'name': 'QHFSSDrivenmodalPyaedt_setup',\n",
       " 'SolveType': 'Single',\n",
       " 'Frequency': '5.0',\n",
       " 'MaxDeltaE': '0.01',\n",
       " 'MaximumPasses': '10',\n",
       " 'MinimumPasses': '1',\n",
       " 'MinimumConvergedPasses': '1',\n",
       " 'PercentRefinement': '30',\n",
       " 'BasisOrder': '1',\n",
       " 'MultipleAdaptiveFreqsSetup': {'1GHz': [0.02],\n",
       "  '2GHz': [0.02],\n",
       "  '5GHz': [0.02]},\n",
       " 'BroadbandLowFreq': '2',\n",
       " 'BroadbandHighFreq': '8'}"
      ]
     },
     "execution_count": 8,
     "metadata": {},
     "output_type": "execute_result"
    }
   ],
   "source": [
    "em1.default_setup"
   ]
  },
  {
   "cell_type": "code",
   "execution_count": 15,
   "id": "de44cad4",
   "metadata": {},
   "outputs": [
    {
     "data": {
      "text/plain": [
       "{'name': 'Setup',\n",
       " 'reuse_selected_design': True,\n",
       " 'reuse_setup': True,\n",
       " 'freq_ghz': 5.2,\n",
       " 'max_delta_s': 0.15,\n",
       " 'max_passes': 12,\n",
       " 'min_passes': 1,\n",
       " 'min_converged': 1,\n",
       " 'pct_refinement': 30,\n",
       " 'basis_order': 1,\n",
       " 'vars': {'Lj': '10 nH', 'Cj': '0 fF'},\n",
       " 'sweep_setup': {'name': 'Sweep',\n",
       "  'start_ghz': 2.0,\n",
       "  'stop_ghz': 13,\n",
       "  'count': 101,\n",
       "  'step_ghz': None,\n",
       "  'type': 'Fast',\n",
       "  'save_fields': False},\n",
       " 'run': {'name': 'SingleTM',\n",
       "  'components': [],\n",
       "  'open_terminations': [],\n",
       "  'port_list': [('Q1', 'readout', 70)],\n",
       "  'jj_to_port': [('Q1', 'rect_jj', 50, True)],\n",
       "  'ignored_jjs': None,\n",
       "  'box_plus_buffer': False}}"
      ]
     },
     "execution_count": 15,
     "metadata": {},
     "output_type": "execute_result"
    }
   ],
   "source": [
    "# example: update single setting\n",
    "em1.setup.max_passes = 12\n",
    "em1.setup.sweep_setup.stop_ghz = 13\n",
    "# example: update multiple settings\n",
    "em1.setup_update(max_delta_s = 0.15, freq_ghz = 5.2)\n",
    "\n",
    "em1.setup"
   ]
  },
  {
   "cell_type": "markdown",
   "id": "ae8d41f6",
   "metadata": {},
   "source": [
    "#### Execute simulation and observe the Impedence\n",
    "Analyze a single qubit with shorted terminations. Assign lumped ports on the readout and on the junction. Then observe the impedance plots.\n",
    "\n",
    "Here, pin Q1_a is converted into a lumped port with an impedance of 70 Ohms. <br>\n",
    "Meanwhile, the central junction Q1_rect_jj is rendered as both a port and an inductor with an impedance of 50 Ohms and an inductance of 10 nH, respectively.\n",
    "\n",
    "The 10nH inductance value is taken from the component option `hfss_inductance` (And the component options find their way in the QGeometry tables by rebuilding). So let's demonstrate how to update the inductance of the junction in the next cell."
   ]
  },
  {
   "cell_type": "code",
   "execution_count": 9,
   "id": "830b26af",
   "metadata": {},
   "outputs": [],
   "source": [
    "q1.options.hfss_inductance='11nH'\n",
    "gui.rebuild()"
   ]
  },
  {
   "cell_type": "markdown",
   "id": "903aa3a6",
   "metadata": {},
   "source": [
    "Now we can run the simulation with the newly set `11 nH` value."
   ]
  },
  {
   "cell_type": "code",
   "execution_count": 12,
   "id": "1cb20a5a",
   "metadata": {},
   "outputs": [
    {
     "name": "stdout",
     "output_type": "stream",
     "text": [
      "pyaedt INFO: using existing logger.\n"
     ]
    },
    {
     "name": "stderr",
     "output_type": "stream",
     "text": [
      "INFO:Global:using existing logger.\n"
     ]
    },
    {
     "name": "stdout",
     "output_type": "stream",
     "text": [
      "pyaedt INFO: AEDT installation Path C:\\Program Files\\AnsysEM\\Ansys Student\\v222\\Win64\n"
     ]
    },
    {
     "name": "stderr",
     "output_type": "stream",
     "text": [
      "INFO:Global:AEDT installation Path C:\\Program Files\\AnsysEM\\Ansys Student\\v222\\Win64\n"
     ]
    },
    {
     "name": "stdout",
     "output_type": "stream",
     "text": [
      "pyaedt INFO: Launching AEDT with the gRPC plugin.\n"
     ]
    },
    {
     "name": "stderr",
     "output_type": "stream",
     "text": [
      "INFO:Global:Launching AEDT with the gRPC plugin.\n"
     ]
    },
    {
     "name": "stdout",
     "output_type": "stream",
     "text": [
      "pyaedt INFO: New AEDT session is starting on gRPC port 59281\n"
     ]
    },
    {
     "name": "stderr",
     "output_type": "stream",
     "text": [
      "INFO:Global:New AEDT session is starting on gRPC port 59281\n"
     ]
    },
    {
     "name": "stdout",
     "output_type": "stream",
     "text": [
      "pyaedt INFO: Ansoft.ElectronicsDesktop.2022.2SV  version started with process ID 7608.\n"
     ]
    },
    {
     "name": "stderr",
     "output_type": "stream",
     "text": [
      "INFO:Global:Ansoft.ElectronicsDesktop.2022.2SV  version started with process ID 7608.\n"
     ]
    },
    {
     "name": "stdout",
     "output_type": "stream",
     "text": [
      "pyaedt INFO: pyaedt v0.6.46\n"
     ]
    },
    {
     "name": "stderr",
     "output_type": "stream",
     "text": [
      "INFO:Global:pyaedt v0.6.46\n"
     ]
    },
    {
     "name": "stdout",
     "output_type": "stream",
     "text": [
      "pyaedt INFO: Python version 3.11.4 | packaged by conda-forge | (main, Jun 10 2023, 17:59:51) [MSC v.1935 64 bit (AMD64)]\n"
     ]
    },
    {
     "name": "stderr",
     "output_type": "stream",
     "text": [
      "INFO:Global:Python version 3.11.4 | packaged by conda-forge | (main, Jun 10 2023, 17:59:51) [MSC v.1935 64 bit (AMD64)]\n"
     ]
    },
    {
     "name": "stdout",
     "output_type": "stream",
     "text": [
      "pyaedt INFO: Project hfss_dm_project_1 has been created.\n"
     ]
    },
    {
     "name": "stderr",
     "output_type": "stream",
     "text": [
      "INFO:Global:Project hfss_dm_project_1 has been created.\n"
     ]
    },
    {
     "name": "stdout",
     "output_type": "stream",
     "text": [
      "pyaedt INFO: Added design 'hfss_dm_design_1' of type HFSS.\n"
     ]
    },
    {
     "name": "stderr",
     "output_type": "stream",
     "text": [
      "INFO:Global:Added design 'hfss_dm_design_1' of type HFSS.\n"
     ]
    },
    {
     "name": "stdout",
     "output_type": "stream",
     "text": [
      "pyaedt INFO: Aedt Objects initialized\n"
     ]
    },
    {
     "name": "stderr",
     "output_type": "stream",
     "text": [
      "INFO:Global:Aedt Objects initialized\n"
     ]
    },
    {
     "name": "stdout",
     "output_type": "stream",
     "text": [
      "pyaedt INFO: Variable Manager initialized\n"
     ]
    },
    {
     "name": "stderr",
     "output_type": "stream",
     "text": [
      "INFO:Global:Variable Manager initialized\n"
     ]
    },
    {
     "name": "stdout",
     "output_type": "stream",
     "text": [
      "pyaedt INFO: Design Loaded\n"
     ]
    },
    {
     "name": "stderr",
     "output_type": "stream",
     "text": [
      "INFO:Global:Design Loaded\n"
     ]
    },
    {
     "name": "stdout",
     "output_type": "stream",
     "text": [
      "pyaedt INFO: Successfully loaded project materials !\n"
     ]
    },
    {
     "name": "stderr",
     "output_type": "stream",
     "text": [
      "INFO:Global:Successfully loaded project materials !\n"
     ]
    },
    {
     "name": "stdout",
     "output_type": "stream",
     "text": [
      "pyaedt INFO: Materials Loaded\n"
     ]
    },
    {
     "name": "stderr",
     "output_type": "stream",
     "text": [
      "INFO:Global:Materials Loaded\n"
     ]
    },
    {
     "name": "stdout",
     "output_type": "stream",
     "text": [
      "pyaedt INFO: aedt file load time 0.033361196517944336\n"
     ]
    },
    {
     "name": "stderr",
     "output_type": "stream",
     "text": [
      "INFO:Global:aedt file load time 0.033361196517944336\n"
     ]
    },
    {
     "name": "stdout",
     "output_type": "stream",
     "text": [
      "pyaedt INFO: Project hfss_dm_project_1 set to active.\n"
     ]
    },
    {
     "name": "stderr",
     "output_type": "stream",
     "text": [
      "INFO:Global:Project hfss_dm_project_1 set to active.\n"
     ]
    },
    {
     "name": "stdout",
     "output_type": "stream",
     "text": [
      "pyaedt INFO: Aedt Objects initialized\n"
     ]
    },
    {
     "name": "stderr",
     "output_type": "stream",
     "text": [
      "INFO:Global:Aedt Objects initialized\n"
     ]
    },
    {
     "name": "stdout",
     "output_type": "stream",
     "text": [
      "pyaedt INFO: Variable Manager initialized\n"
     ]
    },
    {
     "name": "stderr",
     "output_type": "stream",
     "text": [
      "INFO:Global:Variable Manager initialized\n"
     ]
    },
    {
     "name": "stdout",
     "output_type": "stream",
     "text": [
      "pyaedt INFO: Design Loaded\n"
     ]
    },
    {
     "name": "stderr",
     "output_type": "stream",
     "text": [
      "INFO:Global:Design Loaded\n"
     ]
    },
    {
     "name": "stdout",
     "output_type": "stream",
     "text": [
      "pyaedt INFO: Successfully loaded project materials !\n"
     ]
    },
    {
     "name": "stderr",
     "output_type": "stream",
     "text": [
      "INFO:Global:Successfully loaded project materials !\n"
     ]
    },
    {
     "name": "stdout",
     "output_type": "stream",
     "text": [
      "pyaedt INFO: Materials Loaded\n"
     ]
    },
    {
     "name": "stderr",
     "output_type": "stream",
     "text": [
      "INFO:Global:Materials Loaded\n"
     ]
    },
    {
     "name": "stdout",
     "output_type": "stream",
     "text": [
      "pyaedt INFO: Project hfss_dm_project_1 set to active.\n"
     ]
    },
    {
     "name": "stderr",
     "output_type": "stream",
     "text": [
      "INFO:Global:Project hfss_dm_project_1 set to active.\n"
     ]
    },
    {
     "name": "stdout",
     "output_type": "stream",
     "text": [
      "pyaedt INFO: Aedt Objects initialized\n"
     ]
    },
    {
     "name": "stderr",
     "output_type": "stream",
     "text": [
      "INFO:Global:Aedt Objects initialized\n"
     ]
    },
    {
     "name": "stdout",
     "output_type": "stream",
     "text": [
      "pyaedt INFO: Variable Manager initialized\n"
     ]
    },
    {
     "name": "stderr",
     "output_type": "stream",
     "text": [
      "INFO:Global:Variable Manager initialized\n"
     ]
    },
    {
     "name": "stdout",
     "output_type": "stream",
     "text": [
      "pyaedt INFO: Design Loaded\n"
     ]
    },
    {
     "name": "stderr",
     "output_type": "stream",
     "text": [
      "INFO:Global:Design Loaded\n"
     ]
    },
    {
     "name": "stdout",
     "output_type": "stream",
     "text": [
      "pyaedt INFO: Successfully loaded project materials !\n"
     ]
    },
    {
     "name": "stderr",
     "output_type": "stream",
     "text": [
      "INFO:Global:Successfully loaded project materials !\n"
     ]
    },
    {
     "name": "stdout",
     "output_type": "stream",
     "text": [
      "pyaedt INFO: Materials Loaded\n"
     ]
    },
    {
     "name": "stderr",
     "output_type": "stream",
     "text": [
      "INFO:Global:Materials Loaded\n"
     ]
    },
    {
     "data": {
      "text/plain": [
       "SetupName fun_dm_1 with 0 Sweeps"
      ]
     },
     "execution_count": 12,
     "metadata": {},
     "output_type": "execute_result"
    }
   ],
   "source": [
    "em1.add_hfss_dm_setup()\n",
    "\n",
    "# Reduce MaxPass when running notebook as an example.\n",
    "em1.add_hfss_dm_setup(name='fun_dm_1', MaximumPasses=3)\n",
    "#em1.run(name=\"SingleTM\", components=[], open_terminations=[], port_list=[('Q1', 'readout', 70)],\n",
    "#           jj_to_port=[('Q1', 'rect_jj', 50, True)], box_plus_buffer = False)"
   ]
  },
  {
   "cell_type": "markdown",
   "id": "a7fcd12c",
   "metadata": {},
   "source": [
    "The last variables you pass to the `run()` or `run_sim()` methods, will be stored in the `setup` dictionary under the key `run`. You can recall the information passed by either accessing the dictionary directly, or by using the print handle below."
   ]
  },
  {
   "cell_type": "code",
   "execution_count": 13,
   "id": "dd33f406",
   "metadata": {},
   "outputs": [
    {
     "ename": "AttributeError",
     "evalue": "'QHFSSDrivenmodalPyaedt' object has no attribute 'print_run_args'",
     "output_type": "error",
     "traceback": [
      "\u001b[1;31m---------------------------------------------------------------------------\u001b[0m",
      "\u001b[1;31mAttributeError\u001b[0m                            Traceback (most recent call last)",
      "Cell \u001b[1;32mIn[13], line 2\u001b[0m\n\u001b[0;32m      1\u001b[0m \u001b[38;5;66;03m# em1.setup.run    <- direct access\u001b[39;00m\n\u001b[1;32m----> 2\u001b[0m \u001b[43mem1\u001b[49m\u001b[38;5;241;43m.\u001b[39;49m\u001b[43mprint_run_args\u001b[49m()\n",
      "\u001b[1;31mAttributeError\u001b[0m: 'QHFSSDrivenmodalPyaedt' object has no attribute 'print_run_args'"
     ]
    }
   ],
   "source": [
    "# em1.setup.run    <- direct access\n",
    "em1.print_run_args()"
   ]
  },
  {
   "cell_type": "markdown",
   "id": "94e9bc46",
   "metadata": {},
   "source": [
    "(optional) Captures the renderer GUI."
   ]
  },
  {
   "cell_type": "code",
   "execution_count": null,
   "id": "d6e00145",
   "metadata": {},
   "outputs": [],
   "source": [
    "em1.save_screenshot()"
   ]
  },
  {
   "cell_type": "markdown",
   "id": "b20bd592",
   "metadata": {},
   "source": [
    "(optional) if you ever feel the need to remind yourself which project, design, and setup is currently active (connected to qiskit-metal) you can use the following lines."
   ]
  },
  {
   "cell_type": "code",
   "execution_count": null,
   "id": "d0c9ad87",
   "metadata": {},
   "outputs": [],
   "source": [
    "print(f\"\"\"\n",
    "project_name = {em1.renderer.pinfo.project_name}\n",
    "design_name  = {em1.renderer.pinfo.design_name}\n",
    "setup_name   = {em1.renderer.pinfo.setup_name}\n",
    "\"\"\")"
   ]
  },
  {
   "cell_type": "markdown",
   "id": "b13286c9",
   "metadata": {},
   "source": [
    "Finally, you can plot the various parameters. The semicolon at the end of the cell can be used to suppress the inline return."
   ]
  },
  {
   "cell_type": "code",
   "execution_count": null,
   "id": "b1aae4dd",
   "metadata": {},
   "outputs": [],
   "source": [
    "em1.get_impedance();  # default: ['Z11', 'Z21']"
   ]
  },
  {
   "cell_type": "code",
   "execution_count": 14,
   "id": "7d8772f7",
   "metadata": {},
   "outputs": [
    {
     "ename": "AttributeError",
     "evalue": "'QHFSSDrivenmodalPyaedt' object has no attribute 'get_admittance'",
     "output_type": "error",
     "traceback": [
      "\u001b[1;31m---------------------------------------------------------------------------\u001b[0m",
      "\u001b[1;31mAttributeError\u001b[0m                            Traceback (most recent call last)",
      "Cell \u001b[1;32mIn[14], line 1\u001b[0m\n\u001b[1;32m----> 1\u001b[0m \u001b[43mem1\u001b[49m\u001b[38;5;241;43m.\u001b[39;49m\u001b[43mget_admittance\u001b[49m();  \u001b[38;5;66;03m# default: ['Y11', 'Y21']\u001b[39;00m\n",
      "\u001b[1;31mAttributeError\u001b[0m: 'QHFSSDrivenmodalPyaedt' object has no attribute 'get_admittance'"
     ]
    }
   ],
   "source": [
    "em1.get_admittance();  # default: ['Y11', 'Y21']"
   ]
  },
  {
   "cell_type": "code",
   "execution_count": 15,
   "id": "2b89439c",
   "metadata": {},
   "outputs": [
    {
     "ename": "AttributeError",
     "evalue": "'QHFSSDrivenmodalPyaedt' object has no attribute 'get_scattering'",
     "output_type": "error",
     "traceback": [
      "\u001b[1;31m---------------------------------------------------------------------------\u001b[0m",
      "\u001b[1;31mAttributeError\u001b[0m                            Traceback (most recent call last)",
      "Cell \u001b[1;32mIn[15], line 1\u001b[0m\n\u001b[1;32m----> 1\u001b[0m \u001b[43mem1\u001b[49m\u001b[38;5;241;43m.\u001b[39;49m\u001b[43mget_scattering\u001b[49m();  \u001b[38;5;66;03m# default: ['S11', 'S21', 'S22']\u001b[39;00m\n",
      "\u001b[1;31mAttributeError\u001b[0m: 'QHFSSDrivenmodalPyaedt' object has no attribute 'get_scattering'"
     ]
    },
    {
     "name": "stderr",
     "output_type": "stream",
     "text": [
      "07:50PM 54s CRITICAL [_qt_message_handler]: line: 0, func: None(), file: None  WARNING: Could not create pixmap from c:\\users\f",
      "hris\\qiskit-metal\\qiskit_metal\\_gui\\styles\\metal_dark\\rc\\transparent.png\n",
      "\n",
      "07:50PM 54s CRITICAL [_qt_message_handler]: line: 0, func: None(), file: None  WARNING: Could not create pixmap from c:\\users\f",
      "hris\\qiskit-metal\\qiskit_metal\\_gui\\styles\\metal_dark\\rc\\transparent.png\n",
      "\n",
      "08:03PM 23s CRITICAL [_qt_message_handler]: line: 0, func: None(), file: None  WARNING: Could not create pixmap from c:\\users\f",
      "hris\\qiskit-metal\\qiskit_metal\\_gui\\styles\\metal_dark\\rc\\transparent.png\n",
      "\n",
      "08:03PM 23s CRITICAL [_qt_message_handler]: line: 0, func: None(), file: None  WARNING: Could not create pixmap from c:\\users\f",
      "hris\\qiskit-metal\\qiskit_metal\\_gui\\styles\\metal_dark\\rc\\transparent.png\n",
      "\n",
      "08:03PM 23s CRITICAL [_qt_message_handler]: line: 0, func: None(), file: None  WARNING: Could not create pixmap from c:\\users\f",
      "hris\\qiskit-metal\\qiskit_metal\\_gui\\styles\\metal_dark\\rc\\transparent.png\n",
      "\n",
      "08:03PM 23s CRITICAL [_qt_message_handler]: line: 0, func: None(), file: None  WARNING: Could not create pixmap from c:\\users\f",
      "hris\\qiskit-metal\\qiskit_metal\\_gui\\styles\\metal_dark\\rc\\transparent.png\n",
      "\n",
      "08:03PM 25s CRITICAL [_qt_message_handler]: line: 0, func: None(), file: None  WARNING: Could not create pixmap from c:\\users\f",
      "hris\\qiskit-metal\\qiskit_metal\\_gui\\styles\\metal_dark\\rc\\transparent.png\n",
      "\n",
      "08:03PM 25s CRITICAL [_qt_message_handler]: line: 0, func: None(), file: None  WARNING: Could not create pixmap from c:\\users\f",
      "hris\\qiskit-metal\\qiskit_metal\\_gui\\styles\\metal_dark\\rc\\transparent.png\n",
      "\n",
      "08:03PM 25s CRITICAL [_qt_message_handler]: line: 0, func: None(), file: None  WARNING: Could not create pixmap from c:\\users\f",
      "hris\\qiskit-metal\\qiskit_metal\\_gui\\styles\\metal_dark\\rc\\transparent.png\n",
      "\n",
      "08:03PM 25s CRITICAL [_qt_message_handler]: line: 0, func: None(), file: None  WARNING: Could not create pixmap from c:\\users\f",
      "hris\\qiskit-metal\\qiskit_metal\\_gui\\styles\\metal_dark\\rc\\transparent.png\n",
      "\n"
     ]
    }
   ],
   "source": [
    "em1.get_scattering();  # default: ['S11', 'S21', 'S22']"
   ]
  },
  {
   "cell_type": "markdown",
   "id": "cfb53a5b",
   "metadata": {},
   "source": [
    "Finally, disconnect from Ansys."
   ]
  },
  {
   "cell_type": "code",
   "execution_count": null,
   "id": "bbbe3e5b",
   "metadata": {},
   "outputs": [],
   "source": [
    "em1.close()"
   ]
  },
  {
   "cell_type": "markdown",
   "id": "a5100f60",
   "metadata": {},
   "source": [
    "## 3. Directly access the renderer to modify other parameters"
   ]
  },
  {
   "cell_type": "code",
   "execution_count": null,
   "id": "b7945111",
   "metadata": {},
   "outputs": [],
   "source": [
    "em1.start()\n",
    "em1.renderer"
   ]
  },
  {
   "cell_type": "markdown",
   "id": "ff625c0c",
   "metadata": {},
   "source": [
    "Every renderer will have its own collection of methods. Below an example with hfss."
   ]
  },
  {
   "cell_type": "markdown",
   "id": "b618c2a5",
   "metadata": {},
   "source": [
    "##### Prepare and run a collection of predefined setups\n",
    "\n",
    "This is equivalent to going to the Project Manager panel in Ansys, right clicking on Analysis within the active HFSS design, selecting \"Add Solution Setup...\", and choosing/entering default values in the resulting popup window. You might want to do this to keep track of different solution setups, giving each of them a different/specific name."
   ]
  },
  {
   "cell_type": "code",
   "execution_count": null,
   "id": "e57db5d7",
   "metadata": {},
   "outputs": [],
   "source": [
    "setup = em1.renderer.new_ansys_setup(name = \"Setup_demo\", max_passes = 6)"
   ]
  },
  {
   "cell_type": "markdown",
   "id": "8a506488",
   "metadata": {},
   "source": [
    "You can directly pass to `new_ansys_setup` all the setup parameters. Of course you will then need to run the individual setups by name as well."
   ]
  },
  {
   "cell_type": "code",
   "execution_count": null,
   "id": "2a3ebd0a",
   "metadata": {},
   "outputs": [],
   "source": [
    "em1.renderer.analyze_setup(setup.name)"
   ]
  },
  {
   "cell_type": "code",
   "execution_count": null,
   "id": "d3aa6617",
   "metadata": {},
   "outputs": [],
   "source": [
    "em1.close()"
   ]
  }
 ],
 "metadata": {
  "kernelspec": {
   "display_name": "Python 3 (ipykernel)",
   "language": "python",
   "name": "python3"
  },
  "language_info": {
   "codemirror_mode": {
    "name": "ipython",
    "version": 3
   },
   "file_extension": ".py",
   "mimetype": "text/x-python",
   "name": "python",
   "nbconvert_exporter": "python",
   "pygments_lexer": "ipython3",
   "version": "3.11.4"
  }
 },
 "nbformat": 4,
 "nbformat_minor": 5
}
