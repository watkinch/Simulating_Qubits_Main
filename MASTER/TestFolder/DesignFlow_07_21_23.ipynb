{
 "cells": [
  {
   "cell_type": "code",
   "execution_count": 1,
   "id": "e36a9509",
   "metadata": {},
   "outputs": [],
   "source": [
    "%load_ext autoreload\n",
    "%autoreload 2\n",
    "import warnings \n",
    "warnings.filterwarnings(\"ignore\")"
   ]
  },
  {
   "cell_type": "code",
   "execution_count": 2,
   "id": "8eecfb70",
   "metadata": {},
   "outputs": [],
   "source": [
    "from qiskit_metal import designs, MetalGUI\n",
    "from qiskit_metal.qlibrary.sample_shapes.rectangle import Rectangle\n",
    "from qiskit_metal.qlibrary.qubits.transmon_pocket import TransmonPocket\n",
    "from qiskit_metal.qlibrary.qubits.Transmon_Interdigitated import TransmonInterdigitated\n",
    "from qiskit_metal.qlibrary.tlines.straight_path import RouteStraight\n",
    "from qiskit_metal.qlibrary.tlines.meandered import RouteMeander\n",
    "from qiskit_metal.qlibrary.terminations.open_to_ground import OpenToGround\n",
    "from qiskit_metal.qlibrary.terminations.short_to_ground import ShortToGround\n",
    "from qiskit_metal.designs.design_multiplanar import MultiPlanar\n",
    "import pandas as pd\n"
   ]
  },
  {
   "cell_type": "markdown",
   "id": "5da52e53",
   "metadata": {},
   "source": [
    "# Main Design"
   ]
  },
  {
   "cell_type": "code",
   "execution_count": 3,
   "id": "b1f897fb",
   "metadata": {},
   "outputs": [
    {
     "name": "stderr",
     "output_type": "stream",
     "text": [
      "06:51PM 09s CRITICAL [_qt_message_handler]: line: 0, func: None(), file: None  WARNING: Could not create pixmap from c:\\users\f",
      "hris\\qiskit-metal\\qiskit_metal\\_gui\\styles\\metal_dark\\rc\\transparent.png\n",
      "\n",
      "06:51PM 09s CRITICAL [_qt_message_handler]: line: 0, func: None(), file: None  WARNING: Could not create pixmap from c:\\users\f",
      "hris\\qiskit-metal\\qiskit_metal\\_gui\\styles\\metal_dark\\rc\\transparent.png\n",
      "\n"
     ]
    }
   ],
   "source": [
    "design = MultiPlanar({},overwrite_enabled = True, layer_stack_filename = \"layer_stack.txt\")\n",
    "\n",
    "gui = MetalGUI(design)"
   ]
  },
  {
   "cell_type": "markdown",
   "id": "7b80d5f3",
   "metadata": {},
   "source": [
    "## Qubit Design"
   ]
  },
  {
   "cell_type": "code",
   "execution_count": 4,
   "id": "81abb9e3",
   "metadata": {},
   "outputs": [],
   "source": [
    "design.delete_all_components()\n",
    "\n",
    "#### Design so Resonator is coupled strongly to each qubit-> large cap leads to large dispersive shift\n",
    "\n",
    "conn_pads1 = dict(connection_pads = dict(coupler = dict(loc_W=1, loc_H=1, pad_width = '100um'),\n",
    "                                         readout = dict(loc_W=-1, loc_H=-1, pad_width = '100um')))\n",
    "\n",
    "conn_pads2 = dict(pad_width = '550um',\n",
    "                  connection_pads = dict(coupler = dict(loc_W = -1, loc_H = 1,pad_width = '175um'),\n",
    "                                         readout = dict(loc_W=1, loc_H=-1, pad_width='175um')))\n",
    "q1 = TransmonPocket(design, \"Q1\", options=dict(pos_x='-0.5mm', pos_y='+0.0mm', layer=1, **conn_pads1))\n",
    "q2 = TransmonPocket(design, \"Q2\", options=dict(pos_x='+0.5mm', pos_y='+0.0mm', layer=1, **conn_pads2))\n",
    "\n",
    "gui.rebuild()\n",
    "gui.autoscale()"
   ]
  },
  {
   "cell_type": "markdown",
   "id": "c7ab7643",
   "metadata": {},
   "source": [
    "## Coupler Design"
   ]
  },
  {
   "cell_type": "code",
   "execution_count": 5,
   "id": "7e5df527",
   "metadata": {},
   "outputs": [],
   "source": [
    "coupler_options = dict(pin_inputs = dict(start_pin = dict(component=q2.name, pin='coupler'),\n",
    "                                         end_pin = dict(component=q1.name, pin='coupler')))\n",
    "\n",
    "coupler_connector = RouteStraight(design, 'coupler_connector', options = coupler_options)\n",
    "\n",
    "gui.rebuild()\n",
    "gui.autoscale()"
   ]
  },
  {
   "cell_type": "markdown",
   "id": "e80be104",
   "metadata": {},
   "source": [
    "## Readout Resonator Design"
   ]
  },
  {
   "cell_type": "code",
   "execution_count": 6,
   "id": "e6340ea8",
   "metadata": {},
   "outputs": [],
   "source": [
    "otg11_options = dict(pos_x='-1.5mm', pos_y = '0.0mm', orientation='180', layer='3')\n",
    "otg21_options = dict(pos_x='+1.5mm', pos_y = '0.0mm', orientation='0', layer='3')\n",
    "otg12_options = dict(pos_x='-0.955mm', pos_y = '-0.195mm', orientation='0', layer='3')\n",
    "otg22_options = dict(pos_x='+0.955mm', pos_y = '-0.1955mm', orientation='180', layer='3')\n",
    "otg11 = OpenToGround(design, 'otg11' ,options=otg11_options)\n",
    "otg21 = OpenToGround(design, 'otg21' ,options=otg21_options)\n",
    "otg12 = OpenToGround(design, 'otg12' ,options=otg12_options)\n",
    "otg22 = OpenToGround(design, 'otg22' ,options=otg22_options)\n",
    "\n",
    "readout1_options = dict(total_length = '5.97mm', fillet = '40um', \n",
    "                        pin_inputs = dict(start_pin = dict(component = otg11.name, pin='open'),\n",
    "                                          end_pin = dict(component = otg12.name, pin = 'open')),\n",
    "                        lead = dict(start_straight='150um'),\n",
    "                        meander=dict(spacing = '100um', asymmetry = '0'),\n",
    "                        layer = '3')\n",
    "\n",
    "readout2_options = dict(total_length = '5.97mm', fillet = '40um', \n",
    "                        pin_inputs = dict(start_pin = dict(component = otg22.name, pin='open'),\n",
    "                                          end_pin = dict(component = otg21.name, pin = 'open')),\n",
    "                        lead = dict(start_straight='120um'),\n",
    "                        meander=dict(spacing = '100um', asymmetry = '0.2'),\n",
    "                        layer = '3')\n",
    "\n",
    "readout1 = RouteMeander(design, 'readout1', options = readout1_options)\n",
    "readout2 = RouteMeander(design, 'readout2', options = readout2_options)\n",
    "\n",
    "gui.rebuild()\n",
    "gui.autoscale()"
   ]
  },
  {
   "cell_type": "markdown",
   "id": "76aa5c9d",
   "metadata": {},
   "source": [
    "## Via Creation and Dielectric"
   ]
  },
  {
   "cell_type": "code",
   "execution_count": 7,
   "id": "48326d35",
   "metadata": {},
   "outputs": [],
   "source": [
    "via_positions = [('-0.94mm','-0.1950mm'),('+0.94mm','-0.1950mm')]\n",
    "\n",
    "for layer in ['1','2','3']:\n",
    "    for via, positions in enumerate(via_positions):\n",
    "        for subtract in zip([False,True],['30um','42um']):\n",
    "            via_size = '20um' if layer =='2' else subtract[1]\n",
    "            actual_layer = '5' if (layer == '2' and subtract[0]) else layer\n",
    "            via_options = dict(width = via_size,\n",
    "                               height = via_size,\n",
    "                               pos_x = positions[0],\n",
    "                               pos_y = positions[1],\n",
    "                               subtract = subtract[0],\n",
    "                               layer = actual_layer,\n",
    "                               orientation = '0',\n",
    "                               helper = 'False',\n",
    "                               chip = 'main' )\n",
    "            name = 'via' +str(via+1) +'_layer' + actual_layer+('' if not subtract[0] else '_sub')\n",
    "            Rectangle(design, name, via_options)\n",
    "            #print(subtract)\n",
    "            #print(layer == '2' and subtract[0])\n",
    "    \n",
    "gui.rebuild()\n",
    "gui.autoscale()\n",
    "            "
   ]
  },
  {
   "cell_type": "markdown",
   "id": "e873a02d",
   "metadata": {},
   "source": [
    "# Render and Extract Capacitance Matrix"
   ]
  },
  {
   "cell_type": "code",
   "execution_count": 8,
   "id": "899a4dbb",
   "metadata": {},
   "outputs": [],
   "source": [
    "from qiskit_metal.renderers.renderer_elmer.elmer_renderer import QElmerRenderer"
   ]
  },
  {
   "cell_type": "markdown",
   "id": "9d0d0e00",
   "metadata": {},
   "source": [
    "## Render"
   ]
  },
  {
   "cell_type": "code",
   "execution_count": 9,
   "id": "74969aaf",
   "metadata": {},
   "outputs": [],
   "source": [
    "#elmer_renderer = QElmerRenderer(design, layer_types = dict(metal = [1,2,3], dielectric = [4,5]))\n",
    "#elmer_renderer.render_design(mesh_geoms = True,\n",
    "#                             skip_junctions= True,\n",
    "#                             open_pins=[(\"Q1\",\"readout\"),(\"Q2\",\"readout\")],\n",
    "#                             omit_ground_for_layers = [2])\n",
    "#elmer_renderer.launch_gmsh_gui()"
   ]
  },
  {
   "cell_type": "code",
   "execution_count": null,
   "id": "26e5f2bb",
   "metadata": {},
   "outputs": [],
   "source": []
  },
  {
   "cell_type": "markdown",
   "id": "316df4ef",
   "metadata": {},
   "source": [
    "## Generate Capacitance Matrix"
   ]
  },
  {
   "cell_type": "code",
   "execution_count": 10,
   "id": "66a0cf00",
   "metadata": {},
   "outputs": [],
   "source": [
    "#elmer_renderer.export_mesh()\n",
    "#elmer_renderer.add_solution_setup('capacitance')\n",
    "#elmer_renderer.run('capacitance')"
   ]
  },
  {
   "cell_type": "code",
   "execution_count": 11,
   "id": "fc856db9",
   "metadata": {},
   "outputs": [],
   "source": [
    "#cap_matrix = elmer_renderer.capacitance_matrix\n",
    "#cap_matrix"
   ]
  },
  {
   "cell_type": "code",
   "execution_count": 12,
   "id": "054826d2",
   "metadata": {},
   "outputs": [],
   "source": [
    "#elmer_renderer.display_post_processing_data()\n",
    "#elmer_renderer.close()"
   ]
  },
  {
   "cell_type": "code",
   "execution_count": 13,
   "id": "aa04d9a3",
   "metadata": {},
   "outputs": [],
   "source": [
    "elmer_renderer = QElmerRenderer(design, layer_types=dict(metal=[1,2,3], dielectric=[4,5]))\n",
    "select = ['Q1','via1_layer1', 'via1_layer2', 'via1_layer3', 'via1_layer1_sub', 'via1_layer5_sub', 'via1_layer3_sub']\n",
    "#select = ['Q1']\n",
    "elmer_renderer.render_design(selection=select,  open_pins=[(\"Q1\",\"readout\"),(\"Q1\",\"coupler\")], skip_junctions=True, \n",
    "                            omit_ground_for_layers = [2])\n",
    "\n",
    "#elmer_renderer.launch_gmsh_gui()"
   ]
  },
  {
   "cell_type": "code",
   "execution_count": 14,
   "id": "0110f533",
   "metadata": {
    "scrolled": true
   },
   "outputs": [
    {
     "name": "stderr",
     "output_type": "stream",
     "text": [
      "06:51PM 37s INFO [run]: Running ElmerGrid on input mesh from Gmsh...\n",
      "06:51PM 38s INFO [run]: Running ElmerSolver for solver type: 'capacitance'\n"
     ]
    },
    {
     "data": {
      "text/html": [
       "<div>\n",
       "<style scoped>\n",
       "    .dataframe tbody tr th:only-of-type {\n",
       "        vertical-align: middle;\n",
       "    }\n",
       "\n",
       "    .dataframe tbody tr th {\n",
       "        vertical-align: top;\n",
       "    }\n",
       "\n",
       "    .dataframe thead th {\n",
       "        text-align: right;\n",
       "    }\n",
       "</style>\n",
       "<table border=\"1\" class=\"dataframe\">\n",
       "  <thead>\n",
       "    <tr style=\"text-align: right;\">\n",
       "      <th></th>\n",
       "      <th>Q1_coupler_connector_pad</th>\n",
       "      <th>via1_layer3_rectangle</th>\n",
       "      <th>Q1_pad_top</th>\n",
       "      <th>Q1_pad_bot</th>\n",
       "      <th>ground_plane</th>\n",
       "    </tr>\n",
       "  </thead>\n",
       "  <tbody>\n",
       "    <tr>\n",
       "      <th>Q1_coupler_connector_pad</th>\n",
       "      <td>114.554225</td>\n",
       "      <td>-0.060381</td>\n",
       "      <td>-19.961365</td>\n",
       "      <td>-1.540458</td>\n",
       "      <td>-92.992022</td>\n",
       "    </tr>\n",
       "    <tr>\n",
       "      <th>via1_layer3_rectangle</th>\n",
       "      <td>-0.060381</td>\n",
       "      <td>166.363976</td>\n",
       "      <td>-1.553853</td>\n",
       "      <td>-20.094186</td>\n",
       "      <td>-144.655556</td>\n",
       "    </tr>\n",
       "    <tr>\n",
       "      <th>Q1_pad_top</th>\n",
       "      <td>-19.961365</td>\n",
       "      <td>-1.553853</td>\n",
       "      <td>237.363976</td>\n",
       "      <td>-52.081053</td>\n",
       "      <td>-163.767705</td>\n",
       "    </tr>\n",
       "    <tr>\n",
       "      <th>Q1_pad_bot</th>\n",
       "      <td>-1.540458</td>\n",
       "      <td>-20.094186</td>\n",
       "      <td>-52.081053</td>\n",
       "      <td>237.288838</td>\n",
       "      <td>-163.573141</td>\n",
       "    </tr>\n",
       "    <tr>\n",
       "      <th>ground_plane</th>\n",
       "      <td>-92.992022</td>\n",
       "      <td>-144.655556</td>\n",
       "      <td>-163.767705</td>\n",
       "      <td>-163.573141</td>\n",
       "      <td>300.000000</td>\n",
       "    </tr>\n",
       "  </tbody>\n",
       "</table>\n",
       "</div>"
      ],
      "text/plain": [
       "                          Q1_coupler_connector_pad  via1_layer3_rectangle  \\\n",
       "Q1_coupler_connector_pad                114.554225              -0.060381   \n",
       "via1_layer3_rectangle                    -0.060381             166.363976   \n",
       "Q1_pad_top                              -19.961365              -1.553853   \n",
       "Q1_pad_bot                               -1.540458             -20.094186   \n",
       "ground_plane                            -92.992022            -144.655556   \n",
       "\n",
       "                          Q1_pad_top  Q1_pad_bot  ground_plane  \n",
       "Q1_coupler_connector_pad  -19.961365   -1.540458    -92.992022  \n",
       "via1_layer3_rectangle      -1.553853  -20.094186   -144.655556  \n",
       "Q1_pad_top                237.363976  -52.081053   -163.767705  \n",
       "Q1_pad_bot                -52.081053  237.288838   -163.573141  \n",
       "ground_plane             -163.767705 -163.573141    300.000000  "
      ]
     },
     "execution_count": 14,
     "metadata": {},
     "output_type": "execute_result"
    }
   ],
   "source": [
    "elmer_renderer.export_mesh()\n",
    "elmer_renderer.add_solution_setup('capacitance')\n",
    "elmer_renderer.run('capacitance')\n",
    "cap_matrix_q1 = elmer_renderer.capacitance_matrix\n",
    "cap_matrix_q1.to_csv('cap_matrix_q1.csv')\n",
    "cap_matrix_q1\n"
   ]
  },
  {
   "cell_type": "code",
   "execution_count": 15,
   "id": "3e7b1f21",
   "metadata": {},
   "outputs": [],
   "source": [
    "elmer_renderer = QElmerRenderer(design, layer_types=dict(metal=[1,2,3], dielectric=[4,5]))\n",
    "select = ['Q2','via2_layer1', 'via2_layer2', 'via2_layer3', 'via2_layer1_sub', 'via2_layer5_sub', 'via2_layer3_sub']\n",
    "#select = ['Q2']\n",
    "elmer_renderer.render_design(selection=select,  open_pins=[(\"Q2\",\"readout\"),(\"Q2\",\"coupler\")], skip_junctions=True, \n",
    "                            omit_ground_for_layers = [2])\n",
    "\n",
    "#elmer_renderer.launch_gmsh_gui()"
   ]
  },
  {
   "cell_type": "code",
   "execution_count": 16,
   "id": "077713b3",
   "metadata": {},
   "outputs": [
    {
     "name": "stderr",
     "output_type": "stream",
     "text": [
      "06:52PM 13s INFO [run]: Running ElmerGrid on input mesh from Gmsh...\n",
      "06:52PM 14s INFO [run]: Running ElmerSolver for solver type: 'capacitance'\n"
     ]
    },
    {
     "data": {
      "text/html": [
       "<div>\n",
       "<style scoped>\n",
       "    .dataframe tbody tr th:only-of-type {\n",
       "        vertical-align: middle;\n",
       "    }\n",
       "\n",
       "    .dataframe tbody tr th {\n",
       "        vertical-align: top;\n",
       "    }\n",
       "\n",
       "    .dataframe thead th {\n",
       "        text-align: right;\n",
       "    }\n",
       "</style>\n",
       "<table border=\"1\" class=\"dataframe\">\n",
       "  <thead>\n",
       "    <tr style=\"text-align: right;\">\n",
       "      <th></th>\n",
       "      <th>Q2_coupler_connector_pad</th>\n",
       "      <th>via2_layer3_rectangle</th>\n",
       "      <th>Q2_pad_top</th>\n",
       "      <th>Q2_pad_bot</th>\n",
       "      <th>ground_plane</th>\n",
       "    </tr>\n",
       "  </thead>\n",
       "  <tbody>\n",
       "    <tr>\n",
       "      <th>Q2_coupler_connector_pad</th>\n",
       "      <td>136.609610</td>\n",
       "      <td>-0.085335</td>\n",
       "      <td>-30.673695</td>\n",
       "      <td>-1.892989</td>\n",
       "      <td>-103.957592</td>\n",
       "    </tr>\n",
       "    <tr>\n",
       "      <th>via2_layer3_rectangle</th>\n",
       "      <td>-0.085335</td>\n",
       "      <td>187.795334</td>\n",
       "      <td>-1.924359</td>\n",
       "      <td>-30.474603</td>\n",
       "      <td>-155.311036</td>\n",
       "    </tr>\n",
       "    <tr>\n",
       "      <th>Q2_pad_top</th>\n",
       "      <td>-30.673695</td>\n",
       "      <td>-1.924359</td>\n",
       "      <td>288.164636</td>\n",
       "      <td>-61.627467</td>\n",
       "      <td>-193.939115</td>\n",
       "    </tr>\n",
       "    <tr>\n",
       "      <th>Q2_pad_bot</th>\n",
       "      <td>-1.892989</td>\n",
       "      <td>-30.474603</td>\n",
       "      <td>-61.627467</td>\n",
       "      <td>287.823071</td>\n",
       "      <td>-193.828011</td>\n",
       "    </tr>\n",
       "    <tr>\n",
       "      <th>ground_plane</th>\n",
       "      <td>-103.957592</td>\n",
       "      <td>-155.311036</td>\n",
       "      <td>-193.939115</td>\n",
       "      <td>-193.828011</td>\n",
       "      <td>300.000000</td>\n",
       "    </tr>\n",
       "  </tbody>\n",
       "</table>\n",
       "</div>"
      ],
      "text/plain": [
       "                          Q2_coupler_connector_pad  via2_layer3_rectangle  \\\n",
       "Q2_coupler_connector_pad                136.609610              -0.085335   \n",
       "via2_layer3_rectangle                    -0.085335             187.795334   \n",
       "Q2_pad_top                              -30.673695              -1.924359   \n",
       "Q2_pad_bot                               -1.892989             -30.474603   \n",
       "ground_plane                           -103.957592            -155.311036   \n",
       "\n",
       "                          Q2_pad_top  Q2_pad_bot  ground_plane  \n",
       "Q2_coupler_connector_pad  -30.673695   -1.892989   -103.957592  \n",
       "via2_layer3_rectangle      -1.924359  -30.474603   -155.311036  \n",
       "Q2_pad_top                288.164636  -61.627467   -193.939115  \n",
       "Q2_pad_bot                -61.627467  287.823071   -193.828011  \n",
       "ground_plane             -193.939115 -193.828011    300.000000  "
      ]
     },
     "execution_count": 16,
     "metadata": {},
     "output_type": "execute_result"
    }
   ],
   "source": [
    "elmer_renderer.export_mesh()\n",
    "elmer_renderer.add_solution_setup('capacitance')\n",
    "elmer_renderer.run('capacitance')\n",
    "cap_matrix_q2 = elmer_renderer.capacitance_matrix\n",
    "cap_matrix_q2.to_csv('cap_matrix_q2.csv')\n",
    "cap_matrix_q2\n"
   ]
  },
  {
   "cell_type": "code",
   "execution_count": 18,
   "id": "af662f01",
   "metadata": {},
   "outputs": [
    {
     "data": {
      "text/html": [
       "<div>\n",
       "<style scoped>\n",
       "    .dataframe tbody tr th:only-of-type {\n",
       "        vertical-align: middle;\n",
       "    }\n",
       "\n",
       "    .dataframe tbody tr th {\n",
       "        vertical-align: top;\n",
       "    }\n",
       "\n",
       "    .dataframe thead th {\n",
       "        text-align: right;\n",
       "    }\n",
       "</style>\n",
       "<table border=\"1\" class=\"dataframe\">\n",
       "  <thead>\n",
       "    <tr style=\"text-align: right;\">\n",
       "      <th></th>\n",
       "      <th>Q2_coupler_connector_pad</th>\n",
       "      <th>via2_layer3_rectangle</th>\n",
       "      <th>Q2_pad_top</th>\n",
       "      <th>Q2_pad_bot</th>\n",
       "      <th>ground_plane</th>\n",
       "    </tr>\n",
       "  </thead>\n",
       "  <tbody>\n",
       "    <tr>\n",
       "      <th>Q2_coupler_connector_pad</th>\n",
       "      <td>168.277993</td>\n",
       "      <td>-0.270188</td>\n",
       "      <td>-45.617732</td>\n",
       "      <td>-2.710089</td>\n",
       "      <td>-119.679984</td>\n",
       "    </tr>\n",
       "    <tr>\n",
       "      <th>via2_layer3_rectangle</th>\n",
       "      <td>-0.270188</td>\n",
       "      <td>220.584424</td>\n",
       "      <td>-2.732696</td>\n",
       "      <td>-45.566898</td>\n",
       "      <td>-172.014641</td>\n",
       "    </tr>\n",
       "    <tr>\n",
       "      <th>Q2_pad_top</th>\n",
       "      <td>-45.617732</td>\n",
       "      <td>-2.732696</td>\n",
       "      <td>296.128120</td>\n",
       "      <td>-60.479065</td>\n",
       "      <td>-187.298627</td>\n",
       "    </tr>\n",
       "    <tr>\n",
       "      <th>Q2_pad_bot</th>\n",
       "      <td>-2.710089</td>\n",
       "      <td>-45.566898</td>\n",
       "      <td>-60.479065</td>\n",
       "      <td>296.211562</td>\n",
       "      <td>-187.455510</td>\n",
       "    </tr>\n",
       "    <tr>\n",
       "      <th>ground_plane</th>\n",
       "      <td>-119.679984</td>\n",
       "      <td>-172.014641</td>\n",
       "      <td>-187.298627</td>\n",
       "      <td>-187.455510</td>\n",
       "      <td>300.000000</td>\n",
       "    </tr>\n",
       "  </tbody>\n",
       "</table>\n",
       "</div>"
      ],
      "text/plain": [
       "                          Q2_coupler_connector_pad  via2_layer3_rectangle  \\\n",
       "Q2_coupler_connector_pad                168.277993              -0.270188   \n",
       "via2_layer3_rectangle                    -0.270188             220.584424   \n",
       "Q2_pad_top                              -45.617732              -2.732696   \n",
       "Q2_pad_bot                               -2.710089             -45.566898   \n",
       "ground_plane                           -119.679984            -172.014641   \n",
       "\n",
       "                          Q2_pad_top  Q2_pad_bot  ground_plane  \n",
       "Q2_coupler_connector_pad  -45.617732   -2.710089   -119.679984  \n",
       "via2_layer3_rectangle      -2.732696  -45.566898   -172.014641  \n",
       "Q2_pad_top                296.128120  -60.479065   -187.298627  \n",
       "Q2_pad_bot                -60.479065  296.211562   -187.455510  \n",
       "ground_plane             -187.298627 -187.455510    300.000000  "
      ]
     },
     "execution_count": 18,
     "metadata": {},
     "output_type": "execute_result"
    }
   ],
   "source": []
  },
  {
   "cell_type": "code",
   "execution_count": null,
   "id": "cc0a4e94",
   "metadata": {},
   "outputs": [],
   "source": []
  },
  {
   "cell_type": "markdown",
   "id": "b59fe633",
   "metadata": {},
   "source": [
    "# LOM Analysis"
   ]
  },
  {
   "cell_type": "code",
   "execution_count": 17,
   "id": "26b399a0",
   "metadata": {},
   "outputs": [
    {
     "name": "stderr",
     "output_type": "stream",
     "text": [
      "06:52PM 39s INFO [__init__]: TransmonBuilder with system_type TRANSMON registered to QuantumSystemRegistry\n",
      "06:52PM 39s INFO [__init__]: FluxoniumBuilder with system_type FLUXONIUM registered to QuantumSystemRegistry\n",
      "06:52PM 39s INFO [__init__]: TLResonatorBuilder with system_type TL_RESONATOR registered to QuantumSystemRegistry\n",
      "06:52PM 39s INFO [__init__]: LumpedResonatorBuilder with system_type LUMPED_RESONATOR registered to QuantumSystemRegistry\n"
     ]
    }
   ],
   "source": [
    "import scqubits as scq\n",
    "from scipy.constants import speed_of_light as c_light\n",
    "import matplotlib.pyplot as plt\n",
    "from qiskit_metal.analyses.quantization.lumped_capacitive import load_q3d_capacitance_matrix\n",
    "from qiskit_metal.analyses.quantization.lom_core_analysis import CompositeSystem, Cell, Subsystem, QuantumSystemRegistry\n",
    "import pandas as pd\n",
    "cap_matrix_q1 = pd.read_csv('cap_matrix_q1.csv').set_index('Unnamed: 0',True)\n",
    "cap_matrix_q1.index.name = None\n",
    "\n",
    "cap_matrix_q2 = pd.read_csv('cap_matrix_q2.csv').set_index('Unnamed: 0',True)\n",
    "cap_matrix_q2.index.name = None\n"
   ]
  },
  {
   "cell_type": "markdown",
   "id": "1c568313",
   "metadata": {},
   "source": [
    "## LOM Cells"
   ]
  },
  {
   "cell_type": "code",
   "execution_count": 18,
   "id": "4d296158",
   "metadata": {},
   "outputs": [],
   "source": [
    "opt1 = dict(node_rename = {'Q1_coupler_connector_pad':'coupling','via1_layer3_rectangle': 'readout_alice'},\n",
    "#opt1 = dict(node_rename = {'Q1_coupler_connector_pad':'coupling','Q1_readout_connector_pad': 'readout_alice'},\n",
    "            cap_mat = cap_matrix_q1,\n",
    "            ind_dict = {('Q1_pad_top','Q1_pad_bot'):10},\n",
    "            jj_dict = {('Q1_pad_top','Q1_pad_bot'):'j1'},\n",
    "            cj_dict = {('Q1_pad_top','Q1_pad_bot'):2}\n",
    "           )            \n",
    "\n",
    "cell_1 = Cell(opt1)\n",
    "\n",
    "opt2 = dict(node_rename = {'Q2_coupler_connector_pad':'coupling','via2_layer3_rectangle': 'readout_bob'},\n",
    "#opt2 = dict(node_rename = {'Q2_coupler_connector_pad':'coupling','Q2_readout_connector_pad': 'readout_bob'},\n",
    "            cap_mat = cap_matrix_q2,\n",
    "            ind_dict = {('Q2_pad_top','Q2_pad_bot'):12},\n",
    "            jj_dict = {('Q2_pad_top','Q2_pad_bot'):'j2'},\n",
    "            cj_dict = {('Q2_pad_top','Q2_pad_bot'):2}\n",
    "           )\n",
    "cell_2 = Cell(opt2)"
   ]
  },
  {
   "cell_type": "markdown",
   "id": "29d14d64",
   "metadata": {},
   "source": [
    "## Subsystems"
   ]
  },
  {
   "cell_type": "code",
   "execution_count": 19,
   "id": "1bcc268d",
   "metadata": {},
   "outputs": [],
   "source": [
    "transmon_alice = Subsystem(name = 'transmon_alice', sys_type='TRANSMON', nodes=['j1'])\n",
    "\n",
    "transmon_bob = Subsystem(name = 'transmon_bob', sys_type='TRANSMON', nodes=['j2'])\n",
    "\n",
    "\n",
    "### Readout resonator properties\n",
    "\n",
    "#Alice\n",
    "q_opts1 = dict(\n",
    "    f_res = 5.6, ##in GHz\n",
    "    Z0 = 50,  #charicterisit impedance\n",
    "    vp = 0.40314 * c_light, ## phase velocity\n",
    ")\n",
    "res_alice = Subsystem(name='readout_alice', sys_type ='TL_RESONATOR', nodes = ['readout_alice'], q_opts = q_opts1)\n",
    "\n",
    "\n",
    "#Bob\n",
    "q_opts2 = dict(\n",
    "    f_res = 4.0, ##in GHz\n",
    "    Z0 = 50,  #charicterisit impedance\n",
    "    vp = 0.40314 * c_light, ## phase velocity\n",
    ")\n",
    "res_bob = Subsystem(name='readout_bob', sys_type ='TL_RESONATOR', nodes = ['readout_bob'], q_opts = q_opts2)\n",
    "\n",
    "\n",
    "\n",
    "\n"
   ]
  },
  {
   "cell_type": "markdown",
   "id": "7cd564b5",
   "metadata": {},
   "source": [
    "## Create Composite System"
   ]
  },
  {
   "cell_type": "code",
   "execution_count": 20,
   "id": "8dfda56d",
   "metadata": {},
   "outputs": [],
   "source": [
    "composite_sys = CompositeSystem(\n",
    "            subsystems = [transmon_alice, transmon_bob, res_alice, res_bob],\n",
    "            cells = [cell_1, cell_2],\n",
    "            grd_node = 'ground_plane', #ID Ground plane to remove\n",
    "            nodes_force_keep = ['readout_alice', 'readout_bob'] #need to do this so hamiltonian includes readout res's\n",
    "            )"
   ]
  },
  {
   "cell_type": "code",
   "execution_count": 21,
   "id": "81053347",
   "metadata": {},
   "outputs": [
    {
     "name": "stdout",
     "output_type": "stream",
     "text": [
      "node_jj_basis:\n",
      "-------------\n",
      "\n",
      "['j1', 'Q1_pad_bot', 'j2', 'Q2_pad_bot', 'readout_alice', 'readout_bob', 'coupling']\n",
      "\n",
      "nodes_keep:\n",
      "-------------\n",
      "\n",
      "['j1', 'j2', 'readout_alice', 'readout_bob']\n",
      "\n",
      "\n",
      "L_inv_k (reduced inverse inductance matrix):\n",
      "-------------\n",
      "\n",
      "                j1        j2  readout_alice  readout_bob\n",
      "j1             0.1  0.000000            0.0          0.0\n",
      "j2             0.0  0.083333            0.0          0.0\n",
      "readout_alice  0.0  0.000000            0.0          0.0\n",
      "readout_bob    0.0  0.000000            0.0          0.0\n",
      "\n",
      "C_k (reduced capacitance matrix):\n",
      "-------------\n",
      "\n",
      "                       j1          j2  readout_alice  readout_bob\n",
      "j1             146.361233   -0.534780       9.223387    -0.089858\n",
      "j2              -0.534780  175.975575      -0.076471    14.147037\n",
      "readout_alice    9.223387   -0.076471     165.092062    -0.012849\n",
      "readout_bob     -0.089858   14.147037      -0.012849   185.453189\n",
      "\n",
      "\n"
     ]
    }
   ],
   "source": [
    "cg = composite_sys.circuitGraph()\n",
    "print(cg)"
   ]
  },
  {
   "cell_type": "code",
   "execution_count": 22,
   "id": "ae2540d5",
   "metadata": {},
   "outputs": [
    {
     "data": {
      "text/latex": [
       "Quantum object: dims = [[10, 10, 3, 3], [10, 10, 3, 3]], shape = (900, 900), type = oper, isherm = True $ \\\\ \\left(\\begin{matrix}-2.621\\times10^{+04} & 0.039j & 0.0 & 0.042j & -0.008 & \\cdots & 0.0 & 0.0 & 0.0 & 0.0 & 0.0\\\\-0.039j & -2.221\\times10^{+04} & 0.055j & 0.008 & 0.042j & \\cdots & 0.0 & 0.0 & 0.0 & 0.0 & 0.0\\\\0.0 & -0.055j & -1.821\\times10^{+04} & 0.0 & 0.011 & \\cdots & 0.0 & 0.0 & 0.0 & 0.0 & 0.0\\\\-0.042j & 0.008 & 0.0 & -2.061\\times10^{+04} & 0.039j & \\cdots & 0.0 & 0.0 & 0.0 & 0.0 & 0.0\\\\-0.008 & -0.042j & 0.011 & -0.039j & -1.661\\times10^{+04} & \\cdots & 4.741\\times10^{-10} & 0.0 & 0.0 & 0.0 & 0.0\\\\\\vdots & \\vdots & \\vdots & \\vdots & \\vdots & \\ddots & \\vdots & \\vdots & \\vdots & \\vdots & \\vdots\\\\0.0 & 0.0 & 0.0 & 0.0 & 4.741\\times10^{-10} & \\cdots & 3.846\\times10^{+04} & 1.103j & 0.011 & 1.189j & -0.016\\\\0.0 & 0.0 & 0.0 & 0.0 & 0.0 & \\cdots & -1.103j & 4.246\\times10^{+04} & 0.0 & 0.016 & 1.189j\\\\0.0 & 0.0 & 0.0 & 0.0 & 0.0 & \\cdots & 0.011 & 0.0 & 4.006\\times10^{+04} & 0.780j & 0.0\\\\0.0 & 0.0 & 0.0 & 0.0 & 0.0 & \\cdots & -1.189j & 0.016 & -0.780j & 4.406\\times10^{+04} & 1.103j\\\\0.0 & 0.0 & 0.0 & 0.0 & 0.0 & \\cdots & -0.016 & -1.189j & 0.0 & -1.103j & 4.806\\times10^{+04}\\\\\\end{matrix}\\right)$"
      ],
      "text/plain": [
       "Quantum object: dims = [[10, 10, 3, 3], [10, 10, 3, 3]], shape = (900, 900), type = oper, isherm = True\n",
       "Qobj data =\n",
       "[[-26209.06108658+0.j              0.        +0.03889068j\n",
       "       0.        +0.j         ...      0.        +0.j\n",
       "       0.        +0.j              0.        +0.j        ]\n",
       " [     0.        -0.03889068j -22209.06108658+0.j\n",
       "       0.        +0.05499972j ...      0.        +0.j\n",
       "       0.        +0.j              0.        +0.j        ]\n",
       " [     0.        +0.j              0.        -0.05499972j\n",
       "  -18209.06108658+0.j         ...      0.        +0.j\n",
       "       0.        +0.j              0.        +0.j        ]\n",
       " ...\n",
       " [     0.        +0.j              0.        +0.j\n",
       "       0.        +0.j         ...  40060.3322037 +0.j\n",
       "       0.        +0.78028012j      0.        +0.j        ]\n",
       " [     0.        +0.j              0.        +0.j\n",
       "       0.        +0.j         ...      0.        -0.78028012j\n",
       "   44060.3322037 +0.j              0.        +1.10348273j]\n",
       " [     0.        +0.j              0.        +0.j\n",
       "       0.        +0.j         ...      0.        +0.j\n",
       "       0.        -1.10348273j  48060.3322037 +0.j        ]]"
      ]
     },
     "execution_count": 22,
     "metadata": {},
     "output_type": "execute_result"
    }
   ],
   "source": [
    "## Creats hilbert space for seqeuncing analysis\n",
    "hilbertspace = composite_sys.create_hilbertspace()\n",
    "hilbertspace = composite_sys.add_interaction()\n",
    "hilbertspace.hamiltonian()"
   ]
  },
  {
   "cell_type": "code",
   "execution_count": 23,
   "id": "d6548ba5",
   "metadata": {},
   "outputs": [
    {
     "name": "stdout",
     "output_type": "stream",
     "text": [
      "HilbertSpace:  subsystems\n",
      "-------------------------\n",
      "\n",
      "Transmon------------| [Transmon_3]\n",
      "                    | EJ: 16346.15128067812\n",
      "                    | EC: 132.81441642488147\n",
      "                    | ng: 0.001\n",
      "                    | ncut: 22\n",
      "                    | truncated_dim: 10\n",
      "                    |\n",
      "                    | dim: 45\n",
      "\n",
      "\n",
      "Transmon------------| [Transmon_4]\n",
      "                    | EJ: 13621.792733898432\n",
      "                    | EC: 110.75381052107379\n",
      "                    | ng: 0.001\n",
      "                    | ncut: 22\n",
      "                    | truncated_dim: 10\n",
      "                    |\n",
      "                    | dim: 45\n",
      "\n",
      "\n",
      "Oscillator----------| [Oscillator_3]\n",
      "                    | E_osc: 5600.0\n",
      "                    | l_osc: None\n",
      "                    | truncated_dim: 3\n",
      "                    |\n",
      "                    | dim: 3\n",
      "\n",
      "\n",
      "Oscillator----------| [Oscillator_4]\n",
      "                    | E_osc: 4000.0\n",
      "                    | l_osc: None\n",
      "                    | truncated_dim: 3\n",
      "                    |\n",
      "                    | dim: 3\n",
      "\n",
      "\n",
      "\n",
      "HilbertSpace:  interaction terms\n",
      "--------------------------------\n",
      "InteractionTerm----------| [Interaction_1]\n",
      "                         | g_strength: 3.1815826618873184\n",
      "                         | operator_list: [(0, array([[-22,   0,   0, ...,   0,   0,   0],\n",
      "  ...\n",
      "                         | add_hc: False\n",
      "\n",
      "InteractionTerm----------| [Interaction_2]\n",
      "                         | g_strength: -42.29679384815892\n",
      "                         | operator_list: [(0, array([[-22,   0,   0, ...,   0,   0,   0],\n",
      "  ...\n",
      "                         | add_hc: False\n",
      "\n",
      "InteractionTerm----------| [Interaction_3]\n",
      "                         | g_strength: 0.15482607493591108\n",
      "                         | operator_list: [(0, array([[-22,   0,   0, ...,   0,   0,   0],\n",
      "  ...\n",
      "                         | add_hc: False\n",
      "\n",
      "InteractionTerm----------| [Interaction_4]\n",
      "                         | g_strength: 0.16203810744241176\n",
      "                         | operator_list: [(1, array([[-22,   0,   0, ...,   0,   0,   0],\n",
      "  ...\n",
      "                         | add_hc: False\n",
      "\n",
      "InteractionTerm----------| [Interaction_5]\n",
      "                         | g_strength: -39.04550242850489\n",
      "                         | operator_list: [(1, array([[-22,   0,   0, ...,   0,   0,   0],\n",
      "  ...\n",
      "                         | add_hc: False\n",
      "\n",
      "InteractionTerm----------| [Interaction_6]\n",
      "                         | g_strength: 0.007885296983127876\n",
      "                         | operator_list: [(2, array([[ 0.+0.j        , -0.-1.j        ,  0. ...\n",
      "                         | add_hc: False\n",
      "\n",
      "\n"
     ]
    }
   ],
   "source": [
    "print(hilbertspace)"
   ]
  },
  {
   "cell_type": "markdown",
   "id": "17d5340d",
   "metadata": {},
   "source": []
  },
  {
   "cell_type": "code",
   "execution_count": 24,
   "id": "f9127072",
   "metadata": {},
   "outputs": [
    {
     "name": "stdout",
     "output_type": "stream",
     "text": [
      "\n",
      "system frequencies in GHz:\n",
      "--------------------------\n",
      "{'transmon_alice': 4.02760507963676, 'transmon_bob': 3.3545556403177472, 'readout_alice': 5.601805595624101, 'readout_bob': 4.004085886141642}\n",
      "\n",
      "Chi matrices in MHz\n",
      "--------------------------\n",
      "                transmon_alice  transmon_bob  readout_alice  readout_bob\n",
      "transmon_alice     -143.474570     -0.045976      -0.484912     0.006092\n",
      "transmon_bob         -0.045976   -118.392614      -0.000030    -1.621602\n",
      "readout_alice        -0.484912     -0.000030       1.052130    -0.000053\n",
      "readout_bob           0.006092     -1.621602      -0.000053     1.150187\n"
     ]
    }
   ],
   "source": [
    "hamiltonian_results = composite_sys.hamiltonian_results(hilbertspace) # anharminicity are the diagonal in MHz\n",
    "#off diagonal show dispersive shifts"
   ]
  },
  {
   "cell_type": "code",
   "execution_count": 25,
   "id": "52d95ce3",
   "metadata": {},
   "outputs": [
    {
     "data": {
      "text/plain": [
       "defaultdict(dict,\n",
       "            {'j1': {'EJ': 16346.15128067812,\n",
       "              'EC': 132.81441642488147,\n",
       "              'Q_zpf': 3.204353268e-19,\n",
       "              'default_charge_op': Operator(op=array([[-22,   0,   0, ...,   0,   0,   0],\n",
       "                     [  0, -21,   0, ...,   0,   0,   0],\n",
       "                     [  0,   0, -20, ...,   0,   0,   0],\n",
       "                     ...,\n",
       "                     [  0,   0,   0, ...,  20,   0,   0],\n",
       "                     [  0,   0,   0, ...,   0,  21,   0],\n",
       "                     [  0,   0,   0, ...,   0,   0,  22]]), add_hc=False)}})"
      ]
     },
     "execution_count": 25,
     "metadata": {},
     "output_type": "execute_result"
    }
   ],
   "source": [
    "transmon_alice.h_params"
   ]
  },
  {
   "cell_type": "code",
   "execution_count": 26,
   "id": "32fa2451",
   "metadata": {},
   "outputs": [
    {
     "data": {
      "text/plain": [
       "defaultdict(dict,\n",
       "            {'j2': {'EJ': 13621.792733898432,\n",
       "              'EC': 110.75381052107379,\n",
       "              'Q_zpf': 3.204353268e-19,\n",
       "              'default_charge_op': Operator(op=array([[-22,   0,   0, ...,   0,   0,   0],\n",
       "                     [  0, -21,   0, ...,   0,   0,   0],\n",
       "                     [  0,   0, -20, ...,   0,   0,   0],\n",
       "                     ...,\n",
       "                     [  0,   0,   0, ...,  20,   0,   0],\n",
       "                     [  0,   0,   0, ...,   0,  21,   0],\n",
       "                     [  0,   0,   0, ...,   0,   0,  22]]), add_hc=False)}})"
      ]
     },
     "execution_count": 26,
     "metadata": {},
     "output_type": "execute_result"
    }
   ],
   "source": [
    "transmon_bob.h_params"
   ]
  },
  {
   "cell_type": "markdown",
   "id": "7b8de40a",
   "metadata": {},
   "source": [
    "# Time Evolution Simulation (Sequencing)"
   ]
  },
  {
   "cell_type": "markdown",
   "id": "b506a7c7",
   "metadata": {},
   "source": [
    "## Start here if kernal crashes"
   ]
  },
  {
   "cell_type": "code",
   "execution_count": 27,
   "id": "af468cce",
   "metadata": {},
   "outputs": [
    {
     "data": {
      "text/latex": [
       "Quantum object: dims = [[10, 10, 3, 3], [10, 10, 3, 3]], shape = (900, 900), type = oper, isherm = True $ \\\\ \\left(\\begin{matrix}-2.621\\times10^{+04} & 0.039j & 0.0 & 0.042j & -0.008 & \\cdots & 0.0 & 0.0 & 0.0 & 0.0 & 0.0\\\\-0.039j & -2.221\\times10^{+04} & 0.055j & 0.008 & 0.042j & \\cdots & 0.0 & 0.0 & 0.0 & 0.0 & 0.0\\\\0.0 & -0.055j & -1.821\\times10^{+04} & 0.0 & 0.011 & \\cdots & 0.0 & 0.0 & 0.0 & 0.0 & 0.0\\\\-0.042j & 0.008 & 0.0 & -2.061\\times10^{+04} & 0.039j & \\cdots & 0.0 & 0.0 & 0.0 & 0.0 & 0.0\\\\-0.008 & -0.042j & 0.011 & -0.039j & -1.661\\times10^{+04} & \\cdots & 4.741\\times10^{-10} & 0.0 & 0.0 & 0.0 & 0.0\\\\\\vdots & \\vdots & \\vdots & \\vdots & \\vdots & \\ddots & \\vdots & \\vdots & \\vdots & \\vdots & \\vdots\\\\0.0 & 0.0 & 0.0 & 0.0 & 4.741\\times10^{-10} & \\cdots & 3.846\\times10^{+04} & 1.103j & 0.011 & 1.189j & -0.016\\\\0.0 & 0.0 & 0.0 & 0.0 & 0.0 & \\cdots & -1.103j & 4.246\\times10^{+04} & 0.0 & 0.016 & 1.189j\\\\0.0 & 0.0 & 0.0 & 0.0 & 0.0 & \\cdots & 0.011 & 0.0 & 4.006\\times10^{+04} & 0.780j & 0.0\\\\0.0 & 0.0 & 0.0 & 0.0 & 0.0 & \\cdots & -1.189j & 0.016 & -0.780j & 4.406\\times10^{+04} & 1.103j\\\\0.0 & 0.0 & 0.0 & 0.0 & 0.0 & \\cdots & -0.016 & -1.189j & 0.0 & -1.103j & 4.806\\times10^{+04}\\\\\\end{matrix}\\right)$"
      ],
      "text/plain": [
       "Quantum object: dims = [[10, 10, 3, 3], [10, 10, 3, 3]], shape = (900, 900), type = oper, isherm = True\n",
       "Qobj data =\n",
       "[[-26209.06108658+0.j              0.        +0.03889068j\n",
       "       0.        +0.j         ...      0.        +0.j\n",
       "       0.        +0.j              0.        +0.j        ]\n",
       " [     0.        -0.03889068j -22209.06108658+0.j\n",
       "       0.        +0.05499972j ...      0.        +0.j\n",
       "       0.        +0.j              0.        +0.j        ]\n",
       " [     0.        +0.j              0.        -0.05499972j\n",
       "  -18209.06108658+0.j         ...      0.        +0.j\n",
       "       0.        +0.j              0.        +0.j        ]\n",
       " ...\n",
       " [     0.        +0.j              0.        +0.j\n",
       "       0.        +0.j         ...  40060.3322037 +0.j\n",
       "       0.        +0.78028012j      0.        +0.j        ]\n",
       " [     0.        +0.j              0.        +0.j\n",
       "       0.        +0.j         ...      0.        -0.78028012j\n",
       "   44060.3322037 +0.j              0.        +1.10348273j]\n",
       " [     0.        +0.j              0.        +0.j\n",
       "       0.        +0.j         ...      0.        +0.j\n",
       "       0.        -1.10348273j  48060.3322037 +0.j        ]]"
      ]
     },
     "execution_count": 27,
     "metadata": {},
     "output_type": "execute_result"
    }
   ],
   "source": [
    "import scqubits as scq\n",
    "from scipy.constants import speed_of_light as c_light\n",
    "import matplotlib.pyplot as plt\n",
    "from qiskit_metal.analyses.quantization.lumped_capacitive import load_q3d_capacitance_matrix\n",
    "from qiskit_metal.analyses.quantization.lom_core_analysis import CompositeSystem, Cell, Subsystem, QuantumSystemRegistry\n",
    "import pandas as pd\n",
    "cap_matrix_q1 = pd.read_csv('cap_matrix_q1.csv').set_index('Unnamed: 0',True)\n",
    "cap_matrix_q1.index.name = None\n",
    "\n",
    "cap_matrix_q2 = pd.read_csv('cap_matrix_q2.csv').set_index('Unnamed: 0',True)\n",
    "cap_matrix_q2.index.name = None\n",
    "\n",
    "opt1 = dict(node_rename = {'Q1_coupler_connector_pad':'coupling','via1_layer3_rectangle': 'readout_alice'},\n",
    "#opt1 = dict(node_rename = {'Q1_coupler_connector_pad':'coupling','Q1_readout_connector_pad': 'readout_alice'},\n",
    "            cap_mat = cap_matrix_q1,\n",
    "            ind_dict = {('Q1_pad_top','Q1_pad_bot'):10},\n",
    "            jj_dict = {('Q1_pad_top','Q1_pad_bot'):'j1'},\n",
    "            cj_dict = {('Q1_pad_top','Q1_pad_bot'):2}\n",
    "           )            \n",
    "\n",
    "cell_1 = Cell(opt1)\n",
    "\n",
    "opt2 = dict(node_rename = {'Q2_coupler_connector_pad':'coupling','via2_layer3_rectangle': 'readout_bob'},\n",
    "#opt2 = dict(node_rename = {'Q2_coupler_connector_pad':'coupling','Q2_readout_connector_pad': 'readout_bob'},\n",
    "            cap_mat = cap_matrix_q2,\n",
    "            ind_dict = {('Q2_pad_top','Q2_pad_bot'):12},\n",
    "            jj_dict = {('Q2_pad_top','Q2_pad_bot'):'j2'},\n",
    "            cj_dict = {('Q2_pad_top','Q2_pad_bot'):2}\n",
    "           )\n",
    "cell_2 = Cell(opt2)\n",
    "\n",
    "transmon_alice = Subsystem(name = 'transmon_alice', sys_type='TRANSMON', nodes=['j1'])\n",
    "\n",
    "transmon_bob = Subsystem(name = 'transmon_bob', sys_type='TRANSMON', nodes=['j2'])\n",
    "\n",
    "\n",
    "### Readout resonator properties\n",
    "\n",
    "#Alice\n",
    "q_opts1 = dict(\n",
    "    f_res = 5.6, ##in GHz\n",
    "    Z0 = 50,  #charicterisit impedance\n",
    "    vp = 0.40314 * c_light, ## phase velocity\n",
    ")\n",
    "res_alice = Subsystem(name='readout_alice', sys_type ='TL_RESONATOR', nodes = ['readout_alice'], q_opts = q_opts1)\n",
    "\n",
    "\n",
    "#Bob\n",
    "q_opts2 = dict(\n",
    "    f_res = 4.0, ##in GHz\n",
    "    Z0 = 50,  #charicterisit impedance\n",
    "    vp = 0.40314 * c_light, ## phase velocity\n",
    ")\n",
    "res_bob = Subsystem(name='readout_bob', sys_type ='TL_RESONATOR', nodes = ['readout_bob'], q_opts = q_opts2)\n",
    "\n",
    "\n",
    "\n",
    "composite_sys = CompositeSystem(\n",
    "            subsystems = [transmon_alice, transmon_bob, res_alice, res_bob],\n",
    "            cells = [cell_1, cell_2],\n",
    "            grd_node = 'ground_plane', #ID Ground plane to remove\n",
    "            nodes_force_keep = ['readout_alice', 'readout_bob'] #need to do this so hamiltonian includes readout res's\n",
    "            )\n",
    "\n",
    "## Creats hilbert space for seqeuncing analysis\n",
    "hilbertspace = composite_sys.create_hilbertspace()\n",
    "hilbertspace = composite_sys.add_interaction()\n",
    "hilbertspace.hamiltonian()"
   ]
  },
  {
   "cell_type": "code",
   "execution_count": 28,
   "id": "32cc1578",
   "metadata": {},
   "outputs": [],
   "source": [
    "from tqdm import tqdm\n",
    "from functools import partial\n",
    "import qutip\n",
    "\n",
    "from sequencing import Qubit, Transmon, Cavity, System, get_sequence, sync, delay, QasmSequence\n",
    "from sequencing.calibration import fit_sine, fit_displacement, tune_rabi, tune_displacement, tune_drag\n",
    "\n",
    "from qiskit_metal.analyses.quantization.lom_time_evolution_sim import lom_composite_sys_to_seq_sys"
   ]
  },
  {
   "cell_type": "code",
   "execution_count": 29,
   "id": "a020a51e",
   "metadata": {},
   "outputs": [],
   "source": [
    "system = lom_composite_sys_to_seq_sys(composite_sys, hilbertspace, levels = [3,3,10,10])\n"
   ]
  },
  {
   "cell_type": "code",
   "execution_count": 30,
   "id": "22dee62f",
   "metadata": {
    "scrolled": true
   },
   "outputs": [
    {
     "data": {
      "text/plain": [
       "[Transmon(name='transmon_bob', cls='sequencing.modes.Transmon', levels=3, t1=inf, t2=inf, thermal_population=0.0, df=0.0, kerr=-0.11839261375115893, pulses={'smoothed_constant_pulse': SmoothedConstantPulse(name='smoothed_constant_pulse', cls='sequencing.pulses.SmoothedConstantPulse', amp=1.0, detune=0.0, phase=0.0, dt=1, noise_sigma=0.0, noise_alpha=0.0, scale_noise=False, length=100, sigma=0, shape='tanh'), 'gaussian_pulse': GaussianPulse(name='gaussian_pulse', cls='sequencing.pulses.GaussianPulse', amp=1.0, detune=0.0, phase=0.0, dt=1, noise_sigma=0.0, noise_alpha=0.0, scale_noise=False, sigma=10, chop=4, drag=0.0)}, default_pulse='gaussian_pulse'),\n",
       " Transmon(name='transmon_alice', cls='sequencing.modes.Transmon', levels=3, t1=inf, t2=inf, thermal_population=0.0, df=0.0, kerr=-0.1434745702223954, pulses={'smoothed_constant_pulse': SmoothedConstantPulse(name='smoothed_constant_pulse', cls='sequencing.pulses.SmoothedConstantPulse', amp=1.0, detune=0.0, phase=0.0, dt=1, noise_sigma=0.0, noise_alpha=0.0, scale_noise=False, length=100, sigma=0, shape='tanh'), 'gaussian_pulse': GaussianPulse(name='gaussian_pulse', cls='sequencing.pulses.GaussianPulse', amp=1.0, detune=0.0, phase=0.0, dt=1, noise_sigma=0.0, noise_alpha=0.0, scale_noise=False, sigma=10, chop=4, drag=0.0)}, default_pulse='gaussian_pulse'),\n",
       " Cavity(name='readout_bob', cls='sequencing.modes.Cavity', levels=10, t1=inf, t2=inf, thermal_population=0.0, df=0.0, kerr=0.0011501872532935521, pulses={'smoothed_constant_pulse': SmoothedConstantPulse(name='smoothed_constant_pulse', cls='sequencing.pulses.SmoothedConstantPulse', amp=1.0, detune=0.0, phase=0.0, dt=1, noise_sigma=0.0, noise_alpha=0.0, scale_noise=False, length=100, sigma=0, shape='tanh'), 'gaussian_pulse': GaussianPulse(name='gaussian_pulse', cls='sequencing.pulses.GaussianPulse', amp=1.0, detune=0.0, phase=0.0, dt=1, noise_sigma=0.0, noise_alpha=0.0, scale_noise=False, sigma=10, chop=4, drag=0.0)}, default_pulse='gaussian_pulse'),\n",
       " Cavity(name='readout_alice', cls='sequencing.modes.Cavity', levels=10, t1=inf, t2=inf, thermal_population=0.0, df=0.0, kerr=0.0010521299837291736, pulses={'smoothed_constant_pulse': SmoothedConstantPulse(name='smoothed_constant_pulse', cls='sequencing.pulses.SmoothedConstantPulse', amp=1.0, detune=0.0, phase=0.0, dt=1, noise_sigma=0.0, noise_alpha=0.0, scale_noise=False, length=100, sigma=0, shape='tanh'), 'gaussian_pulse': GaussianPulse(name='gaussian_pulse', cls='sequencing.pulses.GaussianPulse', amp=1.0, detune=0.0, phase=0.0, dt=1, noise_sigma=0.0, noise_alpha=0.0, scale_noise=False, sigma=10, chop=4, drag=0.0)}, default_pulse='gaussian_pulse')]"
      ]
     },
     "execution_count": 30,
     "metadata": {},
     "output_type": "execute_result"
    }
   ],
   "source": [
    "system.modes #Mode is a subsystem in LOM analysis"
   ]
  },
  {
   "cell_type": "code",
   "execution_count": null,
   "id": "10c3ab83",
   "metadata": {},
   "outputs": [],
   "source": []
  },
  {
   "cell_type": "markdown",
   "id": "9d82b6f1",
   "metadata": {},
   "source": [
    "## Simulate Alice"
   ]
  },
  {
   "cell_type": "code",
   "execution_count": 31,
   "id": "92d00cfc",
   "metadata": {},
   "outputs": [
    {
     "name": "stdout",
     "output_type": "stream",
     "text": [
      "Transmon(name='transmon_alice', cls='sequencing.modes.Transmon', levels=3, t1=inf, t2=inf, thermal_population=0.0, df=0.0, kerr=-0.1434745702223954, pulses={'smoothed_constant_pulse': SmoothedConstantPulse(name='smoothed_constant_pulse', cls='sequencing.pulses.SmoothedConstantPulse', amp=1.0, detune=0.0, phase=0.0, dt=1, noise_sigma=0.0, noise_alpha=0.0, scale_noise=False, length=100, sigma=0, shape='tanh'), 'gaussian_pulse': GaussianPulse(name='gaussian_pulse', cls='sequencing.pulses.GaussianPulse', amp=1.0, detune=0.0, phase=0.0, dt=1, noise_sigma=0.0, noise_alpha=0.0, scale_noise=False, sigma=10, chop=4, drag=0.0)}, default_pulse='gaussian_pulse')\n",
      "Cavity(name='readout_alice', cls='sequencing.modes.Cavity', levels=10, t1=inf, t2=inf, thermal_population=0.0, df=0.0, kerr=0.0010521299837291736, pulses={'smoothed_constant_pulse': SmoothedConstantPulse(name='smoothed_constant_pulse', cls='sequencing.pulses.SmoothedConstantPulse', amp=1.0, detune=0.0, phase=0.0, dt=1, noise_sigma=0.0, noise_alpha=0.0, scale_noise=False, length=100, sigma=0, shape='tanh'), 'gaussian_pulse': GaussianPulse(name='gaussian_pulse', cls='sequencing.pulses.GaussianPulse', amp=1.0, detune=0.0, phase=0.0, dt=1, noise_sigma=0.0, noise_alpha=0.0, scale_noise=False, sigma=10, chop=4, drag=0.0)}, default_pulse='gaussian_pulse')\n"
     ]
    }
   ],
   "source": [
    "alice = system.modes[1]\n",
    "readout_alice = system.modes[3]\n",
    "print(alice)\n",
    "print(readout_alice)"
   ]
  },
  {
   "cell_type": "code",
   "execution_count": 50,
   "id": "f0004f68",
   "metadata": {},
   "outputs": [
    {
     "name": "stderr",
     "output_type": "stream",
     "text": [
      "100%|██████████████████████████████████████████████████████████████████████████████████| 51/51 [00:00<00:00, 97.08it/s]\n"
     ]
    }
   ],
   "source": [
    "selective_sigma = 100 #ns\n",
    "\n",
    "with system.use_modes([alice]):\n",
    "        with alice.temporarily_set(gaussian_pulse__sigma = selective_sigma):\n",
    "            _, _, selective_qubit_amp = tune_rabi(\n",
    "            system, system.fock(transmon_alice = 0, transmon_bob = 0, readout_alice =0, readout_bob=0), mode_name = alice.name,\n",
    "            update = False, verify=False)"
   ]
  },
  {
   "cell_type": "code",
   "execution_count": 51,
   "id": "991b326f",
   "metadata": {},
   "outputs": [],
   "source": [
    "def selective_rotation(qubit, angle, phase =0, detune=0, sigma = selective_sigma):\n",
    "    with qubit.gaussian_pulse.temporarily_set(sigma=sigma, amp  = selective_qubit_amp):\n",
    "        qubit.rotate(np.pi, phase, detune=detune)\n",
    "\n",
    "init_states = [\n",
    "    (f'$|g{n}\\\\rangle$', system.fock(transmon_alice=0, readout_alice=n)) for n in range(4)\n",
    "]"
   ]
  },
  {
   "cell_type": "code",
   "execution_count": 52,
   "id": "424d16eb",
   "metadata": {},
   "outputs": [
    {
     "name": "stderr",
     "output_type": "stream",
     "text": [
      "Initial states: 100%|████████████████████████████████████████████████████████████████████| 4/4 [00:00<00:00, 10.21it/s]\n"
     ]
    }
   ],
   "source": [
    "import numpy as np\n",
    "results = {}\n",
    "\n",
    "seq = get_sequence(system)\n",
    "selective_rotation(alice, np.pi)\n",
    "\n",
    "for label, state in tqdm(init_states, desc='Initial states'):\n",
    "    result = seq.run(state)\n",
    "    results[label] = result"
   ]
  },
  {
   "cell_type": "code",
   "execution_count": 53,
   "id": "607d9c43",
   "metadata": {},
   "outputs": [],
   "source": [
    "fig, ax = plt.subplots(1,1)\n",
    "for label, result in results.items():\n",
    "    qubit_states = [state.ptrace(alice.index) for state in result.states]\n",
    "    e_pops = qutip.expect(alice.fock_dm(1, full_space=False), qubit_states)\n",
    "    ax.plot(result.times, e_pops, label=label)\n",
    "    ax.grid(True)\n",
    "    ax.legend(loc=0)\n",
    "ax.set_xlabel('Times [ns]')\n",
    "ax.set_ylabel(r'$P(|e\\rangle)$')\n",
    "_ = ax.set_title('Transmon trajectory vs. Initital cavity state')"
   ]
  },
  {
   "cell_type": "code",
   "execution_count": null,
   "id": "d527d0ad",
   "metadata": {},
   "outputs": [],
   "source": []
  },
  {
   "cell_type": "code",
   "execution_count": null,
   "id": "91b0fbca",
   "metadata": {},
   "outputs": [],
   "source": []
  },
  {
   "cell_type": "code",
   "execution_count": 36,
   "id": "a1e295d8",
   "metadata": {},
   "outputs": [
    {
     "name": "stdout",
     "output_type": "stream",
     "text": [
      "Transmon(name='transmon_bob', cls='sequencing.modes.Transmon', levels=3, t1=inf, t2=inf, thermal_population=0.0, df=0.0, kerr=-0.11839261375115893, pulses={'smoothed_constant_pulse': SmoothedConstantPulse(name='smoothed_constant_pulse', cls='sequencing.pulses.SmoothedConstantPulse', amp=1.0, detune=0.0, phase=0.0, dt=1, noise_sigma=0.0, noise_alpha=0.0, scale_noise=False, length=100, sigma=0, shape='tanh'), 'gaussian_pulse': GaussianPulse(name='gaussian_pulse', cls='sequencing.pulses.GaussianPulse', amp=1.0, detune=0.0, phase=0.0, dt=1, noise_sigma=0.0, noise_alpha=0.0, scale_noise=False, sigma=10, chop=4, drag=0.0)}, default_pulse='gaussian_pulse')\n",
      "Cavity(name='readout_bob', cls='sequencing.modes.Cavity', levels=10, t1=inf, t2=inf, thermal_population=0.0, df=0.0, kerr=0.0011501872532935521, pulses={'smoothed_constant_pulse': SmoothedConstantPulse(name='smoothed_constant_pulse', cls='sequencing.pulses.SmoothedConstantPulse', amp=1.0, detune=0.0, phase=0.0, dt=1, noise_sigma=0.0, noise_alpha=0.0, scale_noise=False, length=100, sigma=0, shape='tanh'), 'gaussian_pulse': GaussianPulse(name='gaussian_pulse', cls='sequencing.pulses.GaussianPulse', amp=1.0, detune=0.0, phase=0.0, dt=1, noise_sigma=0.0, noise_alpha=0.0, scale_noise=False, sigma=10, chop=4, drag=0.0)}, default_pulse='gaussian_pulse')\n"
     ]
    }
   ],
   "source": [
    "bob = system.modes[0]\n",
    "readout_bob = system.modes[2]\n",
    "print(bob)\n",
    "print(readout_bob)"
   ]
  },
  {
   "cell_type": "code",
   "execution_count": 37,
   "id": "59261945",
   "metadata": {},
   "outputs": [
    {
     "name": "stderr",
     "output_type": "stream",
     "text": [
      "100%|█████████████████████████████████████████████████████████████████████████████████| 51/51 [00:00<00:00, 102.84it/s]\n"
     ]
    }
   ],
   "source": [
    "selective_sigma = 100 #ns\n",
    "\n",
    "with system.use_modes([bob]):\n",
    "        with bob.temporarily_set(gaussian_pulse__sigma = selective_sigma):\n",
    "            _, _, selective_qubit_amp = tune_rabi(\n",
    "            system, system.fock(transmon_alice = 0, transmon_bob = 0, readout_alice =0, readout_bob=0), mode_name = bob.name,\n",
    "            update = False, verify=False)"
   ]
  },
  {
   "cell_type": "code",
   "execution_count": 38,
   "id": "28469d11",
   "metadata": {},
   "outputs": [],
   "source": [
    "init_states = [\n",
    "    (f'$|g{n}\\\\rangle$', system.fock(transmon_bob=0, readout_bob=n)) for n in range(4)\n",
    "]"
   ]
  },
  {
   "cell_type": "code",
   "execution_count": 39,
   "id": "4880e281",
   "metadata": {},
   "outputs": [
    {
     "name": "stderr",
     "output_type": "stream",
     "text": [
      "Initial states: 100%|████████████████████████████████████████████████████████████████████| 4/4 [00:00<00:00, 10.42it/s]\n"
     ]
    }
   ],
   "source": [
    "import numpy as np\n",
    "results = {}\n",
    "\n",
    "seq = get_sequence(system)\n",
    "selective_rotation(bob, np.pi)\n",
    "\n",
    "for label, state in tqdm(init_states, desc='Initial states'):\n",
    "    result = seq.run(state)\n",
    "    results[label] = result"
   ]
  },
  {
   "cell_type": "code",
   "execution_count": 40,
   "id": "10748c42",
   "metadata": {},
   "outputs": [],
   "source": [
    "fig, ax = plt.subplots(1,1)\n",
    "for label, result in results.items():\n",
    "    qubit_states = [state.ptrace(bob.index) for state in result.states]\n",
    "    e_pops = qutip.expect(bob.fock_dm(1, full_space=False), qubit_states)\n",
    "    ax.plot(result.times, e_pops, label=label)\n",
    "    ax.grid(True)\n",
    "    ax.legend(loc=0)\n",
    "ax.set_xlabel('Times [ns]')\n",
    "ax.set_ylabel(r'$P(|e\\rangle)$')\n",
    "_ = ax.set_title('Transmon trajectory vs. Initital cavity state')"
   ]
  },
  {
   "cell_type": "code",
   "execution_count": 35,
   "id": "db742738",
   "metadata": {},
   "outputs": [
    {
     "data": {
      "text/plain": [
       "System(name='qreg', cls='sequencing.system.System', modes=[Transmon(name='transmon_bob', cls='sequencing.modes.Transmon', levels=3, t1=inf, t2=inf, thermal_population=0.0, df=0.0, kerr=-0.1184731995316688, pulses={'smoothed_constant_pulse': SmoothedConstantPulse(name='smoothed_constant_pulse', cls='sequencing.pulses.SmoothedConstantPulse', amp=1.0, detune=0.0, phase=0.0, dt=1, noise_sigma=0.0, noise_alpha=0.0, scale_noise=False, length=100, sigma=0, shape='tanh'), 'gaussian_pulse': GaussianPulse(name='gaussian_pulse', cls='sequencing.pulses.GaussianPulse', amp=1.0, detune=0.0, phase=0.0, dt=1, noise_sigma=0.0, noise_alpha=0.0, scale_noise=False, sigma=10, chop=4, drag=0.0)}, default_pulse='gaussian_pulse'), Transmon(name='transmon_alice', cls='sequencing.modes.Transmon', levels=3, t1=inf, t2=inf, thermal_population=0.0, df=0.0, kerr=-0.14346319786989625, pulses={'smoothed_constant_pulse': SmoothedConstantPulse(name='smoothed_constant_pulse', cls='sequencing.pulses.SmoothedConstantPulse', amp=1.0, detune=0.0, phase=0.0, dt=1, noise_sigma=0.0, noise_alpha=0.0, scale_noise=False, length=100, sigma=0, shape='tanh'), 'gaussian_pulse': GaussianPulse(name='gaussian_pulse', cls='sequencing.pulses.GaussianPulse', amp=1.0, detune=0.0, phase=0.0, dt=1, noise_sigma=0.0, noise_alpha=0.0, scale_noise=False, sigma=10, chop=4, drag=0.0)}, default_pulse='gaussian_pulse')], cross_kerrs={})"
      ]
     },
     "execution_count": 35,
     "metadata": {},
     "output_type": "execute_result"
    }
   ],
   "source": [
    "Qubits  = [alice,bob]\n",
    "qreg = System('qreg',modes = Qubits)\n",
    "n=len(Qubits)\n",
    "qreg"
   ]
  },
  {
   "cell_type": "code",
   "execution_count": 36,
   "id": "156d2879",
   "metadata": {
    "scrolled": true
   },
   "outputs": [
    {
     "name": "stderr",
     "output_type": "stream",
     "text": [
      "100%|██████████████████████████████████████████████████████████████████████████████████| 51/51 [00:01<00:00, 40.29it/s]\n",
      "100%|██████████████████████████████████████████████████████████████████████████████████| 51/51 [00:00<00:00, 98.22it/s]\n"
     ]
    }
   ],
   "source": [
    "for qubit in Qubits:\n",
    "    with system.use_modes([qubit]):\n",
    "        with qubit.temporarily_set(gaussian_pulse__sigma = selective_sigma):\n",
    "            _, _, selective_qubit_amp = tune_rabi(\n",
    "            system, system.fock(transmon_alice = 0, transmon_bob = 0, readout_alice =0, readout_bob=0), mode_name = qubit.name,\n",
    "            update = False, verify=False)"
   ]
  },
  {
   "cell_type": "code",
   "execution_count": 27,
   "id": "0bc2d958",
   "metadata": {},
   "outputs": [
    {
     "name": "stdout",
     "output_type": "stream",
     "text": [
      "Running the following QASM circuit:\n",
      "\n",
      "\tOPENQASM 2.0;\n",
      "\tinclude \"qelib1.inc\";\n",
      "\tqreg q[2];\n",
      "\th q[0];\n",
      "\tbarrier;\n",
      "\tCX q[0],q[1];\n"
     ]
    },
    {
     "ename": "AttributeError",
     "evalue": "If unitary is False, all qubits must implement rotate_y (readout_alice does not).",
     "output_type": "error",
     "traceback": [
      "\u001b[1;31m---------------------------------------------------------------------------\u001b[0m",
      "\u001b[1;31mAttributeError\u001b[0m                            Traceback (most recent call last)",
      "Cell \u001b[1;32mIn[27], line 18\u001b[0m\n\u001b[0;32m     15\u001b[0m \u001b[38;5;28mprint\u001b[39m(QASM_CIRCUIT)\n\u001b[0;32m     17\u001b[0m seq \u001b[38;5;241m=\u001b[39m QasmSequence(system)\n\u001b[1;32m---> 18\u001b[0m \u001b[43mseq\u001b[49m\u001b[38;5;241;43m.\u001b[39;49m\u001b[43mqasm_circuit\u001b[49m\u001b[43m(\u001b[49m\u001b[43mQASM_CIRCUIT\u001b[49m\u001b[43m,\u001b[49m\u001b[43m \u001b[49m\u001b[43munitary\u001b[49m\u001b[38;5;241;43m=\u001b[39;49m\u001b[38;5;28;43;01mFalse\u001b[39;49;00m\u001b[43m,\u001b[49m\u001b[43m \u001b[49m\u001b[43mappend\u001b[49m\u001b[38;5;241;43m=\u001b[39;49m\u001b[38;5;28;43;01mTrue\u001b[39;49;00m\u001b[43m)\u001b[49m\n",
      "File \u001b[1;32m~\\.conda\\envs\\Metal\\Lib\\site-packages\\sequencing\\qasm.py:561\u001b[0m, in \u001b[0;36mQasmSequence.qasm_circuit\u001b[1;34m(self, circuit, unitary, append)\u001b[0m\n\u001b[0;32m    554\u001b[0m     \u001b[38;5;28;01mif\u001b[39;00m (\n\u001b[0;32m    555\u001b[0m         \u001b[38;5;129;01mnot\u001b[39;00m line\n\u001b[0;32m    556\u001b[0m         \u001b[38;5;129;01mor\u001b[39;00m line\u001b[38;5;241m.\u001b[39mstartswith(\u001b[38;5;124m\"\u001b[39m\u001b[38;5;124mqreg\u001b[39m\u001b[38;5;124m\"\u001b[39m)\n\u001b[0;32m    557\u001b[0m         \u001b[38;5;129;01mor\u001b[39;00m line\u001b[38;5;241m.\u001b[39mstartswith(\u001b[38;5;124m\"\u001b[39m\u001b[38;5;124m//\u001b[39m\u001b[38;5;124m\"\u001b[39m)\n\u001b[0;32m    558\u001b[0m         \u001b[38;5;129;01mor\u001b[39;00m \u001b[38;5;28many\u001b[39m(phrase \u001b[38;5;129;01min\u001b[39;00m line \u001b[38;5;28;01mfor\u001b[39;00m phrase \u001b[38;5;129;01min\u001b[39;00m ignore)\n\u001b[0;32m    559\u001b[0m     ):\n\u001b[0;32m    560\u001b[0m         \u001b[38;5;28;01mcontinue\u001b[39;00m\n\u001b[1;32m--> 561\u001b[0m     gate \u001b[38;5;241m=\u001b[39m \u001b[38;5;28;43mself\u001b[39;49m\u001b[38;5;241;43m.\u001b[39;49m\u001b[43mqasm\u001b[49m\u001b[43m(\u001b[49m\u001b[43mline\u001b[49m\u001b[43m,\u001b[49m\u001b[43m \u001b[49m\u001b[43munitary\u001b[49m\u001b[38;5;241;43m=\u001b[39;49m\u001b[43munitary\u001b[49m\u001b[43m,\u001b[49m\u001b[43m \u001b[49m\u001b[43mappend\u001b[49m\u001b[38;5;241;43m=\u001b[39;49m\u001b[38;5;28;43;01mFalse\u001b[39;49;00m\u001b[43m)\u001b[49m\n\u001b[0;32m    562\u001b[0m     gates\u001b[38;5;241m.\u001b[39mappend(gate)\n\u001b[0;32m    563\u001b[0m \u001b[38;5;28;01mif\u001b[39;00m append:\n",
      "File \u001b[1;32m~\\.conda\\envs\\Metal\\Lib\\site-packages\\sequencing\\qasm.py:517\u001b[0m, in \u001b[0;36mQasmSequence.qasm\u001b[1;34m(self, qasm_str, unitary, append)\u001b[0m\n\u001b[0;32m    515\u001b[0m     kwargs[\u001b[38;5;124m\"\u001b[39m\u001b[38;5;124munitary\u001b[39m\u001b[38;5;124m\"\u001b[39m] \u001b[38;5;241m=\u001b[39m unitary\n\u001b[0;32m    516\u001b[0m args \u001b[38;5;241m=\u001b[39m \u001b[38;5;28mlist\u001b[39m(args) \u001b[38;5;241m+\u001b[39m qubits\n\u001b[1;32m--> 517\u001b[0m \u001b[38;5;28;01mreturn\u001b[39;00m \u001b[43mgate\u001b[49m\u001b[43m(\u001b[49m\u001b[38;5;241;43m*\u001b[39;49m\u001b[43margs\u001b[49m\u001b[43m,\u001b[49m\u001b[43m \u001b[49m\u001b[38;5;241;43m*\u001b[39;49m\u001b[38;5;241;43m*\u001b[39;49m\u001b[43mkwargs\u001b[49m\u001b[43m)\u001b[49m\n",
      "File \u001b[1;32m~\\.conda\\envs\\Metal\\Lib\\site-packages\\sequencing\\qasm.py:238\u001b[0m, in \u001b[0;36mQasmSequence.h\u001b[1;34m(self, unitary, append, *qubits)\u001b[0m\n\u001b[0;32m    230\u001b[0m \u001b[38;5;28;01mdef\u001b[39;00m \u001b[38;5;21mh\u001b[39m(\u001b[38;5;28mself\u001b[39m, \u001b[38;5;241m*\u001b[39mqubits, unitary\u001b[38;5;241m=\u001b[39m\u001b[38;5;28;01mTrue\u001b[39;00m, append\u001b[38;5;241m=\u001b[39m\u001b[38;5;28;01mTrue\u001b[39;00m):\n\u001b[0;32m    231\u001b[0m \u001b[38;5;250m    \u001b[39m\u001b[38;5;124mr\u001b[39m\u001b[38;5;124;03m\"\"\"\u001b[39;00m\n\u001b[0;32m    232\u001b[0m \u001b[38;5;124;03m    .. math::\u001b[39;00m\n\u001b[0;32m    233\u001b[0m \u001b[38;5;124;03m        h = i \\cdot u_2(0,\\pi)\u001b[39;00m\n\u001b[1;32m   (...)\u001b[0m\n\u001b[0;32m    236\u001b[0m \u001b[38;5;124;03m        ``qutip.Qobj`` or list[qutip.Qobj] or None\u001b[39;00m\n\u001b[0;32m    237\u001b[0m \u001b[38;5;124;03m    \"\"\"\u001b[39;00m\n\u001b[1;32m--> 238\u001b[0m     gate \u001b[38;5;241m=\u001b[39m \u001b[38;5;28;43mself\u001b[39;49m\u001b[38;5;241;43m.\u001b[39;49m\u001b[43mu2\u001b[49m\u001b[43m(\u001b[49m\u001b[38;5;241;43m0\u001b[39;49m\u001b[43m,\u001b[49m\u001b[43m \u001b[49m\u001b[43mnp\u001b[49m\u001b[38;5;241;43m.\u001b[39;49m\u001b[43mpi\u001b[49m\u001b[43m,\u001b[49m\u001b[43m \u001b[49m\u001b[38;5;241;43m*\u001b[39;49m\u001b[43mqubits\u001b[49m\u001b[43m,\u001b[49m\u001b[43m \u001b[49m\u001b[43munitary\u001b[49m\u001b[38;5;241;43m=\u001b[39;49m\u001b[43munitary\u001b[49m\u001b[43m,\u001b[49m\u001b[43m \u001b[49m\u001b[43mappend\u001b[49m\u001b[38;5;241;43m=\u001b[39;49m\u001b[43mappend\u001b[49m\u001b[43m)\u001b[49m\n\u001b[0;32m    239\u001b[0m     \u001b[38;5;28;01mif\u001b[39;00m gate \u001b[38;5;129;01mis\u001b[39;00m \u001b[38;5;129;01mnot\u001b[39;00m \u001b[38;5;28;01mNone\u001b[39;00m:\n\u001b[0;32m    240\u001b[0m         phase \u001b[38;5;241m=\u001b[39m \u001b[38;5;28mself\u001b[39m\u001b[38;5;241m.\u001b[39mgphase(np\u001b[38;5;241m.\u001b[39mpi \u001b[38;5;241m/\u001b[39m \u001b[38;5;241m2\u001b[39m, append\u001b[38;5;241m=\u001b[39m\u001b[38;5;28;01mFalse\u001b[39;00m)\n",
      "File \u001b[1;32m~\\.conda\\envs\\Metal\\Lib\\site-packages\\sequencing\\qasm.py:173\u001b[0m, in \u001b[0;36mQasmSequence.u2\u001b[1;34m(self, phi, lamda, unitary, append, *qubits)\u001b[0m\n\u001b[0;32m    165\u001b[0m \u001b[38;5;28;01mdef\u001b[39;00m \u001b[38;5;21mu2\u001b[39m(\u001b[38;5;28mself\u001b[39m, phi, lamda, \u001b[38;5;241m*\u001b[39mqubits, unitary\u001b[38;5;241m=\u001b[39m\u001b[38;5;28;01mTrue\u001b[39;00m, append\u001b[38;5;241m=\u001b[39m\u001b[38;5;28;01mTrue\u001b[39;00m):\n\u001b[0;32m    166\u001b[0m \u001b[38;5;250m    \u001b[39m\u001b[38;5;124mr\u001b[39m\u001b[38;5;124;03m\"\"\"\u001b[39;00m\n\u001b[0;32m    167\u001b[0m \u001b[38;5;124;03m    .. math::\u001b[39;00m\n\u001b[0;32m    168\u001b[0m \u001b[38;5;124;03m        u_2(\\phi,\\lambda) = U(\\pi/2,\\phi,\\lambda)\u001b[39;00m\n\u001b[1;32m   (...)\u001b[0m\n\u001b[0;32m    171\u001b[0m \u001b[38;5;124;03m        ``qutip.Qobj`` or list[qutip.Qobj] or None\u001b[39;00m\n\u001b[0;32m    172\u001b[0m \u001b[38;5;124;03m    \"\"\"\u001b[39;00m\n\u001b[1;32m--> 173\u001b[0m     \u001b[38;5;28;01mreturn\u001b[39;00m \u001b[38;5;28;43mself\u001b[39;49m\u001b[38;5;241;43m.\u001b[39;49m\u001b[43mU\u001b[49m\u001b[43m(\u001b[49m\u001b[43mnp\u001b[49m\u001b[38;5;241;43m.\u001b[39;49m\u001b[43mpi\u001b[49m\u001b[43m \u001b[49m\u001b[38;5;241;43m/\u001b[39;49m\u001b[43m \u001b[49m\u001b[38;5;241;43m2\u001b[39;49m\u001b[43m,\u001b[49m\u001b[43m \u001b[49m\u001b[43mphi\u001b[49m\u001b[43m,\u001b[49m\u001b[43m \u001b[49m\u001b[43mlamda\u001b[49m\u001b[43m,\u001b[49m\u001b[43m \u001b[49m\u001b[38;5;241;43m*\u001b[39;49m\u001b[43mqubits\u001b[49m\u001b[43m,\u001b[49m\u001b[43m \u001b[49m\u001b[43munitary\u001b[49m\u001b[38;5;241;43m=\u001b[39;49m\u001b[43munitary\u001b[49m\u001b[43m,\u001b[49m\u001b[43m \u001b[49m\u001b[43mappend\u001b[49m\u001b[38;5;241;43m=\u001b[39;49m\u001b[43mappend\u001b[49m\u001b[43m)\u001b[49m\n",
      "File \u001b[1;32m~\\.conda\\envs\\Metal\\Lib\\site-packages\\sequencing\\qasm.py:127\u001b[0m, in \u001b[0;36mQasmSequence.U\u001b[1;34m(self, theta, phi, lamda, unitary, append, *qubits)\u001b[0m\n\u001b[0;32m    125\u001b[0m     \u001b[38;5;28;01mfor\u001b[39;00m qubit \u001b[38;5;129;01min\u001b[39;00m qubits:\n\u001b[0;32m    126\u001b[0m         \u001b[38;5;28;01mif\u001b[39;00m \u001b[38;5;129;01mnot\u001b[39;00m \u001b[38;5;28mhasattr\u001b[39m(qubit, \u001b[38;5;124m\"\u001b[39m\u001b[38;5;124mrotate_y\u001b[39m\u001b[38;5;124m\"\u001b[39m):\n\u001b[1;32m--> 127\u001b[0m             \u001b[38;5;28;01mraise\u001b[39;00m \u001b[38;5;167;01mAttributeError\u001b[39;00m(\n\u001b[0;32m    128\u001b[0m                 \u001b[38;5;124m\"\u001b[39m\u001b[38;5;124mIf unitary is False, all qubits must \u001b[39m\u001b[38;5;124m\"\u001b[39m\n\u001b[0;32m    129\u001b[0m                 \u001b[38;5;124m\"\u001b[39m\u001b[38;5;124mimplement rotate_y \u001b[39m\u001b[38;5;124m\"\u001b[39m\n\u001b[0;32m    130\u001b[0m                 \u001b[38;5;124mf\u001b[39m\u001b[38;5;124m\"\u001b[39m\u001b[38;5;124m(\u001b[39m\u001b[38;5;132;01m{\u001b[39;00mqubit\u001b[38;5;241m.\u001b[39mname\u001b[38;5;132;01m}\u001b[39;00m\u001b[38;5;124m does not).\u001b[39m\u001b[38;5;124m\"\u001b[39m\n\u001b[0;32m    131\u001b[0m             )\n\u001b[0;32m    132\u001b[0m \u001b[38;5;28;01mfor\u001b[39;00m qubit \u001b[38;5;129;01min\u001b[39;00m qubits:\n\u001b[0;32m    133\u001b[0m     \u001b[38;5;28;01mif\u001b[39;00m unitary:\n",
      "\u001b[1;31mAttributeError\u001b[0m: If unitary is False, all qubits must implement rotate_y (readout_alice does not)."
     ]
    }
   ],
   "source": [
    "QASM_CIRCUIT = [\n",
    "    f'OPENQASM 2.0;',\n",
    "    f'include \"qelib1.inc\";',\n",
    "    f'qreg q[{n}];',\n",
    "    f'h q[0];',\n",
    "    f'barrier;',\n",
    "]\n",
    "QASM_CIRCUIT.extend(\n",
    "    [f'CX q[0],q[{i}];' for i in range(1,n)]\n",
    ")\n",
    "\n",
    "QASM_CIRCUIT = '\\n\\t'.join([''] + QASM_CIRCUIT)\n",
    "\n",
    "print('Running the following QASM circuit:')\n",
    "print(QASM_CIRCUIT)\n",
    "\n",
    "seq = QasmSequence(system)\n",
    "seq.qasm_circuit(QASM_CIRCUIT, unitary=False, append=True)"
   ]
  },
  {
   "cell_type": "code",
   "execution_count": null,
   "id": "c1828312",
   "metadata": {},
   "outputs": [],
   "source": []
  },
  {
   "cell_type": "code",
   "execution_count": null,
   "id": "425d605c",
   "metadata": {},
   "outputs": [],
   "source": []
  },
  {
   "cell_type": "code",
   "execution_count": 102,
   "id": "509208e2",
   "metadata": {},
   "outputs": [],
   "source": [
    "ax = qubit.gaussian_pulse.plot()\n",
    "_ = ax.set_xlabel('Time [ns]')"
   ]
  },
  {
   "cell_type": "code",
   "execution_count": null,
   "id": "c7fa06af",
   "metadata": {},
   "outputs": [],
   "source": []
  },
  {
   "cell_type": "code",
   "execution_count": null,
   "id": "551385f0",
   "metadata": {},
   "outputs": [],
   "source": []
  },
  {
   "cell_type": "code",
   "execution_count": null,
   "id": "796b0ca1",
   "metadata": {},
   "outputs": [],
   "source": []
  },
  {
   "cell_type": "code",
   "execution_count": null,
   "id": "7ead97db",
   "metadata": {},
   "outputs": [],
   "source": []
  },
  {
   "cell_type": "code",
   "execution_count": null,
   "id": "63e2ac9b",
   "metadata": {},
   "outputs": [],
   "source": []
  },
  {
   "cell_type": "code",
   "execution_count": null,
   "id": "bb84fe85",
   "metadata": {},
   "outputs": [],
   "source": []
  }
 ],
 "metadata": {
  "kernelspec": {
   "display_name": "Python 3 (ipykernel)",
   "language": "python",
   "name": "python3"
  },
  "language_info": {
   "codemirror_mode": {
    "name": "ipython",
    "version": 3
   },
   "file_extension": ".py",
   "mimetype": "text/x-python",
   "name": "python",
   "nbconvert_exporter": "python",
   "pygments_lexer": "ipython3",
   "version": "3.11.4"
  }
 },
 "nbformat": 4,
 "nbformat_minor": 5
}
