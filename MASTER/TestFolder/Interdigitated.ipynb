{
 "cells": [
  {
   "cell_type": "code",
   "execution_count": 1,
   "id": "e36a9509",
   "metadata": {},
   "outputs": [],
   "source": [
    "%load_ext autoreload\n",
    "%autoreload 2\n",
    "import warnings \n",
    "warnings.filterwarnings(\"ignore\")"
   ]
  },
  {
   "cell_type": "code",
   "execution_count": 2,
   "id": "8eecfb70",
   "metadata": {},
   "outputs": [],
   "source": [
    "from qiskit_metal import designs, MetalGUI\n",
    "from qiskit_metal.qlibrary.sample_shapes.rectangle import Rectangle\n",
    "from qiskit_metal.qlibrary.qubits.transmon_pocket import TransmonPocket\n",
    "from qiskit_metal.qlibrary.qubits.Transmon_Interdigitated import TransmonInterdigitated\n",
    "from qiskit_metal.qlibrary.tlines.straight_path import RouteStraight\n",
    "from qiskit_metal.qlibrary.tlines.meandered import RouteMeander\n",
    "from qiskit_metal.qlibrary.terminations.open_to_ground import OpenToGround\n",
    "from qiskit_metal.qlibrary.terminations.short_to_ground import ShortToGround\n",
    "from qiskit_metal.designs.design_multiplanar import MultiPlanar\n"
   ]
  },
  {
   "cell_type": "markdown",
   "id": "5da52e53",
   "metadata": {},
   "source": [
    "# Main Design"
   ]
  },
  {
   "cell_type": "code",
   "execution_count": 3,
   "id": "b1f897fb",
   "metadata": {},
   "outputs": [],
   "source": [
    "design = MultiPlanar({},overwrite_enabled = True, layer_stack_filename = \"layer_stack.txt\")\n",
    "\n",
    "gui = MetalGUI(design)"
   ]
  },
  {
   "cell_type": "markdown",
   "id": "7b80d5f3",
   "metadata": {},
   "source": [
    "## Qubit Design"
   ]
  },
  {
   "cell_type": "code",
   "execution_count": 29,
   "id": "81abb9e3",
   "metadata": {},
   "outputs": [
    {
     "name": "stderr",
     "output_type": "stream",
     "text": [
      "07:56PM 02s CRITICAL [_qt_message_handler]: line: 0, func: None(), file: None  WARNING: QMainWindowLayout::tabPosition called with out-of-bounds value '0'\n",
      "\n"
     ]
    }
   ],
   "source": [
    "design.delete_all_components()\n",
    "conn_pads1 = dict( pad_width='500um',\n",
    "                           pad_height='150um',\n",
    "                           finger_width='25um',\n",
    "                           finger_height='50um',\n",
    "                           finger_space='25um',\n",
    "                           pad_pos_x='0um',\n",
    "                           pad_pos_y='0um',\n",
    "                           comb_width='25um',\n",
    "                           comb_space_vert='25um',\n",
    "                           comb_space_hor='25um',\n",
    "                           jj_width='10um',\n",
    "                           cc_space='25um',\n",
    "                           cc_width='50um',\n",
    "                           cc_height='50um',\n",
    "                           cc_topleft_space='25um',\n",
    "                           cc_topleft_width='50um',\n",
    "                           cc_topleft_height='50um',\n",
    "                           cc_topright_space='25um',\n",
    "                           cc_topright_width='50um',\n",
    "                           cc_topright_height='50um',\n",
    "                           rotation_top_pad='180',\n",
    "                           inductor_width='10um')\n",
    "\n",
    "conn_pads2 = dict(pad_width = '550um', pad_gap = '15um',\n",
    "                  connection_pads = dict(coupler = dict(loc_W = -1, loc_H = 1,pad_width = '50um', pad_cpw_shift = '12.5um'),\n",
    "                                         readout = dict(loc_W=1, loc_H=-1, pad_width='50um')))\n",
    "q1 = TransmonInterdigitated(design, \"Q1\", options=dict(pos_x='-0.5mm', pos_y='+0.0mm', layer=1, **conn_pads1))\n",
    "q2 = TransmonPocket(design, \"Q2\", options=dict(pos_x='+0.5mm', pos_y='+0.0mm', layer=1, **conn_pads2))\n",
    "\n",
    "gui.rebuild()\n",
    "gui.autoscale()"
   ]
  },
  {
   "cell_type": "markdown",
   "id": "c7ab7643",
   "metadata": {},
   "source": [
    "## Coupler Design"
   ]
  },
  {
   "cell_type": "code",
   "execution_count": 34,
   "id": "7e5df527",
   "metadata": {},
   "outputs": [
    {
     "name": "stderr",
     "output_type": "stream",
     "text": [
      "07:57PM 09s CRITICAL [_qt_message_handler]: line: 0, func: None(), file: None  WARNING: QMainWindowLayout::tabPosition called with out-of-bounds value '0'\n",
      "\n",
      "07:57PM 13s CRITICAL [_qt_message_handler]: line: 0, func: None(), file: None  WARNING: QMainWindowLayout::tabPosition called with out-of-bounds value '0'\n",
      "\n",
      "07:57PM 35s CRITICAL [_qt_message_handler]: line: 0, func: None(), file: None  WARNING: QMainWindowLayout::tabPosition called with out-of-bounds value '0'\n",
      "\n",
      "07:58PM 35s CRITICAL [_qt_message_handler]: line: 0, func: None(), file: None  WARNING: Could not create pixmap from c:\\users\f",
      "hris\\qiskit-metal\\qiskit_metal\\_gui\\styles\\metal_dark\\rc\\transparent.png\n",
      "\n"
     ]
    },
    {
     "name": "stdout",
     "output_type": "stream",
     "text": [
      "{'pos_x': '0.0um', 'pos_y': '0.0um', 'orientation': '0.0', 'chip': 'main', 'layer': '1', 'connection_pads': {}, '_default_connection_pads': {'pad_gap': '15um', 'pad_width': '20um', 'pad_height': '150um', 'pad_cpw_shift': '0um', 'pad_cpw_extent': '25um', 'cpw_width': '10um', 'cpw_gap': '6um', 'cpw_extend': '100um', 'pocket_extent': '5um', 'pocket_rise': '0um', 'loc_W': '+1', 'loc_H': '+1'}, 'pad_gap': '30um', 'inductor_width': '20um', 'pad_width': '400um', 'pad_height': '90um', 'pocket_width': '650um', 'pocket_height': '650um', 'coupled_pad_height': '150um', 'coupled_pad_width': '20um', 'coupled_pad_gap': '50um', 'hfss_wire_bonds': False, 'q3d_wire_bonds': False, 'aedt_q3d_wire_bonds': False, 'aedt_hfss_wire_bonds': False, 'hfss_inductance': '10nH', 'hfss_capacitance': 0, 'hfss_resistance': 0, 'hfss_mesh_kw_jj': 7e-06, 'q3d_inductance': '10nH', 'q3d_capacitance': 0, 'q3d_resistance': 0, 'q3d_mesh_kw_jj': 7e-06, 'gds_cell_name': 'my_other_junction', 'aedt_q3d_inductance': 1e-08, 'aedt_q3d_capacitance': 0, 'aedt_hfss_inductance': 1e-08, 'aedt_hfss_capacitance': 0, 'skeleton_a_column_name': 'a_default_value'}\n"
     ]
    }
   ],
   "source": [
    "coupler_options = dict(pin_inputs = dict(start_pin = dict(component=q2.name, pin='coupler'),\n",
    "                                         end_pin = dict(component=q1.name, pin='bus2')))\n",
    "\n",
    "coupler_connector = RouteStraight(design, 'coupler_connector', options = coupler_options)\n",
    "\n",
    "gui.rebuild()\n",
    "gui.autoscale()"
   ]
  },
  {
   "cell_type": "markdown",
   "id": "e80be104",
   "metadata": {},
   "source": [
    "## Readout Resonator Design"
   ]
  },
  {
   "cell_type": "code",
   "execution_count": 106,
   "id": "e6340ea8",
   "metadata": {},
   "outputs": [],
   "source": [
    "otg11_options = dict(pos_x='-1.5mm', pos_y = '0.0mm', orientation='180', layer='3')\n",
    "otg21_options = dict(pos_x='+1.5mm', pos_y = '0.0mm', orientation='0', layer='3')\n",
    "otg12_options = dict(pos_x='-0.955mm', pos_y = '-0.195mm', orientation='0', layer='3')\n",
    "otg22_options = dict(pos_x='+0.955mm', pos_y = '-0.1875mm', orientation='180', layer='3')\n",
    "otg11 = OpenToGround(design, 'otg11' ,options=otg11_options)\n",
    "otg21 = OpenToGround(design, 'otg21' ,options=otg21_options)\n",
    "otg12 = OpenToGround(design, 'otg12' ,options=otg12_options)\n",
    "otg22 = OpenToGround(design, 'otg22' ,options=otg22_options)\n",
    "\n",
    "readout1_options = dict(total_length = '5.97mm', fillet = '40um', \n",
    "                        pin_inputs = dict(start_pin = dict(component = otg11.name, pin='open'),\n",
    "                                          end_pin = dict(component = otg12.name, pin = 'open')),\n",
    "                        lead = dict(start_straight='150um'),\n",
    "                        meander=dict(spacing = '100um', asymmetry = '0'),\n",
    "                        layer = '3')\n",
    "\n",
    "readout2_options = dict(total_length = '5.97mm', fillet = '40um', \n",
    "                        pin_inputs = dict(start_pin = dict(component = otg22.name, pin='open'),\n",
    "                                          end_pin = dict(component = otg21.name, pin = 'open')),\n",
    "                        lead = dict(start_straight='120um'),\n",
    "                        meander=dict(spacing = '100um', asymmetry = '0.2'),\n",
    "                        layer = '3')\n",
    "\n",
    "readout1 = RouteMeander(design, 'readout1', options = readout1_options)\n",
    "readout2 = RouteMeander(design, 'readout2', options = readout2_options)\n",
    "\n",
    "gui.rebuild()\n",
    "gui.autoscale()"
   ]
  },
  {
   "cell_type": "markdown",
   "id": "76aa5c9d",
   "metadata": {},
   "source": [
    "## Via Creation and Dielectric"
   ]
  },
  {
   "cell_type": "code",
   "execution_count": 107,
   "id": "48326d35",
   "metadata": {},
   "outputs": [],
   "source": [
    "via_positions = [('-0.94mm','-0.1950mm'),('+0.94mm','-0.1875mm')]\n",
    "\n",
    "for layer in ['1','2','3']:\n",
    "    for via, positions in enumerate(via_positions):\n",
    "        for subtract in zip([False,True],['30um','42um']):\n",
    "            via_size = '20um' if layer =='2' else subtract[1]\n",
    "            actual_layer = '5' if (layer == '2' and subtract[0]) else layer\n",
    "            via_options = dict(width = via_size,\n",
    "                               height = via_size,\n",
    "                               pos_x = positions[0],\n",
    "                               pos_y = positions[1],\n",
    "                               subtract = subtract[0],\n",
    "                               layer = actual_layer,\n",
    "                               orientation = '0',\n",
    "                               helper = 'False',\n",
    "                               chip = 'main' )\n",
    "            name = 'via' +str(via+1) +'_layer' + actual_layer+('' if not subtract[0] else '_sub')\n",
    "            Rectangle(design, name, via_options)\n",
    "            #print(subtract)\n",
    "            #print(layer == '2' and subtract[0])\n",
    "    \n",
    "gui.rebuild()\n",
    "gui.autoscale()\n",
    "            "
   ]
  },
  {
   "cell_type": "markdown",
   "id": "e873a02d",
   "metadata": {},
   "source": [
    "# Render and Extract Capacitance Matrix"
   ]
  },
  {
   "cell_type": "code",
   "execution_count": 9,
   "id": "899a4dbb",
   "metadata": {},
   "outputs": [],
   "source": [
    "from qiskit_metal.renderers.renderer_elmer.elmer_renderer import QElmerRenderer"
   ]
  },
  {
   "cell_type": "markdown",
   "id": "9d0d0e00",
   "metadata": {},
   "source": [
    "## Render"
   ]
  },
  {
   "cell_type": "code",
   "execution_count": 16,
   "id": "74969aaf",
   "metadata": {},
   "outputs": [],
   "source": [
    "elmer_renderer = QElmerRenderer(design, layer_types = dict(metal = [1,2,3], dielectric = [4,5]))\n",
    "elmer_renderer.render_design(mesh_geoms = True,\n",
    "                             skip_junctions= True,\n",
    "                             open_pins=[(\"Q1\",\"readout\"),(\"Q2\",\"readout\")],\n",
    "                             omit_ground_for_layers = [2])"
   ]
  },
  {
   "cell_type": "code",
   "execution_count": 17,
   "id": "26e5f2bb",
   "metadata": {},
   "outputs": [],
   "source": [
    "elmer_renderer.launch_gmsh_gui()"
   ]
  },
  {
   "cell_type": "markdown",
   "id": "316df4ef",
   "metadata": {},
   "source": [
    "## Generate Capacitance Matrix"
   ]
  },
  {
   "cell_type": "code",
   "execution_count": 18,
   "id": "66a0cf00",
   "metadata": {},
   "outputs": [
    {
     "name": "stderr",
     "output_type": "stream",
     "text": [
      "08:05PM 23s INFO [run]: Running ElmerGrid on input mesh from Gmsh...\n",
      "08:05PM 28s INFO [run]: Running ElmerSolver for solver type: 'capacitance'\n"
     ]
    }
   ],
   "source": [
    "elmer_renderer.export_mesh()\n",
    "elmer_renderer.add_solution_setup('capacitance')\n",
    "elmer_renderer.run('capacitance')"
   ]
  },
  {
   "cell_type": "code",
   "execution_count": 19,
   "id": "fc856db9",
   "metadata": {},
   "outputs": [
    {
     "data": {
      "text/html": [
       "<div>\n",
       "<style scoped>\n",
       "    .dataframe tbody tr th:only-of-type {\n",
       "        vertical-align: middle;\n",
       "    }\n",
       "\n",
       "    .dataframe tbody tr th {\n",
       "        vertical-align: top;\n",
       "    }\n",
       "\n",
       "    .dataframe thead th {\n",
       "        text-align: right;\n",
       "    }\n",
       "</style>\n",
       "<table border=\"1\" class=\"dataframe\">\n",
       "  <thead>\n",
       "    <tr style=\"text-align: right;\">\n",
       "      <th></th>\n",
       "      <th>Q2_coupler_wire</th>\n",
       "      <th>vai2_layer3_rectangle</th>\n",
       "      <th>readout1_trace</th>\n",
       "      <th>Q2_pad_bot</th>\n",
       "      <th>Q2_pad_top</th>\n",
       "      <th>Q1_pad_top</th>\n",
       "      <th>Q1_pad_bot</th>\n",
       "      <th>ground_plane</th>\n",
       "    </tr>\n",
       "  </thead>\n",
       "  <tbody>\n",
       "    <tr>\n",
       "      <th>Q2_coupler_wire</th>\n",
       "      <td>352.350233</td>\n",
       "      <td>-0.296973</td>\n",
       "      <td>-0.086038</td>\n",
       "      <td>-2.967213</td>\n",
       "      <td>-45.213596</td>\n",
       "      <td>-23.875798</td>\n",
       "      <td>-1.810236</td>\n",
       "      <td>-278.100379</td>\n",
       "    </tr>\n",
       "    <tr>\n",
       "      <th>vai2_layer3_rectangle</th>\n",
       "      <td>-0.296973</td>\n",
       "      <td>1760.032568</td>\n",
       "      <td>-0.001595</td>\n",
       "      <td>-45.460471</td>\n",
       "      <td>-2.897693</td>\n",
       "      <td>-0.008811</td>\n",
       "      <td>-0.011630</td>\n",
       "      <td>-1711.355395</td>\n",
       "    </tr>\n",
       "    <tr>\n",
       "      <th>readout1_trace</th>\n",
       "      <td>-0.086038</td>\n",
       "      <td>-0.001595</td>\n",
       "      <td>1714.143945</td>\n",
       "      <td>-0.006621</td>\n",
       "      <td>-0.005071</td>\n",
       "      <td>-1.751276</td>\n",
       "      <td>-23.831068</td>\n",
       "      <td>-1688.462275</td>\n",
       "    </tr>\n",
       "    <tr>\n",
       "      <th>Q2_pad_bot</th>\n",
       "      <td>-2.967213</td>\n",
       "      <td>-45.460471</td>\n",
       "      <td>-0.006621</td>\n",
       "      <td>318.340854</td>\n",
       "      <td>-90.448982</td>\n",
       "      <td>-0.073034</td>\n",
       "      <td>-0.096588</td>\n",
       "      <td>-179.287944</td>\n",
       "    </tr>\n",
       "    <tr>\n",
       "      <th>Q2_pad_top</th>\n",
       "      <td>-45.213596</td>\n",
       "      <td>-2.897693</td>\n",
       "      <td>-0.005071</td>\n",
       "      <td>-90.448982</td>\n",
       "      <td>318.248960</td>\n",
       "      <td>-0.066634</td>\n",
       "      <td>-0.072252</td>\n",
       "      <td>-179.544731</td>\n",
       "    </tr>\n",
       "    <tr>\n",
       "      <th>Q1_pad_top</th>\n",
       "      <td>-23.875798</td>\n",
       "      <td>-0.008811</td>\n",
       "      <td>-1.751276</td>\n",
       "      <td>-0.073034</td>\n",
       "      <td>-0.066634</td>\n",
       "      <td>239.656475</td>\n",
       "      <td>-51.702296</td>\n",
       "      <td>-162.178625</td>\n",
       "    </tr>\n",
       "    <tr>\n",
       "      <th>Q1_pad_bot</th>\n",
       "      <td>-1.810236</td>\n",
       "      <td>-0.011630</td>\n",
       "      <td>-23.831068</td>\n",
       "      <td>-0.096588</td>\n",
       "      <td>-0.072252</td>\n",
       "      <td>-51.702296</td>\n",
       "      <td>239.671127</td>\n",
       "      <td>-162.147057</td>\n",
       "    </tr>\n",
       "    <tr>\n",
       "      <th>ground_plane</th>\n",
       "      <td>-278.100379</td>\n",
       "      <td>-1711.355395</td>\n",
       "      <td>-1688.462275</td>\n",
       "      <td>-179.287944</td>\n",
       "      <td>-179.544731</td>\n",
       "      <td>-162.178625</td>\n",
       "      <td>-162.147057</td>\n",
       "      <td>300.000000</td>\n",
       "    </tr>\n",
       "  </tbody>\n",
       "</table>\n",
       "</div>"
      ],
      "text/plain": [
       "                       Q2_coupler_wire  vai2_layer3_rectangle  readout1_trace  \\\n",
       "Q2_coupler_wire             352.350233              -0.296973       -0.086038   \n",
       "vai2_layer3_rectangle        -0.296973            1760.032568       -0.001595   \n",
       "readout1_trace               -0.086038              -0.001595     1714.143945   \n",
       "Q2_pad_bot                   -2.967213             -45.460471       -0.006621   \n",
       "Q2_pad_top                  -45.213596              -2.897693       -0.005071   \n",
       "Q1_pad_top                  -23.875798              -0.008811       -1.751276   \n",
       "Q1_pad_bot                   -1.810236              -0.011630      -23.831068   \n",
       "ground_plane               -278.100379           -1711.355395    -1688.462275   \n",
       "\n",
       "                       Q2_pad_bot  Q2_pad_top  Q1_pad_top  Q1_pad_bot  \\\n",
       "Q2_coupler_wire         -2.967213  -45.213596  -23.875798   -1.810236   \n",
       "vai2_layer3_rectangle  -45.460471   -2.897693   -0.008811   -0.011630   \n",
       "readout1_trace          -0.006621   -0.005071   -1.751276  -23.831068   \n",
       "Q2_pad_bot             318.340854  -90.448982   -0.073034   -0.096588   \n",
       "Q2_pad_top             -90.448982  318.248960   -0.066634   -0.072252   \n",
       "Q1_pad_top              -0.073034   -0.066634  239.656475  -51.702296   \n",
       "Q1_pad_bot              -0.096588   -0.072252  -51.702296  239.671127   \n",
       "ground_plane          -179.287944 -179.544731 -162.178625 -162.147057   \n",
       "\n",
       "                       ground_plane  \n",
       "Q2_coupler_wire         -278.100379  \n",
       "vai2_layer3_rectangle  -1711.355395  \n",
       "readout1_trace         -1688.462275  \n",
       "Q2_pad_bot              -179.287944  \n",
       "Q2_pad_top              -179.544731  \n",
       "Q1_pad_top              -162.178625  \n",
       "Q1_pad_bot              -162.147057  \n",
       "ground_plane             300.000000  "
      ]
     },
     "execution_count": 19,
     "metadata": {},
     "output_type": "execute_result"
    }
   ],
   "source": [
    "cap_matrix = elmer_renderer.capacitance_matrix\n",
    "cap_matrix"
   ]
  },
  {
   "cell_type": "code",
   "execution_count": 20,
   "id": "054826d2",
   "metadata": {},
   "outputs": [
    {
     "name": "stderr",
     "output_type": "stream",
     "text": [
      "08:07PM 08s INFO [model]: Added new model 'post_processing' and set as current.\n"
     ]
    }
   ],
   "source": [
    "elmer_renderer.display_post_processing_data()\n",
    "elmer_renderer.close()"
   ]
  },
  {
   "cell_type": "code",
   "execution_count": 10,
   "id": "aa04d9a3",
   "metadata": {},
   "outputs": [],
   "source": [
    "elmer_renderer = QElmerRenderer(design, layer_types=dict(metal=[1,2,3], dielectric=[4,5]))\n",
    "select = ['Q1','via1_layer1', 'via1_layer2', 'via1_layer3', 'via1_layer1_sub', 'via1_layer5_sub', 'via1_layer3_sub']\n",
    "#select = ['Q1']\n",
    "elmer_renderer.render_design(selection=select,  open_pins=[(\"Q1\",\"readout\"),(\"Q1\",\"coupler\")], skip_junctions=True, \n",
    "                            omit_ground_for_layers = [2])\n",
    "\n",
    "#elmer_renderer.launch_gmsh_gui()"
   ]
  },
  {
   "cell_type": "code",
   "execution_count": 11,
   "id": "0110f533",
   "metadata": {},
   "outputs": [
    {
     "name": "stderr",
     "output_type": "stream",
     "text": [
      "09:22PM 13s INFO [run]: Running ElmerGrid on input mesh from Gmsh...\n",
      "09:22PM 14s INFO [run]: Running ElmerSolver for solver type: 'capacitance'\n"
     ]
    },
    {
     "data": {
      "text/html": [
       "<div>\n",
       "<style scoped>\n",
       "    .dataframe tbody tr th:only-of-type {\n",
       "        vertical-align: middle;\n",
       "    }\n",
       "\n",
       "    .dataframe tbody tr th {\n",
       "        vertical-align: top;\n",
       "    }\n",
       "\n",
       "    .dataframe thead th {\n",
       "        text-align: right;\n",
       "    }\n",
       "</style>\n",
       "<table border=\"1\" class=\"dataframe\">\n",
       "  <thead>\n",
       "    <tr style=\"text-align: right;\">\n",
       "      <th></th>\n",
       "      <th>Q1_coupler_connector_pad</th>\n",
       "      <th>via1_layer3_rectangle</th>\n",
       "      <th>Q1_pad_top</th>\n",
       "      <th>Q1_pad_bot</th>\n",
       "      <th>ground_plane</th>\n",
       "    </tr>\n",
       "  </thead>\n",
       "  <tbody>\n",
       "    <tr>\n",
       "      <th>Q1_coupler_connector_pad</th>\n",
       "      <td>130.839441</td>\n",
       "      <td>-0.185205</td>\n",
       "      <td>-24.336779</td>\n",
       "      <td>-2.013832</td>\n",
       "      <td>-104.303625</td>\n",
       "    </tr>\n",
       "    <tr>\n",
       "      <th>via1_layer3_rectangle</th>\n",
       "      <td>-0.185205</td>\n",
       "      <td>184.686768</td>\n",
       "      <td>-2.053375</td>\n",
       "      <td>-24.375626</td>\n",
       "      <td>-158.072562</td>\n",
       "    </tr>\n",
       "    <tr>\n",
       "      <th>Q1_pad_top</th>\n",
       "      <td>-24.336779</td>\n",
       "      <td>-2.053375</td>\n",
       "      <td>192.841655</td>\n",
       "      <td>-39.838133</td>\n",
       "      <td>-126.613368</td>\n",
       "    </tr>\n",
       "    <tr>\n",
       "      <th>Q1_pad_bot</th>\n",
       "      <td>-2.013832</td>\n",
       "      <td>-24.375626</td>\n",
       "      <td>-39.838133</td>\n",
       "      <td>192.550875</td>\n",
       "      <td>-126.323284</td>\n",
       "    </tr>\n",
       "    <tr>\n",
       "      <th>ground_plane</th>\n",
       "      <td>-104.303625</td>\n",
       "      <td>-158.072562</td>\n",
       "      <td>-126.613368</td>\n",
       "      <td>-126.323284</td>\n",
       "      <td>300.000000</td>\n",
       "    </tr>\n",
       "  </tbody>\n",
       "</table>\n",
       "</div>"
      ],
      "text/plain": [
       "                          Q1_coupler_connector_pad  via1_layer3_rectangle  \\\n",
       "Q1_coupler_connector_pad                130.839441              -0.185205   \n",
       "via1_layer3_rectangle                    -0.185205             184.686768   \n",
       "Q1_pad_top                              -24.336779              -2.053375   \n",
       "Q1_pad_bot                               -2.013832             -24.375626   \n",
       "ground_plane                           -104.303625            -158.072562   \n",
       "\n",
       "                          Q1_pad_top  Q1_pad_bot  ground_plane  \n",
       "Q1_coupler_connector_pad  -24.336779   -2.013832   -104.303625  \n",
       "via1_layer3_rectangle      -2.053375  -24.375626   -158.072562  \n",
       "Q1_pad_top                192.841655  -39.838133   -126.613368  \n",
       "Q1_pad_bot                -39.838133  192.550875   -126.323284  \n",
       "ground_plane             -126.613368 -126.323284    300.000000  "
      ]
     },
     "execution_count": 11,
     "metadata": {},
     "output_type": "execute_result"
    }
   ],
   "source": [
    "elmer_renderer.export_mesh()\n",
    "elmer_renderer.add_solution_setup('capacitance')\n",
    "elmer_renderer.run('capacitance')\n",
    "cap_matrix_q1 = elmer_renderer.capacitance_matrix\n",
    "cap_matrix_q1"
   ]
  },
  {
   "cell_type": "code",
   "execution_count": null,
   "id": "691a867c",
   "metadata": {},
   "outputs": [],
   "source": [
    "elmer_renderer.display_post_processing_data()\n",
    "elmer_renderer.close()"
   ]
  },
  {
   "cell_type": "code",
   "execution_count": 12,
   "id": "3e7b1f21",
   "metadata": {},
   "outputs": [],
   "source": [
    "elmer_renderer = QElmerRenderer(design, layer_types=dict(metal=[1,2,3], dielectric=[4,5]))\n",
    "select = ['Q2','via2_layer1', 'via2_layer2', 'via2_layer3', 'via2_layer1_sub', 'via2_layer5_sub', 'via2_layer3_sub']\n",
    "#select = ['Q2']\n",
    "elmer_renderer.render_design(selection=select,  open_pins=[(\"Q2\",\"readout\"),(\"Q2\",\"coupler\")], skip_junctions=True, \n",
    "                            omit_ground_for_layers = [2])\n",
    "\n",
    "#elmer_renderer.launch_gmsh_gui()"
   ]
  },
  {
   "cell_type": "code",
   "execution_count": 13,
   "id": "077713b3",
   "metadata": {},
   "outputs": [
    {
     "name": "stderr",
     "output_type": "stream",
     "text": [
      "09:22PM 44s INFO [run]: Running ElmerGrid on input mesh from Gmsh...\n",
      "09:22PM 46s INFO [run]: Running ElmerSolver for solver type: 'capacitance'\n"
     ]
    },
    {
     "data": {
      "text/html": [
       "<div>\n",
       "<style scoped>\n",
       "    .dataframe tbody tr th:only-of-type {\n",
       "        vertical-align: middle;\n",
       "    }\n",
       "\n",
       "    .dataframe tbody tr th {\n",
       "        vertical-align: top;\n",
       "    }\n",
       "\n",
       "    .dataframe thead th {\n",
       "        text-align: right;\n",
       "    }\n",
       "</style>\n",
       "<table border=\"1\" class=\"dataframe\">\n",
       "  <thead>\n",
       "    <tr style=\"text-align: right;\">\n",
       "      <th></th>\n",
       "      <th>Q2_coupler_connector_pad</th>\n",
       "      <th>via2_layer3_rectangle</th>\n",
       "      <th>Q2_pad_top</th>\n",
       "      <th>Q2_pad_bot</th>\n",
       "      <th>ground_plane</th>\n",
       "    </tr>\n",
       "  </thead>\n",
       "  <tbody>\n",
       "    <tr>\n",
       "      <th>Q2_coupler_connector_pad</th>\n",
       "      <td>114.459746</td>\n",
       "      <td>-0.186262</td>\n",
       "      <td>-13.058923</td>\n",
       "      <td>-1.714190</td>\n",
       "      <td>-99.500371</td>\n",
       "    </tr>\n",
       "    <tr>\n",
       "      <th>via2_layer3_rectangle</th>\n",
       "      <td>-0.186262</td>\n",
       "      <td>166.315309</td>\n",
       "      <td>-1.764495</td>\n",
       "      <td>-13.410837</td>\n",
       "      <td>-150.953715</td>\n",
       "    </tr>\n",
       "    <tr>\n",
       "      <th>Q2_pad_top</th>\n",
       "      <td>-13.058923</td>\n",
       "      <td>-1.764495</td>\n",
       "      <td>151.733658</td>\n",
       "      <td>-42.835542</td>\n",
       "      <td>-94.074699</td>\n",
       "    </tr>\n",
       "    <tr>\n",
       "      <th>Q2_pad_bot</th>\n",
       "      <td>-1.714190</td>\n",
       "      <td>-13.410837</td>\n",
       "      <td>-42.835542</td>\n",
       "      <td>151.953303</td>\n",
       "      <td>-93.992734</td>\n",
       "    </tr>\n",
       "    <tr>\n",
       "      <th>ground_plane</th>\n",
       "      <td>-99.500371</td>\n",
       "      <td>-150.953715</td>\n",
       "      <td>-94.074699</td>\n",
       "      <td>-93.992734</td>\n",
       "      <td>300.000000</td>\n",
       "    </tr>\n",
       "  </tbody>\n",
       "</table>\n",
       "</div>"
      ],
      "text/plain": [
       "                          Q2_coupler_connector_pad  via2_layer3_rectangle  \\\n",
       "Q2_coupler_connector_pad                114.459746              -0.186262   \n",
       "via2_layer3_rectangle                    -0.186262             166.315309   \n",
       "Q2_pad_top                              -13.058923              -1.764495   \n",
       "Q2_pad_bot                               -1.714190             -13.410837   \n",
       "ground_plane                            -99.500371            -150.953715   \n",
       "\n",
       "                          Q2_pad_top  Q2_pad_bot  ground_plane  \n",
       "Q2_coupler_connector_pad  -13.058923   -1.714190    -99.500371  \n",
       "via2_layer3_rectangle      -1.764495  -13.410837   -150.953715  \n",
       "Q2_pad_top                151.733658  -42.835542    -94.074699  \n",
       "Q2_pad_bot                -42.835542  151.953303    -93.992734  \n",
       "ground_plane              -94.074699  -93.992734    300.000000  "
      ]
     },
     "execution_count": 13,
     "metadata": {},
     "output_type": "execute_result"
    }
   ],
   "source": [
    "elmer_renderer.export_mesh()\n",
    "elmer_renderer.add_solution_setup('capacitance')\n",
    "elmer_renderer.run('capacitance')\n",
    "cap_matrix_q2 = elmer_renderer.capacitance_matrix\n",
    "cap_matrix_q2"
   ]
  },
  {
   "cell_type": "code",
   "execution_count": null,
   "id": "af662f01",
   "metadata": {},
   "outputs": [],
   "source": []
  },
  {
   "cell_type": "code",
   "execution_count": null,
   "id": "cc0a4e94",
   "metadata": {},
   "outputs": [],
   "source": []
  },
  {
   "cell_type": "markdown",
   "id": "b59fe633",
   "metadata": {},
   "source": [
    "# LOM Analysis"
   ]
  },
  {
   "cell_type": "code",
   "execution_count": 14,
   "id": "26b399a0",
   "metadata": {},
   "outputs": [
    {
     "name": "stderr",
     "output_type": "stream",
     "text": [
      "09:23PM 05s INFO [__init__]: TransmonBuilder with system_type TRANSMON registered to QuantumSystemRegistry\n",
      "09:23PM 05s INFO [__init__]: FluxoniumBuilder with system_type FLUXONIUM registered to QuantumSystemRegistry\n",
      "09:23PM 05s INFO [__init__]: TLResonatorBuilder with system_type TL_RESONATOR registered to QuantumSystemRegistry\n",
      "09:23PM 05s INFO [__init__]: LumpedResonatorBuilder with system_type LUMPED_RESONATOR registered to QuantumSystemRegistry\n"
     ]
    }
   ],
   "source": [
    "import scqubits as scq\n",
    "from scipy.constants import speed_of_light as c_light\n",
    "import matplotlib.pyplot as plt\n",
    "from qiskit_metal.analyses.quantization.lumped_capacitive import load_q3d_capacitance_matrix\n",
    "from qiskit_metal.analyses.quantization.lom_core_analysis import CompositeSystem, Cell, Subsystem, QuantumSystemRegistry"
   ]
  },
  {
   "cell_type": "markdown",
   "id": "1c568313",
   "metadata": {},
   "source": [
    "## LOM Cells"
   ]
  },
  {
   "cell_type": "code",
   "execution_count": 15,
   "id": "4d296158",
   "metadata": {},
   "outputs": [],
   "source": [
    "opt1 = dict(node_rename = {'Q1_coupler_connector_pad':'coupling','via1_layer3_rectangle': 'readout_alice'},\n",
    "#opt1 = dict(node_rename = {'Q1_coupler_connector_pad':'coupling','Q1_readout_connector_pad': 'readout_alice'},\n",
    "            cap_mat = cap_matrix_q1,\n",
    "            ind_dict = {('Q1_pad_top','Q1_pad_bot'):10},\n",
    "            jj_dict = {('Q1_pad_top','Q1_pad_bot'):'j1'},\n",
    "            cj_dict = {('Q1_pad_top','Q1_pad_bot'):2}\n",
    "           )            \n",
    "\n",
    "cell_1 = Cell(opt1)\n",
    "\n",
    "opt2 = dict(node_rename = {'Q2_coupler_connector_pad':'coupling','via2_layer3_rectangle': 'readout_bob'},\n",
    "#opt2 = dict(node_rename = {'Q2_coupler_connector_pad':'coupling','Q2_readout_connector_pad': 'readout_bob'},\n",
    "            cap_mat = cap_matrix_q2,\n",
    "            ind_dict = {('Q2_pad_top','Q2_pad_bot'):12},\n",
    "            jj_dict = {('Q2_pad_top','Q2_pad_bot'):'j2'},\n",
    "            cj_dict = {('Q2_pad_top','Q2_pad_bot'):2}\n",
    "           )\n",
    "cell_2 = Cell(opt2)"
   ]
  },
  {
   "cell_type": "markdown",
   "id": "29d14d64",
   "metadata": {},
   "source": [
    "## Subsystems"
   ]
  },
  {
   "cell_type": "code",
   "execution_count": 16,
   "id": "1bcc268d",
   "metadata": {},
   "outputs": [],
   "source": [
    "transmon_alice = Subsystem(name = 'transmon_alice', sys_type='TRANSMON', nodes=['j1'])\n",
    "\n",
    "transmon_bob = Subsystem(name = 'transmon_bob', sys_type='TRANSMON', nodes=['j2'])\n",
    "\n",
    "\n",
    "### Readout resonator properties\n",
    "\n",
    "#Alice\n",
    "q_opts1 = dict(\n",
    "    f_res = 8.0, ##in GHz\n",
    "    Z0 = 50,  #charicterisit impedance\n",
    "    vp = 0.40314 * c_light, ## phase velocity\n",
    ")\n",
    "res_alice = Subsystem(name='readout_alice', sys_type ='TL_RESONATOR', nodes = ['readout_alice'], q_opts = q_opts1)\n",
    "\n",
    "\n",
    "#Bob\n",
    "q_opts2 = dict(\n",
    "    f_res = 7.6, ##in GHz\n",
    "    Z0 = 50,  #charicterisit impedance\n",
    "    vp = 0.40314 * c_light, ## phase velocity\n",
    ")\n",
    "res_bob = Subsystem(name='readout_bob', sys_type ='TL_RESONATOR', nodes = ['readout_bob'], q_opts = q_opts2)\n",
    "\n",
    "\n",
    "\n",
    "\n"
   ]
  },
  {
   "cell_type": "markdown",
   "id": "7cd564b5",
   "metadata": {},
   "source": [
    "## Create Composite System"
   ]
  },
  {
   "cell_type": "code",
   "execution_count": 17,
   "id": "8dfda56d",
   "metadata": {},
   "outputs": [],
   "source": [
    "composite_sys = CompositeSystem(\n",
    "            subsystems = [transmon_alice, transmon_bob, res_alice, res_bob],\n",
    "            cells = [cell_1, cell_2],\n",
    "            grd_node = 'ground_plane', #ID Ground plane to remove\n",
    "            nodes_force_keep = ['readout_alice', 'readout_bob'] #need to do this so hamiltonian includes readout res's\n",
    "            )"
   ]
  },
  {
   "cell_type": "code",
   "execution_count": 18,
   "id": "81053347",
   "metadata": {},
   "outputs": [
    {
     "name": "stdout",
     "output_type": "stream",
     "text": [
      "node_jj_basis:\n",
      "-------------\n",
      "\n",
      "['j1', 'Q1_pad_bot', 'j2', 'Q2_pad_bot', 'readout_alice', 'readout_bob', 'coupling']\n",
      "\n",
      "nodes_keep:\n",
      "-------------\n",
      "\n",
      "['j1', 'j2', 'readout_alice', 'readout_bob']\n",
      "\n",
      "\n",
      "L_inv_k (reduced inverse inductance matrix):\n",
      "-------------\n",
      "\n",
      "                j1        j2  readout_alice  readout_bob\n",
      "j1             0.1  0.000000            0.0          0.0\n",
      "j2             0.0  0.083333            0.0          0.0\n",
      "readout_alice  0.0  0.000000            0.0          0.0\n",
      "readout_bob    0.0  0.000000            0.0          0.0\n",
      "\n",
      "C_k (reduced capacitance matrix):\n",
      "-------------\n",
      "\n",
      "                       j1         j2  readout_alice  readout_bob\n",
      "j1             117.753555  -0.261640      11.060227    -0.055949\n",
      "j2              -0.261640  99.206164      -0.057806     5.787024\n",
      "readout_alice   11.060227  -0.057806     182.376927    -0.012361\n",
      "readout_bob     -0.055949   5.787024      -0.012361   165.252911\n",
      "\n",
      "\n"
     ]
    }
   ],
   "source": [
    "cg = composite_sys.circuitGraph()\n",
    "print(cg)"
   ]
  },
  {
   "cell_type": "code",
   "execution_count": 19,
   "id": "ae2540d5",
   "metadata": {},
   "outputs": [
    {
     "data": {
      "text/latex": [
       "Quantum object: dims = [[10, 10, 3, 3], [10, 10, 3, 3]], shape = (900, 900), type = oper, isherm = True $ \\\\ \\left(\\begin{matrix}-2.543\\times10^{+04} & 0.051j & 0.0 & 0.086j & -0.027 & \\cdots & 0.0 & 0.0 & 0.0 & 0.0 & 0.0\\\\-0.051j & -1.783\\times10^{+04} & 0.073j & 0.027 & 0.086j & \\cdots & 0.0 & 0.0 & 0.0 & 0.0 & 0.0\\\\0.0 & -0.073j & -1.023\\times10^{+04} & 0.0 & 0.038 & \\cdots & 0.0 & 0.0 & 0.0 & 0.0 & 0.0\\\\-0.086j & 0.027 & 0.0 & -1.743\\times10^{+04} & 0.051j & \\cdots & 0.0 & 0.0 & 0.0 & 0.0 & 0.0\\\\-0.027 & -0.086j & 0.038 & -0.051j & -9.826\\times10^{+03} & \\cdots & -2.361\\times10^{-09} & 0.0 & 0.0 & 0.0 & 0.0\\\\\\vdots & \\vdots & \\vdots & \\vdots & \\vdots & \\ddots & \\vdots & \\vdots & \\vdots & \\vdots & \\vdots\\\\0.0 & 0.0 & 0.0 & 0.0 & -2.361\\times10^{-09} & \\cdots & 5.507\\times10^{+04} & 200.837j & 0.038 & 15.271j & -0.054\\\\0.0 & 0.0 & 0.0 & 0.0 & 0.0 & \\cdots & -200.837j & 6.267\\times10^{+04} & 0.0 & 0.054 & 15.271j\\\\0.0 & 0.0 & 0.0 & 0.0 & 0.0 & \\cdots & 0.038 & 0.0 & 5.547\\times10^{+04} & 142.013j & 0.0\\\\0.0 & 0.0 & 0.0 & 0.0 & 0.0 & \\cdots & -15.271j & 0.054 & -142.013j & 6.307\\times10^{+04} & 200.837j\\\\0.0 & 0.0 & 0.0 & 0.0 & 0.0 & \\cdots & -0.054 & -15.271j & 0.0 & -200.837j & 7.067\\times10^{+04}\\\\\\end{matrix}\\right)$"
      ],
      "text/plain": [
       "Quantum object: dims = [[10, 10, 3, 3], [10, 10, 3, 3]], shape = (900, 900), type = oper, isherm = True\n",
       "Qobj data =\n",
       "[[-25425.71001544+0.00000000e+00j      0.        +5.13279947e-02j\n",
       "       0.        +0.00000000e+00j ...      0.        +0.00000000e+00j\n",
       "       0.        +0.00000000e+00j      0.        +0.00000000e+00j]\n",
       " [     0.        -5.13279947e-02j -17825.71001544+0.00000000e+00j\n",
       "       0.        +7.25887462e-02j ...      0.        +0.00000000e+00j\n",
       "       0.        +0.00000000e+00j      0.        +0.00000000e+00j]\n",
       " [     0.        +0.00000000e+00j      0.        -7.25887462e-02j\n",
       "  -10225.71001544+0.00000000e+00j ...      0.        +0.00000000e+00j\n",
       "       0.        +0.00000000e+00j      0.        +0.00000000e+00j]\n",
       " ...\n",
       " [     0.        +0.00000000e+00j      0.        +0.00000000e+00j\n",
       "       0.        +0.00000000e+00j ...  55465.77362231+0.00000000e+00j\n",
       "       0.        +1.42013049e+02j      0.        +0.00000000e+00j]\n",
       " [     0.        +0.00000000e+00j      0.        +0.00000000e+00j\n",
       "       0.        +0.00000000e+00j ...      0.        -1.42013049e+02j\n",
       "   63065.77362231+0.00000000e+00j      0.        +2.00836780e+02j]\n",
       " [     0.        +0.00000000e+00j      0.        +0.00000000e+00j\n",
       "       0.        +0.00000000e+00j ...      0.        +0.00000000e+00j\n",
       "       0.        -2.00836780e+02j  70665.77362231+0.00000000e+00j]]"
      ]
     },
     "execution_count": 19,
     "metadata": {},
     "output_type": "execute_result"
    }
   ],
   "source": [
    "hilbertspace = composite_sys.create_hilbertspace()\n",
    "hilbertspace = composite_sys.add_interaction()\n",
    "hilbertspace.hamiltonian()"
   ]
  },
  {
   "cell_type": "code",
   "execution_count": 20,
   "id": "d6548ba5",
   "metadata": {},
   "outputs": [
    {
     "name": "stdout",
     "output_type": "stream",
     "text": [
      "HilbertSpace:  subsystems\n",
      "-------------------------\n",
      "\n",
      "Transmon------------| [Transmon_3]\n",
      "                    | EJ: 16346.15128067812\n",
      "                    | EC: 165.44138550712552\n",
      "                    | ng: 0.001\n",
      "                    | ncut: 22\n",
      "                    | truncated_dim: 10\n",
      "                    |\n",
      "                    | dim: 45\n",
      "\n",
      "\n",
      "Transmon------------| [Transmon_4]\n",
      "                    | EJ: 13621.792733898432\n",
      "                    | EC: 195.65309393482073\n",
      "                    | ng: 0.001\n",
      "                    | ncut: 22\n",
      "                    | truncated_dim: 10\n",
      "                    |\n",
      "                    | dim: 45\n",
      "\n",
      "\n",
      "Oscillator----------| [Oscillator_3]\n",
      "                    | E_osc: 8000.0\n",
      "                    | l_osc: None\n",
      "                    | truncated_dim: 3\n",
      "                    |\n",
      "                    | dim: 3\n",
      "\n",
      "\n",
      "Oscillator----------| [Oscillator_4]\n",
      "                    | E_osc: 7600.0\n",
      "                    | l_osc: None\n",
      "                    | truncated_dim: 3\n",
      "                    |\n",
      "                    | dim: 3\n",
      "\n",
      "\n",
      "\n",
      "HilbertSpace:  interaction terms\n",
      "--------------------------------\n",
      "InteractionTerm----------| [Interaction_1]\n",
      "                         | g_strength: 3.4250316448223974\n",
      "                         | operator_list: [(0, array([[-22,   0,   0, ...,   0,   0,   0],\n",
      "  ...\n",
      "                         | add_hc: False\n",
      "\n",
      "InteractionTerm----------| [Interaction_2]\n",
      "                         | g_strength: -85.80438727168026\n",
      "                         | operator_list: [(0, array([[-22,   0,   0, ...,   0,   0,   0],\n",
      "  ...\n",
      "                         | add_hc: False\n",
      "\n",
      "InteractionTerm----------| [Interaction_3]\n",
      "                         | g_strength: 0.3034641567521336\n",
      "                         | operator_list: [(0, array([[-22,   0,   0, ...,   0,   0,   0],\n",
      "  ...\n",
      "                         | add_hc: False\n",
      "\n",
      "InteractionTerm----------| [Interaction_4]\n",
      "                         | g_strength: 0.30433251102041237\n",
      "                         | operator_list: [(1, array([[-22,   0,   0, ...,   0,   0,   0],\n",
      "  ...\n",
      "                         | add_hc: False\n",
      "\n",
      "InteractionTerm----------| [Interaction_5]\n",
      "                         | g_strength: -51.63146136315195\n",
      "                         | operator_list: [(1, array([[-22,   0,   0, ...,   0,   0,   0],\n",
      "  ...\n",
      "                         | add_hc: False\n",
      "\n",
      "InteractionTerm----------| [Interaction_6]\n",
      "                         | g_strength: 0.026964424976534156\n",
      "                         | operator_list: [(2, array([[ 0.+0.j        , -0.-1.j        ,  0. ...\n",
      "                         | add_hc: False\n",
      "\n",
      "\n"
     ]
    }
   ],
   "source": [
    "print(hilbertspace)"
   ]
  },
  {
   "cell_type": "markdown",
   "id": "17d5340d",
   "metadata": {},
   "source": []
  },
  {
   "cell_type": "code",
   "execution_count": 21,
   "id": "f9127072",
   "metadata": {},
   "outputs": [
    {
     "name": "stdout",
     "output_type": "stream",
     "text": [
      "\n",
      "system frequencies in GHz:\n",
      "--------------------------\n",
      "{'transmon_alice': 4.475298995868168, 'transmon_bob': 4.410531745990466, 'readout_alice': 8.002536166158407, 'readout_bob': 7.60086466620411}\n",
      "\n",
      "Chi matrices in MHz\n",
      "--------------------------\n",
      "                transmon_alice  transmon_bob  readout_alice   readout_bob\n",
      "transmon_alice     -182.013065      0.650541  -5.578591e-01 -1.679054e-03\n",
      "transmon_bob          0.650541   -218.078313  -3.776424e-03 -2.422321e-01\n",
      "readout_alice        -0.557859     -0.003776   2.982857e+00 -2.381057e-09\n",
      "readout_bob          -0.001679     -0.242232  -2.381057e-09  9.372468e-01\n"
     ]
    }
   ],
   "source": [
    "hamiltonian_results = composite_sys.hamiltonian_results(hilbertspace, evals_count = 30) # anharminicity are the diagonal in MHz\n",
    "#off diagonal show dispersive shifts"
   ]
  },
  {
   "cell_type": "code",
   "execution_count": 22,
   "id": "52d95ce3",
   "metadata": {},
   "outputs": [
    {
     "data": {
      "text/plain": [
       "defaultdict(dict,\n",
       "            {'j1': {'EJ': 16346.15128067812,\n",
       "              'EC': 165.44138550712552,\n",
       "              'Q_zpf': 3.204353268e-19,\n",
       "              'default_charge_op': Operator(op=array([[-22,   0,   0, ...,   0,   0,   0],\n",
       "                     [  0, -21,   0, ...,   0,   0,   0],\n",
       "                     [  0,   0, -20, ...,   0,   0,   0],\n",
       "                     ...,\n",
       "                     [  0,   0,   0, ...,  20,   0,   0],\n",
       "                     [  0,   0,   0, ...,   0,  21,   0],\n",
       "                     [  0,   0,   0, ...,   0,   0,  22]]), add_hc=False)}})"
      ]
     },
     "execution_count": 22,
     "metadata": {},
     "output_type": "execute_result"
    }
   ],
   "source": [
    "transmon_alice.h_params"
   ]
  },
  {
   "cell_type": "code",
   "execution_count": 23,
   "id": "32fa2451",
   "metadata": {},
   "outputs": [
    {
     "data": {
      "text/plain": [
       "defaultdict(dict,\n",
       "            {'j2': {'EJ': 13621.792733898432,\n",
       "              'EC': 195.65309393482073,\n",
       "              'Q_zpf': 3.204353268e-19,\n",
       "              'default_charge_op': Operator(op=array([[-22,   0,   0, ...,   0,   0,   0],\n",
       "                     [  0, -21,   0, ...,   0,   0,   0],\n",
       "                     [  0,   0, -20, ...,   0,   0,   0],\n",
       "                     ...,\n",
       "                     [  0,   0,   0, ...,  20,   0,   0],\n",
       "                     [  0,   0,   0, ...,   0,  21,   0],\n",
       "                     [  0,   0,   0, ...,   0,   0,  22]]), add_hc=False)}})"
      ]
     },
     "execution_count": 23,
     "metadata": {},
     "output_type": "execute_result"
    }
   ],
   "source": [
    "transmon_bob.h_params"
   ]
  },
  {
   "cell_type": "markdown",
   "id": "b9c0a07b",
   "metadata": {},
   "source": [
    "# Time Evolution Simulation (Sequencing)"
   ]
  },
  {
   "cell_type": "code",
   "execution_count": 24,
   "id": "399dcc6a",
   "metadata": {},
   "outputs": [],
   "source": [
    "from tqdm import tqdm\n",
    "from functools import partial\n",
    "import qutip\n",
    "\n",
    "from sequencing import Qubit, Transmon, Cavity, System, get_sequence, sync, delay\n",
    "from sequencing.calibration import fit_sine, fit_displacement, tune_rabi, tune_displacement, tune_drag\n",
    "\n",
    "from qiskit_metal.analyses.quantization.lom_time_evolution_sim import lom_composite_sys_to_seq_sys"
   ]
  },
  {
   "cell_type": "code",
   "execution_count": 86,
   "id": "a59a61ea",
   "metadata": {},
   "outputs": [],
   "source": [
    "system = lom_composite_sys_to_seq_sys(composite_sys, hilbertspace, levels = [3,3,10,10])"
   ]
  },
  {
   "cell_type": "code",
   "execution_count": 87,
   "id": "8a7f5acf",
   "metadata": {},
   "outputs": [
    {
     "data": {
      "text/plain": [
       "[Transmon(name='transmon_bob', cls='sequencing.modes.Transmon', levels=3, t1=inf, t2=inf, thermal_population=0.0, df=0.0, kerr=-0.21807831347557657, pulses={'smoothed_constant_pulse': SmoothedConstantPulse(name='smoothed_constant_pulse', cls='sequencing.pulses.SmoothedConstantPulse', amp=1.0, detune=0.0, phase=0.0, dt=1, noise_sigma=0.0, noise_alpha=0.0, scale_noise=False, length=100, sigma=0, shape='tanh'), 'gaussian_pulse': GaussianPulse(name='gaussian_pulse', cls='sequencing.pulses.GaussianPulse', amp=1.0, detune=0.0, phase=0.0, dt=1, noise_sigma=0.0, noise_alpha=0.0, scale_noise=False, sigma=10, chop=4, drag=0.0)}, default_pulse='gaussian_pulse'),\n",
       " Transmon(name='transmon_alice', cls='sequencing.modes.Transmon', levels=3, t1=inf, t2=inf, thermal_population=0.0, df=0.0, kerr=-0.18201306505332468, pulses={'smoothed_constant_pulse': SmoothedConstantPulse(name='smoothed_constant_pulse', cls='sequencing.pulses.SmoothedConstantPulse', amp=1.0, detune=0.0, phase=0.0, dt=1, noise_sigma=0.0, noise_alpha=0.0, scale_noise=False, length=100, sigma=0, shape='tanh'), 'gaussian_pulse': GaussianPulse(name='gaussian_pulse', cls='sequencing.pulses.GaussianPulse', amp=1.0, detune=0.0, phase=0.0, dt=1, noise_sigma=0.0, noise_alpha=0.0, scale_noise=False, sigma=10, chop=4, drag=0.0)}, default_pulse='gaussian_pulse'),\n",
       " Cavity(name='readout_bob', cls='sequencing.modes.Cavity', levels=10, t1=inf, t2=inf, thermal_population=0.0, df=0.0, kerr=0.0009372468451183522, pulses={'smoothed_constant_pulse': SmoothedConstantPulse(name='smoothed_constant_pulse', cls='sequencing.pulses.SmoothedConstantPulse', amp=1.0, detune=0.0, phase=0.0, dt=1, noise_sigma=0.0, noise_alpha=0.0, scale_noise=False, length=100, sigma=0, shape='tanh'), 'gaussian_pulse': GaussianPulse(name='gaussian_pulse', cls='sequencing.pulses.GaussianPulse', amp=1.0, detune=0.0, phase=0.0, dt=1, noise_sigma=0.0, noise_alpha=0.0, scale_noise=False, sigma=10, chop=4, drag=0.0)}, default_pulse='gaussian_pulse'),\n",
       " Cavity(name='readout_alice', cls='sequencing.modes.Cavity', levels=10, t1=inf, t2=inf, thermal_population=0.0, df=0.0, kerr=0.002982856690970948, pulses={'smoothed_constant_pulse': SmoothedConstantPulse(name='smoothed_constant_pulse', cls='sequencing.pulses.SmoothedConstantPulse', amp=1.0, detune=0.0, phase=0.0, dt=1, noise_sigma=0.0, noise_alpha=0.0, scale_noise=False, length=100, sigma=0, shape='tanh'), 'gaussian_pulse': GaussianPulse(name='gaussian_pulse', cls='sequencing.pulses.GaussianPulse', amp=1.0, detune=0.0, phase=0.0, dt=1, noise_sigma=0.0, noise_alpha=0.0, scale_noise=False, sigma=10, chop=4, drag=0.0)}, default_pulse='gaussian_pulse')]"
      ]
     },
     "execution_count": 87,
     "metadata": {},
     "output_type": "execute_result"
    }
   ],
   "source": [
    "system.modes #Mode is a subsystem in LOM analysis"
   ]
  },
  {
   "cell_type": "code",
   "execution_count": 90,
   "id": "2db65618",
   "metadata": {},
   "outputs": [
    {
     "name": "stdout",
     "output_type": "stream",
     "text": [
      "Transmon(name='transmon_bob', cls='sequencing.modes.Transmon', levels=3, t1=inf, t2=inf, thermal_population=0.0, df=0.0, kerr=-0.21807831347557657, pulses={'smoothed_constant_pulse': SmoothedConstantPulse(name='smoothed_constant_pulse', cls='sequencing.pulses.SmoothedConstantPulse', amp=1.0, detune=0.0, phase=0.0, dt=1, noise_sigma=0.0, noise_alpha=0.0, scale_noise=False, length=100, sigma=0, shape='tanh'), 'gaussian_pulse': GaussianPulse(name='gaussian_pulse', cls='sequencing.pulses.GaussianPulse', amp=1.0, detune=0.0, phase=0.0, dt=1, noise_sigma=0.0, noise_alpha=0.0, scale_noise=False, sigma=10, chop=4, drag=0.0)}, default_pulse='gaussian_pulse')\n",
      "Cavity(name='readout_bob', cls='sequencing.modes.Cavity', levels=10, t1=inf, t2=inf, thermal_population=0.0, df=0.0, kerr=0.0009372468451183522, pulses={'smoothed_constant_pulse': SmoothedConstantPulse(name='smoothed_constant_pulse', cls='sequencing.pulses.SmoothedConstantPulse', amp=1.0, detune=0.0, phase=0.0, dt=1, noise_sigma=0.0, noise_alpha=0.0, scale_noise=False, length=100, sigma=0, shape='tanh'), 'gaussian_pulse': GaussianPulse(name='gaussian_pulse', cls='sequencing.pulses.GaussianPulse', amp=1.0, detune=0.0, phase=0.0, dt=1, noise_sigma=0.0, noise_alpha=0.0, scale_noise=False, sigma=10, chop=4, drag=0.0)}, default_pulse='gaussian_pulse')\n"
     ]
    }
   ],
   "source": [
    "bob = system.modes[0]\n",
    "readout_bob = system.modes[2]\n",
    "print(bob)\n",
    "print(readout_bob)"
   ]
  },
  {
   "cell_type": "code",
   "execution_count": 94,
   "id": "5c3e4cd4",
   "metadata": {},
   "outputs": [
    {
     "name": "stderr",
     "output_type": "stream",
     "text": [
      "100%|█████████████████████████████████████████████████████████████████████████████████| 51/51 [00:00<00:00, 255.86it/s]\n"
     ]
    }
   ],
   "source": [
    "selective_sigma = 10000 #ns\n",
    "\n",
    "with system.use_modes([bob]):\n",
    "        with alice.temporarily_set(gaussian_pulse__sigma = selective_sigma):\n",
    "            _, _, selective_qubit_amp = tune_rabi(\n",
    "            system, system.fock(transmon_alice = 0, transmon_bob = 0, readout_alice =0, readout_bob=0), mode_name = bob.name,\n",
    "            update = False, verify=False)"
   ]
  },
  {
   "cell_type": "code",
   "execution_count": 76,
   "id": "3b351165",
   "metadata": {},
   "outputs": [],
   "source": [
    "def selective_rotation(qubit, angle, phase =0, detune=0, sigma = selective_sigma):\n",
    "    with qubit.gaussian_pulse.temporarily_set(sigma=sigma, amp  = selective_qubit_amp):\n",
    "        qubit.rotate(np.pi, phase, detune=detune)"
   ]
  },
  {
   "cell_type": "code",
   "execution_count": 77,
   "id": "73ebaf98",
   "metadata": {},
   "outputs": [],
   "source": [
    "init_states = [\n",
    "    (f'$|g{n}\\\\rangle$', system.fock(transmon_alice=0, readout_alice=n)) for n in range(4)\n",
    "]"
   ]
  },
  {
   "cell_type": "code",
   "execution_count": 78,
   "id": "74d38e43",
   "metadata": {},
   "outputs": [
    {
     "name": "stderr",
     "output_type": "stream",
     "text": [
      "Initial states: 100%|████████████████████████████████████████████████████████████████████| 4/4 [00:00<00:00,  9.19it/s]\n"
     ]
    }
   ],
   "source": [
    "import numpy as np\n",
    "results = {}\n",
    "\n",
    "seq = get_sequence(system)\n",
    "selective_rotation(alice, np.pi)\n",
    "\n",
    "for label, state in tqdm(init_states, desc='Initial states'):\n",
    "    result = seq.run(state)\n",
    "    results[label] = result"
   ]
  },
  {
   "cell_type": "code",
   "execution_count": 79,
   "id": "52d108f1",
   "metadata": {},
   "outputs": [],
   "source": [
    "fig, ax = plt.subplots(1,1)\n",
    "for label, result in results.items():\n",
    "    qubit_states = [state.ptrace(alice.index) for state in result.states]\n",
    "    e_pops = qutip.expect(alice.fock_dm(1, full_space=False), qubit_states)\n",
    "    ax.plot(result.times, e_pops, label=label)\n",
    "    ax.grid(True)\n",
    "    ax.legend(loc=0)\n",
    "ax.set_xlabel('Times [ns]')\n",
    "ax.set_ylabel(r'$P(|e\\rangle)$')\n",
    "_ = ax.set_title('Transmon trajectory vs. Initital cavity state')"
   ]
  },
  {
   "cell_type": "code",
   "execution_count": null,
   "id": "28cadce2",
   "metadata": {},
   "outputs": [],
   "source": []
  },
  {
   "cell_type": "code",
   "execution_count": null,
   "id": "20852db4",
   "metadata": {},
   "outputs": [],
   "source": []
  },
  {
   "cell_type": "code",
   "execution_count": null,
   "id": "138d0645",
   "metadata": {},
   "outputs": [],
   "source": []
  },
  {
   "cell_type": "code",
   "execution_count": null,
   "id": "70ec36a6",
   "metadata": {},
   "outputs": [],
   "source": []
  },
  {
   "cell_type": "code",
   "execution_count": null,
   "id": "7543d61f",
   "metadata": {},
   "outputs": [],
   "source": []
  },
  {
   "cell_type": "code",
   "execution_count": null,
   "id": "33922c27",
   "metadata": {},
   "outputs": [],
   "source": []
  },
  {
   "cell_type": "code",
   "execution_count": null,
   "id": "ff5dde8e",
   "metadata": {},
   "outputs": [],
   "source": []
  },
  {
   "cell_type": "code",
   "execution_count": null,
   "id": "4bcca3e6",
   "metadata": {},
   "outputs": [],
   "source": []
  },
  {
   "cell_type": "code",
   "execution_count": null,
   "id": "5b2dfae5",
   "metadata": {},
   "outputs": [],
   "source": []
  },
  {
   "cell_type": "code",
   "execution_count": null,
   "id": "7a1d05c7",
   "metadata": {},
   "outputs": [],
   "source": []
  },
  {
   "cell_type": "code",
   "execution_count": null,
   "id": "14c97936",
   "metadata": {},
   "outputs": [],
   "source": []
  },
  {
   "cell_type": "code",
   "execution_count": null,
   "id": "d042b2a2",
   "metadata": {},
   "outputs": [],
   "source": []
  }
 ],
 "metadata": {
  "kernelspec": {
   "display_name": "Python 3 (ipykernel)",
   "language": "python",
   "name": "python3"
  },
  "language_info": {
   "codemirror_mode": {
    "name": "ipython",
    "version": 3
   },
   "file_extension": ".py",
   "mimetype": "text/x-python",
   "name": "python",
   "nbconvert_exporter": "python",
   "pygments_lexer": "ipython3",
   "version": "3.11.4"
  }
 },
 "nbformat": 4,
 "nbformat_minor": 5
}
