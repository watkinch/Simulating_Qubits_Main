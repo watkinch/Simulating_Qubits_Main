{
 "cells": [
  {
   "cell_type": "code",
   "execution_count": 1,
   "id": "e36a9509",
   "metadata": {},
   "outputs": [],
   "source": [
    "%load_ext autoreload\n",
    "%autoreload 2\n",
    "import warnings \n",
    "warnings.filterwarnings(\"ignore\")"
   ]
  },
  {
   "cell_type": "code",
   "execution_count": 2,
   "id": "8eecfb70",
   "metadata": {},
   "outputs": [],
   "source": [
    "from qiskit_metal import designs, MetalGUI\n",
    "from qiskit_metal.qlibrary.sample_shapes.rectangle import Rectangle\n",
    "from qiskit_metal.qlibrary.qubits.transmon_pocket import TransmonPocket\n",
    "from qiskit_metal.qlibrary.qubits.Transmon_Interdigitated import TransmonInterdigitated\n",
    "from qiskit_metal.qlibrary.tlines.straight_path import RouteStraight\n",
    "from qiskit_metal.qlibrary.tlines.meandered import RouteMeander\n",
    "from qiskit_metal.qlibrary.terminations.open_to_ground import OpenToGround\n",
    "from qiskit_metal.qlibrary.terminations.short_to_ground import ShortToGround\n",
    "from qiskit_metal.designs.design_multiplanar import MultiPlanar\n",
    "import pandas as pd\n"
   ]
  },
  {
   "cell_type": "markdown",
   "id": "5da52e53",
   "metadata": {},
   "source": [
    "# Main Design"
   ]
  },
  {
   "cell_type": "code",
   "execution_count": 3,
   "id": "b1f897fb",
   "metadata": {},
   "outputs": [],
   "source": [
    "design = MultiPlanar({},overwrite_enabled = True, layer_stack_filename = \"layer_stack.txt\")\n",
    "\n",
    "gui = MetalGUI(design)"
   ]
  },
  {
   "cell_type": "markdown",
   "id": "7b80d5f3",
   "metadata": {},
   "source": [
    "## Qubit Design"
   ]
  },
  {
   "cell_type": "code",
   "execution_count": 4,
   "id": "81abb9e3",
   "metadata": {},
   "outputs": [],
   "source": [
    "design.delete_all_components()\n",
    "\n",
    "#### Design so Resonator is coupled strongly to each qubit-> large cap leads to large dispersive shift\n",
    "\n",
    "conn_pads1 = dict(connection_pads = dict(coupler = dict(loc_W=1, loc_H=1, pad_width = '250um'),\n",
    "                                         readout = dict(loc_W=-1, loc_H=-1, pad_width = '250um')))\n",
    "\n",
    "conn_pads2 = dict(pad_width = '550um',\n",
    "                  connection_pads = dict(coupler = dict(loc_W = -1, loc_H = 1,pad_width = '275um'),\n",
    "                                         readout = dict(loc_W=1, loc_H=-1, pad_width='275um')))\n",
    "q1 = TransmonPocket(design, \"Q1\", options=dict(pos_x='-0.5mm', pos_y='+0.0mm', layer=1, **conn_pads1))\n",
    "q2 = TransmonPocket(design, \"Q2\", options=dict(pos_x='+0.5mm', pos_y='+0.0mm', layer=1, **conn_pads2))\n",
    "\n",
    "gui.rebuild()\n",
    "gui.autoscale()"
   ]
  },
  {
   "cell_type": "markdown",
   "id": "c7ab7643",
   "metadata": {},
   "source": [
    "## Coupler Design"
   ]
  },
  {
   "cell_type": "code",
   "execution_count": 5,
   "id": "7e5df527",
   "metadata": {},
   "outputs": [],
   "source": [
    "coupler_options = dict(pin_inputs = dict(start_pin = dict(component=q2.name, pin='coupler'),\n",
    "                                         end_pin = dict(component=q1.name, pin='coupler')))\n",
    "\n",
    "coupler_connector = RouteStraight(design, 'coupler_connector', options = coupler_options)\n",
    "\n",
    "gui.rebuild()\n",
    "gui.autoscale()"
   ]
  },
  {
   "cell_type": "markdown",
   "id": "e80be104",
   "metadata": {},
   "source": [
    "## Readout Resonator Design"
   ]
  },
  {
   "cell_type": "code",
   "execution_count": 6,
   "id": "e6340ea8",
   "metadata": {},
   "outputs": [],
   "source": [
    "otg11_options = dict(pos_x='-1.5mm', pos_y = '0.0mm', orientation='180', layer='3')\n",
    "otg21_options = dict(pos_x='+1.5mm', pos_y = '0.0mm', orientation='0', layer='3')\n",
    "otg12_options = dict(pos_x='-0.955mm', pos_y = '-0.195mm', orientation='0', layer='3')\n",
    "otg22_options = dict(pos_x='+0.955mm', pos_y = '-0.1955mm', orientation='180', layer='3')\n",
    "otg11 = OpenToGround(design, 'otg11' ,options=otg11_options)\n",
    "otg21 = OpenToGround(design, 'otg21' ,options=otg21_options)\n",
    "otg12 = OpenToGround(design, 'otg12' ,options=otg12_options)\n",
    "otg22 = OpenToGround(design, 'otg22' ,options=otg22_options)\n",
    "\n",
    "readout1_options = dict(total_length = '5.97mm', fillet = '40um', \n",
    "                        pin_inputs = dict(start_pin = dict(component = otg11.name, pin='open'),\n",
    "                                          end_pin = dict(component = otg12.name, pin = 'open')),\n",
    "                        lead = dict(start_straight='150um'),\n",
    "                        meander=dict(spacing = '100um', asymmetry = '0'),\n",
    "                        layer = '3')\n",
    "\n",
    "readout2_options = dict(total_length = '5.97mm', fillet = '40um', \n",
    "                        pin_inputs = dict(start_pin = dict(component = otg22.name, pin='open'),\n",
    "                                          end_pin = dict(component = otg21.name, pin = 'open')),\n",
    "                        lead = dict(start_straight='120um'),\n",
    "                        meander=dict(spacing = '100um', asymmetry = '0.2'),\n",
    "                        layer = '3')\n",
    "\n",
    "readout1 = RouteMeander(design, 'readout1', options = readout1_options)\n",
    "readout2 = RouteMeander(design, 'readout2', options = readout2_options)\n",
    "\n",
    "gui.rebuild()\n",
    "gui.autoscale()"
   ]
  },
  {
   "cell_type": "markdown",
   "id": "76aa5c9d",
   "metadata": {},
   "source": [
    "## Via Creation and Dielectric"
   ]
  },
  {
   "cell_type": "code",
   "execution_count": 7,
   "id": "48326d35",
   "metadata": {},
   "outputs": [],
   "source": [
    "via_positions = [('-0.94mm','-0.1950mm'),('+0.94mm','-0.1950mm')]\n",
    "\n",
    "for layer in ['1','2','3']:\n",
    "    for via, positions in enumerate(via_positions):\n",
    "        for subtract in zip([False,True],['30um','42um']):\n",
    "            via_size = '20um' if layer =='2' else subtract[1]\n",
    "            actual_layer = '5' if (layer == '2' and subtract[0]) else layer\n",
    "            via_options = dict(width = via_size,\n",
    "                               height = via_size,\n",
    "                               pos_x = positions[0],\n",
    "                               pos_y = positions[1],\n",
    "                               subtract = subtract[0],\n",
    "                               layer = actual_layer,\n",
    "                               orientation = '0',\n",
    "                               helper = 'False',\n",
    "                               chip = 'main' )\n",
    "            name = 'via' +str(via+1) +'_layer' + actual_layer+('' if not subtract[0] else '_sub')\n",
    "            Rectangle(design, name, via_options)\n",
    "            #print(subtract)\n",
    "            #print(layer == '2' and subtract[0])\n",
    "    \n",
    "gui.rebuild()\n",
    "gui.autoscale()\n",
    "            "
   ]
  },
  {
   "cell_type": "markdown",
   "id": "e873a02d",
   "metadata": {},
   "source": [
    "# Render and Extract Capacitance Matrix"
   ]
  },
  {
   "cell_type": "code",
   "execution_count": 8,
   "id": "899a4dbb",
   "metadata": {},
   "outputs": [],
   "source": [
    "from qiskit_metal.renderers.renderer_elmer.elmer_renderer import QElmerRenderer"
   ]
  },
  {
   "cell_type": "markdown",
   "id": "9d0d0e00",
   "metadata": {},
   "source": [
    "## Render"
   ]
  },
  {
   "cell_type": "code",
   "execution_count": 9,
   "id": "74969aaf",
   "metadata": {},
   "outputs": [],
   "source": [
    "#elmer_renderer = QElmerRenderer(design, layer_types = dict(metal = [1,2,3], dielectric = [4,5]))\n",
    "#elmer_renderer.render_design(mesh_geoms = True,\n",
    "#                             skip_junctions= True,\n",
    "#                             open_pins=[(\"Q1\",\"readout\"),(\"Q2\",\"readout\")],\n",
    "#                             omit_ground_for_layers = [2])"
   ]
  },
  {
   "cell_type": "code",
   "execution_count": 10,
   "id": "26e5f2bb",
   "metadata": {},
   "outputs": [],
   "source": [
    "#elmer_renderer.launch_gmsh_gui()"
   ]
  },
  {
   "cell_type": "markdown",
   "id": "316df4ef",
   "metadata": {},
   "source": [
    "## Generate Capacitance Matrix"
   ]
  },
  {
   "cell_type": "code",
   "execution_count": 11,
   "id": "66a0cf00",
   "metadata": {},
   "outputs": [],
   "source": [
    "#elmer_renderer.export_mesh()\n",
    "#elmer_renderer.add_solution_setup('capacitance')\n",
    "#elmer_renderer.run('capacitance')"
   ]
  },
  {
   "cell_type": "code",
   "execution_count": 12,
   "id": "fc856db9",
   "metadata": {},
   "outputs": [],
   "source": [
    "#cap_matrix = elmer_renderer.capacitance_matrix\n",
    "#cap_matrix"
   ]
  },
  {
   "cell_type": "code",
   "execution_count": 13,
   "id": "054826d2",
   "metadata": {},
   "outputs": [],
   "source": [
    "#elmer_renderer.display_post_processing_data()\n",
    "#elmer_renderer.close()"
   ]
  },
  {
   "cell_type": "code",
   "execution_count": 14,
   "id": "aa04d9a3",
   "metadata": {},
   "outputs": [
    {
     "name": "stderr",
     "output_type": "stream",
     "text": [
      "08:04PM 49s CRITICAL [_qt_message_handler]: line: 0, func: None(), file: None  WARNING: Could not create pixmap from c:\\users\f",
      "hris\\qiskit-metal\\qiskit_metal\\_gui\\styles\\metal_dark\\rc\\transparent.png\n",
      "\n",
      "08:04PM 49s CRITICAL [_qt_message_handler]: line: 0, func: None(), file: None  WARNING: Could not create pixmap from c:\\users\f",
      "hris\\qiskit-metal\\qiskit_metal\\_gui\\styles\\metal_dark\\rc\\transparent.png\n",
      "\n"
     ]
    }
   ],
   "source": [
    "elmer_renderer = QElmerRenderer(design, layer_types=dict(metal=[1,2,3], dielectric=[4,5]))\n",
    "select = ['Q1','via1_layer1', 'via1_layer2', 'via1_layer3', 'via1_layer1_sub', 'via1_layer5_sub', 'via1_layer3_sub']\n",
    "#select = ['Q1']\n",
    "elmer_renderer.render_design(selection=select,  open_pins=[(\"Q1\",\"readout\"),(\"Q1\",\"coupler\")], skip_junctions=True, \n",
    "                            omit_ground_for_layers = [2])\n",
    "\n",
    "#elmer_renderer.launch_gmsh_gui()"
   ]
  },
  {
   "cell_type": "code",
   "execution_count": 15,
   "id": "0110f533",
   "metadata": {
    "scrolled": true
   },
   "outputs": [
    {
     "name": "stderr",
     "output_type": "stream",
     "text": [
      "08:05PM 10s INFO [run]: Running ElmerGrid on input mesh from Gmsh...\n",
      "08:05PM 11s INFO [run]: Running ElmerSolver for solver type: 'capacitance'\n"
     ]
    },
    {
     "data": {
      "text/html": [
       "<div>\n",
       "<style scoped>\n",
       "    .dataframe tbody tr th:only-of-type {\n",
       "        vertical-align: middle;\n",
       "    }\n",
       "\n",
       "    .dataframe tbody tr th {\n",
       "        vertical-align: top;\n",
       "    }\n",
       "\n",
       "    .dataframe thead th {\n",
       "        text-align: right;\n",
       "    }\n",
       "</style>\n",
       "<table border=\"1\" class=\"dataframe\">\n",
       "  <thead>\n",
       "    <tr style=\"text-align: right;\">\n",
       "      <th></th>\n",
       "      <th>Q1_coupler_connector_pad</th>\n",
       "      <th>via1_layer3_rectangle</th>\n",
       "      <th>Q1_pad_top</th>\n",
       "      <th>Q1_pad_bot</th>\n",
       "      <th>ground_plane</th>\n",
       "    </tr>\n",
       "  </thead>\n",
       "  <tbody>\n",
       "    <tr>\n",
       "      <th>Q1_coupler_connector_pad</th>\n",
       "      <td>163.631085</td>\n",
       "      <td>-0.338135</td>\n",
       "      <td>-42.562698</td>\n",
       "      <td>-2.725724</td>\n",
       "      <td>-118.004528</td>\n",
       "    </tr>\n",
       "    <tr>\n",
       "      <th>via1_layer3_rectangle</th>\n",
       "      <td>-0.338135</td>\n",
       "      <td>215.679540</td>\n",
       "      <td>-2.739835</td>\n",
       "      <td>-42.566531</td>\n",
       "      <td>-170.035039</td>\n",
       "    </tr>\n",
       "    <tr>\n",
       "      <th>Q1_pad_top</th>\n",
       "      <td>-42.562698</td>\n",
       "      <td>-2.739835</td>\n",
       "      <td>250.126084</td>\n",
       "      <td>-50.567075</td>\n",
       "      <td>-154.256476</td>\n",
       "    </tr>\n",
       "    <tr>\n",
       "      <th>Q1_pad_bot</th>\n",
       "      <td>-2.725724</td>\n",
       "      <td>-42.566531</td>\n",
       "      <td>-50.567075</td>\n",
       "      <td>250.075780</td>\n",
       "      <td>-154.216449</td>\n",
       "    </tr>\n",
       "    <tr>\n",
       "      <th>ground_plane</th>\n",
       "      <td>-118.004528</td>\n",
       "      <td>-170.035039</td>\n",
       "      <td>-154.256476</td>\n",
       "      <td>-154.216449</td>\n",
       "      <td>300.000000</td>\n",
       "    </tr>\n",
       "  </tbody>\n",
       "</table>\n",
       "</div>"
      ],
      "text/plain": [
       "                          Q1_coupler_connector_pad  via1_layer3_rectangle  \\\n",
       "Q1_coupler_connector_pad                163.631085              -0.338135   \n",
       "via1_layer3_rectangle                    -0.338135             215.679540   \n",
       "Q1_pad_top                              -42.562698              -2.739835   \n",
       "Q1_pad_bot                               -2.725724             -42.566531   \n",
       "ground_plane                           -118.004528            -170.035039   \n",
       "\n",
       "                          Q1_pad_top  Q1_pad_bot  ground_plane  \n",
       "Q1_coupler_connector_pad  -42.562698   -2.725724   -118.004528  \n",
       "via1_layer3_rectangle      -2.739835  -42.566531   -170.035039  \n",
       "Q1_pad_top                250.126084  -50.567075   -154.256476  \n",
       "Q1_pad_bot                -50.567075  250.075780   -154.216449  \n",
       "ground_plane             -154.256476 -154.216449    300.000000  "
      ]
     },
     "execution_count": 15,
     "metadata": {},
     "output_type": "execute_result"
    }
   ],
   "source": [
    "elmer_renderer.export_mesh()\n",
    "elmer_renderer.add_solution_setup('capacitance')\n",
    "elmer_renderer.run('capacitance')\n",
    "cap_matrix_q1 = elmer_renderer.capacitance_matrix\n",
    "cap_matrix_q1.to_csv('cap_matrix_q1.csv')\n",
    "cap_matrix_q1\n"
   ]
  },
  {
   "cell_type": "code",
   "execution_count": 16,
   "id": "3e7b1f21",
   "metadata": {},
   "outputs": [],
   "source": [
    "elmer_renderer = QElmerRenderer(design, layer_types=dict(metal=[1,2,3], dielectric=[4,5]))\n",
    "select = ['Q2','via2_layer1', 'via2_layer2', 'via2_layer3', 'via2_layer1_sub', 'via2_layer5_sub', 'via2_layer3_sub']\n",
    "#select = ['Q2']\n",
    "elmer_renderer.render_design(selection=select,  open_pins=[(\"Q2\",\"readout\"),(\"Q2\",\"coupler\")], skip_junctions=True, \n",
    "                            omit_ground_for_layers = [2])\n",
    "\n",
    "#elmer_renderer.launch_gmsh_gui()"
   ]
  },
  {
   "cell_type": "code",
   "execution_count": 17,
   "id": "077713b3",
   "metadata": {},
   "outputs": [
    {
     "name": "stderr",
     "output_type": "stream",
     "text": [
      "08:05PM 46s INFO [run]: Running ElmerGrid on input mesh from Gmsh...\n",
      "08:05PM 47s INFO [run]: Running ElmerSolver for solver type: 'capacitance'\n"
     ]
    },
    {
     "data": {
      "text/html": [
       "<div>\n",
       "<style scoped>\n",
       "    .dataframe tbody tr th:only-of-type {\n",
       "        vertical-align: middle;\n",
       "    }\n",
       "\n",
       "    .dataframe tbody tr th {\n",
       "        vertical-align: top;\n",
       "    }\n",
       "\n",
       "    .dataframe thead th {\n",
       "        text-align: right;\n",
       "    }\n",
       "</style>\n",
       "<table border=\"1\" class=\"dataframe\">\n",
       "  <thead>\n",
       "    <tr style=\"text-align: right;\">\n",
       "      <th></th>\n",
       "      <th>Q2_coupler_connector_pad</th>\n",
       "      <th>via2_layer3_rectangle</th>\n",
       "      <th>Q2_pad_top</th>\n",
       "      <th>Q2_pad_bot</th>\n",
       "      <th>ground_plane</th>\n",
       "    </tr>\n",
       "  </thead>\n",
       "  <tbody>\n",
       "    <tr>\n",
       "      <th>Q2_coupler_connector_pad</th>\n",
       "      <td>168.277993</td>\n",
       "      <td>-0.270188</td>\n",
       "      <td>-45.617732</td>\n",
       "      <td>-2.710089</td>\n",
       "      <td>-119.679984</td>\n",
       "    </tr>\n",
       "    <tr>\n",
       "      <th>via2_layer3_rectangle</th>\n",
       "      <td>-0.270188</td>\n",
       "      <td>220.584424</td>\n",
       "      <td>-2.732696</td>\n",
       "      <td>-45.566898</td>\n",
       "      <td>-172.014641</td>\n",
       "    </tr>\n",
       "    <tr>\n",
       "      <th>Q2_pad_top</th>\n",
       "      <td>-45.617732</td>\n",
       "      <td>-2.732696</td>\n",
       "      <td>296.128120</td>\n",
       "      <td>-60.479065</td>\n",
       "      <td>-187.298627</td>\n",
       "    </tr>\n",
       "    <tr>\n",
       "      <th>Q2_pad_bot</th>\n",
       "      <td>-2.710089</td>\n",
       "      <td>-45.566898</td>\n",
       "      <td>-60.479065</td>\n",
       "      <td>296.211562</td>\n",
       "      <td>-187.455510</td>\n",
       "    </tr>\n",
       "    <tr>\n",
       "      <th>ground_plane</th>\n",
       "      <td>-119.679984</td>\n",
       "      <td>-172.014641</td>\n",
       "      <td>-187.298627</td>\n",
       "      <td>-187.455510</td>\n",
       "      <td>300.000000</td>\n",
       "    </tr>\n",
       "  </tbody>\n",
       "</table>\n",
       "</div>"
      ],
      "text/plain": [
       "                          Q2_coupler_connector_pad  via2_layer3_rectangle  \\\n",
       "Q2_coupler_connector_pad                168.277993              -0.270188   \n",
       "via2_layer3_rectangle                    -0.270188             220.584424   \n",
       "Q2_pad_top                              -45.617732              -2.732696   \n",
       "Q2_pad_bot                               -2.710089             -45.566898   \n",
       "ground_plane                           -119.679984            -172.014641   \n",
       "\n",
       "                          Q2_pad_top  Q2_pad_bot  ground_plane  \n",
       "Q2_coupler_connector_pad  -45.617732   -2.710089   -119.679984  \n",
       "via2_layer3_rectangle      -2.732696  -45.566898   -172.014641  \n",
       "Q2_pad_top                296.128120  -60.479065   -187.298627  \n",
       "Q2_pad_bot                -60.479065  296.211562   -187.455510  \n",
       "ground_plane             -187.298627 -187.455510    300.000000  "
      ]
     },
     "execution_count": 17,
     "metadata": {},
     "output_type": "execute_result"
    }
   ],
   "source": [
    "elmer_renderer.export_mesh()\n",
    "elmer_renderer.add_solution_setup('capacitance')\n",
    "elmer_renderer.run('capacitance')\n",
    "cap_matrix_q2 = elmer_renderer.capacitance_matrix\n",
    "cap_matrix_q2.to_csv('cap_matrix_q2.csv')\n",
    "cap_matrix_q2\n"
   ]
  },
  {
   "cell_type": "code",
   "execution_count": 18,
   "id": "af662f01",
   "metadata": {},
   "outputs": [
    {
     "data": {
      "text/html": [
       "<div>\n",
       "<style scoped>\n",
       "    .dataframe tbody tr th:only-of-type {\n",
       "        vertical-align: middle;\n",
       "    }\n",
       "\n",
       "    .dataframe tbody tr th {\n",
       "        vertical-align: top;\n",
       "    }\n",
       "\n",
       "    .dataframe thead th {\n",
       "        text-align: right;\n",
       "    }\n",
       "</style>\n",
       "<table border=\"1\" class=\"dataframe\">\n",
       "  <thead>\n",
       "    <tr style=\"text-align: right;\">\n",
       "      <th></th>\n",
       "      <th>Q2_coupler_connector_pad</th>\n",
       "      <th>via2_layer3_rectangle</th>\n",
       "      <th>Q2_pad_top</th>\n",
       "      <th>Q2_pad_bot</th>\n",
       "      <th>ground_plane</th>\n",
       "    </tr>\n",
       "  </thead>\n",
       "  <tbody>\n",
       "    <tr>\n",
       "      <th>Q2_coupler_connector_pad</th>\n",
       "      <td>168.277993</td>\n",
       "      <td>-0.270188</td>\n",
       "      <td>-45.617732</td>\n",
       "      <td>-2.710089</td>\n",
       "      <td>-119.679984</td>\n",
       "    </tr>\n",
       "    <tr>\n",
       "      <th>via2_layer3_rectangle</th>\n",
       "      <td>-0.270188</td>\n",
       "      <td>220.584424</td>\n",
       "      <td>-2.732696</td>\n",
       "      <td>-45.566898</td>\n",
       "      <td>-172.014641</td>\n",
       "    </tr>\n",
       "    <tr>\n",
       "      <th>Q2_pad_top</th>\n",
       "      <td>-45.617732</td>\n",
       "      <td>-2.732696</td>\n",
       "      <td>296.128120</td>\n",
       "      <td>-60.479065</td>\n",
       "      <td>-187.298627</td>\n",
       "    </tr>\n",
       "    <tr>\n",
       "      <th>Q2_pad_bot</th>\n",
       "      <td>-2.710089</td>\n",
       "      <td>-45.566898</td>\n",
       "      <td>-60.479065</td>\n",
       "      <td>296.211562</td>\n",
       "      <td>-187.455510</td>\n",
       "    </tr>\n",
       "    <tr>\n",
       "      <th>ground_plane</th>\n",
       "      <td>-119.679984</td>\n",
       "      <td>-172.014641</td>\n",
       "      <td>-187.298627</td>\n",
       "      <td>-187.455510</td>\n",
       "      <td>300.000000</td>\n",
       "    </tr>\n",
       "  </tbody>\n",
       "</table>\n",
       "</div>"
      ],
      "text/plain": [
       "                          Q2_coupler_connector_pad  via2_layer3_rectangle  \\\n",
       "Q2_coupler_connector_pad                168.277993              -0.270188   \n",
       "via2_layer3_rectangle                    -0.270188             220.584424   \n",
       "Q2_pad_top                              -45.617732              -2.732696   \n",
       "Q2_pad_bot                               -2.710089             -45.566898   \n",
       "ground_plane                           -119.679984            -172.014641   \n",
       "\n",
       "                          Q2_pad_top  Q2_pad_bot  ground_plane  \n",
       "Q2_coupler_connector_pad  -45.617732   -2.710089   -119.679984  \n",
       "via2_layer3_rectangle      -2.732696  -45.566898   -172.014641  \n",
       "Q2_pad_top                296.128120  -60.479065   -187.298627  \n",
       "Q2_pad_bot                -60.479065  296.211562   -187.455510  \n",
       "ground_plane             -187.298627 -187.455510    300.000000  "
      ]
     },
     "execution_count": 18,
     "metadata": {},
     "output_type": "execute_result"
    }
   ],
   "source": [
    "c2 = pd.read_csv('cap_matrix_q2.csv').set_index('Unnamed: 0',True)\n",
    "c2.index.name = None\n",
    "c2"
   ]
  },
  {
   "cell_type": "code",
   "execution_count": null,
   "id": "cc0a4e94",
   "metadata": {},
   "outputs": [],
   "source": []
  },
  {
   "cell_type": "markdown",
   "id": "b59fe633",
   "metadata": {},
   "source": [
    "# LOM Analysis"
   ]
  },
  {
   "cell_type": "code",
   "execution_count": 21,
   "id": "26b399a0",
   "metadata": {},
   "outputs": [],
   "source": [
    "import scqubits as scq\n",
    "from scipy.constants import speed_of_light as c_light\n",
    "import matplotlib.pyplot as plt\n",
    "from qiskit_metal.analyses.quantization.lumped_capacitive import load_q3d_capacitance_matrix\n",
    "from qiskit_metal.analyses.quantization.lom_core_analysis import CompositeSystem, Cell, Subsystem, QuantumSystemRegistry\n",
    "import pandas as pd\n",
    "cap_matrix_q1 = pd.read_csv('cap_matrix_q1.csv').set_index('Unnamed: 0',True)\n",
    "cap_matrix_q1.index.name = None\n",
    "\n",
    "cap_matrix_q2 = pd.read_csv('cap_matrix_q2.csv').set_index('Unnamed: 0',True)\n",
    "cap_matrix_q2.index.name = None\n"
   ]
  },
  {
   "cell_type": "markdown",
   "id": "1c568313",
   "metadata": {},
   "source": [
    "## LOM Cells"
   ]
  },
  {
   "cell_type": "code",
   "execution_count": 22,
   "id": "4d296158",
   "metadata": {},
   "outputs": [],
   "source": [
    "opt1 = dict(node_rename = {'Q1_coupler_connector_pad':'coupling','via1_layer3_rectangle': 'readout_alice'},\n",
    "#opt1 = dict(node_rename = {'Q1_coupler_connector_pad':'coupling','Q1_readout_connector_pad': 'readout_alice'},\n",
    "            cap_mat = cap_matrix_q1,\n",
    "            ind_dict = {('Q1_pad_top','Q1_pad_bot'):10},\n",
    "            jj_dict = {('Q1_pad_top','Q1_pad_bot'):'j1'},\n",
    "            cj_dict = {('Q1_pad_top','Q1_pad_bot'):2}\n",
    "           )            \n",
    "\n",
    "cell_1 = Cell(opt1)\n",
    "\n",
    "opt2 = dict(node_rename = {'Q2_coupler_connector_pad':'coupling','via2_layer3_rectangle': 'readout_bob'},\n",
    "#opt2 = dict(node_rename = {'Q2_coupler_connector_pad':'coupling','Q2_readout_connector_pad': 'readout_bob'},\n",
    "            cap_mat = cap_matrix_q2,\n",
    "            ind_dict = {('Q2_pad_top','Q2_pad_bot'):12},\n",
    "            jj_dict = {('Q2_pad_top','Q2_pad_bot'):'j2'},\n",
    "            cj_dict = {('Q2_pad_top','Q2_pad_bot'):2}\n",
    "           )\n",
    "cell_2 = Cell(opt2)"
   ]
  },
  {
   "cell_type": "markdown",
   "id": "29d14d64",
   "metadata": {},
   "source": [
    "## Subsystems"
   ]
  },
  {
   "cell_type": "code",
   "execution_count": 23,
   "id": "1bcc268d",
   "metadata": {},
   "outputs": [],
   "source": [
    "transmon_alice = Subsystem(name = 'transmon_alice', sys_type='TRANSMON', nodes=['j1'])\n",
    "\n",
    "transmon_bob = Subsystem(name = 'transmon_bob', sys_type='TRANSMON', nodes=['j2'])\n",
    "\n",
    "\n",
    "### Readout resonator properties\n",
    "\n",
    "#Alice\n",
    "q_opts1 = dict(\n",
    "    f_res = 5.6, ##in GHz\n",
    "    Z0 = 50,  #charicterisit impedance\n",
    "    vp = 0.40314 * c_light, ## phase velocity\n",
    ")\n",
    "res_alice = Subsystem(name='readout_alice', sys_type ='TL_RESONATOR', nodes = ['readout_alice'], q_opts = q_opts1)\n",
    "\n",
    "\n",
    "#Bob\n",
    "q_opts2 = dict(\n",
    "    f_res = 4.0, ##in GHz\n",
    "    Z0 = 50,  #charicterisit impedance\n",
    "    vp = 0.40314 * c_light, ## phase velocity\n",
    ")\n",
    "res_bob = Subsystem(name='readout_bob', sys_type ='TL_RESONATOR', nodes = ['readout_bob'], q_opts = q_opts2)\n",
    "\n",
    "\n",
    "\n",
    "\n"
   ]
  },
  {
   "cell_type": "markdown",
   "id": "7cd564b5",
   "metadata": {},
   "source": [
    "## Create Composite System"
   ]
  },
  {
   "cell_type": "code",
   "execution_count": 24,
   "id": "8dfda56d",
   "metadata": {},
   "outputs": [],
   "source": [
    "composite_sys = CompositeSystem(\n",
    "            subsystems = [transmon_alice, transmon_bob, res_alice, res_bob],\n",
    "            cells = [cell_1, cell_2],\n",
    "            grd_node = 'ground_plane', #ID Ground plane to remove\n",
    "            nodes_force_keep = ['readout_alice', 'readout_bob'] #need to do this so hamiltonian includes readout res's\n",
    "            )"
   ]
  },
  {
   "cell_type": "code",
   "execution_count": 25,
   "id": "81053347",
   "metadata": {},
   "outputs": [
    {
     "name": "stdout",
     "output_type": "stream",
     "text": [
      "node_jj_basis:\n",
      "-------------\n",
      "\n",
      "['j1', 'Q1_pad_bot', 'j2', 'Q2_pad_bot', 'readout_alice', 'readout_bob', 'coupling']\n",
      "\n",
      "nodes_keep:\n",
      "-------------\n",
      "\n",
      "['j1', 'j2', 'readout_alice', 'readout_bob']\n",
      "\n",
      "\n",
      "L_inv_k (reduced inverse inductance matrix):\n",
      "-------------\n",
      "\n",
      "                j1        j2  readout_alice  readout_bob\n",
      "j1             0.1  0.000000            0.0          0.0\n",
      "j2             0.0  0.083333            0.0          0.0\n",
      "readout_alice  0.0  0.000000            0.0          0.0\n",
      "readout_bob    0.0  0.000000            0.0          0.0\n",
      "\n",
      "C_k (reduced capacitance matrix):\n",
      "-------------\n",
      "\n",
      "                       j1          j2  readout_alice  readout_bob\n",
      "j1             151.101515   -1.327943      19.577087    -0.323168\n",
      "j2              -1.327943  178.893657      -0.365381    21.064629\n",
      "readout_alice   19.577087   -0.365381     210.442577    -0.088919\n",
      "readout_bob     -0.323168   21.064629      -0.088919   215.550721\n",
      "\n",
      "\n"
     ]
    }
   ],
   "source": [
    "cg = composite_sys.circuitGraph()\n",
    "print(cg)"
   ]
  },
  {
   "cell_type": "code",
   "execution_count": 26,
   "id": "ae2540d5",
   "metadata": {},
   "outputs": [
    {
     "data": {
      "text/latex": [
       "Quantum object: dims = [[10, 10, 3, 3], [10, 10, 3, 3]], shape = (900, 900), type = oper, isherm = True $ \\\\ \\left(\\begin{matrix}-2.624\\times10^{+04} & 0.056j & 0.0 & 0.084j & -0.050 & \\cdots & 0.0 & 0.0 & 0.0 & 0.0 & 0.0\\\\-0.056j & -2.224\\times10^{+04} & 0.079j & 0.050 & 0.084j & \\cdots & 0.0 & 0.0 & 0.0 & 0.0 & 0.0\\\\0.0 & -0.079j & -1.824\\times10^{+04} & 0.0 & 0.070 & \\cdots & 0.0 & 0.0 & 0.0 & 0.0 & 0.0\\\\-0.084j & 0.050 & 0.0 & -2.064\\times10^{+04} & 0.056j & \\cdots & 0.0 & 0.0 & 0.0 & 0.0 & 0.0\\\\-0.050 & -0.084j & 0.070 & -0.056j & -1.664\\times10^{+04} & \\cdots & 1.013\\times10^{-09} & 0.0 & 0.0 & 0.0 & 0.0\\\\\\vdots & \\vdots & \\vdots & \\vdots & \\vdots & \\ddots & \\vdots & \\vdots & \\vdots & \\vdots & \\vdots\\\\0.0 & 0.0 & 0.0 & 0.0 & 1.013\\times10^{-09} & \\cdots & 3.807\\times10^{+04} & 1.454j & 0.070 & 1.954j & -0.099\\\\0.0 & 0.0 & 0.0 & 0.0 & 0.0 & \\cdots & -1.454j & 4.207\\times10^{+04} & 0.0 & 0.099 & 1.954j\\\\0.0 & 0.0 & 0.0 & 0.0 & 0.0 & \\cdots & 0.070 & 0.0 & 3.967\\times10^{+04} & 1.028j & 0.0\\\\0.0 & 0.0 & 0.0 & 0.0 & 0.0 & \\cdots & -1.954j & 0.099 & -1.028j & 4.367\\times10^{+04} & 1.454j\\\\0.0 & 0.0 & 0.0 & 0.0 & 0.0 & \\cdots & -0.099 & -1.954j & 0.0 & -1.454j & 4.767\\times10^{+04}\\\\\\end{matrix}\\right)$"
      ],
      "text/plain": [
       "Quantum object: dims = [[10, 10, 3, 3], [10, 10, 3, 3]], shape = (900, 900), type = oper, isherm = True\n",
       "Qobj data =\n",
       "[[-26241.52718463+0.j              0.        +0.05621421j\n",
       "       0.        +0.j         ...      0.        +0.j\n",
       "       0.        +0.j              0.        +0.j        ]\n",
       " [     0.        -0.05621421j -22241.52718463+0.j\n",
       "       0.        +0.0794989j  ...      0.        +0.j\n",
       "       0.        +0.j              0.        +0.j        ]\n",
       " [     0.        +0.j              0.        -0.0794989j\n",
       "  -18241.52718463+0.j         ...      0.        +0.j\n",
       "       0.        +0.j              0.        +0.j        ]\n",
       " ...\n",
       " [     0.        +0.j              0.        +0.j\n",
       "       0.        +0.j         ...  39669.84020715+0.j\n",
       "       0.        +1.02813946j      0.        +0.j        ]\n",
       " [     0.        +0.j              0.        +0.j\n",
       "       0.        +0.j         ...      0.        -1.02813946j\n",
       "   43669.84020715+0.j              0.        +1.45400877j]\n",
       " [     0.        +0.j              0.        +0.j\n",
       "       0.        +0.j         ...      0.        +0.j\n",
       "       0.        -1.45400877j  47669.84020715+0.j        ]]"
      ]
     },
     "execution_count": 26,
     "metadata": {},
     "output_type": "execute_result"
    }
   ],
   "source": [
    "hilbertspace = composite_sys.create_hilbertspace()\n",
    "hilbertspace = composite_sys.add_interaction()\n",
    "hilbertspace.hamiltonian()"
   ]
  },
  {
   "cell_type": "code",
   "execution_count": 27,
   "id": "d6548ba5",
   "metadata": {},
   "outputs": [
    {
     "name": "stdout",
     "output_type": "stream",
     "text": [
      "HilbertSpace:  subsystems\n",
      "-------------------------\n",
      "\n",
      "Transmon------------| [Transmon_3]\n",
      "                    | EJ: 16346.15128067812\n",
      "                    | EC: 129.7656867220069\n",
      "                    | ng: 0.001\n",
      "                    | ncut: 22\n",
      "                    | truncated_dim: 10\n",
      "                    |\n",
      "                    | dim: 45\n",
      "\n",
      "\n",
      "Transmon------------| [Transmon_4]\n",
      "                    | EJ: 13621.792733898432\n",
      "                    | EC: 109.54535603906555\n",
      "                    | ng: 0.001\n",
      "                    | ncut: 22\n",
      "                    | truncated_dim: 10\n",
      "                    |\n",
      "                    | dim: 45\n",
      "\n",
      "\n",
      "Oscillator----------| [Oscillator_3]\n",
      "                    | E_osc: 5600.0\n",
      "                    | l_osc: None\n",
      "                    | truncated_dim: 3\n",
      "                    |\n",
      "                    | dim: 3\n",
      "\n",
      "\n",
      "Oscillator----------| [Oscillator_4]\n",
      "                    | E_osc: 4000.0\n",
      "                    | l_osc: None\n",
      "                    | truncated_dim: 3\n",
      "                    |\n",
      "                    | dim: 3\n",
      "\n",
      "\n",
      "\n",
      "HilbertSpace:  interaction terms\n",
      "--------------------------------\n",
      "InteractionTerm----------| [Interaction_1]\n",
      "                         | g_strength: 7.415625717945937\n",
      "                         | operator_list: [(0, array([[-22,   0,   0, ...,   0,   0,   0],\n",
      "  ...\n",
      "                         | add_hc: False\n",
      "\n",
      "InteractionTerm----------| [Interaction_2]\n",
      "                         | g_strength: -85.19793520195662\n",
      "                         | operator_list: [(0, array([[-22,   0,   0, ...,   0,   0,   0],\n",
      "  ...\n",
      "                         | add_hc: False\n",
      "\n",
      "InteractionTerm----------| [Interaction_3]\n",
      "                         | g_strength: 0.524715645352936\n",
      "                         | operator_list: [(0, array([[-22,   0,   0, ...,   0,   0,   0],\n",
      "  ...\n",
      "                         | add_hc: False\n",
      "\n",
      "InteractionTerm----------| [Interaction_4]\n",
      "                         | g_strength: 0.701919822986212\n",
      "                         | operator_list: [(1, array([[-22,   0,   0, ...,   0,   0,   0],\n",
      "  ...\n",
      "                         | add_hc: False\n",
      "\n",
      "InteractionTerm----------| [Interaction_5]\n",
      "                         | g_strength: -56.73892906960341\n",
      "                         | operator_list: [(1, array([[-22,   0,   0, ...,   0,   0,   0],\n",
      "  ...\n",
      "                         | add_hc: False\n",
      "\n",
      "InteractionTerm----------| [Interaction_6]\n",
      "                         | g_strength: 0.04966651863414789\n",
      "                         | operator_list: [(2, array([[ 0.+0.j        , -0.-1.j        ,  0. ...\n",
      "                         | add_hc: False\n",
      "\n",
      "\n"
     ]
    }
   ],
   "source": [
    "print(hilbertspace)"
   ]
  },
  {
   "cell_type": "markdown",
   "id": "17d5340d",
   "metadata": {},
   "source": []
  },
  {
   "cell_type": "code",
   "execution_count": 28,
   "id": "f9127072",
   "metadata": {},
   "outputs": [
    {
     "name": "stdout",
     "output_type": "stream",
     "text": [
      "\n",
      "system frequencies in GHz:\n",
      "--------------------------\n",
      "{'transmon_alice': 3.9754412774082737, 'transmon_bob': 3.331395800274382, 'readout_alice': 5.607133021117741, 'readout_bob': 4.0083819587573455}\n",
      "\n",
      "Chi matrices in MHz\n",
      "--------------------------\n",
      "                transmon_alice  transmon_bob  readout_alice  readout_bob\n",
      "transmon_alice     -138.396851     -0.239787      -1.779944    -0.028931\n",
      "transmon_bob         -0.239787   -115.285370      -0.000678    -3.157666\n",
      "readout_alice        -1.779944     -0.000678       4.283129    -0.000973\n",
      "readout_bob          -0.028931     -3.157666      -0.000973     2.390156\n"
     ]
    }
   ],
   "source": [
    "hamiltonian_results = composite_sys.hamiltonian_results(hilbertspace, evals_count = 30) # anharminicity are the diagonal in MHz\n",
    "#off diagonal show dispersive shifts"
   ]
  },
  {
   "cell_type": "code",
   "execution_count": 29,
   "id": "52d95ce3",
   "metadata": {},
   "outputs": [
    {
     "data": {
      "text/plain": [
       "defaultdict(dict,\n",
       "            {'j1': {'EJ': 16346.15128067812,\n",
       "              'EC': 129.7656867220069,\n",
       "              'Q_zpf': 3.204353268e-19,\n",
       "              'default_charge_op': Operator(op=array([[-22,   0,   0, ...,   0,   0,   0],\n",
       "                     [  0, -21,   0, ...,   0,   0,   0],\n",
       "                     [  0,   0, -20, ...,   0,   0,   0],\n",
       "                     ...,\n",
       "                     [  0,   0,   0, ...,  20,   0,   0],\n",
       "                     [  0,   0,   0, ...,   0,  21,   0],\n",
       "                     [  0,   0,   0, ...,   0,   0,  22]]), add_hc=False)}})"
      ]
     },
     "execution_count": 29,
     "metadata": {},
     "output_type": "execute_result"
    }
   ],
   "source": [
    "transmon_alice.h_params"
   ]
  },
  {
   "cell_type": "code",
   "execution_count": 30,
   "id": "32fa2451",
   "metadata": {},
   "outputs": [
    {
     "data": {
      "text/plain": [
       "defaultdict(dict,\n",
       "            {'j2': {'EJ': 13621.792733898432,\n",
       "              'EC': 109.54535603906555,\n",
       "              'Q_zpf': 3.204353268e-19,\n",
       "              'default_charge_op': Operator(op=array([[-22,   0,   0, ...,   0,   0,   0],\n",
       "                     [  0, -21,   0, ...,   0,   0,   0],\n",
       "                     [  0,   0, -20, ...,   0,   0,   0],\n",
       "                     ...,\n",
       "                     [  0,   0,   0, ...,  20,   0,   0],\n",
       "                     [  0,   0,   0, ...,   0,  21,   0],\n",
       "                     [  0,   0,   0, ...,   0,   0,  22]]), add_hc=False)}})"
      ]
     },
     "execution_count": 30,
     "metadata": {},
     "output_type": "execute_result"
    }
   ],
   "source": [
    "transmon_bob.h_params"
   ]
  },
  {
   "cell_type": "markdown",
   "id": "7b8de40a",
   "metadata": {},
   "source": [
    "# Time Evolution Simulation (Sequencing)"
   ]
  },
  {
   "cell_type": "code",
   "execution_count": 31,
   "id": "32cc1578",
   "metadata": {},
   "outputs": [],
   "source": [
    "from tqdm import tqdm\n",
    "from functools import partial\n",
    "import qutip\n",
    "\n",
    "from sequencing import Qubit, Transmon, Cavity, System, get_sequence, sync, delay, QasmSequence\n",
    "from sequencing.calibration import fit_sine, fit_displacement, tune_rabi, tune_displacement, tune_drag\n",
    "\n",
    "from qiskit_metal.analyses.quantization.lom_time_evolution_sim import lom_composite_sys_to_seq_sys"
   ]
  },
  {
   "cell_type": "code",
   "execution_count": 32,
   "id": "a020a51e",
   "metadata": {},
   "outputs": [],
   "source": [
    "system = lom_composite_sys_to_seq_sys(composite_sys, hilbertspace, levels = [3,3,10,10])\n"
   ]
  },
  {
   "cell_type": "code",
   "execution_count": 34,
   "id": "22dee62f",
   "metadata": {
    "scrolled": true
   },
   "outputs": [
    {
     "data": {
      "text/plain": [
       "[Transmon(name='transmon_bob', cls='sequencing.modes.Transmon', levels=3, t1=inf, t2=inf, thermal_population=0.0, df=0.0, kerr=-0.11528537010490254, pulses={'smoothed_constant_pulse': SmoothedConstantPulse(name='smoothed_constant_pulse', cls='sequencing.pulses.SmoothedConstantPulse', amp=1.0, detune=0.0, phase=0.0, dt=1, noise_sigma=0.0, noise_alpha=0.0, scale_noise=False, length=100, sigma=0, shape='tanh'), 'gaussian_pulse': GaussianPulse(name='gaussian_pulse', cls='sequencing.pulses.GaussianPulse', amp=1.0, detune=0.0, phase=0.0, dt=1, noise_sigma=0.0, noise_alpha=0.0, scale_noise=False, sigma=10, chop=4, drag=0.0)}, default_pulse='gaussian_pulse'),\n",
       " Transmon(name='transmon_alice', cls='sequencing.modes.Transmon', levels=3, t1=inf, t2=inf, thermal_population=0.0, df=0.0, kerr=-0.13839685059551993, pulses={'smoothed_constant_pulse': SmoothedConstantPulse(name='smoothed_constant_pulse', cls='sequencing.pulses.SmoothedConstantPulse', amp=1.0, detune=0.0, phase=0.0, dt=1, noise_sigma=0.0, noise_alpha=0.0, scale_noise=False, length=100, sigma=0, shape='tanh'), 'gaussian_pulse': GaussianPulse(name='gaussian_pulse', cls='sequencing.pulses.GaussianPulse', amp=1.0, detune=0.0, phase=0.0, dt=1, noise_sigma=0.0, noise_alpha=0.0, scale_noise=False, sigma=10, chop=4, drag=0.0)}, default_pulse='gaussian_pulse'),\n",
       " Cavity(name='readout_bob', cls='sequencing.modes.Cavity', levels=10, t1=inf, t2=inf, thermal_population=0.0, df=0.0, kerr=0.0023901562353894406, pulses={'smoothed_constant_pulse': SmoothedConstantPulse(name='smoothed_constant_pulse', cls='sequencing.pulses.SmoothedConstantPulse', amp=1.0, detune=0.0, phase=0.0, dt=1, noise_sigma=0.0, noise_alpha=0.0, scale_noise=False, length=100, sigma=0, shape='tanh'), 'gaussian_pulse': GaussianPulse(name='gaussian_pulse', cls='sequencing.pulses.GaussianPulse', amp=1.0, detune=0.0, phase=0.0, dt=1, noise_sigma=0.0, noise_alpha=0.0, scale_noise=False, sigma=10, chop=4, drag=0.0)}, default_pulse='gaussian_pulse'),\n",
       " Cavity(name='readout_alice', cls='sequencing.modes.Cavity', levels=10, t1=inf, t2=inf, thermal_population=0.0, df=0.0, kerr=0.004283129069925053, pulses={'smoothed_constant_pulse': SmoothedConstantPulse(name='smoothed_constant_pulse', cls='sequencing.pulses.SmoothedConstantPulse', amp=1.0, detune=0.0, phase=0.0, dt=1, noise_sigma=0.0, noise_alpha=0.0, scale_noise=False, length=100, sigma=0, shape='tanh'), 'gaussian_pulse': GaussianPulse(name='gaussian_pulse', cls='sequencing.pulses.GaussianPulse', amp=1.0, detune=0.0, phase=0.0, dt=1, noise_sigma=0.0, noise_alpha=0.0, scale_noise=False, sigma=10, chop=4, drag=0.0)}, default_pulse='gaussian_pulse')]"
      ]
     },
     "execution_count": 34,
     "metadata": {},
     "output_type": "execute_result"
    }
   ],
   "source": [
    "system.modes #Mode is a subsystem in LOM analysis"
   ]
  },
  {
   "cell_type": "code",
   "execution_count": 35,
   "id": "48cb9053",
   "metadata": {},
   "outputs": [
    {
     "ename": "NameError",
     "evalue": "name 'selective_sigma' is not defined",
     "output_type": "error",
     "traceback": [
      "\u001b[1;31m---------------------------------------------------------------------------\u001b[0m",
      "\u001b[1;31mNameError\u001b[0m                                 Traceback (most recent call last)",
      "Cell \u001b[1;32mIn[35], line 1\u001b[0m\n\u001b[1;32m----> 1\u001b[0m \u001b[38;5;28;01mdef\u001b[39;00m \u001b[38;5;21mselective_rotation\u001b[39m(qubit, angle, phase \u001b[38;5;241m=\u001b[39m\u001b[38;5;241m0\u001b[39m, detune\u001b[38;5;241m=\u001b[39m\u001b[38;5;241m0\u001b[39m, sigma \u001b[38;5;241m=\u001b[39m \u001b[43mselective_sigma\u001b[49m):\n\u001b[0;32m      2\u001b[0m     \u001b[38;5;28;01mwith\u001b[39;00m qubit\u001b[38;5;241m.\u001b[39mgaussian_pulse\u001b[38;5;241m.\u001b[39mtemporarily_set(sigma\u001b[38;5;241m=\u001b[39msigma, amp  \u001b[38;5;241m=\u001b[39m selective_qubit_amp):\n\u001b[0;32m      3\u001b[0m         qubit\u001b[38;5;241m.\u001b[39mrotate(np\u001b[38;5;241m.\u001b[39mpi, phase, detune\u001b[38;5;241m=\u001b[39mdetune)\n",
      "\u001b[1;31mNameError\u001b[0m: name 'selective_sigma' is not defined"
     ]
    }
   ],
   "source": []
  },
  {
   "cell_type": "markdown",
   "id": "9d82b6f1",
   "metadata": {},
   "source": [
    "## Simulate Alice"
   ]
  },
  {
   "cell_type": "code",
   "execution_count": 36,
   "id": "92d00cfc",
   "metadata": {},
   "outputs": [
    {
     "name": "stdout",
     "output_type": "stream",
     "text": [
      "Transmon(name='transmon_alice', cls='sequencing.modes.Transmon', levels=3, t1=inf, t2=inf, thermal_population=0.0, df=0.0, kerr=-0.13839685059551993, pulses={'smoothed_constant_pulse': SmoothedConstantPulse(name='smoothed_constant_pulse', cls='sequencing.pulses.SmoothedConstantPulse', amp=1.0, detune=0.0, phase=0.0, dt=1, noise_sigma=0.0, noise_alpha=0.0, scale_noise=False, length=100, sigma=0, shape='tanh'), 'gaussian_pulse': GaussianPulse(name='gaussian_pulse', cls='sequencing.pulses.GaussianPulse', amp=1.0, detune=0.0, phase=0.0, dt=1, noise_sigma=0.0, noise_alpha=0.0, scale_noise=False, sigma=10, chop=4, drag=0.0)}, default_pulse='gaussian_pulse')\n",
      "Cavity(name='readout_alice', cls='sequencing.modes.Cavity', levels=10, t1=inf, t2=inf, thermal_population=0.0, df=0.0, kerr=0.004283129069925053, pulses={'smoothed_constant_pulse': SmoothedConstantPulse(name='smoothed_constant_pulse', cls='sequencing.pulses.SmoothedConstantPulse', amp=1.0, detune=0.0, phase=0.0, dt=1, noise_sigma=0.0, noise_alpha=0.0, scale_noise=False, length=100, sigma=0, shape='tanh'), 'gaussian_pulse': GaussianPulse(name='gaussian_pulse', cls='sequencing.pulses.GaussianPulse', amp=1.0, detune=0.0, phase=0.0, dt=1, noise_sigma=0.0, noise_alpha=0.0, scale_noise=False, sigma=10, chop=4, drag=0.0)}, default_pulse='gaussian_pulse')\n"
     ]
    }
   ],
   "source": [
    "alice = system.modes[1]\n",
    "readout_alice = system.modes[3]\n",
    "print(alice)\n",
    "print(readout_alice)"
   ]
  },
  {
   "cell_type": "code",
   "execution_count": 39,
   "id": "f0004f68",
   "metadata": {},
   "outputs": [
    {
     "name": "stderr",
     "output_type": "stream",
     "text": [
      "100%|██████████████████████████████████████████████████████████████████████████████████| 51/51 [00:00<00:00, 90.27it/s]\n"
     ]
    }
   ],
   "source": [
    "selective_sigma = 100 #ns\n",
    "\n",
    "with system.use_modes([alice]):\n",
    "        with alice.temporarily_set(gaussian_pulse__sigma = selective_sigma):\n",
    "            _, _, selective_qubit_amp = tune_rabi(\n",
    "            system, system.fock(transmon_alice = 0, transmon_bob = 0, readout_alice =0, readout_bob=0), mode_name = alice.name,\n",
    "            update = False, verify=False)"
   ]
  },
  {
   "cell_type": "code",
   "execution_count": 40,
   "id": "991b326f",
   "metadata": {},
   "outputs": [],
   "source": [
    "def selective_rotation(qubit, angle, phase =0, detune=0, sigma = selective_sigma):\n",
    "    with qubit.gaussian_pulse.temporarily_set(sigma=sigma, amp  = selective_qubit_amp):\n",
    "        qubit.rotate(np.pi, phase, detune=detune)\n",
    "\n",
    "init_states = [\n",
    "    (f'$|g{n}\\\\rangle$', system.fock(transmon_alice=0, readout_alice=n)) for n in range(4)\n",
    "]"
   ]
  },
  {
   "cell_type": "code",
   "execution_count": 43,
   "id": "424d16eb",
   "metadata": {},
   "outputs": [
    {
     "name": "stderr",
     "output_type": "stream",
     "text": [
      "Initial states: 100%|████████████████████████████████████████████████████████████████████| 4/4 [00:00<00:00,  8.26it/s]\n"
     ]
    }
   ],
   "source": [
    "import numpy as np\n",
    "results = {}\n",
    "\n",
    "seq = get_sequence(system)\n",
    "selective_rotation(alice, np.pi)\n",
    "\n",
    "for label, state in tqdm(init_states, desc='Initial states'):\n",
    "    result = seq.run(state)\n",
    "    results[label] = result"
   ]
  },
  {
   "cell_type": "code",
   "execution_count": 44,
   "id": "607d9c43",
   "metadata": {},
   "outputs": [],
   "source": [
    "fig, ax = plt.subplots(1,1)\n",
    "for label, result in results.items():\n",
    "    qubit_states = [state.ptrace(alice.index) for state in result.states]\n",
    "    e_pops = qutip.expect(alice.fock_dm(1, full_space=False), qubit_states)\n",
    "    ax.plot(result.times, e_pops, label=label)\n",
    "    ax.grid(True)\n",
    "    ax.legend(loc=0)\n",
    "ax.set_xlabel('Times [ns]')\n",
    "ax.set_ylabel(r'$P(|e\\rangle)$')\n",
    "_ = ax.set_title('Transmon trajectory vs. Initital cavity state')"
   ]
  },
  {
   "cell_type": "code",
   "execution_count": null,
   "id": "d527d0ad",
   "metadata": {},
   "outputs": [],
   "source": []
  },
  {
   "cell_type": "code",
   "execution_count": null,
   "id": "91b0fbca",
   "metadata": {},
   "outputs": [],
   "source": []
  },
  {
   "cell_type": "code",
   "execution_count": 45,
   "id": "a1e295d8",
   "metadata": {},
   "outputs": [
    {
     "name": "stdout",
     "output_type": "stream",
     "text": [
      "Transmon(name='transmon_bob', cls='sequencing.modes.Transmon', levels=3, t1=inf, t2=inf, thermal_population=0.0, df=0.0, kerr=-0.11528537010490254, pulses={'smoothed_constant_pulse': SmoothedConstantPulse(name='smoothed_constant_pulse', cls='sequencing.pulses.SmoothedConstantPulse', amp=1.0, detune=0.0, phase=0.0, dt=1, noise_sigma=0.0, noise_alpha=0.0, scale_noise=False, length=100, sigma=0, shape='tanh'), 'gaussian_pulse': GaussianPulse(name='gaussian_pulse', cls='sequencing.pulses.GaussianPulse', amp=1.0, detune=0.0, phase=0.0, dt=1, noise_sigma=0.0, noise_alpha=0.0, scale_noise=False, sigma=10, chop=4, drag=0.0)}, default_pulse='gaussian_pulse')\n",
      "Cavity(name='readout_bob', cls='sequencing.modes.Cavity', levels=10, t1=inf, t2=inf, thermal_population=0.0, df=0.0, kerr=0.0023901562353894406, pulses={'smoothed_constant_pulse': SmoothedConstantPulse(name='smoothed_constant_pulse', cls='sequencing.pulses.SmoothedConstantPulse', amp=1.0, detune=0.0, phase=0.0, dt=1, noise_sigma=0.0, noise_alpha=0.0, scale_noise=False, length=100, sigma=0, shape='tanh'), 'gaussian_pulse': GaussianPulse(name='gaussian_pulse', cls='sequencing.pulses.GaussianPulse', amp=1.0, detune=0.0, phase=0.0, dt=1, noise_sigma=0.0, noise_alpha=0.0, scale_noise=False, sigma=10, chop=4, drag=0.0)}, default_pulse='gaussian_pulse')\n"
     ]
    }
   ],
   "source": [
    "bob = system.modes[0]\n",
    "readout_bob = system.modes[2]\n",
    "print(bob)\n",
    "print(readout_bob)"
   ]
  },
  {
   "cell_type": "code",
   "execution_count": 54,
   "id": "59261945",
   "metadata": {},
   "outputs": [
    {
     "name": "stderr",
     "output_type": "stream",
     "text": [
      "100%|██████████████████████████████████████████████████████████████████████████████████| 51/51 [00:01<00:00, 37.40it/s]\n"
     ]
    }
   ],
   "source": [
    "selective_sigma = 300 #ns\n",
    "\n",
    "with system.use_modes([bob]):\n",
    "        with bob.temporarily_set(gaussian_pulse__sigma = selective_sigma):\n",
    "            _, _, selective_qubit_amp = tune_rabi(\n",
    "            system, system.fock(transmon_alice = 0, transmon_bob = 0, readout_alice =0, readout_bob=0), mode_name = bob.name,\n",
    "            update = False, verify=False)"
   ]
  },
  {
   "cell_type": "code",
   "execution_count": 55,
   "id": "28469d11",
   "metadata": {},
   "outputs": [],
   "source": [
    "init_states = [\n",
    "    (f'$|g{n}\\\\rangle$', system.fock(transmon_bob=0, readout_bob=n)) for n in range(4)\n",
    "]"
   ]
  },
  {
   "cell_type": "code",
   "execution_count": 56,
   "id": "4880e281",
   "metadata": {},
   "outputs": [
    {
     "name": "stderr",
     "output_type": "stream",
     "text": [
      "Initial states: 100%|████████████████████████████████████████████████████████████████████| 4/4 [00:00<00:00,  7.46it/s]\n"
     ]
    }
   ],
   "source": [
    "import numpy as np\n",
    "results = {}\n",
    "\n",
    "seq = get_sequence(system)\n",
    "selective_rotation(bob, np.pi)\n",
    "\n",
    "for label, state in tqdm(init_states, desc='Initial states'):\n",
    "    result = seq.run(state)\n",
    "    results[label] = result"
   ]
  },
  {
   "cell_type": "code",
   "execution_count": 57,
   "id": "10748c42",
   "metadata": {},
   "outputs": [],
   "source": [
    "fig, ax = plt.subplots(1,1)\n",
    "for label, result in results.items():\n",
    "    qubit_states = [state.ptrace(bob.index) for state in result.states]\n",
    "    e_pops = qutip.expect(bob.fock_dm(1, full_space=False), qubit_states)\n",
    "    ax.plot(result.times, e_pops, label=label)\n",
    "    ax.grid(True)\n",
    "    ax.legend(loc=0)\n",
    "ax.set_xlabel('Times [ns]')\n",
    "ax.set_ylabel(r'$P(|e\\rangle)$')\n",
    "_ = ax.set_title('Transmon trajectory vs. Initital cavity state')"
   ]
  },
  {
   "cell_type": "code",
   "execution_count": 100,
   "id": "db742738",
   "metadata": {},
   "outputs": [
    {
     "data": {
      "text/plain": [
       "System(name='qreg', cls='sequencing.system.System', modes=[Transmon(name='transmon_bob', cls='sequencing.modes.Transmon', levels=3, t1=inf, t2=inf, thermal_population=0.0, df=0.0, kerr=-0.11802665523139877, pulses={'smoothed_constant_pulse': SmoothedConstantPulse(name='smoothed_constant_pulse', cls='sequencing.pulses.SmoothedConstantPulse', amp=1.0, detune=0.0, phase=0.0, dt=1, noise_sigma=0.0, noise_alpha=0.0, scale_noise=False, length=100, sigma=0, shape='tanh'), 'gaussian_pulse': GaussianPulse(name='gaussian_pulse', cls='sequencing.pulses.GaussianPulse', amp=1.0, detune=0.0, phase=0.0, dt=1, noise_sigma=0.0, noise_alpha=0.0, scale_noise=False, sigma=10, chop=4, drag=0.0)}, default_pulse='gaussian_pulse'), Transmon(name='transmon_alice', cls='sequencing.modes.Transmon', levels=3, t1=inf, t2=inf, thermal_population=0.0, df=0.0, kerr=-0.14079800368877476, pulses={'smoothed_constant_pulse': SmoothedConstantPulse(name='smoothed_constant_pulse', cls='sequencing.pulses.SmoothedConstantPulse', amp=1.0, detune=0.0, phase=0.0, dt=1, noise_sigma=0.0, noise_alpha=0.0, scale_noise=False, length=100, sigma=0, shape='tanh'), 'gaussian_pulse': GaussianPulse(name='gaussian_pulse', cls='sequencing.pulses.GaussianPulse', amp=1.0, detune=0.0, phase=0.0, dt=1, noise_sigma=0.0, noise_alpha=0.0, scale_noise=False, sigma=10, chop=4, drag=0.0)}, default_pulse='gaussian_pulse')], cross_kerrs={})"
      ]
     },
     "execution_count": 100,
     "metadata": {},
     "output_type": "execute_result"
    }
   ],
   "source": [
    "Qubits  = [alice,bob]\n",
    "qreg = System('qreg',modes = Qubits)\n",
    "n=len(Qubits)\n",
    "qreg"
   ]
  },
  {
   "cell_type": "code",
   "execution_count": 87,
   "id": "156d2879",
   "metadata": {},
   "outputs": [
    {
     "name": "stderr",
     "output_type": "stream",
     "text": [
      "100%|██████████████████████████████████████████████████████████████████████████████████| 51/51 [00:00<00:00, 85.43it/s]\n",
      "100%|█████████████████████████████████████████████████████████████████████████████████| 51/51 [00:00<00:00, 220.56it/s]\n"
     ]
    }
   ],
   "source": [
    "for qubit in Qubits:\n",
    "    with system.use_modes([qubit]):\n",
    "        with qubit.temporarily_set(gaussian_pulse__sigma = selective_sigma):\n",
    "            _, _, selective_qubit_amp = tune_rabi(\n",
    "            system, system.fock(transmon_alice = 0, transmon_bob = 0, readout_alice =0, readout_bob=0), mode_name = qubit.name,\n",
    "            update = False, verify=False)"
   ]
  },
  {
   "cell_type": "code",
   "execution_count": 93,
   "id": "0bc2d958",
   "metadata": {},
   "outputs": [
    {
     "name": "stdout",
     "output_type": "stream",
     "text": [
      "Running the following QASM circuit:\n",
      "\n",
      "\tOPENQASM 2.0;\n",
      "\tinclude \"qelib1.inc\";\n",
      "\tqreg q[2];\n",
      "\th q[0];\n",
      "\tbarrier;\n",
      "\tCX q[0],q[1];\n"
     ]
    },
    {
     "ename": "AttributeError",
     "evalue": "If unitary is False, all qubits must implement rotate_y (readout_alice does not).",
     "output_type": "error",
     "traceback": [
      "\u001b[1;31m---------------------------------------------------------------------------\u001b[0m",
      "\u001b[1;31mAttributeError\u001b[0m                            Traceback (most recent call last)",
      "Cell \u001b[1;32mIn[93], line 18\u001b[0m\n\u001b[0;32m     15\u001b[0m \u001b[38;5;28mprint\u001b[39m(QASM_CIRCUIT)\n\u001b[0;32m     17\u001b[0m seq \u001b[38;5;241m=\u001b[39m QasmSequence(system)\n\u001b[1;32m---> 18\u001b[0m \u001b[43mseq\u001b[49m\u001b[38;5;241;43m.\u001b[39;49m\u001b[43mqasm_circuit\u001b[49m\u001b[43m(\u001b[49m\u001b[43mQASM_CIRCUIT\u001b[49m\u001b[43m,\u001b[49m\u001b[43m \u001b[49m\u001b[43munitary\u001b[49m\u001b[38;5;241;43m=\u001b[39;49m\u001b[38;5;28;43;01mFalse\u001b[39;49;00m\u001b[43m,\u001b[49m\u001b[43m \u001b[49m\u001b[43mappend\u001b[49m\u001b[38;5;241;43m=\u001b[39;49m\u001b[38;5;28;43;01mTrue\u001b[39;49;00m\u001b[43m)\u001b[49m\n",
      "File \u001b[1;32m~\\.conda\\envs\\Metal\\Lib\\site-packages\\sequencing\\qasm.py:561\u001b[0m, in \u001b[0;36mQasmSequence.qasm_circuit\u001b[1;34m(self, circuit, unitary, append)\u001b[0m\n\u001b[0;32m    554\u001b[0m     \u001b[38;5;28;01mif\u001b[39;00m (\n\u001b[0;32m    555\u001b[0m         \u001b[38;5;129;01mnot\u001b[39;00m line\n\u001b[0;32m    556\u001b[0m         \u001b[38;5;129;01mor\u001b[39;00m line\u001b[38;5;241m.\u001b[39mstartswith(\u001b[38;5;124m\"\u001b[39m\u001b[38;5;124mqreg\u001b[39m\u001b[38;5;124m\"\u001b[39m)\n\u001b[0;32m    557\u001b[0m         \u001b[38;5;129;01mor\u001b[39;00m line\u001b[38;5;241m.\u001b[39mstartswith(\u001b[38;5;124m\"\u001b[39m\u001b[38;5;124m//\u001b[39m\u001b[38;5;124m\"\u001b[39m)\n\u001b[0;32m    558\u001b[0m         \u001b[38;5;129;01mor\u001b[39;00m \u001b[38;5;28many\u001b[39m(phrase \u001b[38;5;129;01min\u001b[39;00m line \u001b[38;5;28;01mfor\u001b[39;00m phrase \u001b[38;5;129;01min\u001b[39;00m ignore)\n\u001b[0;32m    559\u001b[0m     ):\n\u001b[0;32m    560\u001b[0m         \u001b[38;5;28;01mcontinue\u001b[39;00m\n\u001b[1;32m--> 561\u001b[0m     gate \u001b[38;5;241m=\u001b[39m \u001b[38;5;28;43mself\u001b[39;49m\u001b[38;5;241;43m.\u001b[39;49m\u001b[43mqasm\u001b[49m\u001b[43m(\u001b[49m\u001b[43mline\u001b[49m\u001b[43m,\u001b[49m\u001b[43m \u001b[49m\u001b[43munitary\u001b[49m\u001b[38;5;241;43m=\u001b[39;49m\u001b[43munitary\u001b[49m\u001b[43m,\u001b[49m\u001b[43m \u001b[49m\u001b[43mappend\u001b[49m\u001b[38;5;241;43m=\u001b[39;49m\u001b[38;5;28;43;01mFalse\u001b[39;49;00m\u001b[43m)\u001b[49m\n\u001b[0;32m    562\u001b[0m     gates\u001b[38;5;241m.\u001b[39mappend(gate)\n\u001b[0;32m    563\u001b[0m \u001b[38;5;28;01mif\u001b[39;00m append:\n",
      "File \u001b[1;32m~\\.conda\\envs\\Metal\\Lib\\site-packages\\sequencing\\qasm.py:517\u001b[0m, in \u001b[0;36mQasmSequence.qasm\u001b[1;34m(self, qasm_str, unitary, append)\u001b[0m\n\u001b[0;32m    515\u001b[0m     kwargs[\u001b[38;5;124m\"\u001b[39m\u001b[38;5;124munitary\u001b[39m\u001b[38;5;124m\"\u001b[39m] \u001b[38;5;241m=\u001b[39m unitary\n\u001b[0;32m    516\u001b[0m args \u001b[38;5;241m=\u001b[39m \u001b[38;5;28mlist\u001b[39m(args) \u001b[38;5;241m+\u001b[39m qubits\n\u001b[1;32m--> 517\u001b[0m \u001b[38;5;28;01mreturn\u001b[39;00m \u001b[43mgate\u001b[49m\u001b[43m(\u001b[49m\u001b[38;5;241;43m*\u001b[39;49m\u001b[43margs\u001b[49m\u001b[43m,\u001b[49m\u001b[43m \u001b[49m\u001b[38;5;241;43m*\u001b[39;49m\u001b[38;5;241;43m*\u001b[39;49m\u001b[43mkwargs\u001b[49m\u001b[43m)\u001b[49m\n",
      "File \u001b[1;32m~\\.conda\\envs\\Metal\\Lib\\site-packages\\sequencing\\qasm.py:238\u001b[0m, in \u001b[0;36mQasmSequence.h\u001b[1;34m(self, unitary, append, *qubits)\u001b[0m\n\u001b[0;32m    230\u001b[0m \u001b[38;5;28;01mdef\u001b[39;00m \u001b[38;5;21mh\u001b[39m(\u001b[38;5;28mself\u001b[39m, \u001b[38;5;241m*\u001b[39mqubits, unitary\u001b[38;5;241m=\u001b[39m\u001b[38;5;28;01mTrue\u001b[39;00m, append\u001b[38;5;241m=\u001b[39m\u001b[38;5;28;01mTrue\u001b[39;00m):\n\u001b[0;32m    231\u001b[0m \u001b[38;5;250m    \u001b[39m\u001b[38;5;124mr\u001b[39m\u001b[38;5;124;03m\"\"\"\u001b[39;00m\n\u001b[0;32m    232\u001b[0m \u001b[38;5;124;03m    .. math::\u001b[39;00m\n\u001b[0;32m    233\u001b[0m \u001b[38;5;124;03m        h = i \\cdot u_2(0,\\pi)\u001b[39;00m\n\u001b[1;32m   (...)\u001b[0m\n\u001b[0;32m    236\u001b[0m \u001b[38;5;124;03m        ``qutip.Qobj`` or list[qutip.Qobj] or None\u001b[39;00m\n\u001b[0;32m    237\u001b[0m \u001b[38;5;124;03m    \"\"\"\u001b[39;00m\n\u001b[1;32m--> 238\u001b[0m     gate \u001b[38;5;241m=\u001b[39m \u001b[38;5;28;43mself\u001b[39;49m\u001b[38;5;241;43m.\u001b[39;49m\u001b[43mu2\u001b[49m\u001b[43m(\u001b[49m\u001b[38;5;241;43m0\u001b[39;49m\u001b[43m,\u001b[49m\u001b[43m \u001b[49m\u001b[43mnp\u001b[49m\u001b[38;5;241;43m.\u001b[39;49m\u001b[43mpi\u001b[49m\u001b[43m,\u001b[49m\u001b[43m \u001b[49m\u001b[38;5;241;43m*\u001b[39;49m\u001b[43mqubits\u001b[49m\u001b[43m,\u001b[49m\u001b[43m \u001b[49m\u001b[43munitary\u001b[49m\u001b[38;5;241;43m=\u001b[39;49m\u001b[43munitary\u001b[49m\u001b[43m,\u001b[49m\u001b[43m \u001b[49m\u001b[43mappend\u001b[49m\u001b[38;5;241;43m=\u001b[39;49m\u001b[43mappend\u001b[49m\u001b[43m)\u001b[49m\n\u001b[0;32m    239\u001b[0m     \u001b[38;5;28;01mif\u001b[39;00m gate \u001b[38;5;129;01mis\u001b[39;00m \u001b[38;5;129;01mnot\u001b[39;00m \u001b[38;5;28;01mNone\u001b[39;00m:\n\u001b[0;32m    240\u001b[0m         phase \u001b[38;5;241m=\u001b[39m \u001b[38;5;28mself\u001b[39m\u001b[38;5;241m.\u001b[39mgphase(np\u001b[38;5;241m.\u001b[39mpi \u001b[38;5;241m/\u001b[39m \u001b[38;5;241m2\u001b[39m, append\u001b[38;5;241m=\u001b[39m\u001b[38;5;28;01mFalse\u001b[39;00m)\n",
      "File \u001b[1;32m~\\.conda\\envs\\Metal\\Lib\\site-packages\\sequencing\\qasm.py:173\u001b[0m, in \u001b[0;36mQasmSequence.u2\u001b[1;34m(self, phi, lamda, unitary, append, *qubits)\u001b[0m\n\u001b[0;32m    165\u001b[0m \u001b[38;5;28;01mdef\u001b[39;00m \u001b[38;5;21mu2\u001b[39m(\u001b[38;5;28mself\u001b[39m, phi, lamda, \u001b[38;5;241m*\u001b[39mqubits, unitary\u001b[38;5;241m=\u001b[39m\u001b[38;5;28;01mTrue\u001b[39;00m, append\u001b[38;5;241m=\u001b[39m\u001b[38;5;28;01mTrue\u001b[39;00m):\n\u001b[0;32m    166\u001b[0m \u001b[38;5;250m    \u001b[39m\u001b[38;5;124mr\u001b[39m\u001b[38;5;124;03m\"\"\"\u001b[39;00m\n\u001b[0;32m    167\u001b[0m \u001b[38;5;124;03m    .. math::\u001b[39;00m\n\u001b[0;32m    168\u001b[0m \u001b[38;5;124;03m        u_2(\\phi,\\lambda) = U(\\pi/2,\\phi,\\lambda)\u001b[39;00m\n\u001b[1;32m   (...)\u001b[0m\n\u001b[0;32m    171\u001b[0m \u001b[38;5;124;03m        ``qutip.Qobj`` or list[qutip.Qobj] or None\u001b[39;00m\n\u001b[0;32m    172\u001b[0m \u001b[38;5;124;03m    \"\"\"\u001b[39;00m\n\u001b[1;32m--> 173\u001b[0m     \u001b[38;5;28;01mreturn\u001b[39;00m \u001b[38;5;28;43mself\u001b[39;49m\u001b[38;5;241;43m.\u001b[39;49m\u001b[43mU\u001b[49m\u001b[43m(\u001b[49m\u001b[43mnp\u001b[49m\u001b[38;5;241;43m.\u001b[39;49m\u001b[43mpi\u001b[49m\u001b[43m \u001b[49m\u001b[38;5;241;43m/\u001b[39;49m\u001b[43m \u001b[49m\u001b[38;5;241;43m2\u001b[39;49m\u001b[43m,\u001b[49m\u001b[43m \u001b[49m\u001b[43mphi\u001b[49m\u001b[43m,\u001b[49m\u001b[43m \u001b[49m\u001b[43mlamda\u001b[49m\u001b[43m,\u001b[49m\u001b[43m \u001b[49m\u001b[38;5;241;43m*\u001b[39;49m\u001b[43mqubits\u001b[49m\u001b[43m,\u001b[49m\u001b[43m \u001b[49m\u001b[43munitary\u001b[49m\u001b[38;5;241;43m=\u001b[39;49m\u001b[43munitary\u001b[49m\u001b[43m,\u001b[49m\u001b[43m \u001b[49m\u001b[43mappend\u001b[49m\u001b[38;5;241;43m=\u001b[39;49m\u001b[43mappend\u001b[49m\u001b[43m)\u001b[49m\n",
      "File \u001b[1;32m~\\.conda\\envs\\Metal\\Lib\\site-packages\\sequencing\\qasm.py:127\u001b[0m, in \u001b[0;36mQasmSequence.U\u001b[1;34m(self, theta, phi, lamda, unitary, append, *qubits)\u001b[0m\n\u001b[0;32m    125\u001b[0m     \u001b[38;5;28;01mfor\u001b[39;00m qubit \u001b[38;5;129;01min\u001b[39;00m qubits:\n\u001b[0;32m    126\u001b[0m         \u001b[38;5;28;01mif\u001b[39;00m \u001b[38;5;129;01mnot\u001b[39;00m \u001b[38;5;28mhasattr\u001b[39m(qubit, \u001b[38;5;124m\"\u001b[39m\u001b[38;5;124mrotate_y\u001b[39m\u001b[38;5;124m\"\u001b[39m):\n\u001b[1;32m--> 127\u001b[0m             \u001b[38;5;28;01mraise\u001b[39;00m \u001b[38;5;167;01mAttributeError\u001b[39;00m(\n\u001b[0;32m    128\u001b[0m                 \u001b[38;5;124m\"\u001b[39m\u001b[38;5;124mIf unitary is False, all qubits must \u001b[39m\u001b[38;5;124m\"\u001b[39m\n\u001b[0;32m    129\u001b[0m                 \u001b[38;5;124m\"\u001b[39m\u001b[38;5;124mimplement rotate_y \u001b[39m\u001b[38;5;124m\"\u001b[39m\n\u001b[0;32m    130\u001b[0m                 \u001b[38;5;124mf\u001b[39m\u001b[38;5;124m\"\u001b[39m\u001b[38;5;124m(\u001b[39m\u001b[38;5;132;01m{\u001b[39;00mqubit\u001b[38;5;241m.\u001b[39mname\u001b[38;5;132;01m}\u001b[39;00m\u001b[38;5;124m does not).\u001b[39m\u001b[38;5;124m\"\u001b[39m\n\u001b[0;32m    131\u001b[0m             )\n\u001b[0;32m    132\u001b[0m \u001b[38;5;28;01mfor\u001b[39;00m qubit \u001b[38;5;129;01min\u001b[39;00m qubits:\n\u001b[0;32m    133\u001b[0m     \u001b[38;5;28;01mif\u001b[39;00m unitary:\n",
      "\u001b[1;31mAttributeError\u001b[0m: If unitary is False, all qubits must implement rotate_y (readout_alice does not)."
     ]
    }
   ],
   "source": [
    "QASM_CIRCUIT = [\n",
    "    f'OPENQASM 2.0;',\n",
    "    f'include \"qelib1.inc\";',\n",
    "    f'qreg q[{n}];',\n",
    "    f'h q[0];',\n",
    "    f'barrier;',\n",
    "]\n",
    "QASM_CIRCUIT.extend(\n",
    "    [f'CX q[0],q[{i}];' for i in range(1,n)]\n",
    ")\n",
    "\n",
    "QASM_CIRCUIT = '\\n\\t'.join([''] + QASM_CIRCUIT)\n",
    "\n",
    "print('Running the following QASM circuit:')\n",
    "print(QASM_CIRCUIT)\n",
    "\n",
    "seq = QasmSequence(system)\n",
    "seq.qasm_circuit(QASM_CIRCUIT, unitary=False, append=True)"
   ]
  },
  {
   "cell_type": "code",
   "execution_count": null,
   "id": "c1828312",
   "metadata": {},
   "outputs": [],
   "source": []
  },
  {
   "cell_type": "code",
   "execution_count": null,
   "id": "425d605c",
   "metadata": {},
   "outputs": [],
   "source": []
  },
  {
   "cell_type": "code",
   "execution_count": 102,
   "id": "509208e2",
   "metadata": {},
   "outputs": [],
   "source": [
    "ax = qubit.gaussian_pulse.plot()\n",
    "_ = ax.set_xlabel('Time [ns]')"
   ]
  },
  {
   "cell_type": "code",
   "execution_count": null,
   "id": "c7fa06af",
   "metadata": {},
   "outputs": [],
   "source": []
  },
  {
   "cell_type": "code",
   "execution_count": null,
   "id": "551385f0",
   "metadata": {},
   "outputs": [],
   "source": []
  },
  {
   "cell_type": "code",
   "execution_count": null,
   "id": "796b0ca1",
   "metadata": {},
   "outputs": [],
   "source": []
  },
  {
   "cell_type": "code",
   "execution_count": null,
   "id": "7ead97db",
   "metadata": {},
   "outputs": [],
   "source": []
  },
  {
   "cell_type": "code",
   "execution_count": null,
   "id": "63e2ac9b",
   "metadata": {},
   "outputs": [],
   "source": []
  },
  {
   "cell_type": "code",
   "execution_count": null,
   "id": "bb84fe85",
   "metadata": {},
   "outputs": [],
   "source": []
  }
 ],
 "metadata": {
  "kernelspec": {
   "display_name": "Python 3 (ipykernel)",
   "language": "python",
   "name": "python3"
  },
  "language_info": {
   "codemirror_mode": {
    "name": "ipython",
    "version": 3
   },
   "file_extension": ".py",
   "mimetype": "text/x-python",
   "name": "python",
   "nbconvert_exporter": "python",
   "pygments_lexer": "ipython3",
   "version": "3.11.4"
  }
 },
 "nbformat": 4,
 "nbformat_minor": 5
}
